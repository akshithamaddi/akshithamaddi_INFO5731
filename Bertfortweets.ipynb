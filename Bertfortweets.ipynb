{
  "nbformat": 4,
  "nbformat_minor": 0,
  "metadata": {
    "colab": {
      "name": "Bertfortweets.ipynb",
      "provenance": [],
      "collapsed_sections": [],
      "authorship_tag": "ABX9TyOG7HmMjiEFQs+HWW8QILOL",
      "include_colab_link": true
    },
    "kernelspec": {
      "display_name": "Python 3",
      "name": "python3"
    },
    "language_info": {
      "name": "python"
    },
    "widgets": {
      "application/vnd.jupyter.widget-state+json": {
        "22670361c58840d7b8e9131452b0bdc0": {
          "model_module": "@jupyter-widgets/controls",
          "model_name": "HBoxModel",
          "state": {
            "_dom_classes": [],
            "_model_module": "@jupyter-widgets/controls",
            "_model_module_version": "1.5.0",
            "_model_name": "HBoxModel",
            "_view_count": null,
            "_view_module": "@jupyter-widgets/controls",
            "_view_module_version": "1.5.0",
            "_view_name": "HBoxView",
            "box_style": "",
            "children": [
              "IPY_MODEL_3447e7f7d18840e9bb6bdaefb46c8269",
              "IPY_MODEL_a63d12b2f3f04abd88df2522497471cc"
            ],
            "layout": "IPY_MODEL_504550fe69114609ac728e04b803883f"
          }
        },
        "3447e7f7d18840e9bb6bdaefb46c8269": {
          "model_module": "@jupyter-widgets/controls",
          "model_name": "FloatProgressModel",
          "state": {
            "_dom_classes": [],
            "_model_module": "@jupyter-widgets/controls",
            "_model_module_version": "1.5.0",
            "_model_name": "FloatProgressModel",
            "_view_count": null,
            "_view_module": "@jupyter-widgets/controls",
            "_view_module_version": "1.5.0",
            "_view_name": "ProgressView",
            "bar_style": "success",
            "description": "100%",
            "description_tooltip": null,
            "layout": "IPY_MODEL_8589fb80af10413eb985d23b843b3dea",
            "max": 244715968,
            "min": 0,
            "orientation": "horizontal",
            "style": "IPY_MODEL_dae851767ca64ce2bed85ff9919b2f9a",
            "value": 244715968
          }
        },
        "a63d12b2f3f04abd88df2522497471cc": {
          "model_module": "@jupyter-widgets/controls",
          "model_name": "HTMLModel",
          "state": {
            "_dom_classes": [],
            "_model_module": "@jupyter-widgets/controls",
            "_model_module_version": "1.5.0",
            "_model_name": "HTMLModel",
            "_view_count": null,
            "_view_module": "@jupyter-widgets/controls",
            "_view_module_version": "1.5.0",
            "_view_name": "HTMLView",
            "description": "",
            "description_tooltip": null,
            "layout": "IPY_MODEL_90bad7262a0b4836ac8be732c056b548",
            "placeholder": "​",
            "style": "IPY_MODEL_444d6a859b7c485bbf0bbcfa47e3d33b",
            "value": " 245M/245M [00:15&lt;00:00, 16.2MB/s]"
          }
        },
        "504550fe69114609ac728e04b803883f": {
          "model_module": "@jupyter-widgets/base",
          "model_name": "LayoutModel",
          "state": {
            "_model_module": "@jupyter-widgets/base",
            "_model_module_version": "1.2.0",
            "_model_name": "LayoutModel",
            "_view_count": null,
            "_view_module": "@jupyter-widgets/base",
            "_view_module_version": "1.2.0",
            "_view_name": "LayoutView",
            "align_content": null,
            "align_items": null,
            "align_self": null,
            "border": null,
            "bottom": null,
            "display": null,
            "flex": null,
            "flex_flow": null,
            "grid_area": null,
            "grid_auto_columns": null,
            "grid_auto_flow": null,
            "grid_auto_rows": null,
            "grid_column": null,
            "grid_gap": null,
            "grid_row": null,
            "grid_template_areas": null,
            "grid_template_columns": null,
            "grid_template_rows": null,
            "height": null,
            "justify_content": null,
            "justify_items": null,
            "left": null,
            "margin": null,
            "max_height": null,
            "max_width": null,
            "min_height": null,
            "min_width": null,
            "object_fit": null,
            "object_position": null,
            "order": null,
            "overflow": null,
            "overflow_x": null,
            "overflow_y": null,
            "padding": null,
            "right": null,
            "top": null,
            "visibility": null,
            "width": null
          }
        },
        "8589fb80af10413eb985d23b843b3dea": {
          "model_module": "@jupyter-widgets/base",
          "model_name": "LayoutModel",
          "state": {
            "_model_module": "@jupyter-widgets/base",
            "_model_module_version": "1.2.0",
            "_model_name": "LayoutModel",
            "_view_count": null,
            "_view_module": "@jupyter-widgets/base",
            "_view_module_version": "1.2.0",
            "_view_name": "LayoutView",
            "align_content": null,
            "align_items": null,
            "align_self": null,
            "border": null,
            "bottom": null,
            "display": null,
            "flex": null,
            "flex_flow": null,
            "grid_area": null,
            "grid_auto_columns": null,
            "grid_auto_flow": null,
            "grid_auto_rows": null,
            "grid_column": null,
            "grid_gap": null,
            "grid_row": null,
            "grid_template_areas": null,
            "grid_template_columns": null,
            "grid_template_rows": null,
            "height": null,
            "justify_content": null,
            "justify_items": null,
            "left": null,
            "margin": null,
            "max_height": null,
            "max_width": null,
            "min_height": null,
            "min_width": null,
            "object_fit": null,
            "object_position": null,
            "order": null,
            "overflow": null,
            "overflow_x": null,
            "overflow_y": null,
            "padding": null,
            "right": null,
            "top": null,
            "visibility": null,
            "width": null
          }
        },
        "dae851767ca64ce2bed85ff9919b2f9a": {
          "model_module": "@jupyter-widgets/controls",
          "model_name": "ProgressStyleModel",
          "state": {
            "_model_module": "@jupyter-widgets/controls",
            "_model_module_version": "1.5.0",
            "_model_name": "ProgressStyleModel",
            "_view_count": null,
            "_view_module": "@jupyter-widgets/base",
            "_view_module_version": "1.2.0",
            "_view_name": "StyleView",
            "bar_color": null,
            "description_width": "initial"
          }
        },
        "90bad7262a0b4836ac8be732c056b548": {
          "model_module": "@jupyter-widgets/base",
          "model_name": "LayoutModel",
          "state": {
            "_model_module": "@jupyter-widgets/base",
            "_model_module_version": "1.2.0",
            "_model_name": "LayoutModel",
            "_view_count": null,
            "_view_module": "@jupyter-widgets/base",
            "_view_module_version": "1.2.0",
            "_view_name": "LayoutView",
            "align_content": null,
            "align_items": null,
            "align_self": null,
            "border": null,
            "bottom": null,
            "display": null,
            "flex": null,
            "flex_flow": null,
            "grid_area": null,
            "grid_auto_columns": null,
            "grid_auto_flow": null,
            "grid_auto_rows": null,
            "grid_column": null,
            "grid_gap": null,
            "grid_row": null,
            "grid_template_areas": null,
            "grid_template_columns": null,
            "grid_template_rows": null,
            "height": null,
            "justify_content": null,
            "justify_items": null,
            "left": null,
            "margin": null,
            "max_height": null,
            "max_width": null,
            "min_height": null,
            "min_width": null,
            "object_fit": null,
            "object_position": null,
            "order": null,
            "overflow": null,
            "overflow_x": null,
            "overflow_y": null,
            "padding": null,
            "right": null,
            "top": null,
            "visibility": null,
            "width": null
          }
        },
        "444d6a859b7c485bbf0bbcfa47e3d33b": {
          "model_module": "@jupyter-widgets/controls",
          "model_name": "DescriptionStyleModel",
          "state": {
            "_model_module": "@jupyter-widgets/controls",
            "_model_module_version": "1.5.0",
            "_model_name": "DescriptionStyleModel",
            "_view_count": null,
            "_view_module": "@jupyter-widgets/base",
            "_view_module_version": "1.2.0",
            "_view_name": "StyleView",
            "description_width": ""
          }
        }
      }
    }
  },
  "cells": [
    {
      "cell_type": "markdown",
      "metadata": {
        "id": "view-in-github",
        "colab_type": "text"
      },
      "source": [
        "<a href=\"https://colab.research.google.com/github/akshithamaddi/akshithamaddi_INFO5731/blob/master/Bertfortweets.ipynb\" target=\"_parent\"><img src=\"https://colab.research.google.com/assets/colab-badge.svg\" alt=\"Open In Colab\"/></a>"
      ]
    },
    {
      "cell_type": "code",
      "metadata": {
        "id": "JKXr0IUbexPs"
      },
      "source": [
        "#topic Modeling\n",
        "import pandas as pd\n",
        "topicm = pd.read_csv(\"2020-3-new.csv\",encoding=\"ISO-8859-1\")\n",
        "header = [\"clean_tweet_text\"]\n",
        "topicm.to_csv('output.csv', columns = header)"
      ],
      "execution_count": null,
      "outputs": []
    },
    {
      "cell_type": "code",
      "metadata": {
        "colab": {
          "base_uri": "https://localhost:8080/"
        },
        "id": "azFmwd4ufj5a",
        "outputId": "00f76d76-ed3e-4adb-8d59-b2ddc5cfac30"
      },
      "source": [
        "pip install pyLDAvis==2.1.2"
      ],
      "execution_count": null,
      "outputs": [
        {
          "output_type": "stream",
          "text": [
            "Collecting pyLDAvis==2.1.2\n",
            "\u001b[?25l  Downloading https://files.pythonhosted.org/packages/a5/3a/af82e070a8a96e13217c8f362f9a73e82d61ac8fff3a2561946a97f96266/pyLDAvis-2.1.2.tar.gz (1.6MB)\n",
            "\r\u001b[K     |▏                               | 10kB 12.0MB/s eta 0:00:01\r\u001b[K     |▍                               | 20kB 16.2MB/s eta 0:00:01\r\u001b[K     |▋                               | 30kB 17.8MB/s eta 0:00:01\r\u001b[K     |▉                               | 40kB 10.1MB/s eta 0:00:01\r\u001b[K     |█                               | 51kB 11.8MB/s eta 0:00:01\r\u001b[K     |█▏                              | 61kB 13.4MB/s eta 0:00:01\r\u001b[K     |█▍                              | 71kB 14.8MB/s eta 0:00:01\r\u001b[K     |█▋                              | 81kB 14.6MB/s eta 0:00:01\r\u001b[K     |█▉                              | 92kB 15.4MB/s eta 0:00:01\r\u001b[K     |██                              | 102kB 16.5MB/s eta 0:00:01\r\u001b[K     |██▎                             | 112kB 16.5MB/s eta 0:00:01\r\u001b[K     |██▍                             | 122kB 16.5MB/s eta 0:00:01\r\u001b[K     |██▋                             | 133kB 16.5MB/s eta 0:00:01\r\u001b[K     |██▉                             | 143kB 16.5MB/s eta 0:00:01\r\u001b[K     |███                             | 153kB 16.5MB/s eta 0:00:01\r\u001b[K     |███▎                            | 163kB 16.5MB/s eta 0:00:01\r\u001b[K     |███▌                            | 174kB 16.5MB/s eta 0:00:01\r\u001b[K     |███▋                            | 184kB 16.5MB/s eta 0:00:01\r\u001b[K     |███▉                            | 194kB 16.5MB/s eta 0:00:01\r\u001b[K     |████                            | 204kB 16.5MB/s eta 0:00:01\r\u001b[K     |████▎                           | 215kB 16.5MB/s eta 0:00:01\r\u001b[K     |████▌                           | 225kB 16.5MB/s eta 0:00:01\r\u001b[K     |████▊                           | 235kB 16.5MB/s eta 0:00:01\r\u001b[K     |████▉                           | 245kB 16.5MB/s eta 0:00:01\r\u001b[K     |█████                           | 256kB 16.5MB/s eta 0:00:01\r\u001b[K     |█████▎                          | 266kB 16.5MB/s eta 0:00:01\r\u001b[K     |█████▌                          | 276kB 16.5MB/s eta 0:00:01\r\u001b[K     |█████▊                          | 286kB 16.5MB/s eta 0:00:01\r\u001b[K     |█████▉                          | 296kB 16.5MB/s eta 0:00:01\r\u001b[K     |██████                          | 307kB 16.5MB/s eta 0:00:01\r\u001b[K     |██████▎                         | 317kB 16.5MB/s eta 0:00:01\r\u001b[K     |██████▌                         | 327kB 16.5MB/s eta 0:00:01\r\u001b[K     |██████▊                         | 337kB 16.5MB/s eta 0:00:01\r\u001b[K     |███████                         | 348kB 16.5MB/s eta 0:00:01\r\u001b[K     |███████                         | 358kB 16.5MB/s eta 0:00:01\r\u001b[K     |███████▎                        | 368kB 16.5MB/s eta 0:00:01\r\u001b[K     |███████▌                        | 378kB 16.5MB/s eta 0:00:01\r\u001b[K     |███████▊                        | 389kB 16.5MB/s eta 0:00:01\r\u001b[K     |████████                        | 399kB 16.5MB/s eta 0:00:01\r\u001b[K     |████████▏                       | 409kB 16.5MB/s eta 0:00:01\r\u001b[K     |████████▎                       | 419kB 16.5MB/s eta 0:00:01\r\u001b[K     |████████▌                       | 430kB 16.5MB/s eta 0:00:01\r\u001b[K     |████████▊                       | 440kB 16.5MB/s eta 0:00:01\r\u001b[K     |█████████                       | 450kB 16.5MB/s eta 0:00:01\r\u001b[K     |█████████▏                      | 460kB 16.5MB/s eta 0:00:01\r\u001b[K     |█████████▍                      | 471kB 16.5MB/s eta 0:00:01\r\u001b[K     |█████████▌                      | 481kB 16.5MB/s eta 0:00:01\r\u001b[K     |█████████▊                      | 491kB 16.5MB/s eta 0:00:01\r\u001b[K     |██████████                      | 501kB 16.5MB/s eta 0:00:01\r\u001b[K     |██████████▏                     | 512kB 16.5MB/s eta 0:00:01\r\u001b[K     |██████████▍                     | 522kB 16.5MB/s eta 0:00:01\r\u001b[K     |██████████▋                     | 532kB 16.5MB/s eta 0:00:01\r\u001b[K     |██████████▊                     | 542kB 16.5MB/s eta 0:00:01\r\u001b[K     |███████████                     | 552kB 16.5MB/s eta 0:00:01\r\u001b[K     |███████████▏                    | 563kB 16.5MB/s eta 0:00:01\r\u001b[K     |███████████▍                    | 573kB 16.5MB/s eta 0:00:01\r\u001b[K     |███████████▋                    | 583kB 16.5MB/s eta 0:00:01\r\u001b[K     |███████████▊                    | 593kB 16.5MB/s eta 0:00:01\r\u001b[K     |████████████                    | 604kB 16.5MB/s eta 0:00:01\r\u001b[K     |████████████▏                   | 614kB 16.5MB/s eta 0:00:01\r\u001b[K     |████████████▍                   | 624kB 16.5MB/s eta 0:00:01\r\u001b[K     |████████████▋                   | 634kB 16.5MB/s eta 0:00:01\r\u001b[K     |████████████▉                   | 645kB 16.5MB/s eta 0:00:01\r\u001b[K     |█████████████                   | 655kB 16.5MB/s eta 0:00:01\r\u001b[K     |█████████████▏                  | 665kB 16.5MB/s eta 0:00:01\r\u001b[K     |█████████████▍                  | 675kB 16.5MB/s eta 0:00:01\r\u001b[K     |█████████████▋                  | 686kB 16.5MB/s eta 0:00:01\r\u001b[K     |█████████████▉                  | 696kB 16.5MB/s eta 0:00:01\r\u001b[K     |██████████████                  | 706kB 16.5MB/s eta 0:00:01\r\u001b[K     |██████████████▏                 | 716kB 16.5MB/s eta 0:00:01\r\u001b[K     |██████████████▍                 | 727kB 16.5MB/s eta 0:00:01\r\u001b[K     |██████████████▋                 | 737kB 16.5MB/s eta 0:00:01\r\u001b[K     |██████████████▉                 | 747kB 16.5MB/s eta 0:00:01\r\u001b[K     |███████████████                 | 757kB 16.5MB/s eta 0:00:01\r\u001b[K     |███████████████▎                | 768kB 16.5MB/s eta 0:00:01\r\u001b[K     |███████████████▍                | 778kB 16.5MB/s eta 0:00:01\r\u001b[K     |███████████████▋                | 788kB 16.5MB/s eta 0:00:01\r\u001b[K     |███████████████▉                | 798kB 16.5MB/s eta 0:00:01\r\u001b[K     |████████████████                | 808kB 16.5MB/s eta 0:00:01\r\u001b[K     |████████████████▎               | 819kB 16.5MB/s eta 0:00:01\r\u001b[K     |████████████████▌               | 829kB 16.5MB/s eta 0:00:01\r\u001b[K     |████████████████▋               | 839kB 16.5MB/s eta 0:00:01\r\u001b[K     |████████████████▉               | 849kB 16.5MB/s eta 0:00:01\r\u001b[K     |█████████████████               | 860kB 16.5MB/s eta 0:00:01\r\u001b[K     |█████████████████▎              | 870kB 16.5MB/s eta 0:00:01\r\u001b[K     |█████████████████▌              | 880kB 16.5MB/s eta 0:00:01\r\u001b[K     |█████████████████▋              | 890kB 16.5MB/s eta 0:00:01\r\u001b[K     |█████████████████▉              | 901kB 16.5MB/s eta 0:00:01\r\u001b[K     |██████████████████              | 911kB 16.5MB/s eta 0:00:01\r\u001b[K     |██████████████████▎             | 921kB 16.5MB/s eta 0:00:01\r\u001b[K     |██████████████████▌             | 931kB 16.5MB/s eta 0:00:01\r\u001b[K     |██████████████████▊             | 942kB 16.5MB/s eta 0:00:01\r\u001b[K     |██████████████████▉             | 952kB 16.5MB/s eta 0:00:01\r\u001b[K     |███████████████████             | 962kB 16.5MB/s eta 0:00:01\r\u001b[K     |███████████████████▎            | 972kB 16.5MB/s eta 0:00:01\r\u001b[K     |███████████████████▌            | 983kB 16.5MB/s eta 0:00:01\r\u001b[K     |███████████████████▊            | 993kB 16.5MB/s eta 0:00:01\r\u001b[K     |████████████████████            | 1.0MB 16.5MB/s eta 0:00:01\r\u001b[K     |████████████████████            | 1.0MB 16.5MB/s eta 0:00:01\r\u001b[K     |████████████████████▎           | 1.0MB 16.5MB/s eta 0:00:01\r\u001b[K     |████████████████████▌           | 1.0MB 16.5MB/s eta 0:00:01\r\u001b[K     |████████████████████▊           | 1.0MB 16.5MB/s eta 0:00:01\r\u001b[K     |█████████████████████           | 1.1MB 16.5MB/s eta 0:00:01\r\u001b[K     |█████████████████████▏          | 1.1MB 16.5MB/s eta 0:00:01\r\u001b[K     |█████████████████████▎          | 1.1MB 16.5MB/s eta 0:00:01\r\u001b[K     |█████████████████████▌          | 1.1MB 16.5MB/s eta 0:00:01\r\u001b[K     |█████████████████████▊          | 1.1MB 16.5MB/s eta 0:00:01\r\u001b[K     |██████████████████████          | 1.1MB 16.5MB/s eta 0:00:01\r\u001b[K     |██████████████████████▏         | 1.1MB 16.5MB/s eta 0:00:01\r\u001b[K     |██████████████████████▍         | 1.1MB 16.5MB/s eta 0:00:01\r\u001b[K     |██████████████████████▌         | 1.1MB 16.5MB/s eta 0:00:01\r\u001b[K     |██████████████████████▊         | 1.1MB 16.5MB/s eta 0:00:01\r\u001b[K     |███████████████████████         | 1.2MB 16.5MB/s eta 0:00:01\r\u001b[K     |███████████████████████▏        | 1.2MB 16.5MB/s eta 0:00:01\r\u001b[K     |███████████████████████▍        | 1.2MB 16.5MB/s eta 0:00:01\r\u001b[K     |███████████████████████▌        | 1.2MB 16.5MB/s eta 0:00:01\r\u001b[K     |███████████████████████▊        | 1.2MB 16.5MB/s eta 0:00:01\r\u001b[K     |████████████████████████        | 1.2MB 16.5MB/s eta 0:00:01\r\u001b[K     |████████████████████████▏       | 1.2MB 16.5MB/s eta 0:00:01\r\u001b[K     |████████████████████████▍       | 1.2MB 16.5MB/s eta 0:00:01\r\u001b[K     |████████████████████████▋       | 1.2MB 16.5MB/s eta 0:00:01\r\u001b[K     |████████████████████████▊       | 1.2MB 16.5MB/s eta 0:00:01\r\u001b[K     |█████████████████████████       | 1.3MB 16.5MB/s eta 0:00:01\r\u001b[K     |█████████████████████████▏      | 1.3MB 16.5MB/s eta 0:00:01\r\u001b[K     |█████████████████████████▍      | 1.3MB 16.5MB/s eta 0:00:01\r\u001b[K     |█████████████████████████▋      | 1.3MB 16.5MB/s eta 0:00:01\r\u001b[K     |█████████████████████████▉      | 1.3MB 16.5MB/s eta 0:00:01\r\u001b[K     |██████████████████████████      | 1.3MB 16.5MB/s eta 0:00:01\r\u001b[K     |██████████████████████████▏     | 1.3MB 16.5MB/s eta 0:00:01\r\u001b[K     |██████████████████████████▍     | 1.3MB 16.5MB/s eta 0:00:01\r\u001b[K     |██████████████████████████▋     | 1.3MB 16.5MB/s eta 0:00:01\r\u001b[K     |██████████████████████████▉     | 1.4MB 16.5MB/s eta 0:00:01\r\u001b[K     |███████████████████████████     | 1.4MB 16.5MB/s eta 0:00:01\r\u001b[K     |███████████████████████████▏    | 1.4MB 16.5MB/s eta 0:00:01\r\u001b[K     |███████████████████████████▍    | 1.4MB 16.5MB/s eta 0:00:01\r\u001b[K     |███████████████████████████▋    | 1.4MB 16.5MB/s eta 0:00:01\r\u001b[K     |███████████████████████████▉    | 1.4MB 16.5MB/s eta 0:00:01\r\u001b[K     |████████████████████████████    | 1.4MB 16.5MB/s eta 0:00:01\r\u001b[K     |████████████████████████████▏   | 1.4MB 16.5MB/s eta 0:00:01\r\u001b[K     |████████████████████████████▍   | 1.4MB 16.5MB/s eta 0:00:01\r\u001b[K     |████████████████████████████▋   | 1.4MB 16.5MB/s eta 0:00:01\r\u001b[K     |████████████████████████████▉   | 1.5MB 16.5MB/s eta 0:00:01\r\u001b[K     |█████████████████████████████   | 1.5MB 16.5MB/s eta 0:00:01\r\u001b[K     |█████████████████████████████▎  | 1.5MB 16.5MB/s eta 0:00:01\r\u001b[K     |█████████████████████████████▍  | 1.5MB 16.5MB/s eta 0:00:01\r\u001b[K     |█████████████████████████████▋  | 1.5MB 16.5MB/s eta 0:00:01\r\u001b[K     |█████████████████████████████▉  | 1.5MB 16.5MB/s eta 0:00:01\r\u001b[K     |██████████████████████████████  | 1.5MB 16.5MB/s eta 0:00:01\r\u001b[K     |██████████████████████████████▎ | 1.5MB 16.5MB/s eta 0:00:01\r\u001b[K     |██████████████████████████████▌ | 1.5MB 16.5MB/s eta 0:00:01\r\u001b[K     |██████████████████████████████▋ | 1.5MB 16.5MB/s eta 0:00:01\r\u001b[K     |██████████████████████████████▉ | 1.6MB 16.5MB/s eta 0:00:01\r\u001b[K     |███████████████████████████████ | 1.6MB 16.5MB/s eta 0:00:01\r\u001b[K     |███████████████████████████████▎| 1.6MB 16.5MB/s eta 0:00:01\r\u001b[K     |███████████████████████████████▌| 1.6MB 16.5MB/s eta 0:00:01\r\u001b[K     |███████████████████████████████▊| 1.6MB 16.5MB/s eta 0:00:01\r\u001b[K     |███████████████████████████████▉| 1.6MB 16.5MB/s eta 0:00:01\r\u001b[K     |████████████████████████████████| 1.6MB 16.5MB/s \n",
            "\u001b[?25hRequirement already satisfied: wheel>=0.23.0 in /usr/local/lib/python3.7/dist-packages (from pyLDAvis==2.1.2) (0.36.2)\n",
            "Requirement already satisfied: numpy>=1.9.2 in /usr/local/lib/python3.7/dist-packages (from pyLDAvis==2.1.2) (1.19.5)\n",
            "Requirement already satisfied: scipy>=0.18.0 in /usr/local/lib/python3.7/dist-packages (from pyLDAvis==2.1.2) (1.4.1)\n",
            "Requirement already satisfied: pandas>=0.17.0 in /usr/local/lib/python3.7/dist-packages (from pyLDAvis==2.1.2) (1.1.5)\n",
            "Requirement already satisfied: joblib>=0.8.4 in /usr/local/lib/python3.7/dist-packages (from pyLDAvis==2.1.2) (1.0.1)\n",
            "Requirement already satisfied: jinja2>=2.7.2 in /usr/local/lib/python3.7/dist-packages (from pyLDAvis==2.1.2) (2.11.3)\n",
            "Requirement already satisfied: numexpr in /usr/local/lib/python3.7/dist-packages (from pyLDAvis==2.1.2) (2.7.3)\n",
            "Requirement already satisfied: pytest in /usr/local/lib/python3.7/dist-packages (from pyLDAvis==2.1.2) (3.6.4)\n",
            "Requirement already satisfied: future in /usr/local/lib/python3.7/dist-packages (from pyLDAvis==2.1.2) (0.16.0)\n",
            "Collecting funcy\n",
            "  Downloading https://files.pythonhosted.org/packages/66/89/479de0afbbfb98d1c4b887936808764627300208bb771fcd823403645a36/funcy-1.15-py2.py3-none-any.whl\n",
            "Requirement already satisfied: python-dateutil>=2.7.3 in /usr/local/lib/python3.7/dist-packages (from pandas>=0.17.0->pyLDAvis==2.1.2) (2.8.1)\n",
            "Requirement already satisfied: pytz>=2017.2 in /usr/local/lib/python3.7/dist-packages (from pandas>=0.17.0->pyLDAvis==2.1.2) (2018.9)\n",
            "Requirement already satisfied: MarkupSafe>=0.23 in /usr/local/lib/python3.7/dist-packages (from jinja2>=2.7.2->pyLDAvis==2.1.2) (1.1.1)\n",
            "Requirement already satisfied: atomicwrites>=1.0 in /usr/local/lib/python3.7/dist-packages (from pytest->pyLDAvis==2.1.2) (1.4.0)\n",
            "Requirement already satisfied: more-itertools>=4.0.0 in /usr/local/lib/python3.7/dist-packages (from pytest->pyLDAvis==2.1.2) (8.7.0)\n",
            "Requirement already satisfied: setuptools in /usr/local/lib/python3.7/dist-packages (from pytest->pyLDAvis==2.1.2) (54.2.0)\n",
            "Requirement already satisfied: attrs>=17.4.0 in /usr/local/lib/python3.7/dist-packages (from pytest->pyLDAvis==2.1.2) (20.3.0)\n",
            "Requirement already satisfied: py>=1.5.0 in /usr/local/lib/python3.7/dist-packages (from pytest->pyLDAvis==2.1.2) (1.10.0)\n",
            "Requirement already satisfied: six>=1.10.0 in /usr/local/lib/python3.7/dist-packages (from pytest->pyLDAvis==2.1.2) (1.15.0)\n",
            "Requirement already satisfied: pluggy<0.8,>=0.5 in /usr/local/lib/python3.7/dist-packages (from pytest->pyLDAvis==2.1.2) (0.7.1)\n",
            "Building wheels for collected packages: pyLDAvis\n",
            "  Building wheel for pyLDAvis (setup.py) ... \u001b[?25l\u001b[?25hdone\n",
            "  Created wheel for pyLDAvis: filename=pyLDAvis-2.1.2-py2.py3-none-any.whl size=97712 sha256=d69e7b705999bf2a2d84c7e8502dda02bf850360da2f90f21191dd05cecd0493\n",
            "  Stored in directory: /root/.cache/pip/wheels/98/71/24/513a99e58bb6b8465bae4d2d5e9dba8f0bef8179e3051ac414\n",
            "Successfully built pyLDAvis\n",
            "Installing collected packages: funcy, pyLDAvis\n",
            "Successfully installed funcy-1.15 pyLDAvis-2.1.2\n"
          ],
          "name": "stdout"
        }
      ]
    },
    {
      "cell_type": "code",
      "metadata": {
        "colab": {
          "base_uri": "https://localhost:8080/"
        },
        "id": "tbp3MuNofmWw",
        "outputId": "404f4c27-7f00-421e-d94a-d472c94c84e6"
      },
      "source": [
        "pip install \"gensim==3.8.1\""
      ],
      "execution_count": null,
      "outputs": [
        {
          "output_type": "stream",
          "text": [
            "Collecting gensim==3.8.1\n",
            "\u001b[?25l  Downloading https://files.pythonhosted.org/packages/44/93/c6011037f24e3106d13f3be55297bf84ece2bf15b278cc4776339dc52db5/gensim-3.8.1-cp37-cp37m-manylinux1_x86_64.whl (24.2MB)\n",
            "\u001b[K     |████████████████████████████████| 24.2MB 44.2MB/s \n",
            "\u001b[?25hRequirement already satisfied: six>=1.5.0 in /usr/local/lib/python3.7/dist-packages (from gensim==3.8.1) (1.15.0)\n",
            "Requirement already satisfied: numpy>=1.11.3 in /usr/local/lib/python3.7/dist-packages (from gensim==3.8.1) (1.19.5)\n",
            "Requirement already satisfied: scipy>=0.18.1 in /usr/local/lib/python3.7/dist-packages (from gensim==3.8.1) (1.4.1)\n",
            "Requirement already satisfied: smart-open>=1.8.1 in /usr/local/lib/python3.7/dist-packages (from gensim==3.8.1) (4.2.0)\n",
            "Installing collected packages: gensim\n",
            "  Found existing installation: gensim 3.6.0\n",
            "    Uninstalling gensim-3.6.0:\n",
            "      Successfully uninstalled gensim-3.6.0\n",
            "Successfully installed gensim-3.8.1\n"
          ],
          "name": "stdout"
        }
      ]
    },
    {
      "cell_type": "code",
      "metadata": {
        "colab": {
          "base_uri": "https://localhost:8080/"
        },
        "id": "ANUTSmxxfoUB",
        "outputId": "a137b1c8-c2b8-4aa6-c17f-61a21485971e"
      },
      "source": [
        "import spacy.cli\n",
        "spacy.cli.download(\"en_core_web_sm\")"
      ],
      "execution_count": null,
      "outputs": [
        {
          "output_type": "stream",
          "text": [
            "\u001b[38;5;2m✔ Download and installation successful\u001b[0m\n",
            "You can now load the model via spacy.load('en_core_web_sm')\n"
          ],
          "name": "stdout"
        }
      ]
    },
    {
      "cell_type": "code",
      "metadata": {
        "colab": {
          "base_uri": "https://localhost:8080/"
        },
        "id": "OmGlMqecfqOt",
        "outputId": "0228ebea-8b0a-4bb4-c171-e6c02bdf3afd"
      },
      "source": [
        "import nltk;\n",
        "nltk.download('stopwords')"
      ],
      "execution_count": null,
      "outputs": [
        {
          "output_type": "stream",
          "text": [
            "[nltk_data] Downloading package stopwords to /root/nltk_data...\n",
            "[nltk_data]   Unzipping corpora/stopwords.zip.\n"
          ],
          "name": "stdout"
        },
        {
          "output_type": "execute_result",
          "data": {
            "text/plain": [
              "True"
            ]
          },
          "metadata": {
            "tags": []
          },
          "execution_count": 6
        }
      ]
    },
    {
      "cell_type": "code",
      "metadata": {
        "id": "lQGJARfHf-T0"
      },
      "source": [
        "import re\n",
        "import numpy as np\n",
        "import pandas as pd\n",
        "from pprint import pprint\n",
        "\n",
        "# Gensim\n",
        "import gensim\n",
        "import gensim.corpora as corpora\n",
        "from gensim.utils import simple_preprocess\n",
        "from gensim.models import CoherenceModel\n",
        "\n",
        "# spacy for lemmatization\n",
        "import spacy\n",
        "\n",
        "# Plotting tools\n",
        "import pyLDAvis\n",
        "import pyLDAvis.gensim  # don't skip this\n",
        "import matplotlib.pyplot as plt\n",
        "%matplotlib inline\n",
        "\n",
        "# Enable logging for gensim - optional\n",
        "import logging\n",
        "logging.basicConfig(format='%(asctime)s : %(levelname)s : %(message)s', level=logging.ERROR)\n",
        "\n",
        "import warnings\n",
        "warnings.filterwarnings(\"ignore\",category=DeprecationWarning)"
      ],
      "execution_count": null,
      "outputs": []
    },
    {
      "cell_type": "code",
      "metadata": {
        "id": "ER5vIfzGgAuR"
      },
      "source": [
        "from nltk.corpus import stopwords\n",
        "stop_words = stopwords.words('english')\n",
        "stop_words.extend(['from', 'subject', 're', 'edu', 'use'])"
      ],
      "execution_count": null,
      "outputs": []
    },
    {
      "cell_type": "code",
      "metadata": {
        "colab": {
          "base_uri": "https://localhost:8080/"
        },
        "id": "GX9cBdDdgDiE",
        "outputId": "24ce4708-990e-41e8-f0ad-2b14e89c8434"
      },
      "source": [
        "data = topicm.clean_tweet_text.values.tolist()\n",
        "\n",
        "# Remove Emails\n",
        "data = [re.sub('\\S*@\\S*\\s?', '', sent) for sent in data]\n",
        "\n",
        "# Remove new line characters\n",
        "data = [re.sub('\\s+', ' ', sent) for sent in data]\n",
        "\n",
        "# Remove distracting single quotes\n",
        "data = [re.sub(\"\\'\", \"\", sent) for sent in data]\n",
        "\n",
        "print(data[:1])"
      ],
      "execution_count": null,
      "outputs": [
        {
          "output_type": "stream",
          "text": [
            "['sources telling early friday USER_MENTION ask employees lie home chinavirus chinesevirus indiafightscoronavirus']\n"
          ],
          "name": "stdout"
        }
      ]
    },
    {
      "cell_type": "code",
      "metadata": {
        "colab": {
          "base_uri": "https://localhost:8080/"
        },
        "id": "3-E5t5b7gKB8",
        "outputId": "8f9f59e8-457c-4d7c-9013-cdd6c0c9b08b"
      },
      "source": [
        "def sent_to_words(sentences):\n",
        "    for sentence in sentences:\n",
        "        yield(gensim.utils.simple_preprocess(str(sentence), deacc=True))  # deacc=True removes punctuations\n",
        "\n",
        "data_words = list(sent_to_words(data))\n",
        "\n",
        "print(data_words[:1])"
      ],
      "execution_count": null,
      "outputs": [
        {
          "output_type": "stream",
          "text": [
            "[['sources', 'telling', 'early', 'friday', 'user_mention', 'ask', 'employees', 'lie', 'home', 'chinavirus', 'chinesevirus']]\n"
          ],
          "name": "stdout"
        }
      ]
    },
    {
      "cell_type": "code",
      "metadata": {
        "colab": {
          "base_uri": "https://localhost:8080/"
        },
        "id": "sW3QFlnggMzg",
        "outputId": "6fbb7a24-36b8-4cb3-9eeb-e1b1180252eb"
      },
      "source": [
        "# Build the bigram and trigram models\n",
        "bigram = gensim.models.Phrases(data_words, min_count=5, threshold=100) # higher threshold fewer phrases.\n",
        "trigram = gensim.models.Phrases(bigram[data_words], threshold=100)  \n",
        "\n",
        "# Faster way to get a sentence clubbed as a trigram/bigram\n",
        "bigram_mod = gensim.models.phrases.Phraser(bigram)\n",
        "trigram_mod = gensim.models.phrases.Phraser(trigram)\n",
        "\n",
        "# See trigram example\n",
        "print(trigram_mod[bigram_mod[data_words[0]]])"
      ],
      "execution_count": null,
      "outputs": [
        {
          "output_type": "stream",
          "text": [
            "['sources', 'telling', 'early', 'friday', 'user_mention', 'ask', 'employees', 'lie', 'home', 'chinavirus', 'chinesevirus']\n"
          ],
          "name": "stdout"
        }
      ]
    },
    {
      "cell_type": "code",
      "metadata": {
        "id": "UoCluRoCgaLf"
      },
      "source": [
        "# Define functions for stopwords, bigrams, trigrams and lemmatization\n",
        "def remove_stopwords(texts):\n",
        "    return [[word for word in simple_preprocess(str(doc)) if word not in stop_words] for doc in texts]\n",
        "\n",
        "def make_bigrams(texts):\n",
        "    return [bigram_mod[doc] for doc in texts]\n",
        "\n",
        "def make_trigrams(texts):\n",
        "    return [trigram_mod[bigram_mod[doc]] for doc in texts]\n",
        "\n",
        "def lemmatization(texts, allowed_postags=['NOUN', 'ADJ', 'VERB', 'ADV']):\n",
        "    \"\"\"https://spacy.io/api/annotation\"\"\"\n",
        "    texts_out = []\n",
        "    for sent in texts:\n",
        "        doc = nlp(\" \".join(sent)) \n",
        "        texts_out.append([token.lemma_ for token in doc if token.pos_ in allowed_postags])\n",
        "    return texts_out"
      ],
      "execution_count": null,
      "outputs": []
    },
    {
      "cell_type": "code",
      "metadata": {
        "colab": {
          "base_uri": "https://localhost:8080/"
        },
        "id": "7XgV4dejgdRZ",
        "outputId": "6d8f85f6-691a-41d4-a592-57816b7a0bc5"
      },
      "source": [
        "# Remove Stop Words\n",
        "data_words_nostops = remove_stopwords(data_words)\n",
        "\n",
        "# Form Bigrams\n",
        "data_words_bigrams = make_bigrams(data_words_nostops)\n",
        "\n",
        "# Initialize spacy 'en' model, keeping only tagger component (for efficiency)\n",
        "# python3 -m spacy download en\n",
        "nlp = spacy.load('en', disable=['parser', 'ner'])\n",
        "\n",
        "# Do lemmatization keeping only noun, adj, vb, adv\n",
        "data_lemmatized = lemmatization(data_words_bigrams, allowed_postags=['NOUN', 'ADJ', 'VERB', 'ADV'])\n",
        "\n",
        "print(data_lemmatized[:1])"
      ],
      "execution_count": null,
      "outputs": [
        {
          "output_type": "stream",
          "text": [
            "[['source', 'tell', 'early', 'ask', 'employee', 'lie', 'home', 'chinavirus']]\n"
          ],
          "name": "stdout"
        }
      ]
    },
    {
      "cell_type": "code",
      "metadata": {
        "colab": {
          "base_uri": "https://localhost:8080/"
        },
        "id": "hBYrdtVWhltY",
        "outputId": "00586b90-62b0-4bcc-cfc8-92f1cb0d5433"
      },
      "source": [
        "# Create Dictionary\n",
        "id2word = corpora.Dictionary(data_lemmatized)\n",
        "\n",
        "# Create Corpus\n",
        "texts = data_lemmatized\n",
        "\n",
        "# Term Document Frequency\n",
        "corpus = [id2word.doc2bow(text) for text in texts]\n",
        "\n",
        "# View\n",
        "print(corpus[:1])"
      ],
      "execution_count": null,
      "outputs": [
        {
          "output_type": "stream",
          "text": [
            "[[(0, 1), (1, 1), (2, 1), (3, 1), (4, 1), (5, 1), (6, 1), (7, 1)]]\n"
          ],
          "name": "stdout"
        }
      ]
    },
    {
      "cell_type": "code",
      "metadata": {
        "colab": {
          "base_uri": "https://localhost:8080/"
        },
        "id": "kB3P1mWfhniu",
        "outputId": "39cdf7f7-6924-487b-b359-22b31f9d7f08"
      },
      "source": [
        "# Human readable format of corpus (term-frequency)\n",
        "[[(id2word[id], freq) for id, freq in cp] for cp in corpus[:1]]"
      ],
      "execution_count": null,
      "outputs": [
        {
          "output_type": "execute_result",
          "data": {
            "text/plain": [
              "[[('ask', 1),\n",
              "  ('chinavirus', 1),\n",
              "  ('early', 1),\n",
              "  ('employee', 1),\n",
              "  ('home', 1),\n",
              "  ('lie', 1),\n",
              "  ('source', 1),\n",
              "  ('tell', 1)]]"
            ]
          },
          "metadata": {
            "tags": []
          },
          "execution_count": 17
        }
      ]
    },
    {
      "cell_type": "code",
      "metadata": {
        "id": "y0tUNprKhqV8"
      },
      "source": [
        "# Build LDA model\n",
        "lda_model = gensim.models.ldamodel.LdaModel(corpus=corpus,\n",
        "                                           id2word=id2word,\n",
        "                                           num_topics=37, \n",
        "                                           random_state=100,\n",
        "                                           update_every=1,\n",
        "                                           chunksize=100,\n",
        "                                           passes=10,\n",
        "                                           alpha='auto',\n",
        "                                           per_word_topics=True)"
      ],
      "execution_count": null,
      "outputs": []
    },
    {
      "cell_type": "code",
      "metadata": {
        "id": "oZaTsvHehsyL"
      },
      "source": [
        "pprint(lda_model.print_topics())\n",
        "doc_lda = lda_model[corpus]"
      ],
      "execution_count": null,
      "outputs": []
    },
    {
      "cell_type": "code",
      "metadata": {
        "id": "-N1wxavSjPo2"
      },
      "source": [
        "coherence = []\n",
        "perplexity = []\n",
        "for k in range(5,75):\n",
        "  print('Round: '+str(k))\n",
        "  lda_model = gensim.models.ldamodel.LdaModel(corpus=corpus,\n",
        "                                           id2word=id2word,\n",
        "                                           num_topics=k, \n",
        "                                           chunksize=10000,\n",
        "                                           passes=10,\n",
        "                                           iterations=200,\n",
        "                                          eval_every = None) \n",
        "  coherence_model_lda = CoherenceModel(model=lda_model, texts=data_lemmatized, dictionary=id2word, coherence='c_v')                                              \n",
        "  coherence.append([k,coherence_model_lda.get_coherence()])\n",
        "  doc_lda = lda_model[corpus]\n",
        "  perplexity.append(lda_model.log_perplexity(corpus))"
      ],
      "execution_count": null,
      "outputs": []
    },
    {
      "cell_type": "code",
      "metadata": {
        "colab": {
          "base_uri": "https://localhost:8080/"
        },
        "id": "pacvDzwxH_Rp",
        "outputId": "bf88f505-2207-41a3-e5ee-4678ff6e4d57"
      },
      "source": [
        "print(coherence)\n",
        "print(perplexity)"
      ],
      "execution_count": null,
      "outputs": [
        {
          "output_type": "stream",
          "text": [
            "[[5, 0.34987340537719935], [6, 0.3140970390893331], [7, 0.30507482771884853], [8, 0.3335139438150748], [9, 0.34754868298642067], [10, 0.37886358959704936], [11, 0.34323949101170054], [12, 0.3586346535462459], [13, 0.3624084517384147], [14, 0.3563272054975001], [15, 0.3664047568169619], [16, 0.34771817288818574], [17, 0.3653916947241706], [18, 0.33826525306672445], [19, 0.37896852942726433], [20, 0.3829741843081077], [21, 0.38978701689730016], [22, 0.36480234767479036], [23, 0.3772903441634384], [24, 0.3764081043428564], [25, 0.38988774409395477], [26, 0.39002701290529623], [27, 0.4000362447810887], [28, 0.3899791856721394], [29, 0.38197406770859443], [30, 0.38473864482978926], [31, 0.4023445432567965], [32, 0.4051956589600385], [33, 0.41796591751033346], [34, 0.41555616084557867], [35, 0.41512456899761196], [36, 0.41929056175156576], [37, 0.4038544424946787], [38, 0.4327979527706474], [39, 0.44497599016415573], [40, 0.43754315445588643], [41, 0.42691854513963845], [42, 0.44085876813972485], [43, 0.43555310255486557], [44, 0.4498554177758385], [45, 0.4638711970747666], [46, 0.4405874145702588], [47, 0.45406061858041163], [48, 0.4656852286886976], [49, 0.4604355997518816], [50, 0.4708757797271297], [51, 0.47995834625623074], [52, 0.457274598542688], [53, 0.47237274426422676], [54, 0.48226689652611593], [55, 0.467277076365499], [56, 0.4819006908516826], [57, 0.4836059574950841], [58, 0.482505314185389], [59, 0.4954992298626919], [60, 0.4888082982217146], [61, 0.4777191561412668], [62, 0.48452416453012], [63, 0.4982655045422759], [64, 0.48226319236366544], [65, 0.49470036772778353], [66, 0.4972695979641516], [67, 0.49014414059778905], [68, 0.5059252662306554], [69, 0.4949222883272663], [70, 0.49351305640601545], [71, 0.5114129417629266], [72, 0.5120495968139372], [73, 0.49532886925619707], [74, 0.5121000914698441], [75, 0.48427740540119135], [76, 0.5138472028442761]]\n",
            "[-6.43867381447491, -6.451023121263044, -6.3913717918318875, -6.481421776808046, -6.522799294226688, -6.6465101926495995, -6.729943668552965, -6.896915603511536, -7.075321853092929, -7.282004458388499, -7.444000594130026, -7.600965082837341, -8.089863111879227, -8.3714037202066, -8.595771752144374, -8.870719685741815, -9.462294053521719, -9.588173372163709, -9.742970387796511, -9.874513617856332, -10.011052992931134, -10.111876046356718, -10.315209941849112, -10.405750673869706, -10.494962951640654, -10.656659520995424, -10.870557005210529, -11.05383232918221, -11.07231617972216, -11.302926141270692, -11.426405890519987, -11.579368783115374, -11.652321439042806, -11.82775609990419, -12.000704159279149, -12.147439072658216, -12.243337793577291, -12.46230798137631, -12.539912887450454, -12.698625336901106, -12.887403791836183, -12.980301316841253, -13.088875787777004, -13.228886505316058, -13.450672368505057, -13.650022559591251, -13.852006947303508, -13.857559996715592, -14.014005516567702, -14.258066586325356, -14.284216903020134, -14.493383489889098, -14.635708236416649, -14.750698030238285, -14.944608952356589, -15.035540436607956, -15.21307162666375, -15.35179901621145, -15.464934830769623, -15.685977078203587, -15.842432575710609, -15.905735418050343, -16.033464846604403, -16.362319013314515, -16.399496069369302, -16.601157919452337, -16.765194519164922, -16.892636839882265, -17.02393891852705, -17.301782340639782, -17.314452788886445, -17.63734495530888]\n"
          ],
          "name": "stdout"
        }
      ]
    },
    {
      "cell_type": "code",
      "metadata": {
        "colab": {
          "base_uri": "https://localhost:8080/",
          "height": 406
        },
        "id": "D6TDQl-SIF74",
        "outputId": "7ae6f6f6-cff3-49e7-b021-8ef7b4525572"
      },
      "source": [
        "column_names = [\"num topics\",\"Coherence\"]\n",
        "df = pd.DataFrame(coherence, columns=column_names)\n",
        "df['perplexity'] = perplexity\n",
        "df"
      ],
      "execution_count": null,
      "outputs": [
        {
          "output_type": "execute_result",
          "data": {
            "text/html": [
              "<div>\n",
              "<style scoped>\n",
              "    .dataframe tbody tr th:only-of-type {\n",
              "        vertical-align: middle;\n",
              "    }\n",
              "\n",
              "    .dataframe tbody tr th {\n",
              "        vertical-align: top;\n",
              "    }\n",
              "\n",
              "    .dataframe thead th {\n",
              "        text-align: right;\n",
              "    }\n",
              "</style>\n",
              "<table border=\"1\" class=\"dataframe\">\n",
              "  <thead>\n",
              "    <tr style=\"text-align: right;\">\n",
              "      <th></th>\n",
              "      <th>num topics</th>\n",
              "      <th>Coherence</th>\n",
              "      <th>perplexity</th>\n",
              "    </tr>\n",
              "  </thead>\n",
              "  <tbody>\n",
              "    <tr>\n",
              "      <th>0</th>\n",
              "      <td>5</td>\n",
              "      <td>0.349873</td>\n",
              "      <td>-6.438674</td>\n",
              "    </tr>\n",
              "    <tr>\n",
              "      <th>1</th>\n",
              "      <td>6</td>\n",
              "      <td>0.314097</td>\n",
              "      <td>-6.451023</td>\n",
              "    </tr>\n",
              "    <tr>\n",
              "      <th>2</th>\n",
              "      <td>7</td>\n",
              "      <td>0.305075</td>\n",
              "      <td>-6.391372</td>\n",
              "    </tr>\n",
              "    <tr>\n",
              "      <th>3</th>\n",
              "      <td>8</td>\n",
              "      <td>0.333514</td>\n",
              "      <td>-6.481422</td>\n",
              "    </tr>\n",
              "    <tr>\n",
              "      <th>4</th>\n",
              "      <td>9</td>\n",
              "      <td>0.347549</td>\n",
              "      <td>-6.522799</td>\n",
              "    </tr>\n",
              "    <tr>\n",
              "      <th>...</th>\n",
              "      <td>...</td>\n",
              "      <td>...</td>\n",
              "      <td>...</td>\n",
              "    </tr>\n",
              "    <tr>\n",
              "      <th>67</th>\n",
              "      <td>72</td>\n",
              "      <td>0.512050</td>\n",
              "      <td>-16.892637</td>\n",
              "    </tr>\n",
              "    <tr>\n",
              "      <th>68</th>\n",
              "      <td>73</td>\n",
              "      <td>0.495329</td>\n",
              "      <td>-17.023939</td>\n",
              "    </tr>\n",
              "    <tr>\n",
              "      <th>69</th>\n",
              "      <td>74</td>\n",
              "      <td>0.512100</td>\n",
              "      <td>-17.301782</td>\n",
              "    </tr>\n",
              "    <tr>\n",
              "      <th>70</th>\n",
              "      <td>75</td>\n",
              "      <td>0.484277</td>\n",
              "      <td>-17.314453</td>\n",
              "    </tr>\n",
              "    <tr>\n",
              "      <th>71</th>\n",
              "      <td>76</td>\n",
              "      <td>0.513847</td>\n",
              "      <td>-17.637345</td>\n",
              "    </tr>\n",
              "  </tbody>\n",
              "</table>\n",
              "<p>72 rows × 3 columns</p>\n",
              "</div>"
            ],
            "text/plain": [
              "    num topics  Coherence  perplexity\n",
              "0            5   0.349873   -6.438674\n",
              "1            6   0.314097   -6.451023\n",
              "2            7   0.305075   -6.391372\n",
              "3            8   0.333514   -6.481422\n",
              "4            9   0.347549   -6.522799\n",
              "..         ...        ...         ...\n",
              "67          72   0.512050  -16.892637\n",
              "68          73   0.495329  -17.023939\n",
              "69          74   0.512100  -17.301782\n",
              "70          75   0.484277  -17.314453\n",
              "71          76   0.513847  -17.637345\n",
              "\n",
              "[72 rows x 3 columns]"
            ]
          },
          "metadata": {
            "tags": []
          },
          "execution_count": 22
        }
      ]
    },
    {
      "cell_type": "code",
      "metadata": {
        "colab": {
          "base_uri": "https://localhost:8080/",
          "height": 542
        },
        "id": "khjVRBP2IKrX",
        "outputId": "e2483177-62be-4485-ceea-0634a47885cf"
      },
      "source": [
        "import plotly.graph_objects as go\n",
        "from plotly.subplots import make_subplots\n",
        "\n",
        "# Create figure with secondary y-axis\n",
        "fig = make_subplots(specs=[[{\"secondary_y\": True}]])\n",
        "\n",
        "# Add traces\n",
        "fig.add_trace(\n",
        "    go.Scatter(x=df['num topics'], y=df['Coherence'], name=\"coherence\"),\n",
        "    secondary_y=False,\n",
        ")\n",
        "\n",
        "fig.add_trace(\n",
        "    go.Scatter(x=df['num topics'], y=df['perplexity'], name=\"perplexity\"),\n",
        "    secondary_y=True,\n",
        ")\n",
        "\n",
        "# Add figure title\n",
        "fig.update_layout(\n",
        "    title_text=\"Coherence and preplexity\"\n",
        ")\n",
        "\n",
        "# Set x-axis title\n",
        "fig.update_xaxes(title_text=\"Num topics\")\n",
        "\n",
        "# Set y-axes titles\n",
        "fig.update_yaxes(title_text=\"Coherence\", secondary_y=False)\n",
        "fig.update_yaxes(title_text=\"Perplexity\", secondary_y=True)\n",
        "\n",
        "fig.show()"
      ],
      "execution_count": null,
      "outputs": [
        {
          "output_type": "display_data",
          "data": {
            "text/html": [
              "<html>\n",
              "<head><meta charset=\"utf-8\" /></head>\n",
              "<body>\n",
              "    <div>\n",
              "            <script src=\"https://cdnjs.cloudflare.com/ajax/libs/mathjax/2.7.5/MathJax.js?config=TeX-AMS-MML_SVG\"></script><script type=\"text/javascript\">if (window.MathJax) {MathJax.Hub.Config({SVG: {font: \"STIX-Web\"}});}</script>\n",
              "                <script type=\"text/javascript\">window.PlotlyConfig = {MathJaxConfig: 'local'};</script>\n",
              "        <script src=\"https://cdn.plot.ly/plotly-latest.min.js\"></script>    \n",
              "            <div id=\"630755aa-0957-4644-b7cb-d385ce3f9809\" class=\"plotly-graph-div\" style=\"height:525px; width:100%;\"></div>\n",
              "            <script type=\"text/javascript\">\n",
              "                \n",
              "                    window.PLOTLYENV=window.PLOTLYENV || {};\n",
              "                    \n",
              "                if (document.getElementById(\"630755aa-0957-4644-b7cb-d385ce3f9809\")) {\n",
              "                    Plotly.newPlot(\n",
              "                        '630755aa-0957-4644-b7cb-d385ce3f9809',\n",
              "                        [{\"name\": \"coherence\", \"type\": \"scatter\", \"x\": [5, 6, 7, 8, 9, 10, 11, 12, 13, 14, 15, 16, 17, 18, 19, 20, 21, 22, 23, 24, 25, 26, 27, 28, 29, 30, 31, 32, 33, 34, 35, 36, 37, 38, 39, 40, 41, 42, 43, 44, 45, 46, 47, 48, 49, 50, 51, 52, 53, 54, 55, 56, 57, 58, 59, 60, 61, 62, 63, 64, 65, 66, 67, 68, 69, 70, 71, 72, 73, 74, 75, 76], \"xaxis\": \"x\", \"y\": [0.34987340537719935, 0.3140970390893331, 0.30507482771884853, 0.3335139438150748, 0.34754868298642067, 0.37886358959704936, 0.34323949101170054, 0.3586346535462459, 0.3624084517384147, 0.3563272054975001, 0.3664047568169619, 0.34771817288818574, 0.3653916947241706, 0.33826525306672445, 0.37896852942726433, 0.3829741843081077, 0.38978701689730016, 0.36480234767479036, 0.3772903441634384, 0.3764081043428564, 0.38988774409395477, 0.39002701290529623, 0.4000362447810887, 0.3899791856721394, 0.38197406770859443, 0.38473864482978926, 0.4023445432567965, 0.4051956589600385, 0.41796591751033346, 0.41555616084557867, 0.41512456899761196, 0.41929056175156576, 0.4038544424946787, 0.4327979527706474, 0.44497599016415573, 0.43754315445588643, 0.42691854513963845, 0.44085876813972485, 0.43555310255486557, 0.4498554177758385, 0.4638711970747666, 0.4405874145702588, 0.45406061858041163, 0.4656852286886976, 0.4604355997518816, 0.4708757797271297, 0.47995834625623074, 0.457274598542688, 0.47237274426422676, 0.48226689652611593, 0.467277076365499, 0.4819006908516826, 0.4836059574950841, 0.482505314185389, 0.4954992298626919, 0.4888082982217146, 0.4777191561412668, 0.48452416453012, 0.4982655045422759, 0.48226319236366544, 0.49470036772778353, 0.4972695979641516, 0.49014414059778905, 0.5059252662306554, 0.4949222883272663, 0.49351305640601545, 0.5114129417629266, 0.5120495968139372, 0.49532886925619707, 0.5121000914698441, 0.48427740540119135, 0.5138472028442761], \"yaxis\": \"y\"}, {\"name\": \"perplexity\", \"type\": \"scatter\", \"x\": [5, 6, 7, 8, 9, 10, 11, 12, 13, 14, 15, 16, 17, 18, 19, 20, 21, 22, 23, 24, 25, 26, 27, 28, 29, 30, 31, 32, 33, 34, 35, 36, 37, 38, 39, 40, 41, 42, 43, 44, 45, 46, 47, 48, 49, 50, 51, 52, 53, 54, 55, 56, 57, 58, 59, 60, 61, 62, 63, 64, 65, 66, 67, 68, 69, 70, 71, 72, 73, 74, 75, 76], \"xaxis\": \"x\", \"y\": [-6.43867381447491, -6.451023121263044, -6.3913717918318875, -6.481421776808046, -6.522799294226688, -6.6465101926495995, -6.729943668552965, -6.896915603511536, -7.075321853092929, -7.282004458388499, -7.444000594130026, -7.600965082837341, -8.089863111879227, -8.3714037202066, -8.595771752144374, -8.870719685741815, -9.462294053521719, -9.588173372163709, -9.742970387796511, -9.874513617856332, -10.011052992931134, -10.111876046356718, -10.315209941849112, -10.405750673869706, -10.494962951640654, -10.656659520995424, -10.870557005210529, -11.05383232918221, -11.07231617972216, -11.302926141270692, -11.426405890519987, -11.579368783115374, -11.652321439042806, -11.82775609990419, -12.000704159279149, -12.147439072658216, -12.243337793577291, -12.46230798137631, -12.539912887450454, -12.698625336901106, -12.887403791836183, -12.980301316841253, -13.088875787777004, -13.228886505316058, -13.450672368505057, -13.650022559591251, -13.852006947303508, -13.857559996715592, -14.014005516567702, -14.258066586325356, -14.284216903020134, -14.493383489889098, -14.635708236416649, -14.750698030238285, -14.944608952356589, -15.035540436607956, -15.21307162666375, -15.35179901621145, -15.464934830769623, -15.685977078203587, -15.842432575710609, -15.905735418050343, -16.033464846604403, -16.362319013314515, -16.399496069369302, -16.601157919452337, -16.765194519164922, -16.892636839882265, -17.02393891852705, -17.301782340639782, -17.314452788886445, -17.63734495530888], \"yaxis\": \"y2\"}],\n",
              "                        {\"template\": {\"data\": {\"bar\": [{\"error_x\": {\"color\": \"#2a3f5f\"}, \"error_y\": {\"color\": \"#2a3f5f\"}, \"marker\": {\"line\": {\"color\": \"#E5ECF6\", \"width\": 0.5}}, \"type\": \"bar\"}], \"barpolar\": [{\"marker\": {\"line\": {\"color\": \"#E5ECF6\", \"width\": 0.5}}, \"type\": \"barpolar\"}], \"carpet\": [{\"aaxis\": {\"endlinecolor\": \"#2a3f5f\", \"gridcolor\": \"white\", \"linecolor\": \"white\", \"minorgridcolor\": \"white\", \"startlinecolor\": \"#2a3f5f\"}, \"baxis\": {\"endlinecolor\": \"#2a3f5f\", \"gridcolor\": \"white\", \"linecolor\": \"white\", \"minorgridcolor\": \"white\", \"startlinecolor\": \"#2a3f5f\"}, \"type\": \"carpet\"}], \"choropleth\": [{\"colorbar\": {\"outlinewidth\": 0, \"ticks\": \"\"}, \"type\": \"choropleth\"}], \"contour\": [{\"colorbar\": {\"outlinewidth\": 0, \"ticks\": \"\"}, \"colorscale\": [[0.0, \"#0d0887\"], [0.1111111111111111, \"#46039f\"], [0.2222222222222222, \"#7201a8\"], [0.3333333333333333, \"#9c179e\"], [0.4444444444444444, \"#bd3786\"], [0.5555555555555556, \"#d8576b\"], [0.6666666666666666, \"#ed7953\"], [0.7777777777777778, \"#fb9f3a\"], [0.8888888888888888, \"#fdca26\"], [1.0, \"#f0f921\"]], \"type\": \"contour\"}], \"contourcarpet\": [{\"colorbar\": {\"outlinewidth\": 0, \"ticks\": \"\"}, \"type\": \"contourcarpet\"}], \"heatmap\": [{\"colorbar\": {\"outlinewidth\": 0, \"ticks\": \"\"}, \"colorscale\": [[0.0, \"#0d0887\"], [0.1111111111111111, \"#46039f\"], [0.2222222222222222, \"#7201a8\"], [0.3333333333333333, \"#9c179e\"], [0.4444444444444444, \"#bd3786\"], [0.5555555555555556, \"#d8576b\"], [0.6666666666666666, \"#ed7953\"], [0.7777777777777778, \"#fb9f3a\"], [0.8888888888888888, \"#fdca26\"], [1.0, \"#f0f921\"]], \"type\": \"heatmap\"}], \"heatmapgl\": [{\"colorbar\": {\"outlinewidth\": 0, \"ticks\": \"\"}, \"colorscale\": [[0.0, \"#0d0887\"], [0.1111111111111111, \"#46039f\"], [0.2222222222222222, \"#7201a8\"], [0.3333333333333333, \"#9c179e\"], [0.4444444444444444, \"#bd3786\"], [0.5555555555555556, \"#d8576b\"], [0.6666666666666666, \"#ed7953\"], [0.7777777777777778, \"#fb9f3a\"], [0.8888888888888888, \"#fdca26\"], [1.0, \"#f0f921\"]], \"type\": \"heatmapgl\"}], \"histogram\": [{\"marker\": {\"colorbar\": {\"outlinewidth\": 0, \"ticks\": \"\"}}, \"type\": \"histogram\"}], \"histogram2d\": [{\"colorbar\": {\"outlinewidth\": 0, \"ticks\": \"\"}, \"colorscale\": [[0.0, \"#0d0887\"], [0.1111111111111111, \"#46039f\"], [0.2222222222222222, \"#7201a8\"], [0.3333333333333333, \"#9c179e\"], [0.4444444444444444, \"#bd3786\"], [0.5555555555555556, \"#d8576b\"], [0.6666666666666666, \"#ed7953\"], [0.7777777777777778, \"#fb9f3a\"], [0.8888888888888888, \"#fdca26\"], [1.0, \"#f0f921\"]], \"type\": \"histogram2d\"}], \"histogram2dcontour\": [{\"colorbar\": {\"outlinewidth\": 0, \"ticks\": \"\"}, \"colorscale\": [[0.0, \"#0d0887\"], [0.1111111111111111, \"#46039f\"], [0.2222222222222222, \"#7201a8\"], [0.3333333333333333, \"#9c179e\"], [0.4444444444444444, \"#bd3786\"], [0.5555555555555556, \"#d8576b\"], [0.6666666666666666, \"#ed7953\"], [0.7777777777777778, \"#fb9f3a\"], [0.8888888888888888, \"#fdca26\"], [1.0, \"#f0f921\"]], \"type\": \"histogram2dcontour\"}], \"mesh3d\": [{\"colorbar\": {\"outlinewidth\": 0, \"ticks\": \"\"}, \"type\": \"mesh3d\"}], \"parcoords\": [{\"line\": {\"colorbar\": {\"outlinewidth\": 0, \"ticks\": \"\"}}, \"type\": \"parcoords\"}], \"pie\": [{\"automargin\": true, \"type\": \"pie\"}], \"scatter\": [{\"marker\": {\"colorbar\": {\"outlinewidth\": 0, \"ticks\": \"\"}}, \"type\": \"scatter\"}], \"scatter3d\": [{\"line\": {\"colorbar\": {\"outlinewidth\": 0, \"ticks\": \"\"}}, \"marker\": {\"colorbar\": {\"outlinewidth\": 0, \"ticks\": \"\"}}, \"type\": \"scatter3d\"}], \"scattercarpet\": [{\"marker\": {\"colorbar\": {\"outlinewidth\": 0, \"ticks\": \"\"}}, \"type\": \"scattercarpet\"}], \"scattergeo\": [{\"marker\": {\"colorbar\": {\"outlinewidth\": 0, \"ticks\": \"\"}}, \"type\": \"scattergeo\"}], \"scattergl\": [{\"marker\": {\"colorbar\": {\"outlinewidth\": 0, \"ticks\": \"\"}}, \"type\": \"scattergl\"}], \"scattermapbox\": [{\"marker\": {\"colorbar\": {\"outlinewidth\": 0, \"ticks\": \"\"}}, \"type\": \"scattermapbox\"}], \"scatterpolar\": [{\"marker\": {\"colorbar\": {\"outlinewidth\": 0, \"ticks\": \"\"}}, \"type\": \"scatterpolar\"}], \"scatterpolargl\": [{\"marker\": {\"colorbar\": {\"outlinewidth\": 0, \"ticks\": \"\"}}, \"type\": \"scatterpolargl\"}], \"scatterternary\": [{\"marker\": {\"colorbar\": {\"outlinewidth\": 0, \"ticks\": \"\"}}, \"type\": \"scatterternary\"}], \"surface\": [{\"colorbar\": {\"outlinewidth\": 0, \"ticks\": \"\"}, \"colorscale\": [[0.0, \"#0d0887\"], [0.1111111111111111, \"#46039f\"], [0.2222222222222222, \"#7201a8\"], [0.3333333333333333, \"#9c179e\"], [0.4444444444444444, \"#bd3786\"], [0.5555555555555556, \"#d8576b\"], [0.6666666666666666, \"#ed7953\"], [0.7777777777777778, \"#fb9f3a\"], [0.8888888888888888, \"#fdca26\"], [1.0, \"#f0f921\"]], \"type\": \"surface\"}], \"table\": [{\"cells\": {\"fill\": {\"color\": \"#EBF0F8\"}, \"line\": {\"color\": \"white\"}}, \"header\": {\"fill\": {\"color\": \"#C8D4E3\"}, \"line\": {\"color\": \"white\"}}, \"type\": \"table\"}]}, \"layout\": {\"annotationdefaults\": {\"arrowcolor\": \"#2a3f5f\", \"arrowhead\": 0, \"arrowwidth\": 1}, \"coloraxis\": {\"colorbar\": {\"outlinewidth\": 0, \"ticks\": \"\"}}, \"colorscale\": {\"diverging\": [[0, \"#8e0152\"], [0.1, \"#c51b7d\"], [0.2, \"#de77ae\"], [0.3, \"#f1b6da\"], [0.4, \"#fde0ef\"], [0.5, \"#f7f7f7\"], [0.6, \"#e6f5d0\"], [0.7, \"#b8e186\"], [0.8, \"#7fbc41\"], [0.9, \"#4d9221\"], [1, \"#276419\"]], \"sequential\": [[0.0, \"#0d0887\"], [0.1111111111111111, \"#46039f\"], [0.2222222222222222, \"#7201a8\"], [0.3333333333333333, \"#9c179e\"], [0.4444444444444444, \"#bd3786\"], [0.5555555555555556, \"#d8576b\"], [0.6666666666666666, \"#ed7953\"], [0.7777777777777778, \"#fb9f3a\"], [0.8888888888888888, \"#fdca26\"], [1.0, \"#f0f921\"]], \"sequentialminus\": [[0.0, \"#0d0887\"], [0.1111111111111111, \"#46039f\"], [0.2222222222222222, \"#7201a8\"], [0.3333333333333333, \"#9c179e\"], [0.4444444444444444, \"#bd3786\"], [0.5555555555555556, \"#d8576b\"], [0.6666666666666666, \"#ed7953\"], [0.7777777777777778, \"#fb9f3a\"], [0.8888888888888888, \"#fdca26\"], [1.0, \"#f0f921\"]]}, \"colorway\": [\"#636efa\", \"#EF553B\", \"#00cc96\", \"#ab63fa\", \"#FFA15A\", \"#19d3f3\", \"#FF6692\", \"#B6E880\", \"#FF97FF\", \"#FECB52\"], \"font\": {\"color\": \"#2a3f5f\"}, \"geo\": {\"bgcolor\": \"white\", \"lakecolor\": \"white\", \"landcolor\": \"#E5ECF6\", \"showlakes\": true, \"showland\": true, \"subunitcolor\": \"white\"}, \"hoverlabel\": {\"align\": \"left\"}, \"hovermode\": \"closest\", \"mapbox\": {\"style\": \"light\"}, \"paper_bgcolor\": \"white\", \"plot_bgcolor\": \"#E5ECF6\", \"polar\": {\"angularaxis\": {\"gridcolor\": \"white\", \"linecolor\": \"white\", \"ticks\": \"\"}, \"bgcolor\": \"#E5ECF6\", \"radialaxis\": {\"gridcolor\": \"white\", \"linecolor\": \"white\", \"ticks\": \"\"}}, \"scene\": {\"xaxis\": {\"backgroundcolor\": \"#E5ECF6\", \"gridcolor\": \"white\", \"gridwidth\": 2, \"linecolor\": \"white\", \"showbackground\": true, \"ticks\": \"\", \"zerolinecolor\": \"white\"}, \"yaxis\": {\"backgroundcolor\": \"#E5ECF6\", \"gridcolor\": \"white\", \"gridwidth\": 2, \"linecolor\": \"white\", \"showbackground\": true, \"ticks\": \"\", \"zerolinecolor\": \"white\"}, \"zaxis\": {\"backgroundcolor\": \"#E5ECF6\", \"gridcolor\": \"white\", \"gridwidth\": 2, \"linecolor\": \"white\", \"showbackground\": true, \"ticks\": \"\", \"zerolinecolor\": \"white\"}}, \"shapedefaults\": {\"line\": {\"color\": \"#2a3f5f\"}}, \"ternary\": {\"aaxis\": {\"gridcolor\": \"white\", \"linecolor\": \"white\", \"ticks\": \"\"}, \"baxis\": {\"gridcolor\": \"white\", \"linecolor\": \"white\", \"ticks\": \"\"}, \"bgcolor\": \"#E5ECF6\", \"caxis\": {\"gridcolor\": \"white\", \"linecolor\": \"white\", \"ticks\": \"\"}}, \"title\": {\"x\": 0.05}, \"xaxis\": {\"automargin\": true, \"gridcolor\": \"white\", \"linecolor\": \"white\", \"ticks\": \"\", \"title\": {\"standoff\": 15}, \"zerolinecolor\": \"white\", \"zerolinewidth\": 2}, \"yaxis\": {\"automargin\": true, \"gridcolor\": \"white\", \"linecolor\": \"white\", \"ticks\": \"\", \"title\": {\"standoff\": 15}, \"zerolinecolor\": \"white\", \"zerolinewidth\": 2}}}, \"title\": {\"text\": \"Coherence and preplexity\"}, \"xaxis\": {\"anchor\": \"y\", \"domain\": [0.0, 0.94], \"title\": {\"text\": \"Num topics\"}}, \"yaxis\": {\"anchor\": \"x\", \"domain\": [0.0, 1.0], \"title\": {\"text\": \"Coherence\"}}, \"yaxis2\": {\"anchor\": \"x\", \"overlaying\": \"y\", \"side\": \"right\", \"title\": {\"text\": \"Perplexity\"}}},\n",
              "                        {\"responsive\": true}\n",
              "                    ).then(function(){\n",
              "                            \n",
              "var gd = document.getElementById('630755aa-0957-4644-b7cb-d385ce3f9809');\n",
              "var x = new MutationObserver(function (mutations, observer) {{\n",
              "        var display = window.getComputedStyle(gd).display;\n",
              "        if (!display || display === 'none') {{\n",
              "            console.log([gd, 'removed!']);\n",
              "            Plotly.purge(gd);\n",
              "            observer.disconnect();\n",
              "        }}\n",
              "}});\n",
              "\n",
              "// Listen for the removal of the full notebook cells\n",
              "var notebookContainer = gd.closest('#notebook-container');\n",
              "if (notebookContainer) {{\n",
              "    x.observe(notebookContainer, {childList: true});\n",
              "}}\n",
              "\n",
              "// Listen for the clearing of the current output cell\n",
              "var outputEl = gd.closest('.output');\n",
              "if (outputEl) {{\n",
              "    x.observe(outputEl, {childList: true});\n",
              "}}\n",
              "\n",
              "                        })\n",
              "                };\n",
              "                \n",
              "            </script>\n",
              "        </div>\n",
              "</body>\n",
              "</html>"
            ]
          },
          "metadata": {
            "tags": []
          }
        }
      ]
    },
    {
      "cell_type": "code",
      "metadata": {
        "id": "8ZHOuHbvI6fJ"
      },
      "source": [
        "import pandas as pd\n",
        "df = pd.read_csv(\"2020-3-new.csv\",encoding=\"ISO-8859-1\")\n",
        "header = [\"clean_tweet_text\"]\n",
        "df.to_csv('output.csv', columns = header)"
      ],
      "execution_count": null,
      "outputs": []
    },
    {
      "cell_type": "code",
      "metadata": {
        "colab": {
          "base_uri": "https://localhost:8080/"
        },
        "id": "5_LPfs6JJLLo",
        "outputId": "9caf0d2d-4ac9-4789-f655-6fe393be8692"
      },
      "source": [
        "pip install bertopic"
      ],
      "execution_count": 9,
      "outputs": [
        {
          "output_type": "stream",
          "text": [
            "Collecting bertopic\n",
            "  Downloading https://files.pythonhosted.org/packages/5d/d5/a9f440c43505dcb68dac06132607c8589118a8cb1346bea60bd9abcc8d3d/bertopic-0.6.0-py2.py3-none-any.whl\n",
            "Requirement already satisfied: scikit-learn>=0.22.2.post1 in /usr/local/lib/python3.7/dist-packages (from bertopic) (0.22.2.post1)\n",
            "Requirement already satisfied: tqdm>=4.41.1 in /usr/local/lib/python3.7/dist-packages (from bertopic) (4.41.1)\n",
            "Requirement already satisfied: pandas>=1.1.5 in /usr/local/lib/python3.7/dist-packages (from bertopic) (1.1.5)\n",
            "Collecting umap-learn>=0.5.0\n",
            "\u001b[?25l  Downloading https://files.pythonhosted.org/packages/75/69/85e7f950bb75792ad5d666d86c5f3e62eedbb942848e7e3126513af9999c/umap-learn-0.5.1.tar.gz (80kB)\n",
            "\u001b[K     |████████████████████████████████| 81kB 3.6MB/s \n",
            "\u001b[?25hRequirement already satisfied: torch>=1.4.0 in /usr/local/lib/python3.7/dist-packages (from bertopic) (1.8.1+cu101)\n",
            "Requirement already satisfied: numpy>=1.19.2 in /usr/local/lib/python3.7/dist-packages (from bertopic) (1.19.5)\n",
            "Collecting sentence-transformers>=0.4.1\n",
            "\u001b[?25l  Downloading https://files.pythonhosted.org/packages/35/aa/f672ce489063c4ee7a566ebac1b723c53ac0cea19d9e36599cc241d8ed56/sentence-transformers-1.0.4.tar.gz (74kB)\n",
            "\u001b[K     |████████████████████████████████| 81kB 4.1MB/s \n",
            "\u001b[?25hCollecting hdbscan>=0.8.27\n",
            "\u001b[?25l  Downloading https://files.pythonhosted.org/packages/32/bb/59a75bc5ac66a9b4f9b8f979e4545af0e98bb1ca4e6ae96b3b956b554223/hdbscan-0.8.27.tar.gz (6.4MB)\n",
            "\u001b[K     |████████████████████████████████| 6.4MB 6.9MB/s \n",
            "\u001b[?25h  Installing build dependencies ... \u001b[?25l\u001b[?25hdone\n",
            "  Getting requirements to build wheel ... \u001b[?25l\u001b[?25hdone\n",
            "    Preparing wheel metadata ... \u001b[?25l\u001b[?25hdone\n",
            "Requirement already satisfied: joblib>=0.11 in /usr/local/lib/python3.7/dist-packages (from scikit-learn>=0.22.2.post1->bertopic) (1.0.1)\n",
            "Requirement already satisfied: scipy>=0.17.0 in /usr/local/lib/python3.7/dist-packages (from scikit-learn>=0.22.2.post1->bertopic) (1.4.1)\n",
            "Requirement already satisfied: python-dateutil>=2.7.3 in /usr/local/lib/python3.7/dist-packages (from pandas>=1.1.5->bertopic) (2.8.1)\n",
            "Requirement already satisfied: pytz>=2017.2 in /usr/local/lib/python3.7/dist-packages (from pandas>=1.1.5->bertopic) (2018.9)\n",
            "Requirement already satisfied: numba>=0.49 in /usr/local/lib/python3.7/dist-packages (from umap-learn>=0.5.0->bertopic) (0.51.2)\n",
            "Collecting pynndescent>=0.5\n",
            "\u001b[?25l  Downloading https://files.pythonhosted.org/packages/af/65/8189298dd3a05bbad716ee8e249764ff8800e365d8dc652ad2192ca01b4a/pynndescent-0.5.2.tar.gz (1.1MB)\n",
            "\u001b[K     |████████████████████████████████| 1.2MB 37.1MB/s \n",
            "\u001b[?25hRequirement already satisfied: typing-extensions in /usr/local/lib/python3.7/dist-packages (from torch>=1.4.0->bertopic) (3.7.4.3)\n",
            "Collecting transformers<5.0.0,>=3.1.0\n",
            "\u001b[?25l  Downloading https://files.pythonhosted.org/packages/81/91/61d69d58a1af1bd81d9ca9d62c90a6de3ab80d77f27c5df65d9a2c1f5626/transformers-4.5.0-py3-none-any.whl (2.1MB)\n",
            "\u001b[K     |████████████████████████████████| 2.2MB 43.9MB/s \n",
            "\u001b[?25hRequirement already satisfied: nltk in /usr/local/lib/python3.7/dist-packages (from sentence-transformers>=0.4.1->bertopic) (3.2.5)\n",
            "Collecting sentencepiece\n",
            "\u001b[?25l  Downloading https://files.pythonhosted.org/packages/f5/99/e0808cb947ba10f575839c43e8fafc9cc44e4a7a2c8f79c60db48220a577/sentencepiece-0.1.95-cp37-cp37m-manylinux2014_x86_64.whl (1.2MB)\n",
            "\u001b[K     |████████████████████████████████| 1.2MB 46.9MB/s \n",
            "\u001b[?25hRequirement already satisfied: six in /usr/local/lib/python3.7/dist-packages (from hdbscan>=0.8.27->bertopic) (1.15.0)\n",
            "Requirement already satisfied: cython>=0.27 in /usr/local/lib/python3.7/dist-packages (from hdbscan>=0.8.27->bertopic) (0.29.22)\n",
            "Requirement already satisfied: setuptools in /usr/local/lib/python3.7/dist-packages (from numba>=0.49->umap-learn>=0.5.0->bertopic) (54.2.0)\n",
            "Requirement already satisfied: llvmlite<0.35,>=0.34.0.dev0 in /usr/local/lib/python3.7/dist-packages (from numba>=0.49->umap-learn>=0.5.0->bertopic) (0.34.0)\n",
            "Requirement already satisfied: filelock in /usr/local/lib/python3.7/dist-packages (from transformers<5.0.0,>=3.1.0->sentence-transformers>=0.4.1->bertopic) (3.0.12)\n",
            "Requirement already satisfied: requests in /usr/local/lib/python3.7/dist-packages (from transformers<5.0.0,>=3.1.0->sentence-transformers>=0.4.1->bertopic) (2.23.0)\n",
            "Requirement already satisfied: packaging in /usr/local/lib/python3.7/dist-packages (from transformers<5.0.0,>=3.1.0->sentence-transformers>=0.4.1->bertopic) (20.9)\n",
            "Collecting sacremoses\n",
            "\u001b[?25l  Downloading https://files.pythonhosted.org/packages/08/cd/342e584ee544d044fb573ae697404ce22ede086c9e87ce5960772084cad0/sacremoses-0.0.44.tar.gz (862kB)\n",
            "\u001b[K     |████████████████████████████████| 870kB 32.7MB/s \n",
            "\u001b[?25hCollecting tokenizers<0.11,>=0.10.1\n",
            "\u001b[?25l  Downloading https://files.pythonhosted.org/packages/ae/04/5b870f26a858552025a62f1649c20d29d2672c02ff3c3fb4c688ca46467a/tokenizers-0.10.2-cp37-cp37m-manylinux2010_x86_64.whl (3.3MB)\n",
            "\u001b[K     |████████████████████████████████| 3.3MB 44.8MB/s \n",
            "\u001b[?25hRequirement already satisfied: importlib-metadata; python_version < \"3.8\" in /usr/local/lib/python3.7/dist-packages (from transformers<5.0.0,>=3.1.0->sentence-transformers>=0.4.1->bertopic) (3.8.1)\n",
            "Requirement already satisfied: regex!=2019.12.17 in /usr/local/lib/python3.7/dist-packages (from transformers<5.0.0,>=3.1.0->sentence-transformers>=0.4.1->bertopic) (2019.12.20)\n",
            "Requirement already satisfied: chardet<4,>=3.0.2 in /usr/local/lib/python3.7/dist-packages (from requests->transformers<5.0.0,>=3.1.0->sentence-transformers>=0.4.1->bertopic) (3.0.4)\n",
            "Requirement already satisfied: certifi>=2017.4.17 in /usr/local/lib/python3.7/dist-packages (from requests->transformers<5.0.0,>=3.1.0->sentence-transformers>=0.4.1->bertopic) (2020.12.5)\n",
            "Requirement already satisfied: urllib3!=1.25.0,!=1.25.1,<1.26,>=1.21.1 in /usr/local/lib/python3.7/dist-packages (from requests->transformers<5.0.0,>=3.1.0->sentence-transformers>=0.4.1->bertopic) (1.24.3)\n",
            "Requirement already satisfied: idna<3,>=2.5 in /usr/local/lib/python3.7/dist-packages (from requests->transformers<5.0.0,>=3.1.0->sentence-transformers>=0.4.1->bertopic) (2.10)\n",
            "Requirement already satisfied: pyparsing>=2.0.2 in /usr/local/lib/python3.7/dist-packages (from packaging->transformers<5.0.0,>=3.1.0->sentence-transformers>=0.4.1->bertopic) (2.4.7)\n",
            "Requirement already satisfied: click in /usr/local/lib/python3.7/dist-packages (from sacremoses->transformers<5.0.0,>=3.1.0->sentence-transformers>=0.4.1->bertopic) (7.1.2)\n",
            "Requirement already satisfied: zipp>=0.5 in /usr/local/lib/python3.7/dist-packages (from importlib-metadata; python_version < \"3.8\"->transformers<5.0.0,>=3.1.0->sentence-transformers>=0.4.1->bertopic) (3.4.1)\n",
            "Building wheels for collected packages: hdbscan\n",
            "  Building wheel for hdbscan (PEP 517) ... \u001b[?25l\u001b[?25hdone\n",
            "  Created wheel for hdbscan: filename=hdbscan-0.8.27-cp37-cp37m-linux_x86_64.whl size=2311690 sha256=c55ae25432eadf500fd8fd2dd16a205485c7963a358b28a0517d3dba2c28e426\n",
            "  Stored in directory: /root/.cache/pip/wheels/42/63/fb/314ad6c3b270887a3ecb588b8e5aac50b0fad38ff89bb6dff2\n",
            "Successfully built hdbscan\n",
            "Building wheels for collected packages: umap-learn, sentence-transformers, pynndescent, sacremoses\n",
            "  Building wheel for umap-learn (setup.py) ... \u001b[?25l\u001b[?25hdone\n",
            "  Created wheel for umap-learn: filename=umap_learn-0.5.1-cp37-none-any.whl size=76569 sha256=a8aed46c8716a9148cea40af0b8e4b42884982bded3e4939b768afa99a97c49a\n",
            "  Stored in directory: /root/.cache/pip/wheels/ad/df/d5/a3691296ff779f25cd1cf415a3af954b987fb53111e3392cf4\n",
            "  Building wheel for sentence-transformers (setup.py) ... \u001b[?25l\u001b[?25hdone\n",
            "  Created wheel for sentence-transformers: filename=sentence_transformers-1.0.4-cp37-none-any.whl size=114307 sha256=97111a9ea5b045ef83e73148dc53dffa670c75aca0fe5954197caf56d21d0b29\n",
            "  Stored in directory: /root/.cache/pip/wheels/26/ea/89/d0d2e013d951b6d23270aa9ca4018b82632ab7cd933c331316\n",
            "  Building wheel for pynndescent (setup.py) ... \u001b[?25l\u001b[?25hdone\n",
            "  Created wheel for pynndescent: filename=pynndescent-0.5.2-cp37-none-any.whl size=51351 sha256=6dddbf9213f079143781db074ccfc2d060596a00594f7c9e5ba4e0d3c174ca8d\n",
            "  Stored in directory: /root/.cache/pip/wheels/ba/52/4e/4c28d04d144a28f89e2575fb63628df6e6d49b56c5ddd0c74e\n",
            "  Building wheel for sacremoses (setup.py) ... \u001b[?25l\u001b[?25hdone\n",
            "  Created wheel for sacremoses: filename=sacremoses-0.0.44-cp37-none-any.whl size=886084 sha256=5770d8dc73de3b39e4000cbe51da111d41813bfaf598b0a6845d327785f60255\n",
            "  Stored in directory: /root/.cache/pip/wheels/3e/fb/c0/13ab4d63d537658f448366744654323077c4d90069b6512f3c\n",
            "Successfully built umap-learn sentence-transformers pynndescent sacremoses\n",
            "Installing collected packages: pynndescent, umap-learn, sacremoses, tokenizers, transformers, sentencepiece, sentence-transformers, hdbscan, bertopic\n",
            "Successfully installed bertopic-0.6.0 hdbscan-0.8.27 pynndescent-0.5.2 sacremoses-0.0.44 sentence-transformers-1.0.4 sentencepiece-0.1.95 tokenizers-0.10.2 transformers-4.5.0 umap-learn-0.5.1\n"
          ],
          "name": "stdout"
        }
      ]
    },
    {
      "cell_type": "code",
      "metadata": {
        "colab": {
          "base_uri": "https://localhost:8080/"
        },
        "id": "XO8MILZaJNwd",
        "outputId": "7092a412-ea1b-4eae-aabc-7a83f5c9efa2"
      },
      "source": [
        "pip install bertopic[visualization]"
      ],
      "execution_count": 10,
      "outputs": [
        {
          "output_type": "stream",
          "text": [
            "Requirement already satisfied: bertopic[visualization] in /usr/local/lib/python3.7/dist-packages (0.6.0)\n",
            "Requirement already satisfied: numpy>=1.19.2 in /usr/local/lib/python3.7/dist-packages (from bertopic[visualization]) (1.19.5)\n",
            "Requirement already satisfied: scikit-learn>=0.22.2.post1 in /usr/local/lib/python3.7/dist-packages (from bertopic[visualization]) (0.22.2.post1)\n",
            "Requirement already satisfied: pandas>=1.1.5 in /usr/local/lib/python3.7/dist-packages (from bertopic[visualization]) (1.1.5)\n",
            "Requirement already satisfied: umap-learn>=0.5.0 in /usr/local/lib/python3.7/dist-packages (from bertopic[visualization]) (0.5.1)\n",
            "Requirement already satisfied: torch>=1.4.0 in /usr/local/lib/python3.7/dist-packages (from bertopic[visualization]) (1.8.1+cu101)\n",
            "Requirement already satisfied: hdbscan>=0.8.27 in /usr/local/lib/python3.7/dist-packages (from bertopic[visualization]) (0.8.27)\n",
            "Requirement already satisfied: sentence-transformers>=0.4.1 in /usr/local/lib/python3.7/dist-packages (from bertopic[visualization]) (1.0.4)\n",
            "Requirement already satisfied: tqdm>=4.41.1 in /usr/local/lib/python3.7/dist-packages (from bertopic[visualization]) (4.41.1)\n",
            "Collecting plotly<4.14.3,>=4.7.0; extra == \"visualization\"\n",
            "\u001b[?25l  Downloading https://files.pythonhosted.org/packages/9d/2e/69579c3db25fa4f85d70a10f8a98d52c2b4a0dcbd153e8f17f425761bef4/plotly-4.14.2-py2.py3-none-any.whl (13.2MB)\n",
            "\u001b[K     |████████████████████████████████| 13.2MB 328kB/s \n",
            "\u001b[?25hRequirement already satisfied: matplotlib>=3.2.2; extra == \"visualization\" in /usr/local/lib/python3.7/dist-packages (from bertopic[visualization]) (3.2.2)\n",
            "Requirement already satisfied: joblib>=0.11 in /usr/local/lib/python3.7/dist-packages (from scikit-learn>=0.22.2.post1->bertopic[visualization]) (1.0.1)\n",
            "Requirement already satisfied: scipy>=0.17.0 in /usr/local/lib/python3.7/dist-packages (from scikit-learn>=0.22.2.post1->bertopic[visualization]) (1.4.1)\n",
            "Requirement already satisfied: pytz>=2017.2 in /usr/local/lib/python3.7/dist-packages (from pandas>=1.1.5->bertopic[visualization]) (2018.9)\n",
            "Requirement already satisfied: python-dateutil>=2.7.3 in /usr/local/lib/python3.7/dist-packages (from pandas>=1.1.5->bertopic[visualization]) (2.8.1)\n",
            "Requirement already satisfied: numba>=0.49 in /usr/local/lib/python3.7/dist-packages (from umap-learn>=0.5.0->bertopic[visualization]) (0.51.2)\n",
            "Requirement already satisfied: pynndescent>=0.5 in /usr/local/lib/python3.7/dist-packages (from umap-learn>=0.5.0->bertopic[visualization]) (0.5.2)\n",
            "Requirement already satisfied: typing-extensions in /usr/local/lib/python3.7/dist-packages (from torch>=1.4.0->bertopic[visualization]) (3.7.4.3)\n",
            "Requirement already satisfied: cython>=0.27 in /usr/local/lib/python3.7/dist-packages (from hdbscan>=0.8.27->bertopic[visualization]) (0.29.22)\n",
            "Requirement already satisfied: six in /usr/local/lib/python3.7/dist-packages (from hdbscan>=0.8.27->bertopic[visualization]) (1.15.0)\n",
            "Requirement already satisfied: nltk in /usr/local/lib/python3.7/dist-packages (from sentence-transformers>=0.4.1->bertopic[visualization]) (3.2.5)\n",
            "Requirement already satisfied: transformers<5.0.0,>=3.1.0 in /usr/local/lib/python3.7/dist-packages (from sentence-transformers>=0.4.1->bertopic[visualization]) (4.5.0)\n",
            "Requirement already satisfied: sentencepiece in /usr/local/lib/python3.7/dist-packages (from sentence-transformers>=0.4.1->bertopic[visualization]) (0.1.95)\n",
            "Requirement already satisfied: retrying>=1.3.3 in /usr/local/lib/python3.7/dist-packages (from plotly<4.14.3,>=4.7.0; extra == \"visualization\"->bertopic[visualization]) (1.3.3)\n",
            "Requirement already satisfied: pyparsing!=2.0.4,!=2.1.2,!=2.1.6,>=2.0.1 in /usr/local/lib/python3.7/dist-packages (from matplotlib>=3.2.2; extra == \"visualization\"->bertopic[visualization]) (2.4.7)\n",
            "Requirement already satisfied: kiwisolver>=1.0.1 in /usr/local/lib/python3.7/dist-packages (from matplotlib>=3.2.2; extra == \"visualization\"->bertopic[visualization]) (1.3.1)\n",
            "Requirement already satisfied: cycler>=0.10 in /usr/local/lib/python3.7/dist-packages (from matplotlib>=3.2.2; extra == \"visualization\"->bertopic[visualization]) (0.10.0)\n",
            "Requirement already satisfied: llvmlite<0.35,>=0.34.0.dev0 in /usr/local/lib/python3.7/dist-packages (from numba>=0.49->umap-learn>=0.5.0->bertopic[visualization]) (0.34.0)\n",
            "Requirement already satisfied: setuptools in /usr/local/lib/python3.7/dist-packages (from numba>=0.49->umap-learn>=0.5.0->bertopic[visualization]) (54.2.0)\n",
            "Requirement already satisfied: importlib-metadata; python_version < \"3.8\" in /usr/local/lib/python3.7/dist-packages (from transformers<5.0.0,>=3.1.0->sentence-transformers>=0.4.1->bertopic[visualization]) (3.8.1)\n",
            "Requirement already satisfied: sacremoses in /usr/local/lib/python3.7/dist-packages (from transformers<5.0.0,>=3.1.0->sentence-transformers>=0.4.1->bertopic[visualization]) (0.0.44)\n",
            "Requirement already satisfied: filelock in /usr/local/lib/python3.7/dist-packages (from transformers<5.0.0,>=3.1.0->sentence-transformers>=0.4.1->bertopic[visualization]) (3.0.12)\n",
            "Requirement already satisfied: regex!=2019.12.17 in /usr/local/lib/python3.7/dist-packages (from transformers<5.0.0,>=3.1.0->sentence-transformers>=0.4.1->bertopic[visualization]) (2019.12.20)\n",
            "Requirement already satisfied: packaging in /usr/local/lib/python3.7/dist-packages (from transformers<5.0.0,>=3.1.0->sentence-transformers>=0.4.1->bertopic[visualization]) (20.9)\n",
            "Requirement already satisfied: requests in /usr/local/lib/python3.7/dist-packages (from transformers<5.0.0,>=3.1.0->sentence-transformers>=0.4.1->bertopic[visualization]) (2.23.0)\n",
            "Requirement already satisfied: tokenizers<0.11,>=0.10.1 in /usr/local/lib/python3.7/dist-packages (from transformers<5.0.0,>=3.1.0->sentence-transformers>=0.4.1->bertopic[visualization]) (0.10.2)\n",
            "Requirement already satisfied: zipp>=0.5 in /usr/local/lib/python3.7/dist-packages (from importlib-metadata; python_version < \"3.8\"->transformers<5.0.0,>=3.1.0->sentence-transformers>=0.4.1->bertopic[visualization]) (3.4.1)\n",
            "Requirement already satisfied: click in /usr/local/lib/python3.7/dist-packages (from sacremoses->transformers<5.0.0,>=3.1.0->sentence-transformers>=0.4.1->bertopic[visualization]) (7.1.2)\n",
            "Requirement already satisfied: certifi>=2017.4.17 in /usr/local/lib/python3.7/dist-packages (from requests->transformers<5.0.0,>=3.1.0->sentence-transformers>=0.4.1->bertopic[visualization]) (2020.12.5)\n",
            "Requirement already satisfied: urllib3!=1.25.0,!=1.25.1,<1.26,>=1.21.1 in /usr/local/lib/python3.7/dist-packages (from requests->transformers<5.0.0,>=3.1.0->sentence-transformers>=0.4.1->bertopic[visualization]) (1.24.3)\n",
            "Requirement already satisfied: idna<3,>=2.5 in /usr/local/lib/python3.7/dist-packages (from requests->transformers<5.0.0,>=3.1.0->sentence-transformers>=0.4.1->bertopic[visualization]) (2.10)\n",
            "Requirement already satisfied: chardet<4,>=3.0.2 in /usr/local/lib/python3.7/dist-packages (from requests->transformers<5.0.0,>=3.1.0->sentence-transformers>=0.4.1->bertopic[visualization]) (3.0.4)\n",
            "Installing collected packages: plotly\n",
            "  Found existing installation: plotly 4.4.1\n",
            "    Uninstalling plotly-4.4.1:\n",
            "      Successfully uninstalled plotly-4.4.1\n",
            "Successfully installed plotly-4.14.2\n"
          ],
          "name": "stdout"
        }
      ]
    },
    {
      "cell_type": "code",
      "metadata": {
        "colab": {
          "base_uri": "https://localhost:8080/"
        },
        "id": "mwT7bI6PJoTK",
        "outputId": "02d60cc0-0e1c-4483-eaa9-e6bfd2655a90"
      },
      "source": [
        "pip install bertopic[flair]"
      ],
      "execution_count": 11,
      "outputs": [
        {
          "output_type": "stream",
          "text": [
            "Requirement already satisfied: bertopic[flair] in /usr/local/lib/python3.7/dist-packages (0.6.0)\n",
            "Requirement already satisfied: tqdm>=4.41.1 in /usr/local/lib/python3.7/dist-packages (from bertopic[flair]) (4.41.1)\n",
            "Requirement already satisfied: scikit-learn>=0.22.2.post1 in /usr/local/lib/python3.7/dist-packages (from bertopic[flair]) (0.22.2.post1)\n",
            "Requirement already satisfied: pandas>=1.1.5 in /usr/local/lib/python3.7/dist-packages (from bertopic[flair]) (1.1.5)\n",
            "Requirement already satisfied: torch>=1.4.0 in /usr/local/lib/python3.7/dist-packages (from bertopic[flair]) (1.8.1+cu101)\n",
            "Requirement already satisfied: sentence-transformers>=0.4.1 in /usr/local/lib/python3.7/dist-packages (from bertopic[flair]) (1.0.4)\n",
            "Requirement already satisfied: umap-learn>=0.5.0 in /usr/local/lib/python3.7/dist-packages (from bertopic[flair]) (0.5.1)\n",
            "Requirement already satisfied: numpy>=1.19.2 in /usr/local/lib/python3.7/dist-packages (from bertopic[flair]) (1.19.5)\n",
            "Requirement already satisfied: hdbscan>=0.8.27 in /usr/local/lib/python3.7/dist-packages (from bertopic[flair]) (0.8.27)\n",
            "Collecting flair==0.7; extra == \"flair\"\n",
            "\u001b[?25l  Downloading https://files.pythonhosted.org/packages/68/a0/a1b41fa2fcb23ff71ba9148af75211dcccc35b256dea821b36e1ee871848/flair-0.7-py3-none-any.whl (448kB)\n",
            "\u001b[K     |████████████████████████████████| 450kB 4.3MB/s \n",
            "\u001b[?25hRequirement already satisfied: scipy>=0.17.0 in /usr/local/lib/python3.7/dist-packages (from scikit-learn>=0.22.2.post1->bertopic[flair]) (1.4.1)\n",
            "Requirement already satisfied: joblib>=0.11 in /usr/local/lib/python3.7/dist-packages (from scikit-learn>=0.22.2.post1->bertopic[flair]) (1.0.1)\n",
            "Requirement already satisfied: pytz>=2017.2 in /usr/local/lib/python3.7/dist-packages (from pandas>=1.1.5->bertopic[flair]) (2018.9)\n",
            "Requirement already satisfied: python-dateutil>=2.7.3 in /usr/local/lib/python3.7/dist-packages (from pandas>=1.1.5->bertopic[flair]) (2.8.1)\n",
            "Requirement already satisfied: typing-extensions in /usr/local/lib/python3.7/dist-packages (from torch>=1.4.0->bertopic[flair]) (3.7.4.3)\n",
            "Requirement already satisfied: sentencepiece in /usr/local/lib/python3.7/dist-packages (from sentence-transformers>=0.4.1->bertopic[flair]) (0.1.95)\n",
            "Requirement already satisfied: nltk in /usr/local/lib/python3.7/dist-packages (from sentence-transformers>=0.4.1->bertopic[flair]) (3.2.5)\n",
            "Requirement already satisfied: transformers<5.0.0,>=3.1.0 in /usr/local/lib/python3.7/dist-packages (from sentence-transformers>=0.4.1->bertopic[flair]) (4.5.0)\n",
            "Requirement already satisfied: pynndescent>=0.5 in /usr/local/lib/python3.7/dist-packages (from umap-learn>=0.5.0->bertopic[flair]) (0.5.2)\n",
            "Requirement already satisfied: numba>=0.49 in /usr/local/lib/python3.7/dist-packages (from umap-learn>=0.5.0->bertopic[flair]) (0.51.2)\n",
            "Requirement already satisfied: six in /usr/local/lib/python3.7/dist-packages (from hdbscan>=0.8.27->bertopic[flair]) (1.15.0)\n",
            "Requirement already satisfied: cython>=0.27 in /usr/local/lib/python3.7/dist-packages (from hdbscan>=0.8.27->bertopic[flair]) (0.29.22)\n",
            "Requirement already satisfied: matplotlib>=2.2.3 in /usr/local/lib/python3.7/dist-packages (from flair==0.7; extra == \"flair\"->bertopic[flair]) (3.2.2)\n",
            "Requirement already satisfied: gdown in /usr/local/lib/python3.7/dist-packages (from flair==0.7; extra == \"flair\"->bertopic[flair]) (3.6.4)\n",
            "Collecting segtok>=1.5.7\n",
            "  Downloading https://files.pythonhosted.org/packages/41/08/582dab5f4b1d5ca23bc6927b4bb977c8ff7f3a87a3b98844ef833e2f5623/segtok-1.5.10.tar.gz\n",
            "Collecting sqlitedict>=1.6.0\n",
            "  Downloading https://files.pythonhosted.org/packages/5c/2d/b1d99e9ad157dd7de9cd0d36a8a5876b13b55e4b75f7498bc96035fb4e96/sqlitedict-1.7.0.tar.gz\n",
            "Requirement already satisfied: lxml in /usr/local/lib/python3.7/dist-packages (from flair==0.7; extra == \"flair\"->bertopic[flair]) (4.2.6)\n",
            "Collecting mpld3==0.3\n",
            "\u001b[?25l  Downloading https://files.pythonhosted.org/packages/91/95/a52d3a83d0a29ba0d6898f6727e9858fe7a43f6c2ce81a5fe7e05f0f4912/mpld3-0.3.tar.gz (788kB)\n",
            "\u001b[K     |████████████████████████████████| 798kB 8.2MB/s \n",
            "\u001b[?25hRequirement already satisfied: regex in /usr/local/lib/python3.7/dist-packages (from flair==0.7; extra == \"flair\"->bertopic[flair]) (2019.12.20)\n",
            "Collecting ftfy\n",
            "\u001b[?25l  Downloading https://files.pythonhosted.org/packages/04/06/e5c80e2e0f979628d47345efba51f7ba386fe95963b11c594209085f5a9b/ftfy-5.9.tar.gz (66kB)\n",
            "\u001b[K     |████████████████████████████████| 71kB 6.3MB/s \n",
            "\u001b[?25hRequirement already satisfied: tabulate in /usr/local/lib/python3.7/dist-packages (from flair==0.7; extra == \"flair\"->bertopic[flair]) (0.8.9)\n",
            "Collecting janome\n",
            "\u001b[?25l  Downloading https://files.pythonhosted.org/packages/a8/63/98858cbead27df7536c7e300c169da0999e9704d02220dc6700b804eeff0/Janome-0.4.1-py2.py3-none-any.whl (19.7MB)\n",
            "\u001b[K     |████████████████████████████████| 19.7MB 1.3MB/s \n",
            "\u001b[?25hRequirement already satisfied: gensim<=3.8.3,>=3.4.0 in /usr/local/lib/python3.7/dist-packages (from flair==0.7; extra == \"flair\"->bertopic[flair]) (3.6.0)\n",
            "Collecting langdetect\n",
            "\u001b[?25l  Downloading https://files.pythonhosted.org/packages/56/a3/8407c1e62d5980188b4acc45ef3d94b933d14a2ebc9ef3505f22cf772570/langdetect-1.0.8.tar.gz (981kB)\n",
            "\u001b[K     |████████████████████████████████| 983kB 47.7MB/s \n",
            "\u001b[?25hCollecting bpemb>=0.3.2\n",
            "  Downloading https://files.pythonhosted.org/packages/91/77/3f0f53856e86af32b1d3c86652815277f7b5f880002584eb30db115b6df5/bpemb-0.3.2-py3-none-any.whl\n",
            "Requirement already satisfied: hyperopt>=0.1.1 in /usr/local/lib/python3.7/dist-packages (from flair==0.7; extra == \"flair\"->bertopic[flair]) (0.1.2)\n",
            "Collecting konoha<5.0.0,>=4.0.0\n",
            "  Downloading https://files.pythonhosted.org/packages/02/be/4dd30d56a0a19619deb9bf41ba8202709fa83b1b301b876572cd6dc38117/konoha-4.6.4-py3-none-any.whl\n",
            "Collecting deprecated>=1.2.4\n",
            "  Downloading https://files.pythonhosted.org/packages/fb/73/994edfcba74443146c84b91921fcc269374354118d4f452fb0c54c1cbb12/Deprecated-1.2.12-py2.py3-none-any.whl\n",
            "Requirement already satisfied: requests in /usr/local/lib/python3.7/dist-packages (from transformers<5.0.0,>=3.1.0->sentence-transformers>=0.4.1->bertopic[flair]) (2.23.0)\n",
            "Requirement already satisfied: packaging in /usr/local/lib/python3.7/dist-packages (from transformers<5.0.0,>=3.1.0->sentence-transformers>=0.4.1->bertopic[flair]) (20.9)\n",
            "Requirement already satisfied: tokenizers<0.11,>=0.10.1 in /usr/local/lib/python3.7/dist-packages (from transformers<5.0.0,>=3.1.0->sentence-transformers>=0.4.1->bertopic[flair]) (0.10.2)\n",
            "Requirement already satisfied: sacremoses in /usr/local/lib/python3.7/dist-packages (from transformers<5.0.0,>=3.1.0->sentence-transformers>=0.4.1->bertopic[flair]) (0.0.44)\n",
            "Requirement already satisfied: importlib-metadata; python_version < \"3.8\" in /usr/local/lib/python3.7/dist-packages (from transformers<5.0.0,>=3.1.0->sentence-transformers>=0.4.1->bertopic[flair]) (3.8.1)\n",
            "Requirement already satisfied: filelock in /usr/local/lib/python3.7/dist-packages (from transformers<5.0.0,>=3.1.0->sentence-transformers>=0.4.1->bertopic[flair]) (3.0.12)\n",
            "Requirement already satisfied: llvmlite>=0.30 in /usr/local/lib/python3.7/dist-packages (from pynndescent>=0.5->umap-learn>=0.5.0->bertopic[flair]) (0.34.0)\n",
            "Requirement already satisfied: setuptools in /usr/local/lib/python3.7/dist-packages (from numba>=0.49->umap-learn>=0.5.0->bertopic[flair]) (54.2.0)\n",
            "Requirement already satisfied: cycler>=0.10 in /usr/local/lib/python3.7/dist-packages (from matplotlib>=2.2.3->flair==0.7; extra == \"flair\"->bertopic[flair]) (0.10.0)\n",
            "Requirement already satisfied: kiwisolver>=1.0.1 in /usr/local/lib/python3.7/dist-packages (from matplotlib>=2.2.3->flair==0.7; extra == \"flair\"->bertopic[flair]) (1.3.1)\n",
            "Requirement already satisfied: pyparsing!=2.0.4,!=2.1.2,!=2.1.6,>=2.0.1 in /usr/local/lib/python3.7/dist-packages (from matplotlib>=2.2.3->flair==0.7; extra == \"flair\"->bertopic[flair]) (2.4.7)\n",
            "Requirement already satisfied: wcwidth in /usr/local/lib/python3.7/dist-packages (from ftfy->flair==0.7; extra == \"flair\"->bertopic[flair]) (0.2.5)\n",
            "Requirement already satisfied: smart-open>=1.2.1 in /usr/local/lib/python3.7/dist-packages (from gensim<=3.8.3,>=3.4.0->flair==0.7; extra == \"flair\"->bertopic[flair]) (4.2.0)\n",
            "Requirement already satisfied: future in /usr/local/lib/python3.7/dist-packages (from hyperopt>=0.1.1->flair==0.7; extra == \"flair\"->bertopic[flair]) (0.16.0)\n",
            "Requirement already satisfied: pymongo in /usr/local/lib/python3.7/dist-packages (from hyperopt>=0.1.1->flair==0.7; extra == \"flair\"->bertopic[flair]) (3.11.3)\n",
            "Requirement already satisfied: networkx in /usr/local/lib/python3.7/dist-packages (from hyperopt>=0.1.1->flair==0.7; extra == \"flair\"->bertopic[flair]) (2.5)\n",
            "Collecting overrides<4.0.0,>=3.0.0\n",
            "  Downloading https://files.pythonhosted.org/packages/ff/b1/10f69c00947518e6676bbd43e739733048de64b8dd998e9c2d5a71f44c5d/overrides-3.1.0.tar.gz\n",
            "Requirement already satisfied: wrapt<2,>=1.10 in /usr/local/lib/python3.7/dist-packages (from deprecated>=1.2.4->flair==0.7; extra == \"flair\"->bertopic[flair]) (1.12.1)\n",
            "Requirement already satisfied: chardet<4,>=3.0.2 in /usr/local/lib/python3.7/dist-packages (from requests->transformers<5.0.0,>=3.1.0->sentence-transformers>=0.4.1->bertopic[flair]) (3.0.4)\n",
            "Requirement already satisfied: urllib3!=1.25.0,!=1.25.1,<1.26,>=1.21.1 in /usr/local/lib/python3.7/dist-packages (from requests->transformers<5.0.0,>=3.1.0->sentence-transformers>=0.4.1->bertopic[flair]) (1.24.3)\n",
            "Requirement already satisfied: idna<3,>=2.5 in /usr/local/lib/python3.7/dist-packages (from requests->transformers<5.0.0,>=3.1.0->sentence-transformers>=0.4.1->bertopic[flair]) (2.10)\n",
            "Requirement already satisfied: certifi>=2017.4.17 in /usr/local/lib/python3.7/dist-packages (from requests->transformers<5.0.0,>=3.1.0->sentence-transformers>=0.4.1->bertopic[flair]) (2020.12.5)\n",
            "Requirement already satisfied: click in /usr/local/lib/python3.7/dist-packages (from sacremoses->transformers<5.0.0,>=3.1.0->sentence-transformers>=0.4.1->bertopic[flair]) (7.1.2)\n",
            "Requirement already satisfied: zipp>=0.5 in /usr/local/lib/python3.7/dist-packages (from importlib-metadata; python_version < \"3.8\"->transformers<5.0.0,>=3.1.0->sentence-transformers>=0.4.1->bertopic[flair]) (3.4.1)\n",
            "Requirement already satisfied: decorator>=4.3.0 in /usr/local/lib/python3.7/dist-packages (from networkx->hyperopt>=0.1.1->flair==0.7; extra == \"flair\"->bertopic[flair]) (4.4.2)\n",
            "Building wheels for collected packages: segtok, sqlitedict, mpld3, ftfy, langdetect, overrides\n",
            "  Building wheel for segtok (setup.py) ... \u001b[?25l\u001b[?25hdone\n",
            "  Created wheel for segtok: filename=segtok-1.5.10-cp37-none-any.whl size=25019 sha256=aa10cd45a98b965bc732de475f48a0c005b429edefddeebc6455698e23b6ad45\n",
            "  Stored in directory: /root/.cache/pip/wheels/b4/39/f6/9ca1c5cabde964d728023b5751c3a206a5c8cc40252321fb6b\n",
            "  Building wheel for sqlitedict (setup.py) ... \u001b[?25l\u001b[?25hdone\n",
            "  Created wheel for sqlitedict: filename=sqlitedict-1.7.0-cp37-none-any.whl size=14376 sha256=73d0a15be789984d5f10f7877addbb5136f7e3f23bedfc197252a9eb22780710\n",
            "  Stored in directory: /root/.cache/pip/wheels/cf/c6/4f/2c64a43f041415eb8b8740bd80e15e92f0d46c5e464d8e4b9b\n",
            "  Building wheel for mpld3 (setup.py) ... \u001b[?25l\u001b[?25hdone\n",
            "  Created wheel for mpld3: filename=mpld3-0.3-cp37-none-any.whl size=116679 sha256=4e42b4f5cb3e21cd8518e9798d5653747cfe93988c0753bdf4dedaf1421213c6\n",
            "  Stored in directory: /root/.cache/pip/wheels/c0/47/fb/8a64f89aecfe0059830479308ad42d62e898a3e3cefdf6ba28\n",
            "  Building wheel for ftfy (setup.py) ... \u001b[?25l\u001b[?25hdone\n",
            "  Created wheel for ftfy: filename=ftfy-5.9-cp37-none-any.whl size=46451 sha256=48ccba56c1a381a0abdfe251dfe8d86ebd65daac8b057027119bec0148a5e878\n",
            "  Stored in directory: /root/.cache/pip/wheels/5e/2e/f0/b07196e8c929114998f0316894a61c752b63bfa3fdd50d2fc3\n",
            "  Building wheel for langdetect (setup.py) ... \u001b[?25l\u001b[?25hdone\n",
            "  Created wheel for langdetect: filename=langdetect-1.0.8-cp37-none-any.whl size=993193 sha256=b989f6d01e4274fa4acfd189a4817cddd8317fcac7d8b3b6b77d7c2939e75958\n",
            "  Stored in directory: /root/.cache/pip/wheels/8d/b3/aa/6d99de9f3841d7d3d40a60ea06e6d669e8e5012e6c8b947a57\n",
            "  Building wheel for overrides (setup.py) ... \u001b[?25l\u001b[?25hdone\n",
            "  Created wheel for overrides: filename=overrides-3.1.0-cp37-none-any.whl size=10174 sha256=b792c79e73941fb20ed43a5eb6dc8a33b6d1ec4ded3d15f4d352718227485273\n",
            "  Stored in directory: /root/.cache/pip/wheels/5c/24/13/6ef8600e6f147c95e595f1289a86a3cc82ed65df57582c65a9\n",
            "Successfully built segtok sqlitedict mpld3 ftfy langdetect overrides\n",
            "\u001b[31mERROR: konoha 4.6.4 has requirement requests<3.0.0,>=2.25.1, but you'll have requests 2.23.0 which is incompatible.\u001b[0m\n",
            "\u001b[31mERROR: flair 0.7 has requirement sentencepiece<=0.1.91, but you'll have sentencepiece 0.1.95 which is incompatible.\u001b[0m\n",
            "\u001b[31mERROR: flair 0.7 has requirement transformers<=3.5.1,>=3.5.0, but you'll have transformers 4.5.0 which is incompatible.\u001b[0m\n",
            "Installing collected packages: segtok, sqlitedict, mpld3, ftfy, janome, langdetect, bpemb, overrides, konoha, deprecated, flair\n",
            "Successfully installed bpemb-0.3.2 deprecated-1.2.12 flair-0.7 ftfy-5.9 janome-0.4.1 konoha-4.6.4 langdetect-1.0.8 mpld3-0.3 overrides-3.1.0 segtok-1.5.10 sqlitedict-1.7.0\n"
          ],
          "name": "stdout"
        }
      ]
    },
    {
      "cell_type": "code",
      "metadata": {
        "colab": {
          "base_uri": "https://localhost:8080/",
          "height": 66,
          "referenced_widgets": [
            "22670361c58840d7b8e9131452b0bdc0",
            "3447e7f7d18840e9bb6bdaefb46c8269",
            "a63d12b2f3f04abd88df2522497471cc",
            "504550fe69114609ac728e04b803883f",
            "8589fb80af10413eb985d23b843b3dea",
            "dae851767ca64ce2bed85ff9919b2f9a",
            "90bad7262a0b4836ac8be732c056b548",
            "444d6a859b7c485bbf0bbcfa47e3d33b"
          ]
        },
        "id": "va3cHkzcJr31",
        "outputId": "264585c5-5941-49c6-fc16-37fc997ccb50"
      },
      "source": [
        "from bertopic import BERTopic\n",
        "\n",
        "df1= pd.read_csv(\"output.csv\")\n",
        "docs = df1['clean_tweet_text']\n",
        "topic_model = BERTopic()\n",
        "topics, probabilities = topic_model.fit_transform(docs)"
      ],
      "execution_count": null,
      "outputs": [
        {
          "output_type": "display_data",
          "data": {
            "application/vnd.jupyter.widget-view+json": {
              "model_id": "22670361c58840d7b8e9131452b0bdc0",
              "version_major": 2,
              "version_minor": 0
            },
            "text/plain": [
              "HBox(children=(FloatProgress(value=0.0, max=244715968.0), HTML(value='')))"
            ]
          },
          "metadata": {
            "tags": []
          }
        },
        {
          "output_type": "stream",
          "text": [
            "\n"
          ],
          "name": "stdout"
        }
      ]
    },
    {
      "cell_type": "code",
      "metadata": {
        "id": "vYWXfRmJf1fH"
      },
      "source": [
        "new_topics, new_probs = topic_model.reduce_topics(docs, topics, probabilities, nr_topics=38)"
      ],
      "execution_count": null,
      "outputs": []
    },
    {
      "cell_type": "code",
      "metadata": {
        "colab": {
          "base_uri": "https://localhost:8080/"
        },
        "id": "d-ftCAVpgIga",
        "outputId": "896c1bd8-be9f-4f9a-9ecb-eb3609a06d15"
      },
      "source": [
        "topic_model.get_topics()"
      ],
      "execution_count": null,
      "outputs": [
        {
          "output_type": "execute_result",
          "data": {
            "text/plain": [
              "{-1: [('covid19', 0.016650093473956604),\n",
              "  ('coronavirus', 0.01373414803035172),\n",
              "  ('wuhanvirus', 0.012767122327502952),\n",
              "  ('coronavirusoutbreak', 0.012047448566644353),\n",
              "  ('covid2019', 0.011836409167569704),\n",
              "  ('quarantinelife', 0.00868337406473148),\n",
              "  ('corona', 0.008490167208637045),\n",
              "  ('chinaliedpeopledied', 0.006648136626478216),\n",
              "  ('wuhancoronavirus', 0.006457812810471358),\n",
              "  ('socialdistancing', 0.006236408033187403)],\n",
              " 0: [('afraid', 0.12193361694433838),\n",
              "  ('journalists', 0.12113263521124543),\n",
              "  ('propaganda', 0.10402103355841139),\n",
              "  ('muttering', 0.0004843938430637791),\n",
              "  ('complymost', 0.0004843938430637791),\n",
              "  ('backstab', 0.0004843938430637791),\n",
              "  ('india', 0.00047731172753200335),\n",
              "  ('trap', 0.0003944311301434361),\n",
              "  ('consumer', 0.00039146668713258204),\n",
              "  ('market', 0.00025669561485574144)],\n",
              " 18: [('karimnagar', 0.19627739793318477),\n",
              "  ('ranch', 0.19608853216765898),\n",
              "  ('erode', 0.19583775398992392),\n",
              "  ('smoking', 0.19565044634240006),\n",
              "  ('pain', 0.18865434603393788),\n",
              "  ('hiding', 0.18455697302421353),\n",
              "  ('voteredtosaveamerica', 0.021080557187479494),\n",
              "  ('democrat', 0.014639145560994101),\n",
              "  ('itching', 0.013778917313321827),\n",
              "  ('breaks', 0.01301591805213101)],\n",
              " 27: [('odor', 0.144986642005123),\n",
              "  ('chinaliespeopledie', 0.1413550182071615),\n",
              "  ('coronaviruslockdown', 0.12775096325361981),\n",
              "  ('italy', 0.12415365957018262),\n",
              "  ('italians', 0.0005768148703606688),\n",
              "  ('disport', 0.0005273532433688814),\n",
              "  ('wokedentist', 0.0005273532433688814),\n",
              "  ('scold', 0.0005273532433688814),\n",
              "  ('mallets', 0.0005054118971144825),\n",
              "  ('unimaginable', 0.0004898442641995347)],\n",
              " 32: [('denunciar', 0.04986283819787115),\n",
              "  ('desaparecer', 0.04968091793241139),\n",
              "  ('deer', 0.04898725472343161),\n",
              "  ('malditos', 0.047985996605091286),\n",
              "  ('chins', 0.044916358615568065),\n",
              "  ('chinavirus', 0.01885228867419398),\n",
              "  ('testvirusnow', 0.016474275783172176),\n",
              "  ('killthevirus', 0.015421941976981032),\n",
              "  ('imrankhan', 0.013987320409739787),\n",
              "  ('love', 0.011969895365148912)],\n",
              " 68: [('laughing', 0.039407245325329555),\n",
              "  ('stayhomechallenge', 0.03855860183050027),\n",
              "  ('quarantinelife', 0.03502242610701913),\n",
              "  ('stpatricksday', 0.034454049675595774),\n",
              "  ('coronavirusoutbreak', 0.03165675949686742),\n",
              "  ('covid2019', 0.022734661193036798),\n",
              "  ('coronavirus', 0.019520722479049436),\n",
              "  ('delhi', 0.017871895111075883),\n",
              "  ('covid19', 0.01585144234879413),\n",
              "  ('coronafighters', 0.014291660029213862)],\n",
              " 81: [('saveuyghur', 1.1674090044109746),\n",
              "  ('freemymom', 0.00942458037611209),\n",
              "  ('freesuriyetursun', 0.00942458037611209),\n",
              "  ('stopuyghurslavery', 0.006974783972531815),\n",
              "  ('shelter', 0.00520035064937301),\n",
              "  ('shelterinplace', 0.005041326917072822),\n",
              "  ('freeassangenow', 0.0032779092703784877),\n",
              "  ('freejulianassange', 0.0031415267920373627),\n",
              "  ('extends', 0.0),\n",
              "  ('extend', 0.0)],\n",
              " 100: [('virus', 0.10897477936077352),\n",
              "  ('dear', 0.05882024695016126),\n",
              "  ('fever', 0.056850620279537384),\n",
              "  ('idiot', 0.046722698622626624),\n",
              "  ('spanish', 0.04514568927376037),\n",
              "  ('intimidated', 0.0400447480338159),\n",
              "  ('ebook', 0.03993734673595319),\n",
              "  ('name', 0.03527865353126028),\n",
              "  ('without', 0.0342021321555821),\n",
              "  ('veto', 0.03297787352526367)],\n",
              " 137: [('shameonyou', 0.06096833355030011),\n",
              "  ('colosseum', 0.06096833355030011),\n",
              "  ('circus', 0.06092939851294974),\n",
              "  ('chinaisvirus', 0.06071095959875791),\n",
              "  ('shameful', 0.05743148118956829),\n",
              "  ('donttrustchinachinaisasshole', 0.056563814900200876),\n",
              "  ('chinaisterrorist', 0.05377910243748875),\n",
              "  ('damagelimitation', 0.04972766699939062),\n",
              "  ('awful', 0.049224990366781934),\n",
              "  ('madeinchina', 0.04524219792902591)],\n",
              " 169: [('el', 0.06451813727116548),\n",
              "  ('las', 0.06136587567102323),\n",
              "  ('que', 0.057842822968931576),\n",
              "  ('viruschino', 0.05292950940019741),\n",
              "  ('palmar', 0.039180296425775994),\n",
              "  ('costs', 0.03896816903471075),\n",
              "  ('humanidad', 0.03856253561049171),\n",
              "  ('con', 0.0378979759240921),\n",
              "  ('ciudad', 0.03603087715254105),\n",
              "  ('consecuencias', 0.03580351756390439)],\n",
              " 184: [('praising', 0.06078344921181889),\n",
              "  ('navigable', 0.054676708740263764),\n",
              "  ('admiration', 0.054676708740263764),\n",
              "  ('talented', 0.05452294564289522),\n",
              "  ('team', 0.05113874631546835),\n",
              "  ('chinacoronavirus', 0.035718081205183556),\n",
              "  ('coronavius', 0.03550961152200269),\n",
              "  ('adviser', 0.03550961152200269),\n",
              "  ('polish', 0.03517192867841026),\n",
              "  ('tramps', 0.028228553601214006)],\n",
              " 235: [('york', 0.020756524847825832),\n",
              "  ('genocidioenvenezuela', 0.011729555648394292),\n",
              "  ('narcotiran', 0.011729555648394292),\n",
              "  ('pandemiainducida', 0.011729555648394292),\n",
              "  ('nmilitarextranjera', 0.011729555648394292),\n",
              "  ('cigars', 0.011724635846894763),\n",
              "  ('venezuela', 0.011270725203559482),\n",
              "  ('fast', 0.010520902463826698),\n",
              "  ('latest', 0.010418880962811397),\n",
              "  ('del', 0.01017020083595211)],\n",
              " 238: [('twitter', 0.13262250344187976),\n",
              "  ('spread', 0.07511112632393582),\n",
              "  ('chinese', 0.06891884075217986),\n",
              "  ('banner', 0.0683782538605504),\n",
              "  ('sweets', 0.06432266151519586),\n",
              "  ('crackdown', 0.06006097674005367),\n",
              "  ('globe', 0.05432481842847284),\n",
              "  ('spreading', 0.0476707510291066),\n",
              "  ('propaganda', 0.03430290619855038),\n",
              "  ('virus', 0.029748243237157804)],\n",
              " 263: [('irancorona', 0.08905676000955648),\n",
              "  ('traveler', 0.08887793994540216),\n",
              "  ('nearly', 0.08706822830631704),\n",
              "  ('supposed', 0.08612108410914517),\n",
              "  ('scouts', 0.08223425195456151),\n",
              "  ('ban', 0.08002375066947492),\n",
              "  ('border', 0.06283885248683223),\n",
              "  ('borders', 0.040906951766748155),\n",
              "  ('france', 0.029480854579409396),\n",
              "  ('seal', 0.02625907899563571)],\n",
              " 324: [('nevada', 0.05498238500720886),\n",
              "  ('bad', 0.05160595404796104),\n",
              "  ('politics', 0.049846660159962364),\n",
              "  ('shame', 0.048099096993585694),\n",
              "  ('koronawirus', 0.0226809351557996),\n",
              "  ('chwalenie', 0.019936582357893792),\n",
              "  ('specjalnie', 0.01979803148379287),\n",
              "  ('koronowiruswpolsce', 0.019505542219548894),\n",
              "  ('covid19', 0.019348273364604398),\n",
              "  ('ipptv', 0.01609046320129627)],\n",
              " 367: [('impudence', 0.015427545927671952),\n",
              "  ('markets', 0.011256234562835775),\n",
              "  ('tramps', 0.009919585154483589),\n",
              "  ('hurt', 0.008858549031409164),\n",
              "  ('amidst', 0.008587666111377288),\n",
              "  ('anaemic', 0.00850362487329435),\n",
              "  ('whistle', 0.008469493112265419),\n",
              "  ('blow', 0.008438618772870665),\n",
              "  ('tottering', 0.008407177676687352),\n",
              "  ('immensely', 0.008365661770374108)],\n",
              " 377: [('forceful', 0.10589121756340249),\n",
              "  ('marbury', 0.10487877951278503),\n",
              "  ('encephalitis', 0.10073255009732025),\n",
              "  ('germany', 0.09992341488297087),\n",
              "  ('delhi', 0.09819477126701191),\n",
              "  ('ebook', 0.0930113903070298),\n",
              "  ('covid2019', 0.050270635909087855),\n",
              "  ('chinavirus', 0.022143105430623807),\n",
              "  ('wuhanflu', 0.012510073751070171),\n",
              "  ('demanding', 0.01237002687603673)],\n",
              " 494: [('invisibleenemy', 0.026556160213934817),\n",
              "  ('calling', 0.02345980703390895),\n",
              "  ('ccpvirus', 0.021267090528423387),\n",
              "  ('chinaliedandpeopledied', 0.020617728285937355),\n",
              "  ('speedy', 0.01928741400087156),\n",
              "  ('malegaon', 0.01899218812270214),\n",
              "  ('coughed', 0.018915646763365192),\n",
              "  ('treating', 0.018607125326180324),\n",
              "  ('usher', 0.018378551774006758),\n",
              "  ('holdchinaaccountable', 0.017731090479094522)],\n",
              " 526: [('deepstatetakedown', 0.038154133903431246),\n",
              "  ('kag2020', 0.03317600095489579),\n",
              "  ('fakenews', 0.02961947655952984),\n",
              "  ('chinaliedpeopledied', 0.02498216437062138),\n",
              "  ('wuhanvirus', 0.010865614113884954),\n",
              "  ('smallstreamersconnect', 0.009309409270430028),\n",
              "  ('supportsmallstreamers', 0.009309409270430028),\n",
              "  ('twitchaffiliate', 0.009309409270430028),\n",
              "  ('wuhancoronavirus', 0.008745901955448413),\n",
              "  ('tuesdaymotivation', 0.007377657975553137)],\n",
              " 576: [('donald', 0.06389325632884672),\n",
              "  ('tramp', 0.0444990924428266),\n",
              "  ('coronavirus', 0.025220286921862425),\n",
              "  ('refund', 0.02180096285416922),\n",
              "  ('viruschino', 0.019610438671652363),\n",
              "  ('tramps', 0.019542135377461058),\n",
              "  ('giving', 0.01940606064192283),\n",
              "  ('treasury', 0.01934498565211691),\n",
              "  ('bill', 0.019155264794969307),\n",
              "  ('million', 0.019120364015347252)],\n",
              " 618: [('destructive', 0.04371185836448374),\n",
              "  ('hateful', 0.043452422801319855),\n",
              "  ('harmful', 0.042818562875882996),\n",
              "  ('hell', 0.03842658774426855),\n",
              "  ('racism', 0.03397970690771386),\n",
              "  ('remove', 0.026295923887943363),\n",
              "  ('university', 0.018767180325111443),\n",
              "  ('libtardz', 0.01846305862882801),\n",
              "  ('professors', 0.01842518797872952),\n",
              "  ('vocabulary', 0.018350829459945407)],\n",
              " 638: [('boycottdream11', 0.025333034811707712),\n",
              "  ('twitter', 0.013781607978949803),\n",
              "  ('covid19', 0.013409172807481076),\n",
              "  ('anaemic', 0.012430520694099981),\n",
              "  ('nancytheripper', 0.011795925458184007),\n",
              "  ('rabbit', 0.01105101123479747),\n",
              "  ('wuhanvirus', 0.010832612203766813),\n",
              "  ('embargoes', 0.01076662130937336),\n",
              "  ('banality', 0.01076662130937336),\n",
              "  ('miracles', 0.010689498717815793)],\n",
              " 658: [('panic', 0.033494066672584914),\n",
              "  ('madmen', 0.0305301746961902),\n",
              "  ('drug', 0.02898218328916054),\n",
              "  ('global', 0.028507061875555788),\n",
              "  ('thirty', 0.02771921258030069),\n",
              "  ('temples', 0.02600214576253185),\n",
              "  ('spreading', 0.024539324382546347),\n",
              "  ('chinesewuhanvirus', 0.02298732107673566),\n",
              "  ('maharashtra', 0.02283290987422689),\n",
              "  ('closed', 0.022275528367578585)],\n",
              " 707: [('doctor', 0.03250207859066342),\n",
              "  ('orange', 0.02165994774988763),\n",
              "  ('tireless', 0.020562420935564166),\n",
              "  ('volunteer', 0.02003680968057923),\n",
              "  ('county', 0.019247277807411124),\n",
              "  ('dr', 0.018178429395913305),\n",
              "  ('gems', 0.017263570229515992),\n",
              "  ('medical', 0.017009816086404134),\n",
              "  ('teach', 0.016223275582247593),\n",
              "  ('demand', 0.01446018002028)],\n",
              " 725: [('subtle', 0.05353736434223806),\n",
              "  ('mypandemicsurvivalplan', 0.05254629974370685),\n",
              "  ('coronavirus', 0.028712684409038448),\n",
              "  ('gualtieri', 0.02686304551223602),\n",
              "  ('cone', 0.02605142587690783),\n",
              "  ('never', 0.01980816399641158),\n",
              "  ('wuhancoronavirus', 0.01968796734646378),\n",
              "  ('coronavirusindia', 0.01825653842507183),\n",
              "  ('chinaliedpeopledied', 0.017830577211031123),\n",
              "  ('wuhanvirus', 0.013967997305624247)],\n",
              " 744: [('fever', 0.017751086885695634),\n",
              "  ('measles', 0.016811365413033505),\n",
              "  ('malaria', 0.016197813936052935),\n",
              "  ('typhoid', 0.015516382498560308),\n",
              "  ('cholera', 0.015458227322710853),\n",
              "  ('smallpox', 0.01542347002850905),\n",
              "  ('typhus', 0.015382535834060814),\n",
              "  ('chickenpox', 0.01535517983357055),\n",
              "  ('tuberculosis', 0.015279499300801906),\n",
              "  ('nevervotedemocratagain', 0.014542789978725835)],\n",
              " 780: [('damaging', 0.045373849049532324),\n",
              "  ('attacking', 0.04257077219366824),\n",
              "  ('starvation', 0.03646269675309563),\n",
              "  ('armies', 0.03607269578939563),\n",
              "  ('brink', 0.035950996348670536),\n",
              "  ('lies', 0.03558497499324415),\n",
              "  ('lakes', 0.03514444068858898),\n",
              "  ('shutting', 0.03443010058789231),\n",
              "  ('horror', 0.033870810048116526),\n",
              "  ('epidemic', 0.031409394400186495)],\n",
              " 821: [('russianpresidency', 0.11335731517349394),\n",
              "  ('covid19', 0.04830173744863157),\n",
              "  ('meat', 0.04583945760872692),\n",
              "  ('liar', 0.04431617962985862),\n",
              "  ('base', 0.04278075605758688),\n",
              "  ('deadly', 0.03665137714899119),\n",
              "  ('war', 0.03642406916076379),\n",
              "  ('entire', 0.0348766701125691),\n",
              "  ('racism', 0.026292958618288398),\n",
              "  ('could19', 0.02583932763125393)],\n",
              " 854: [('knocking', 0.02710246090098907),\n",
              "  ('planet', 0.02571699455457312),\n",
              "  ('lab', 0.025274418082423117),\n",
              "  ('communist', 0.020697649422508114),\n",
              "  ('chemistry', 0.0199759443999756),\n",
              "  ('leak', 0.019838279762642897),\n",
              "  ('secretly', 0.01980471558763597),\n",
              "  ('professor', 0.019673671116020894),\n",
              "  ('harvard', 0.01964168274760399),\n",
              "  ('ethnicity', 0.017907030181834517)],\n",
              " 863: [('insanity', 0.020706409975218252),\n",
              "  ('socialdistance', 0.020442915886498807),\n",
              "  ('covid19', 0.01677626460542814),\n",
              "  ('wuhancoronavirus', 0.01429528753822118),\n",
              "  ('covid2019', 0.013424353037285008),\n",
              "  ('wuhanvirus', 0.01305861071896703),\n",
              "  ('wakeupamerica', 0.012170983564874366),\n",
              "  ('fakenews', 0.01022288542413019),\n",
              "  ('coronavirusoutbreak', 0.010219443027440427),\n",
              "  ('godblessamerica', 0.00926563104522499)],\n",
              " 923: [('revoked', 0.03248705249709311),\n",
              "  ('hongkong', 0.028191076941780722),\n",
              "  ('wuhanvirus', 0.015129109792981377),\n",
              "  ('coronavirus', 0.014284106611368103),\n",
              "  ('chinaliedpeopledied', 0.011266141062093516),\n",
              "  ('chinese', 0.011129618437766125),\n",
              "  ('chinacoronavirus', 0.010698243250340751),\n",
              "  ('ccpvirus', 0.010280389224132202),\n",
              "  ('wuhancoronavirus', 0.008765351774895546),\n",
              "  ('virus', 0.008461582976354548)],\n",
              " 1233: [('eat', 0.0408104330270581),\n",
              "  ('wraps', 0.03572774392555627),\n",
              "  ('godspeed', 0.03562369713041304),\n",
              "  ('space', 0.035470296458105954),\n",
              "  ('dishes', 0.02636699463166367),\n",
              "  ('bodhidharma', 0.02636699463166367),\n",
              "  ('vast', 0.026211668126077007),\n",
              "  ('knowledge', 0.025976080109012638),\n",
              "  ('teach', 0.02421245236947136),\n",
              "  ('food', 0.02322125642376049)],\n",
              " 1375: [('dictatorship', 0.046245147688083924),\n",
              "  ('created', 0.039392561480554394),\n",
              "  ('communist', 0.03185403678161759),\n",
              "  ('world', 0.01912784454522565),\n",
              "  ('chinese', 0.018399416511474392),\n",
              "  ('chinacoronavirus', 0.012494054631026043),\n",
              "  ('accountable', 0.011951556116651236),\n",
              "  ('wuhanvirus', 0.011423232103290394),\n",
              "  ('chinaisasshoe', 0.010602671075670115),\n",
              "  ('nothing', 0.010058502674343084)],\n",
              " 1449: [('nominate', 0.07446742282915658),\n",
              "  ('exposing', 0.03891765363429632),\n",
              "  ('guns', 0.0340927975835066),\n",
              "  ('caused', 0.03338114775440368),\n",
              "  ('chinaliedandpeopledied', 0.03297470825365597),\n",
              "  ('veto', 0.027058842536995677),\n",
              "  ('help', 0.025928922755738257),\n",
              "  ('power', 0.02277643473962204),\n",
              "  ('twitter', 0.022613922694055908),\n",
              "  ('burning', 0.019768436146268345)],\n",
              " 1458: [('wuhanvirus', 0.03697447673909214),\n",
              "  ('lie', 0.027323511229772262),\n",
              "  ('negligence', 0.025910868797645065),\n",
              "  ('xenophobic', 0.02535630062469558),\n",
              "  ('lies', 0.023874705670615306),\n",
              "  ('chinesevirus19', 0.023265166284533612),\n",
              "  ('fakenews', 0.020443616869946186),\n",
              "  ('chinaliedpeopledied', 0.01930290359290022),\n",
              "  ('chinesecoronavirus', 0.01576440571334705),\n",
              "  ('wuhancoronavirus', 0.01294967466162422)],\n",
              " 1531: [('world', 0.034453837175062216),\n",
              "  ('free', 0.02832986587948),\n",
              "  ('unpunished', 0.025571774954922445),\n",
              "  ('proverbial', 0.024970506324000684),\n",
              "  ('garden', 0.024672509768511958),\n",
              "  ('severity', 0.024058236419761247),\n",
              "  ('sweets', 0.019197445492174652),\n",
              "  ('knew', 0.019191643730766626),\n",
              "  ('derogatory', 0.019118158795340474),\n",
              "  ('devil', 0.017716869714961288)],\n",
              " 1560: [('wuhanvirus', 0.02851016408495552),\n",
              "  ('chinacoronavirus', 0.025272276859365745),\n",
              "  ('wuhancoronavirus', 0.019223633400650846),\n",
              "  ('dlatego', 0.017546093328557607),\n",
              "  ('inwestycje', 0.017546093328557607),\n",
              "  ('pozytecznych', 0.017546093328557607),\n",
              "  ('chinabiologicalwar', 0.017546093328557607),\n",
              "  ('przedstawia', 0.017546093328557607),\n",
              "  ('world', 0.016894071851142282),\n",
              "  ('saynotocommunistchina', 0.014848695149234942)],\n",
              " 1592: [('covid2019', 0.06383974886479026),\n",
              "  ('covid19', 0.042977060441910325),\n",
              "  ('coronavirusoutbreak', 0.03589374761703453),\n",
              "  ('covid19out', 0.02473003337693937),\n",
              "  ('lockdown21', 0.018706978776350375),\n",
              "  ('coronaviruslockdown', 0.01757601941327725),\n",
              "  ('covid19ke', 0.016988735924140706),\n",
              "  ('tuesdaythoughts', 0.01646753389425808),\n",
              "  ('shutdownaustralia', 0.013609808093623695),\n",
              "  ('tuesdaymorning', 0.011807524201734284)],\n",
              " 1609: [('coronavirusoutbreak', 0.07373208382202313),\n",
              "  ('coronavirus', 0.04506597614995347),\n",
              "  ('covid2019', 0.031376872226802494),\n",
              "  ('clownworld', 0.03037281238372883),\n",
              "  ('hypocritical', 0.02856597404966321),\n",
              "  ('coronafighters', 0.01955155788078184),\n",
              "  ('coronavirusindia', 0.018972458900120896),\n",
              "  ('chinacoronavirus', 0.016946259846319416),\n",
              "  ('coronavirusinpakistan', 0.01685768763498423),\n",
              "  ('ccpisterrorist', 0.014047193982485183)]}"
            ]
          },
          "metadata": {
            "tags": []
          },
          "execution_count": 6
        }
      ]
    },
    {
      "cell_type": "code",
      "metadata": {
        "colab": {
          "base_uri": "https://localhost:8080/",
          "height": 666
        },
        "id": "s3HSQfFvmIjt",
        "outputId": "68ef131b-508b-4bb1-cc80-aaa76cadba2c"
      },
      "source": [
        "topic_model.visualize_topics()"
      ],
      "execution_count": null,
      "outputs": [
        {
          "output_type": "display_data",
          "data": {
            "text/html": [
              "<html>\n",
              "<head><meta charset=\"utf-8\" /></head>\n",
              "<body>\n",
              "    <div>            <script src=\"https://cdnjs.cloudflare.com/ajax/libs/mathjax/2.7.5/MathJax.js?config=TeX-AMS-MML_SVG\"></script><script type=\"text/javascript\">if (window.MathJax) {MathJax.Hub.Config({SVG: {font: \"STIX-Web\"}});}</script>                <script type=\"text/javascript\">window.PlotlyConfig = {MathJaxConfig: 'local'};</script>\n",
              "        <script src=\"https://cdn.plot.ly/plotly-latest.min.js\"></script>                <div id=\"c392cbbc-281d-43a1-8193-9c106edda1a1\" class=\"plotly-graph-div\" style=\"height:650px; width:650px;\"></div>            <script type=\"text/javascript\">                                    window.PLOTLYENV=window.PLOTLYENV || {};                                    if (document.getElementById(\"c392cbbc-281d-43a1-8193-9c106edda1a1\")) {                    Plotly.newPlot(                        \"c392cbbc-281d-43a1-8193-9c106edda1a1\",                        [{\"customdata\": [[7.9026713371276855, 14.408635139465332, 0, \"afraid | journalists | propaganda | muttering | complymost\", 2891], [7.901494026184082, 14.413018226623535, 18, \"karimnagar | ranch | erode | smoking | pain\", 930], [7.662633895874023, 14.656761169433594, 27, \"odor | chinaliespeopledie | coronaviruslockdown | italy | italians\", 1850], [11.88851261138916, 17.115793228149414, 32, \"denunciar | desaparecer | deer | malditos | chins\", 1121], [-5.556454181671143, -0.11182088404893875, 68, \"laughing | stayhomechallenge | quarantinelife | stpatricksday | coronavirusoutbreak\", 2365], [8.045226097106934, 14.270914077758789, 81, \"saveuyghur | freemymom | freesuriyetursun | stopuyghurslavery | shelter\", 985], [14.604888916015625, 16.99468994140625, 100, \"virus | dear | fever | idiot | spanish\", 924], [13.75954532623291, 16.501605987548828, 137, \"shameonyou | colosseum | circus | chinaisvirus | shameful\", 1475], [12.078394889831543, 16.926807403564453, 169, \"el | las | que | viruschino | palmar\", 2025], [12.677939414978027, 16.057373046875, 184, \"praising | navigable | admiration | talented | team\", 1722], [12.727148056030273, 13.441390991210938, 235, \"york | genocidioenvenezuela | narcotiran | pandemiainducida | nmilitarextranjera\", 4738], [14.43290901184082, 16.895898818969727, 238, \"twitter | spread | chinese | banner | sweets\", 965], [-5.519712924957275, -0.07508578151464462, 263, \"irancorona | traveler | nearly | supposed | scouts\", 1071], [10.44542407989502, 11.411703109741211, 324, \"nevada | bad | politics | shame | koronawirus\", 1803], [12.050394058227539, 16.96642303466797, 367, \"impudence | markets | tramps | hurt | amidst\", 1069], [12.337743759155273, 14.510327339172363, 377, \"forceful | marbury | encephalitis | germany | delhi\", 1551], [10.16586685180664, 11.114948272705078, 494, \"invisibleenemy | calling | ccpvirus | chinaliedandpeopledied | speedy\", 4231], [13.30631160736084, 16.308591842651367, 526, \"deepstatetakedown | kag2020 | fakenews | chinaliedpeopledied | wuhanvirus\", 1537], [10.774893760681152, 12.087892532348633, 576, \"donald | tramp | coronavirus | refund | viruschino\", 2737], [11.09117603302002, 14.18960189819336, 618, \"destructive | hateful | harmful | hell | racism\", 1573], [10.817266464233398, 11.588151931762695, 638, \"boycottdream11 | twitter | covid19 | anaemic | nancytheripper\", 1019], [10.936802864074707, 11.203690528869629, 658, \"panic | madmen | drug | global | thirty\", 1383], [11.012272834777832, 11.349625587463379, 707, \"doctor | orange | tireless | volunteer | county\", 1536], [11.18232536315918, 11.552970886230469, 725, \"subtle | mypandemicsurvivalplan | coronavirus | gualtieri | cone\", 2111], [11.270566940307617, 14.173782348632812, 744, \"fever | measles | malaria | typhoid | cholera\", 3588], [13.757719993591309, 15.570068359375, 780, \"damaging | attacking | starvation | armies | brink\", 1110], [11.097955703735352, 11.003815650939941, 821, \"russianpresidency | covid19 | meat | liar | base\", 1909], [13.100662231445312, 16.536577224731445, 854, \"knocking | planet | lab | communist | chemistry\", 1724], [12.614416122436523, 13.754825592041016, 863, \"insanity | socialdistance | covid19 | wuhancoronavirus | covid2019\", 1147], [12.510299682617188, 14.127501487731934, 923, \"revoked | hongkong | wuhanvirus | coronavirus | chinaliedpeopledied\", 2123], [12.826436996459961, 16.836132049560547, 1233, \"eat | wraps | godspeed | space | dishes\", 2005], [13.235908508300781, 16.738401412963867, 1375, \"dictatorship | created | communist | world | chinese\", 1032], [13.425148010253906, 15.696574211120605, 1449, \"nominate | exposing | guns | caused | chinaliedandpeopledied\", 855], [12.578902244567871, 14.258050918579102, 1458, \"wuhanvirus | lie | negligence | xenophobic | lies\", 1956], [12.91933536529541, 16.144737243652344, 1531, \"world | free | unpunished | proverbial | garden\", 1745], [12.682792663574219, 16.405553817749023, 1560, \"wuhanvirus | chinacoronavirus | wuhancoronavirus | dlatego | inwestycje\", 1039], [-5.017892837524414, 0.4267529249191284, 1592, \"covid2019 | covid19 | coronavirusoutbreak | covid19out | lockdown21\", 1577], [-5.198951721191406, 0.2457021176815033, 1609, \"coronavirusoutbreak | coronavirus | covid2019 | clownworld | hypocritical\", 1200]], \"hovertemplate\": \"<b>Topic %{customdata[2]}</b><br>Words: %{customdata[3]}<br>Size: %{customdata[4]}\", \"legendgroup\": \"\", \"marker\": {\"color\": \"#B0BEC5\", \"line\": {\"color\": \"DarkSlateGrey\", \"width\": 2}, \"size\": [2891, 930, 1850, 1121, 2365, 985, 924, 1475, 2025, 1722, 4738, 965, 1071, 1803, 1069, 1551, 4231, 1537, 2737, 1573, 1019, 1383, 1536, 2111, 3588, 1110, 1909, 1724, 1147, 2123, 2005, 1032, 855, 1956, 1745, 1039, 1577, 1200], \"sizemode\": \"area\", \"sizeref\": 2.96125, \"symbol\": \"circle\"}, \"mode\": \"markers\", \"name\": \"\", \"orientation\": \"v\", \"showlegend\": false, \"type\": \"scatter\", \"x\": [7.9026713371276855, 7.901494026184082, 7.662633895874023, 11.88851261138916, -5.556454181671143, 8.045226097106934, 14.604888916015625, 13.75954532623291, 12.078394889831543, 12.677939414978027, 12.727148056030273, 14.43290901184082, -5.519712924957275, 10.44542407989502, 12.050394058227539, 12.337743759155273, 10.16586685180664, 13.30631160736084, 10.774893760681152, 11.09117603302002, 10.817266464233398, 10.936802864074707, 11.012272834777832, 11.18232536315918, 11.270566940307617, 13.757719993591309, 11.097955703735352, 13.100662231445312, 12.614416122436523, 12.510299682617188, 12.826436996459961, 13.235908508300781, 13.425148010253906, 12.578902244567871, 12.91933536529541, 12.682792663574219, -5.017892837524414, -5.198951721191406], \"xaxis\": \"x\", \"y\": [14.408635139465332, 14.413018226623535, 14.656761169433594, 17.115793228149414, -0.11182088404893875, 14.270914077758789, 16.99468994140625, 16.501605987548828, 16.926807403564453, 16.057373046875, 13.441390991210938, 16.895898818969727, -0.07508578151464462, 11.411703109741211, 16.96642303466797, 14.510327339172363, 11.114948272705078, 16.308591842651367, 12.087892532348633, 14.18960189819336, 11.588151931762695, 11.203690528869629, 11.349625587463379, 11.552970886230469, 14.173782348632812, 15.570068359375, 11.003815650939941, 16.536577224731445, 13.754825592041016, 14.127501487731934, 16.836132049560547, 16.738401412963867, 15.696574211120605, 14.258050918579102, 16.144737243652344, 16.405553817749023, 0.4267529249191284, 0.2457021176815033], \"yaxis\": \"y\"}],                        {\"annotations\": [{\"showarrow\": false, \"text\": \"D1\", \"x\": -6.389922308921814, \"y\": 9.777284097857773, \"yshift\": 10}, {\"showarrow\": false, \"text\": \"D2\", \"x\": 5.202849972248076, \"xshift\": 10, \"y\": 19.683162212371826}], \"height\": 650, \"hoverlabel\": {\"bgcolor\": \"white\", \"font\": {\"family\": \"Rockwell\", \"size\": 16}}, \"legend\": {\"itemsizing\": \"constant\", \"tracegroupgap\": 0}, \"margin\": {\"t\": 60}, \"shapes\": [{\"line\": {\"color\": \"#CFD8DC\", \"width\": 2}, \"type\": \"line\", \"x0\": 5.202849972248076, \"x1\": 5.202849972248076, \"y0\": -0.12859401665627956, \"y1\": 19.683162212371826}, {\"line\": {\"color\": \"#9E9E9E\", \"width\": 2}, \"type\": \"line\", \"x0\": -6.389922308921814, \"x1\": 16.795622253417967, \"y0\": 9.777284097857773, \"y1\": 9.777284097857773}], \"sliders\": [{\"active\": 0, \"pad\": {\"t\": 50}, \"steps\": [{\"args\": [{\"marker.color\": [[\"red\", \"#B0BEC5\", \"#B0BEC5\", \"#B0BEC5\", \"#B0BEC5\", \"#B0BEC5\", \"#B0BEC5\", \"#B0BEC5\", \"#B0BEC5\", \"#B0BEC5\", \"#B0BEC5\", \"#B0BEC5\", \"#B0BEC5\", \"#B0BEC5\", \"#B0BEC5\", \"#B0BEC5\", \"#B0BEC5\", \"#B0BEC5\", \"#B0BEC5\", \"#B0BEC5\", \"#B0BEC5\", \"#B0BEC5\", \"#B0BEC5\", \"#B0BEC5\", \"#B0BEC5\", \"#B0BEC5\", \"#B0BEC5\", \"#B0BEC5\", \"#B0BEC5\", \"#B0BEC5\", \"#B0BEC5\", \"#B0BEC5\", \"#B0BEC5\", \"#B0BEC5\", \"#B0BEC5\", \"#B0BEC5\", \"#B0BEC5\", \"#B0BEC5\"]]}], \"label\": \"Topic 0\", \"method\": \"update\"}, {\"args\": [{\"marker.color\": [[\"#B0BEC5\", \"red\", \"#B0BEC5\", \"#B0BEC5\", \"#B0BEC5\", \"#B0BEC5\", \"#B0BEC5\", \"#B0BEC5\", \"#B0BEC5\", \"#B0BEC5\", \"#B0BEC5\", \"#B0BEC5\", \"#B0BEC5\", \"#B0BEC5\", \"#B0BEC5\", \"#B0BEC5\", \"#B0BEC5\", \"#B0BEC5\", \"#B0BEC5\", \"#B0BEC5\", \"#B0BEC5\", \"#B0BEC5\", \"#B0BEC5\", \"#B0BEC5\", \"#B0BEC5\", \"#B0BEC5\", \"#B0BEC5\", \"#B0BEC5\", \"#B0BEC5\", \"#B0BEC5\", \"#B0BEC5\", \"#B0BEC5\", \"#B0BEC5\", \"#B0BEC5\", \"#B0BEC5\", \"#B0BEC5\", \"#B0BEC5\", \"#B0BEC5\"]]}], \"label\": \"Topic 18\", \"method\": \"update\"}, {\"args\": [{\"marker.color\": [[\"#B0BEC5\", \"#B0BEC5\", \"red\", \"#B0BEC5\", \"#B0BEC5\", \"#B0BEC5\", \"#B0BEC5\", \"#B0BEC5\", \"#B0BEC5\", \"#B0BEC5\", \"#B0BEC5\", \"#B0BEC5\", \"#B0BEC5\", \"#B0BEC5\", \"#B0BEC5\", \"#B0BEC5\", \"#B0BEC5\", \"#B0BEC5\", \"#B0BEC5\", \"#B0BEC5\", \"#B0BEC5\", \"#B0BEC5\", \"#B0BEC5\", \"#B0BEC5\", \"#B0BEC5\", \"#B0BEC5\", \"#B0BEC5\", \"#B0BEC5\", \"#B0BEC5\", \"#B0BEC5\", \"#B0BEC5\", \"#B0BEC5\", \"#B0BEC5\", \"#B0BEC5\", \"#B0BEC5\", \"#B0BEC5\", \"#B0BEC5\", \"#B0BEC5\"]]}], \"label\": \"Topic 27\", \"method\": \"update\"}, {\"args\": [{\"marker.color\": [[\"#B0BEC5\", \"#B0BEC5\", \"#B0BEC5\", \"red\", \"#B0BEC5\", \"#B0BEC5\", \"#B0BEC5\", \"#B0BEC5\", \"#B0BEC5\", \"#B0BEC5\", \"#B0BEC5\", \"#B0BEC5\", \"#B0BEC5\", \"#B0BEC5\", \"#B0BEC5\", \"#B0BEC5\", \"#B0BEC5\", \"#B0BEC5\", \"#B0BEC5\", \"#B0BEC5\", \"#B0BEC5\", \"#B0BEC5\", \"#B0BEC5\", \"#B0BEC5\", \"#B0BEC5\", \"#B0BEC5\", \"#B0BEC5\", \"#B0BEC5\", \"#B0BEC5\", \"#B0BEC5\", \"#B0BEC5\", \"#B0BEC5\", \"#B0BEC5\", \"#B0BEC5\", \"#B0BEC5\", \"#B0BEC5\", \"#B0BEC5\", \"#B0BEC5\"]]}], \"label\": \"Topic 32\", \"method\": \"update\"}, {\"args\": [{\"marker.color\": [[\"#B0BEC5\", \"#B0BEC5\", \"#B0BEC5\", \"#B0BEC5\", \"red\", \"#B0BEC5\", \"#B0BEC5\", \"#B0BEC5\", \"#B0BEC5\", \"#B0BEC5\", \"#B0BEC5\", \"#B0BEC5\", \"#B0BEC5\", \"#B0BEC5\", \"#B0BEC5\", \"#B0BEC5\", \"#B0BEC5\", \"#B0BEC5\", \"#B0BEC5\", \"#B0BEC5\", \"#B0BEC5\", \"#B0BEC5\", \"#B0BEC5\", \"#B0BEC5\", \"#B0BEC5\", \"#B0BEC5\", \"#B0BEC5\", \"#B0BEC5\", \"#B0BEC5\", \"#B0BEC5\", \"#B0BEC5\", \"#B0BEC5\", \"#B0BEC5\", \"#B0BEC5\", \"#B0BEC5\", \"#B0BEC5\", \"#B0BEC5\", \"#B0BEC5\"]]}], \"label\": \"Topic 68\", \"method\": \"update\"}, {\"args\": [{\"marker.color\": [[\"#B0BEC5\", \"#B0BEC5\", \"#B0BEC5\", \"#B0BEC5\", \"#B0BEC5\", \"red\", \"#B0BEC5\", \"#B0BEC5\", \"#B0BEC5\", \"#B0BEC5\", \"#B0BEC5\", \"#B0BEC5\", \"#B0BEC5\", \"#B0BEC5\", \"#B0BEC5\", \"#B0BEC5\", \"#B0BEC5\", \"#B0BEC5\", \"#B0BEC5\", \"#B0BEC5\", \"#B0BEC5\", \"#B0BEC5\", \"#B0BEC5\", \"#B0BEC5\", \"#B0BEC5\", \"#B0BEC5\", \"#B0BEC5\", \"#B0BEC5\", \"#B0BEC5\", \"#B0BEC5\", \"#B0BEC5\", \"#B0BEC5\", \"#B0BEC5\", \"#B0BEC5\", \"#B0BEC5\", \"#B0BEC5\", \"#B0BEC5\", \"#B0BEC5\"]]}], \"label\": \"Topic 81\", \"method\": \"update\"}, {\"args\": [{\"marker.color\": [[\"#B0BEC5\", \"#B0BEC5\", \"#B0BEC5\", \"#B0BEC5\", \"#B0BEC5\", \"#B0BEC5\", \"red\", \"#B0BEC5\", \"#B0BEC5\", \"#B0BEC5\", \"#B0BEC5\", \"#B0BEC5\", \"#B0BEC5\", \"#B0BEC5\", \"#B0BEC5\", \"#B0BEC5\", \"#B0BEC5\", \"#B0BEC5\", \"#B0BEC5\", \"#B0BEC5\", \"#B0BEC5\", \"#B0BEC5\", \"#B0BEC5\", \"#B0BEC5\", \"#B0BEC5\", \"#B0BEC5\", \"#B0BEC5\", \"#B0BEC5\", \"#B0BEC5\", \"#B0BEC5\", \"#B0BEC5\", \"#B0BEC5\", \"#B0BEC5\", \"#B0BEC5\", \"#B0BEC5\", \"#B0BEC5\", \"#B0BEC5\", \"#B0BEC5\"]]}], \"label\": \"Topic 100\", \"method\": \"update\"}, {\"args\": [{\"marker.color\": [[\"#B0BEC5\", \"#B0BEC5\", \"#B0BEC5\", \"#B0BEC5\", \"#B0BEC5\", \"#B0BEC5\", \"#B0BEC5\", \"red\", \"#B0BEC5\", \"#B0BEC5\", \"#B0BEC5\", \"#B0BEC5\", \"#B0BEC5\", \"#B0BEC5\", \"#B0BEC5\", \"#B0BEC5\", \"#B0BEC5\", \"#B0BEC5\", \"#B0BEC5\", \"#B0BEC5\", \"#B0BEC5\", \"#B0BEC5\", \"#B0BEC5\", \"#B0BEC5\", \"#B0BEC5\", \"#B0BEC5\", \"#B0BEC5\", \"#B0BEC5\", \"#B0BEC5\", \"#B0BEC5\", \"#B0BEC5\", \"#B0BEC5\", \"#B0BEC5\", \"#B0BEC5\", \"#B0BEC5\", \"#B0BEC5\", \"#B0BEC5\", \"#B0BEC5\"]]}], \"label\": \"Topic 137\", \"method\": \"update\"}, {\"args\": [{\"marker.color\": [[\"#B0BEC5\", \"#B0BEC5\", \"#B0BEC5\", \"#B0BEC5\", \"#B0BEC5\", \"#B0BEC5\", \"#B0BEC5\", \"#B0BEC5\", \"red\", \"#B0BEC5\", \"#B0BEC5\", \"#B0BEC5\", \"#B0BEC5\", \"#B0BEC5\", \"#B0BEC5\", \"#B0BEC5\", \"#B0BEC5\", \"#B0BEC5\", \"#B0BEC5\", \"#B0BEC5\", \"#B0BEC5\", \"#B0BEC5\", \"#B0BEC5\", \"#B0BEC5\", \"#B0BEC5\", \"#B0BEC5\", \"#B0BEC5\", \"#B0BEC5\", \"#B0BEC5\", \"#B0BEC5\", \"#B0BEC5\", \"#B0BEC5\", \"#B0BEC5\", \"#B0BEC5\", \"#B0BEC5\", \"#B0BEC5\", \"#B0BEC5\", \"#B0BEC5\"]]}], \"label\": \"Topic 169\", \"method\": \"update\"}, {\"args\": [{\"marker.color\": [[\"#B0BEC5\", \"#B0BEC5\", \"#B0BEC5\", \"#B0BEC5\", \"#B0BEC5\", \"#B0BEC5\", \"#B0BEC5\", \"#B0BEC5\", \"#B0BEC5\", \"red\", \"#B0BEC5\", \"#B0BEC5\", \"#B0BEC5\", \"#B0BEC5\", \"#B0BEC5\", \"#B0BEC5\", \"#B0BEC5\", \"#B0BEC5\", \"#B0BEC5\", \"#B0BEC5\", \"#B0BEC5\", \"#B0BEC5\", \"#B0BEC5\", \"#B0BEC5\", \"#B0BEC5\", \"#B0BEC5\", \"#B0BEC5\", \"#B0BEC5\", \"#B0BEC5\", \"#B0BEC5\", \"#B0BEC5\", \"#B0BEC5\", \"#B0BEC5\", \"#B0BEC5\", \"#B0BEC5\", \"#B0BEC5\", \"#B0BEC5\", \"#B0BEC5\"]]}], \"label\": \"Topic 184\", \"method\": \"update\"}, {\"args\": [{\"marker.color\": [[\"#B0BEC5\", \"#B0BEC5\", \"#B0BEC5\", \"#B0BEC5\", \"#B0BEC5\", \"#B0BEC5\", \"#B0BEC5\", \"#B0BEC5\", \"#B0BEC5\", \"#B0BEC5\", \"red\", \"#B0BEC5\", \"#B0BEC5\", \"#B0BEC5\", \"#B0BEC5\", \"#B0BEC5\", \"#B0BEC5\", \"#B0BEC5\", \"#B0BEC5\", \"#B0BEC5\", \"#B0BEC5\", \"#B0BEC5\", \"#B0BEC5\", \"#B0BEC5\", \"#B0BEC5\", \"#B0BEC5\", \"#B0BEC5\", \"#B0BEC5\", \"#B0BEC5\", \"#B0BEC5\", \"#B0BEC5\", \"#B0BEC5\", \"#B0BEC5\", \"#B0BEC5\", \"#B0BEC5\", \"#B0BEC5\", \"#B0BEC5\", \"#B0BEC5\"]]}], \"label\": \"Topic 235\", \"method\": \"update\"}, {\"args\": [{\"marker.color\": [[\"#B0BEC5\", \"#B0BEC5\", \"#B0BEC5\", \"#B0BEC5\", \"#B0BEC5\", \"#B0BEC5\", \"#B0BEC5\", \"#B0BEC5\", \"#B0BEC5\", \"#B0BEC5\", \"#B0BEC5\", \"red\", \"#B0BEC5\", \"#B0BEC5\", \"#B0BEC5\", \"#B0BEC5\", \"#B0BEC5\", \"#B0BEC5\", \"#B0BEC5\", \"#B0BEC5\", \"#B0BEC5\", \"#B0BEC5\", \"#B0BEC5\", \"#B0BEC5\", \"#B0BEC5\", \"#B0BEC5\", \"#B0BEC5\", \"#B0BEC5\", \"#B0BEC5\", \"#B0BEC5\", \"#B0BEC5\", \"#B0BEC5\", \"#B0BEC5\", \"#B0BEC5\", \"#B0BEC5\", \"#B0BEC5\", \"#B0BEC5\", \"#B0BEC5\"]]}], \"label\": \"Topic 238\", \"method\": \"update\"}, {\"args\": [{\"marker.color\": [[\"#B0BEC5\", \"#B0BEC5\", \"#B0BEC5\", \"#B0BEC5\", \"#B0BEC5\", \"#B0BEC5\", \"#B0BEC5\", \"#B0BEC5\", \"#B0BEC5\", \"#B0BEC5\", \"#B0BEC5\", \"#B0BEC5\", \"red\", \"#B0BEC5\", \"#B0BEC5\", \"#B0BEC5\", \"#B0BEC5\", \"#B0BEC5\", \"#B0BEC5\", \"#B0BEC5\", \"#B0BEC5\", \"#B0BEC5\", \"#B0BEC5\", \"#B0BEC5\", \"#B0BEC5\", \"#B0BEC5\", \"#B0BEC5\", \"#B0BEC5\", \"#B0BEC5\", \"#B0BEC5\", \"#B0BEC5\", \"#B0BEC5\", \"#B0BEC5\", \"#B0BEC5\", \"#B0BEC5\", \"#B0BEC5\", \"#B0BEC5\", \"#B0BEC5\"]]}], \"label\": \"Topic 263\", \"method\": \"update\"}, {\"args\": [{\"marker.color\": [[\"#B0BEC5\", \"#B0BEC5\", \"#B0BEC5\", \"#B0BEC5\", \"#B0BEC5\", \"#B0BEC5\", \"#B0BEC5\", \"#B0BEC5\", \"#B0BEC5\", \"#B0BEC5\", \"#B0BEC5\", \"#B0BEC5\", \"#B0BEC5\", \"red\", \"#B0BEC5\", \"#B0BEC5\", \"#B0BEC5\", \"#B0BEC5\", \"#B0BEC5\", \"#B0BEC5\", \"#B0BEC5\", \"#B0BEC5\", \"#B0BEC5\", \"#B0BEC5\", \"#B0BEC5\", \"#B0BEC5\", \"#B0BEC5\", \"#B0BEC5\", \"#B0BEC5\", \"#B0BEC5\", \"#B0BEC5\", \"#B0BEC5\", \"#B0BEC5\", \"#B0BEC5\", \"#B0BEC5\", \"#B0BEC5\", \"#B0BEC5\", \"#B0BEC5\"]]}], \"label\": \"Topic 324\", \"method\": \"update\"}, {\"args\": [{\"marker.color\": [[\"#B0BEC5\", \"#B0BEC5\", \"#B0BEC5\", \"#B0BEC5\", \"#B0BEC5\", \"#B0BEC5\", \"#B0BEC5\", \"#B0BEC5\", \"#B0BEC5\", \"#B0BEC5\", \"#B0BEC5\", \"#B0BEC5\", \"#B0BEC5\", \"#B0BEC5\", \"red\", \"#B0BEC5\", \"#B0BEC5\", \"#B0BEC5\", \"#B0BEC5\", \"#B0BEC5\", \"#B0BEC5\", \"#B0BEC5\", \"#B0BEC5\", \"#B0BEC5\", \"#B0BEC5\", \"#B0BEC5\", \"#B0BEC5\", \"#B0BEC5\", \"#B0BEC5\", \"#B0BEC5\", \"#B0BEC5\", \"#B0BEC5\", \"#B0BEC5\", \"#B0BEC5\", \"#B0BEC5\", \"#B0BEC5\", \"#B0BEC5\", \"#B0BEC5\"]]}], \"label\": \"Topic 367\", \"method\": \"update\"}, {\"args\": [{\"marker.color\": [[\"#B0BEC5\", \"#B0BEC5\", \"#B0BEC5\", \"#B0BEC5\", \"#B0BEC5\", \"#B0BEC5\", \"#B0BEC5\", \"#B0BEC5\", \"#B0BEC5\", \"#B0BEC5\", \"#B0BEC5\", \"#B0BEC5\", \"#B0BEC5\", \"#B0BEC5\", \"#B0BEC5\", \"red\", \"#B0BEC5\", \"#B0BEC5\", \"#B0BEC5\", \"#B0BEC5\", \"#B0BEC5\", \"#B0BEC5\", \"#B0BEC5\", \"#B0BEC5\", \"#B0BEC5\", \"#B0BEC5\", \"#B0BEC5\", \"#B0BEC5\", \"#B0BEC5\", \"#B0BEC5\", \"#B0BEC5\", \"#B0BEC5\", \"#B0BEC5\", \"#B0BEC5\", \"#B0BEC5\", \"#B0BEC5\", \"#B0BEC5\", \"#B0BEC5\"]]}], \"label\": \"Topic 377\", \"method\": \"update\"}, {\"args\": [{\"marker.color\": [[\"#B0BEC5\", \"#B0BEC5\", \"#B0BEC5\", \"#B0BEC5\", \"#B0BEC5\", \"#B0BEC5\", \"#B0BEC5\", \"#B0BEC5\", \"#B0BEC5\", \"#B0BEC5\", \"#B0BEC5\", \"#B0BEC5\", \"#B0BEC5\", \"#B0BEC5\", \"#B0BEC5\", \"#B0BEC5\", \"red\", \"#B0BEC5\", \"#B0BEC5\", \"#B0BEC5\", \"#B0BEC5\", \"#B0BEC5\", \"#B0BEC5\", \"#B0BEC5\", \"#B0BEC5\", \"#B0BEC5\", \"#B0BEC5\", \"#B0BEC5\", \"#B0BEC5\", \"#B0BEC5\", \"#B0BEC5\", \"#B0BEC5\", \"#B0BEC5\", \"#B0BEC5\", \"#B0BEC5\", \"#B0BEC5\", \"#B0BEC5\", \"#B0BEC5\"]]}], \"label\": \"Topic 494\", \"method\": \"update\"}, {\"args\": [{\"marker.color\": [[\"#B0BEC5\", \"#B0BEC5\", \"#B0BEC5\", \"#B0BEC5\", \"#B0BEC5\", \"#B0BEC5\", \"#B0BEC5\", \"#B0BEC5\", \"#B0BEC5\", \"#B0BEC5\", \"#B0BEC5\", \"#B0BEC5\", \"#B0BEC5\", \"#B0BEC5\", \"#B0BEC5\", \"#B0BEC5\", \"#B0BEC5\", \"red\", \"#B0BEC5\", \"#B0BEC5\", \"#B0BEC5\", \"#B0BEC5\", \"#B0BEC5\", \"#B0BEC5\", \"#B0BEC5\", \"#B0BEC5\", \"#B0BEC5\", \"#B0BEC5\", \"#B0BEC5\", \"#B0BEC5\", \"#B0BEC5\", \"#B0BEC5\", \"#B0BEC5\", \"#B0BEC5\", \"#B0BEC5\", \"#B0BEC5\", \"#B0BEC5\", \"#B0BEC5\"]]}], \"label\": \"Topic 526\", \"method\": \"update\"}, {\"args\": [{\"marker.color\": [[\"#B0BEC5\", \"#B0BEC5\", \"#B0BEC5\", \"#B0BEC5\", \"#B0BEC5\", \"#B0BEC5\", \"#B0BEC5\", \"#B0BEC5\", \"#B0BEC5\", \"#B0BEC5\", \"#B0BEC5\", \"#B0BEC5\", \"#B0BEC5\", \"#B0BEC5\", \"#B0BEC5\", \"#B0BEC5\", \"#B0BEC5\", \"#B0BEC5\", \"red\", \"#B0BEC5\", \"#B0BEC5\", \"#B0BEC5\", \"#B0BEC5\", \"#B0BEC5\", \"#B0BEC5\", \"#B0BEC5\", \"#B0BEC5\", \"#B0BEC5\", \"#B0BEC5\", \"#B0BEC5\", \"#B0BEC5\", \"#B0BEC5\", \"#B0BEC5\", \"#B0BEC5\", \"#B0BEC5\", \"#B0BEC5\", \"#B0BEC5\", \"#B0BEC5\"]]}], \"label\": \"Topic 576\", \"method\": \"update\"}, {\"args\": [{\"marker.color\": [[\"#B0BEC5\", \"#B0BEC5\", \"#B0BEC5\", \"#B0BEC5\", \"#B0BEC5\", \"#B0BEC5\", \"#B0BEC5\", \"#B0BEC5\", \"#B0BEC5\", \"#B0BEC5\", \"#B0BEC5\", \"#B0BEC5\", \"#B0BEC5\", \"#B0BEC5\", \"#B0BEC5\", \"#B0BEC5\", \"#B0BEC5\", \"#B0BEC5\", \"#B0BEC5\", \"red\", \"#B0BEC5\", \"#B0BEC5\", \"#B0BEC5\", \"#B0BEC5\", \"#B0BEC5\", \"#B0BEC5\", \"#B0BEC5\", \"#B0BEC5\", \"#B0BEC5\", \"#B0BEC5\", \"#B0BEC5\", \"#B0BEC5\", \"#B0BEC5\", \"#B0BEC5\", \"#B0BEC5\", \"#B0BEC5\", \"#B0BEC5\", \"#B0BEC5\"]]}], \"label\": \"Topic 618\", \"method\": \"update\"}, {\"args\": [{\"marker.color\": [[\"#B0BEC5\", \"#B0BEC5\", \"#B0BEC5\", \"#B0BEC5\", \"#B0BEC5\", \"#B0BEC5\", \"#B0BEC5\", \"#B0BEC5\", \"#B0BEC5\", \"#B0BEC5\", \"#B0BEC5\", \"#B0BEC5\", \"#B0BEC5\", \"#B0BEC5\", \"#B0BEC5\", \"#B0BEC5\", \"#B0BEC5\", \"#B0BEC5\", \"#B0BEC5\", \"#B0BEC5\", \"red\", \"#B0BEC5\", \"#B0BEC5\", \"#B0BEC5\", \"#B0BEC5\", \"#B0BEC5\", \"#B0BEC5\", \"#B0BEC5\", \"#B0BEC5\", \"#B0BEC5\", \"#B0BEC5\", \"#B0BEC5\", \"#B0BEC5\", \"#B0BEC5\", \"#B0BEC5\", \"#B0BEC5\", \"#B0BEC5\", \"#B0BEC5\"]]}], \"label\": \"Topic 638\", \"method\": \"update\"}, {\"args\": [{\"marker.color\": [[\"#B0BEC5\", \"#B0BEC5\", \"#B0BEC5\", \"#B0BEC5\", \"#B0BEC5\", \"#B0BEC5\", \"#B0BEC5\", \"#B0BEC5\", \"#B0BEC5\", \"#B0BEC5\", \"#B0BEC5\", \"#B0BEC5\", \"#B0BEC5\", \"#B0BEC5\", \"#B0BEC5\", \"#B0BEC5\", \"#B0BEC5\", \"#B0BEC5\", \"#B0BEC5\", \"#B0BEC5\", \"#B0BEC5\", \"red\", \"#B0BEC5\", \"#B0BEC5\", \"#B0BEC5\", \"#B0BEC5\", \"#B0BEC5\", \"#B0BEC5\", \"#B0BEC5\", \"#B0BEC5\", \"#B0BEC5\", \"#B0BEC5\", \"#B0BEC5\", \"#B0BEC5\", \"#B0BEC5\", \"#B0BEC5\", \"#B0BEC5\", \"#B0BEC5\"]]}], \"label\": \"Topic 658\", \"method\": \"update\"}, {\"args\": [{\"marker.color\": [[\"#B0BEC5\", \"#B0BEC5\", \"#B0BEC5\", \"#B0BEC5\", \"#B0BEC5\", \"#B0BEC5\", \"#B0BEC5\", \"#B0BEC5\", \"#B0BEC5\", \"#B0BEC5\", \"#B0BEC5\", \"#B0BEC5\", \"#B0BEC5\", \"#B0BEC5\", \"#B0BEC5\", \"#B0BEC5\", \"#B0BEC5\", \"#B0BEC5\", \"#B0BEC5\", \"#B0BEC5\", \"#B0BEC5\", \"#B0BEC5\", \"red\", \"#B0BEC5\", \"#B0BEC5\", \"#B0BEC5\", \"#B0BEC5\", \"#B0BEC5\", \"#B0BEC5\", \"#B0BEC5\", \"#B0BEC5\", \"#B0BEC5\", \"#B0BEC5\", \"#B0BEC5\", \"#B0BEC5\", \"#B0BEC5\", \"#B0BEC5\", \"#B0BEC5\"]]}], \"label\": \"Topic 707\", \"method\": \"update\"}, {\"args\": [{\"marker.color\": [[\"#B0BEC5\", \"#B0BEC5\", \"#B0BEC5\", \"#B0BEC5\", \"#B0BEC5\", \"#B0BEC5\", \"#B0BEC5\", \"#B0BEC5\", \"#B0BEC5\", \"#B0BEC5\", \"#B0BEC5\", \"#B0BEC5\", \"#B0BEC5\", \"#B0BEC5\", \"#B0BEC5\", \"#B0BEC5\", \"#B0BEC5\", \"#B0BEC5\", \"#B0BEC5\", \"#B0BEC5\", \"#B0BEC5\", \"#B0BEC5\", \"#B0BEC5\", \"red\", \"#B0BEC5\", \"#B0BEC5\", \"#B0BEC5\", \"#B0BEC5\", \"#B0BEC5\", \"#B0BEC5\", \"#B0BEC5\", \"#B0BEC5\", \"#B0BEC5\", \"#B0BEC5\", \"#B0BEC5\", \"#B0BEC5\", \"#B0BEC5\", \"#B0BEC5\"]]}], \"label\": \"Topic 725\", \"method\": \"update\"}, {\"args\": [{\"marker.color\": [[\"#B0BEC5\", \"#B0BEC5\", \"#B0BEC5\", \"#B0BEC5\", \"#B0BEC5\", \"#B0BEC5\", \"#B0BEC5\", \"#B0BEC5\", \"#B0BEC5\", \"#B0BEC5\", \"#B0BEC5\", \"#B0BEC5\", \"#B0BEC5\", \"#B0BEC5\", \"#B0BEC5\", \"#B0BEC5\", \"#B0BEC5\", \"#B0BEC5\", \"#B0BEC5\", \"#B0BEC5\", \"#B0BEC5\", \"#B0BEC5\", \"#B0BEC5\", \"#B0BEC5\", \"red\", \"#B0BEC5\", \"#B0BEC5\", \"#B0BEC5\", \"#B0BEC5\", \"#B0BEC5\", \"#B0BEC5\", \"#B0BEC5\", \"#B0BEC5\", \"#B0BEC5\", \"#B0BEC5\", \"#B0BEC5\", \"#B0BEC5\", \"#B0BEC5\"]]}], \"label\": \"Topic 744\", \"method\": \"update\"}, {\"args\": [{\"marker.color\": [[\"#B0BEC5\", \"#B0BEC5\", \"#B0BEC5\", \"#B0BEC5\", \"#B0BEC5\", \"#B0BEC5\", \"#B0BEC5\", \"#B0BEC5\", \"#B0BEC5\", \"#B0BEC5\", \"#B0BEC5\", \"#B0BEC5\", \"#B0BEC5\", \"#B0BEC5\", \"#B0BEC5\", \"#B0BEC5\", \"#B0BEC5\", \"#B0BEC5\", \"#B0BEC5\", \"#B0BEC5\", \"#B0BEC5\", \"#B0BEC5\", \"#B0BEC5\", \"#B0BEC5\", \"#B0BEC5\", \"red\", \"#B0BEC5\", \"#B0BEC5\", \"#B0BEC5\", \"#B0BEC5\", \"#B0BEC5\", \"#B0BEC5\", \"#B0BEC5\", \"#B0BEC5\", \"#B0BEC5\", \"#B0BEC5\", \"#B0BEC5\", \"#B0BEC5\"]]}], \"label\": \"Topic 780\", \"method\": \"update\"}, {\"args\": [{\"marker.color\": [[\"#B0BEC5\", \"#B0BEC5\", \"#B0BEC5\", \"#B0BEC5\", \"#B0BEC5\", \"#B0BEC5\", \"#B0BEC5\", \"#B0BEC5\", \"#B0BEC5\", \"#B0BEC5\", \"#B0BEC5\", \"#B0BEC5\", \"#B0BEC5\", \"#B0BEC5\", \"#B0BEC5\", \"#B0BEC5\", \"#B0BEC5\", \"#B0BEC5\", \"#B0BEC5\", \"#B0BEC5\", \"#B0BEC5\", \"#B0BEC5\", \"#B0BEC5\", \"#B0BEC5\", \"#B0BEC5\", \"#B0BEC5\", \"red\", \"#B0BEC5\", \"#B0BEC5\", \"#B0BEC5\", \"#B0BEC5\", \"#B0BEC5\", \"#B0BEC5\", \"#B0BEC5\", \"#B0BEC5\", \"#B0BEC5\", \"#B0BEC5\", \"#B0BEC5\"]]}], \"label\": \"Topic 821\", \"method\": \"update\"}, {\"args\": [{\"marker.color\": [[\"#B0BEC5\", \"#B0BEC5\", \"#B0BEC5\", \"#B0BEC5\", \"#B0BEC5\", \"#B0BEC5\", \"#B0BEC5\", \"#B0BEC5\", \"#B0BEC5\", \"#B0BEC5\", \"#B0BEC5\", \"#B0BEC5\", \"#B0BEC5\", \"#B0BEC5\", \"#B0BEC5\", \"#B0BEC5\", \"#B0BEC5\", \"#B0BEC5\", \"#B0BEC5\", \"#B0BEC5\", \"#B0BEC5\", \"#B0BEC5\", \"#B0BEC5\", \"#B0BEC5\", \"#B0BEC5\", \"#B0BEC5\", \"#B0BEC5\", \"red\", \"#B0BEC5\", \"#B0BEC5\", \"#B0BEC5\", \"#B0BEC5\", \"#B0BEC5\", \"#B0BEC5\", \"#B0BEC5\", \"#B0BEC5\", \"#B0BEC5\", \"#B0BEC5\"]]}], \"label\": \"Topic 854\", \"method\": \"update\"}, {\"args\": [{\"marker.color\": [[\"#B0BEC5\", \"#B0BEC5\", \"#B0BEC5\", \"#B0BEC5\", \"#B0BEC5\", \"#B0BEC5\", \"#B0BEC5\", \"#B0BEC5\", \"#B0BEC5\", \"#B0BEC5\", \"#B0BEC5\", \"#B0BEC5\", \"#B0BEC5\", \"#B0BEC5\", \"#B0BEC5\", \"#B0BEC5\", \"#B0BEC5\", \"#B0BEC5\", \"#B0BEC5\", \"#B0BEC5\", \"#B0BEC5\", \"#B0BEC5\", \"#B0BEC5\", \"#B0BEC5\", \"#B0BEC5\", \"#B0BEC5\", \"#B0BEC5\", \"#B0BEC5\", \"red\", \"#B0BEC5\", \"#B0BEC5\", \"#B0BEC5\", \"#B0BEC5\", \"#B0BEC5\", \"#B0BEC5\", \"#B0BEC5\", \"#B0BEC5\", \"#B0BEC5\"]]}], \"label\": \"Topic 863\", \"method\": \"update\"}, {\"args\": [{\"marker.color\": [[\"#B0BEC5\", \"#B0BEC5\", \"#B0BEC5\", \"#B0BEC5\", \"#B0BEC5\", \"#B0BEC5\", \"#B0BEC5\", \"#B0BEC5\", \"#B0BEC5\", \"#B0BEC5\", \"#B0BEC5\", \"#B0BEC5\", \"#B0BEC5\", \"#B0BEC5\", \"#B0BEC5\", \"#B0BEC5\", \"#B0BEC5\", \"#B0BEC5\", \"#B0BEC5\", \"#B0BEC5\", \"#B0BEC5\", \"#B0BEC5\", \"#B0BEC5\", \"#B0BEC5\", \"#B0BEC5\", \"#B0BEC5\", \"#B0BEC5\", \"#B0BEC5\", \"#B0BEC5\", \"red\", \"#B0BEC5\", \"#B0BEC5\", \"#B0BEC5\", \"#B0BEC5\", \"#B0BEC5\", \"#B0BEC5\", \"#B0BEC5\", \"#B0BEC5\"]]}], \"label\": \"Topic 923\", \"method\": \"update\"}, {\"args\": [{\"marker.color\": [[\"#B0BEC5\", \"#B0BEC5\", \"#B0BEC5\", \"#B0BEC5\", \"#B0BEC5\", \"#B0BEC5\", \"#B0BEC5\", \"#B0BEC5\", \"#B0BEC5\", \"#B0BEC5\", \"#B0BEC5\", \"#B0BEC5\", \"#B0BEC5\", \"#B0BEC5\", \"#B0BEC5\", \"#B0BEC5\", \"#B0BEC5\", \"#B0BEC5\", \"#B0BEC5\", \"#B0BEC5\", \"#B0BEC5\", \"#B0BEC5\", \"#B0BEC5\", \"#B0BEC5\", \"#B0BEC5\", \"#B0BEC5\", \"#B0BEC5\", \"#B0BEC5\", \"#B0BEC5\", \"#B0BEC5\", \"red\", \"#B0BEC5\", \"#B0BEC5\", \"#B0BEC5\", \"#B0BEC5\", \"#B0BEC5\", \"#B0BEC5\", \"#B0BEC5\"]]}], \"label\": \"Topic 1233\", \"method\": \"update\"}, {\"args\": [{\"marker.color\": [[\"#B0BEC5\", \"#B0BEC5\", \"#B0BEC5\", \"#B0BEC5\", \"#B0BEC5\", \"#B0BEC5\", \"#B0BEC5\", \"#B0BEC5\", \"#B0BEC5\", \"#B0BEC5\", \"#B0BEC5\", \"#B0BEC5\", \"#B0BEC5\", \"#B0BEC5\", \"#B0BEC5\", \"#B0BEC5\", \"#B0BEC5\", \"#B0BEC5\", \"#B0BEC5\", \"#B0BEC5\", \"#B0BEC5\", \"#B0BEC5\", \"#B0BEC5\", \"#B0BEC5\", \"#B0BEC5\", \"#B0BEC5\", \"#B0BEC5\", \"#B0BEC5\", \"#B0BEC5\", \"#B0BEC5\", \"#B0BEC5\", \"red\", \"#B0BEC5\", \"#B0BEC5\", \"#B0BEC5\", \"#B0BEC5\", \"#B0BEC5\", \"#B0BEC5\"]]}], \"label\": \"Topic 1375\", \"method\": \"update\"}, {\"args\": [{\"marker.color\": [[\"#B0BEC5\", \"#B0BEC5\", \"#B0BEC5\", \"#B0BEC5\", \"#B0BEC5\", \"#B0BEC5\", \"#B0BEC5\", \"#B0BEC5\", \"#B0BEC5\", \"#B0BEC5\", \"#B0BEC5\", \"#B0BEC5\", \"#B0BEC5\", \"#B0BEC5\", \"#B0BEC5\", \"#B0BEC5\", \"#B0BEC5\", \"#B0BEC5\", \"#B0BEC5\", \"#B0BEC5\", \"#B0BEC5\", \"#B0BEC5\", \"#B0BEC5\", \"#B0BEC5\", \"#B0BEC5\", \"#B0BEC5\", \"#B0BEC5\", \"#B0BEC5\", \"#B0BEC5\", \"#B0BEC5\", \"#B0BEC5\", \"#B0BEC5\", \"red\", \"#B0BEC5\", \"#B0BEC5\", \"#B0BEC5\", \"#B0BEC5\", \"#B0BEC5\"]]}], \"label\": \"Topic 1449\", \"method\": \"update\"}, {\"args\": [{\"marker.color\": [[\"#B0BEC5\", \"#B0BEC5\", \"#B0BEC5\", \"#B0BEC5\", \"#B0BEC5\", \"#B0BEC5\", \"#B0BEC5\", \"#B0BEC5\", \"#B0BEC5\", \"#B0BEC5\", \"#B0BEC5\", \"#B0BEC5\", \"#B0BEC5\", \"#B0BEC5\", \"#B0BEC5\", \"#B0BEC5\", \"#B0BEC5\", \"#B0BEC5\", \"#B0BEC5\", \"#B0BEC5\", \"#B0BEC5\", \"#B0BEC5\", \"#B0BEC5\", \"#B0BEC5\", \"#B0BEC5\", \"#B0BEC5\", \"#B0BEC5\", \"#B0BEC5\", \"#B0BEC5\", \"#B0BEC5\", \"#B0BEC5\", \"#B0BEC5\", \"#B0BEC5\", \"red\", \"#B0BEC5\", \"#B0BEC5\", \"#B0BEC5\", \"#B0BEC5\"]]}], \"label\": \"Topic 1458\", \"method\": \"update\"}, {\"args\": [{\"marker.color\": [[\"#B0BEC5\", \"#B0BEC5\", \"#B0BEC5\", \"#B0BEC5\", \"#B0BEC5\", \"#B0BEC5\", \"#B0BEC5\", \"#B0BEC5\", \"#B0BEC5\", \"#B0BEC5\", \"#B0BEC5\", \"#B0BEC5\", \"#B0BEC5\", \"#B0BEC5\", \"#B0BEC5\", \"#B0BEC5\", \"#B0BEC5\", \"#B0BEC5\", \"#B0BEC5\", \"#B0BEC5\", \"#B0BEC5\", \"#B0BEC5\", \"#B0BEC5\", \"#B0BEC5\", \"#B0BEC5\", \"#B0BEC5\", \"#B0BEC5\", \"#B0BEC5\", \"#B0BEC5\", \"#B0BEC5\", \"#B0BEC5\", \"#B0BEC5\", \"#B0BEC5\", \"#B0BEC5\", \"red\", \"#B0BEC5\", \"#B0BEC5\", \"#B0BEC5\"]]}], \"label\": \"Topic 1531\", \"method\": \"update\"}, {\"args\": [{\"marker.color\": [[\"#B0BEC5\", \"#B0BEC5\", \"#B0BEC5\", \"#B0BEC5\", \"#B0BEC5\", \"#B0BEC5\", \"#B0BEC5\", \"#B0BEC5\", \"#B0BEC5\", \"#B0BEC5\", \"#B0BEC5\", \"#B0BEC5\", \"#B0BEC5\", \"#B0BEC5\", \"#B0BEC5\", \"#B0BEC5\", \"#B0BEC5\", \"#B0BEC5\", \"#B0BEC5\", \"#B0BEC5\", \"#B0BEC5\", \"#B0BEC5\", \"#B0BEC5\", \"#B0BEC5\", \"#B0BEC5\", \"#B0BEC5\", \"#B0BEC5\", \"#B0BEC5\", \"#B0BEC5\", \"#B0BEC5\", \"#B0BEC5\", \"#B0BEC5\", \"#B0BEC5\", \"#B0BEC5\", \"#B0BEC5\", \"red\", \"#B0BEC5\", \"#B0BEC5\"]]}], \"label\": \"Topic 1560\", \"method\": \"update\"}, {\"args\": [{\"marker.color\": [[\"#B0BEC5\", \"#B0BEC5\", \"#B0BEC5\", \"#B0BEC5\", \"#B0BEC5\", \"#B0BEC5\", \"#B0BEC5\", \"#B0BEC5\", \"#B0BEC5\", \"#B0BEC5\", \"#B0BEC5\", \"#B0BEC5\", \"#B0BEC5\", \"#B0BEC5\", \"#B0BEC5\", \"#B0BEC5\", \"#B0BEC5\", \"#B0BEC5\", \"#B0BEC5\", \"#B0BEC5\", \"#B0BEC5\", \"#B0BEC5\", \"#B0BEC5\", \"#B0BEC5\", \"#B0BEC5\", \"#B0BEC5\", \"#B0BEC5\", \"#B0BEC5\", \"#B0BEC5\", \"#B0BEC5\", \"#B0BEC5\", \"#B0BEC5\", \"#B0BEC5\", \"#B0BEC5\", \"#B0BEC5\", \"#B0BEC5\", \"red\", \"#B0BEC5\"]]}], \"label\": \"Topic 1592\", \"method\": \"update\"}, {\"args\": [{\"marker.color\": [[\"#B0BEC5\", \"#B0BEC5\", \"#B0BEC5\", \"#B0BEC5\", \"#B0BEC5\", \"#B0BEC5\", \"#B0BEC5\", \"#B0BEC5\", \"#B0BEC5\", \"#B0BEC5\", \"#B0BEC5\", \"#B0BEC5\", \"#B0BEC5\", \"#B0BEC5\", \"#B0BEC5\", \"#B0BEC5\", \"#B0BEC5\", \"#B0BEC5\", \"#B0BEC5\", \"#B0BEC5\", \"#B0BEC5\", \"#B0BEC5\", \"#B0BEC5\", \"#B0BEC5\", \"#B0BEC5\", \"#B0BEC5\", \"#B0BEC5\", \"#B0BEC5\", \"#B0BEC5\", \"#B0BEC5\", \"#B0BEC5\", \"#B0BEC5\", \"#B0BEC5\", \"#B0BEC5\", \"#B0BEC5\", \"#B0BEC5\", \"#B0BEC5\", \"red\"]]}], \"label\": \"Topic 1609\", \"method\": \"update\"}]}], \"template\": {\"data\": {\"bar\": [{\"error_x\": {\"color\": \"rgb(36,36,36)\"}, \"error_y\": {\"color\": \"rgb(36,36,36)\"}, \"marker\": {\"line\": {\"color\": \"white\", \"width\": 0.5}}, \"type\": \"bar\"}], \"barpolar\": [{\"marker\": {\"line\": {\"color\": \"white\", \"width\": 0.5}}, \"type\": \"barpolar\"}], \"carpet\": [{\"aaxis\": {\"endlinecolor\": \"rgb(36,36,36)\", \"gridcolor\": \"white\", \"linecolor\": \"white\", \"minorgridcolor\": \"white\", \"startlinecolor\": \"rgb(36,36,36)\"}, \"baxis\": {\"endlinecolor\": \"rgb(36,36,36)\", \"gridcolor\": \"white\", \"linecolor\": \"white\", \"minorgridcolor\": \"white\", \"startlinecolor\": \"rgb(36,36,36)\"}, \"type\": \"carpet\"}], \"choropleth\": [{\"colorbar\": {\"outlinewidth\": 1, \"tickcolor\": \"rgb(36,36,36)\", \"ticks\": \"outside\"}, \"type\": \"choropleth\"}], \"contour\": [{\"colorbar\": {\"outlinewidth\": 1, \"tickcolor\": \"rgb(36,36,36)\", \"ticks\": \"outside\"}, \"colorscale\": [[0.0, \"#440154\"], [0.1111111111111111, \"#482878\"], [0.2222222222222222, \"#3e4989\"], [0.3333333333333333, \"#31688e\"], [0.4444444444444444, \"#26828e\"], [0.5555555555555556, \"#1f9e89\"], [0.6666666666666666, \"#35b779\"], [0.7777777777777778, \"#6ece58\"], [0.8888888888888888, \"#b5de2b\"], [1.0, \"#fde725\"]], \"type\": \"contour\"}], \"contourcarpet\": [{\"colorbar\": {\"outlinewidth\": 1, \"tickcolor\": \"rgb(36,36,36)\", \"ticks\": \"outside\"}, \"type\": \"contourcarpet\"}], \"heatmap\": [{\"colorbar\": {\"outlinewidth\": 1, \"tickcolor\": \"rgb(36,36,36)\", \"ticks\": \"outside\"}, \"colorscale\": [[0.0, \"#440154\"], [0.1111111111111111, \"#482878\"], [0.2222222222222222, \"#3e4989\"], [0.3333333333333333, \"#31688e\"], [0.4444444444444444, \"#26828e\"], [0.5555555555555556, \"#1f9e89\"], [0.6666666666666666, \"#35b779\"], [0.7777777777777778, \"#6ece58\"], [0.8888888888888888, \"#b5de2b\"], [1.0, \"#fde725\"]], \"type\": \"heatmap\"}], \"heatmapgl\": [{\"colorbar\": {\"outlinewidth\": 1, \"tickcolor\": \"rgb(36,36,36)\", \"ticks\": \"outside\"}, \"colorscale\": [[0.0, \"#440154\"], [0.1111111111111111, \"#482878\"], [0.2222222222222222, \"#3e4989\"], [0.3333333333333333, \"#31688e\"], [0.4444444444444444, \"#26828e\"], [0.5555555555555556, \"#1f9e89\"], [0.6666666666666666, \"#35b779\"], [0.7777777777777778, \"#6ece58\"], [0.8888888888888888, \"#b5de2b\"], [1.0, \"#fde725\"]], \"type\": \"heatmapgl\"}], \"histogram\": [{\"marker\": {\"line\": {\"color\": \"white\", \"width\": 0.6}}, \"type\": \"histogram\"}], \"histogram2d\": [{\"colorbar\": {\"outlinewidth\": 1, \"tickcolor\": \"rgb(36,36,36)\", \"ticks\": \"outside\"}, \"colorscale\": [[0.0, \"#440154\"], [0.1111111111111111, \"#482878\"], [0.2222222222222222, \"#3e4989\"], [0.3333333333333333, \"#31688e\"], [0.4444444444444444, \"#26828e\"], [0.5555555555555556, \"#1f9e89\"], [0.6666666666666666, \"#35b779\"], [0.7777777777777778, \"#6ece58\"], [0.8888888888888888, \"#b5de2b\"], [1.0, \"#fde725\"]], \"type\": \"histogram2d\"}], \"histogram2dcontour\": [{\"colorbar\": {\"outlinewidth\": 1, \"tickcolor\": \"rgb(36,36,36)\", \"ticks\": \"outside\"}, \"colorscale\": [[0.0, \"#440154\"], [0.1111111111111111, \"#482878\"], [0.2222222222222222, \"#3e4989\"], [0.3333333333333333, \"#31688e\"], [0.4444444444444444, \"#26828e\"], [0.5555555555555556, \"#1f9e89\"], [0.6666666666666666, \"#35b779\"], [0.7777777777777778, \"#6ece58\"], [0.8888888888888888, \"#b5de2b\"], [1.0, \"#fde725\"]], \"type\": \"histogram2dcontour\"}], \"mesh3d\": [{\"colorbar\": {\"outlinewidth\": 1, \"tickcolor\": \"rgb(36,36,36)\", \"ticks\": \"outside\"}, \"type\": \"mesh3d\"}], \"parcoords\": [{\"line\": {\"colorbar\": {\"outlinewidth\": 1, \"tickcolor\": \"rgb(36,36,36)\", \"ticks\": \"outside\"}}, \"type\": \"parcoords\"}], \"pie\": [{\"automargin\": true, \"type\": \"pie\"}], \"scatter\": [{\"marker\": {\"colorbar\": {\"outlinewidth\": 1, \"tickcolor\": \"rgb(36,36,36)\", \"ticks\": \"outside\"}}, \"type\": \"scatter\"}], \"scatter3d\": [{\"line\": {\"colorbar\": {\"outlinewidth\": 1, \"tickcolor\": \"rgb(36,36,36)\", \"ticks\": \"outside\"}}, \"marker\": {\"colorbar\": {\"outlinewidth\": 1, \"tickcolor\": \"rgb(36,36,36)\", \"ticks\": \"outside\"}}, \"type\": \"scatter3d\"}], \"scattercarpet\": [{\"marker\": {\"colorbar\": {\"outlinewidth\": 1, \"tickcolor\": \"rgb(36,36,36)\", \"ticks\": \"outside\"}}, \"type\": \"scattercarpet\"}], \"scattergeo\": [{\"marker\": {\"colorbar\": {\"outlinewidth\": 1, \"tickcolor\": \"rgb(36,36,36)\", \"ticks\": \"outside\"}}, \"type\": \"scattergeo\"}], \"scattergl\": [{\"marker\": {\"colorbar\": {\"outlinewidth\": 1, \"tickcolor\": \"rgb(36,36,36)\", \"ticks\": \"outside\"}}, \"type\": \"scattergl\"}], \"scattermapbox\": [{\"marker\": {\"colorbar\": {\"outlinewidth\": 1, \"tickcolor\": \"rgb(36,36,36)\", \"ticks\": \"outside\"}}, \"type\": \"scattermapbox\"}], \"scatterpolar\": [{\"marker\": {\"colorbar\": {\"outlinewidth\": 1, \"tickcolor\": \"rgb(36,36,36)\", \"ticks\": \"outside\"}}, \"type\": \"scatterpolar\"}], \"scatterpolargl\": [{\"marker\": {\"colorbar\": {\"outlinewidth\": 1, \"tickcolor\": \"rgb(36,36,36)\", \"ticks\": \"outside\"}}, \"type\": \"scatterpolargl\"}], \"scatterternary\": [{\"marker\": {\"colorbar\": {\"outlinewidth\": 1, \"tickcolor\": \"rgb(36,36,36)\", \"ticks\": \"outside\"}}, \"type\": \"scatterternary\"}], \"surface\": [{\"colorbar\": {\"outlinewidth\": 1, \"tickcolor\": \"rgb(36,36,36)\", \"ticks\": \"outside\"}, \"colorscale\": [[0.0, \"#440154\"], [0.1111111111111111, \"#482878\"], [0.2222222222222222, \"#3e4989\"], [0.3333333333333333, \"#31688e\"], [0.4444444444444444, \"#26828e\"], [0.5555555555555556, \"#1f9e89\"], [0.6666666666666666, \"#35b779\"], [0.7777777777777778, \"#6ece58\"], [0.8888888888888888, \"#b5de2b\"], [1.0, \"#fde725\"]], \"type\": \"surface\"}], \"table\": [{\"cells\": {\"fill\": {\"color\": \"rgb(237,237,237)\"}, \"line\": {\"color\": \"white\"}}, \"header\": {\"fill\": {\"color\": \"rgb(217,217,217)\"}, \"line\": {\"color\": \"white\"}}, \"type\": \"table\"}]}, \"layout\": {\"annotationdefaults\": {\"arrowhead\": 0, \"arrowwidth\": 1}, \"autotypenumbers\": \"strict\", \"coloraxis\": {\"colorbar\": {\"outlinewidth\": 1, \"tickcolor\": \"rgb(36,36,36)\", \"ticks\": \"outside\"}}, \"colorscale\": {\"diverging\": [[0.0, \"rgb(103,0,31)\"], [0.1, \"rgb(178,24,43)\"], [0.2, \"rgb(214,96,77)\"], [0.3, \"rgb(244,165,130)\"], [0.4, \"rgb(253,219,199)\"], [0.5, \"rgb(247,247,247)\"], [0.6, \"rgb(209,229,240)\"], [0.7, \"rgb(146,197,222)\"], [0.8, \"rgb(67,147,195)\"], [0.9, \"rgb(33,102,172)\"], [1.0, \"rgb(5,48,97)\"]], \"sequential\": [[0.0, \"#440154\"], [0.1111111111111111, \"#482878\"], [0.2222222222222222, \"#3e4989\"], [0.3333333333333333, \"#31688e\"], [0.4444444444444444, \"#26828e\"], [0.5555555555555556, \"#1f9e89\"], [0.6666666666666666, \"#35b779\"], [0.7777777777777778, \"#6ece58\"], [0.8888888888888888, \"#b5de2b\"], [1.0, \"#fde725\"]], \"sequentialminus\": [[0.0, \"#440154\"], [0.1111111111111111, \"#482878\"], [0.2222222222222222, \"#3e4989\"], [0.3333333333333333, \"#31688e\"], [0.4444444444444444, \"#26828e\"], [0.5555555555555556, \"#1f9e89\"], [0.6666666666666666, \"#35b779\"], [0.7777777777777778, \"#6ece58\"], [0.8888888888888888, \"#b5de2b\"], [1.0, \"#fde725\"]]}, \"colorway\": [\"#1F77B4\", \"#FF7F0E\", \"#2CA02C\", \"#D62728\", \"#9467BD\", \"#8C564B\", \"#E377C2\", \"#7F7F7F\", \"#BCBD22\", \"#17BECF\"], \"font\": {\"color\": \"rgb(36,36,36)\"}, \"geo\": {\"bgcolor\": \"white\", \"lakecolor\": \"white\", \"landcolor\": \"white\", \"showlakes\": true, \"showland\": true, \"subunitcolor\": \"white\"}, \"hoverlabel\": {\"align\": \"left\"}, \"hovermode\": \"closest\", \"mapbox\": {\"style\": \"light\"}, \"paper_bgcolor\": \"white\", \"plot_bgcolor\": \"white\", \"polar\": {\"angularaxis\": {\"gridcolor\": \"rgb(232,232,232)\", \"linecolor\": \"rgb(36,36,36)\", \"showgrid\": false, \"showline\": true, \"ticks\": \"outside\"}, \"bgcolor\": \"white\", \"radialaxis\": {\"gridcolor\": \"rgb(232,232,232)\", \"linecolor\": \"rgb(36,36,36)\", \"showgrid\": false, \"showline\": true, \"ticks\": \"outside\"}}, \"scene\": {\"xaxis\": {\"backgroundcolor\": \"white\", \"gridcolor\": \"rgb(232,232,232)\", \"gridwidth\": 2, \"linecolor\": \"rgb(36,36,36)\", \"showbackground\": true, \"showgrid\": false, \"showline\": true, \"ticks\": \"outside\", \"zeroline\": false, \"zerolinecolor\": \"rgb(36,36,36)\"}, \"yaxis\": {\"backgroundcolor\": \"white\", \"gridcolor\": \"rgb(232,232,232)\", \"gridwidth\": 2, \"linecolor\": \"rgb(36,36,36)\", \"showbackground\": true, \"showgrid\": false, \"showline\": true, \"ticks\": \"outside\", \"zeroline\": false, \"zerolinecolor\": \"rgb(36,36,36)\"}, \"zaxis\": {\"backgroundcolor\": \"white\", \"gridcolor\": \"rgb(232,232,232)\", \"gridwidth\": 2, \"linecolor\": \"rgb(36,36,36)\", \"showbackground\": true, \"showgrid\": false, \"showline\": true, \"ticks\": \"outside\", \"zeroline\": false, \"zerolinecolor\": \"rgb(36,36,36)\"}}, \"shapedefaults\": {\"fillcolor\": \"black\", \"line\": {\"width\": 0}, \"opacity\": 0.3}, \"ternary\": {\"aaxis\": {\"gridcolor\": \"rgb(232,232,232)\", \"linecolor\": \"rgb(36,36,36)\", \"showgrid\": false, \"showline\": true, \"ticks\": \"outside\"}, \"baxis\": {\"gridcolor\": \"rgb(232,232,232)\", \"linecolor\": \"rgb(36,36,36)\", \"showgrid\": false, \"showline\": true, \"ticks\": \"outside\"}, \"bgcolor\": \"white\", \"caxis\": {\"gridcolor\": \"rgb(232,232,232)\", \"linecolor\": \"rgb(36,36,36)\", \"showgrid\": false, \"showline\": true, \"ticks\": \"outside\"}}, \"title\": {\"x\": 0.05}, \"xaxis\": {\"automargin\": true, \"gridcolor\": \"rgb(232,232,232)\", \"linecolor\": \"rgb(36,36,36)\", \"showgrid\": false, \"showline\": true, \"ticks\": \"outside\", \"title\": {\"standoff\": 15}, \"zeroline\": false, \"zerolinecolor\": \"rgb(36,36,36)\"}, \"yaxis\": {\"automargin\": true, \"gridcolor\": \"rgb(232,232,232)\", \"linecolor\": \"rgb(36,36,36)\", \"showgrid\": false, \"showline\": true, \"ticks\": \"outside\", \"title\": {\"standoff\": 15}, \"zeroline\": false, \"zerolinecolor\": \"rgb(36,36,36)\"}}}, \"title\": {\"font\": {\"color\": \"Black\", \"size\": 22}, \"text\": \"<b>Intertopic Distance Map\", \"x\": 0.5, \"xanchor\": \"center\", \"y\": 0.95, \"yanchor\": \"top\"}, \"width\": 650, \"xaxis\": {\"anchor\": \"y\", \"domain\": [0.0, 1.0], \"range\": [-6.389922308921814, 16.795622253417967], \"title\": {\"text\": \"\"}, \"visible\": false}, \"yaxis\": {\"anchor\": \"x\", \"domain\": [0.0, 1.0], \"range\": [-0.12859401665627956, 19.683162212371826], \"title\": {\"text\": \"\"}, \"visible\": false}},                        {\"responsive\": true}                    ).then(function(){\n",
              "                            \n",
              "var gd = document.getElementById('c392cbbc-281d-43a1-8193-9c106edda1a1');\n",
              "var x = new MutationObserver(function (mutations, observer) {{\n",
              "        var display = window.getComputedStyle(gd).display;\n",
              "        if (!display || display === 'none') {{\n",
              "            console.log([gd, 'removed!']);\n",
              "            Plotly.purge(gd);\n",
              "            observer.disconnect();\n",
              "        }}\n",
              "}});\n",
              "\n",
              "// Listen for the removal of the full notebook cells\n",
              "var notebookContainer = gd.closest('#notebook-container');\n",
              "if (notebookContainer) {{\n",
              "    x.observe(notebookContainer, {childList: true});\n",
              "}}\n",
              "\n",
              "// Listen for the clearing of the current output cell\n",
              "var outputEl = gd.closest('.output');\n",
              "if (outputEl) {{\n",
              "    x.observe(outputEl, {childList: true});\n",
              "}}\n",
              "\n",
              "                        })                };                            </script>        </div>\n",
              "</body>\n",
              "</html>"
            ]
          },
          "metadata": {
            "tags": []
          }
        }
      ]
    }
  ]
}