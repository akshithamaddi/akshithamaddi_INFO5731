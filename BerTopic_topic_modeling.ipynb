{
  "nbformat": 4,
  "nbformat_minor": 0,
  "metadata": {
    "colab": {
      "name": "BerTopic topic modeling.ipynb",
      "provenance": [],
      "collapsed_sections": [],
      "mount_file_id": "1Egeb3yw7idhsujmWB4S4T33TR1mazoSW",
      "authorship_tag": "ABX9TyNbuWXT/pyEtLRXiMkMrhaQ",
      "include_colab_link": true
    },
    "kernelspec": {
      "name": "python3",
      "display_name": "Python 3"
    },
    "language_info": {
      "name": "python"
    },
    "widgets": {
      "application/vnd.jupyter.widget-state+json": {
        "d05265604b13404a9b9ec1e334d2d0a2": {
          "model_module": "@jupyter-widgets/controls",
          "model_name": "HBoxModel",
          "state": {
            "_view_name": "HBoxView",
            "_dom_classes": [],
            "_model_name": "HBoxModel",
            "_view_module": "@jupyter-widgets/controls",
            "_model_module_version": "1.5.0",
            "_view_count": null,
            "_view_module_version": "1.5.0",
            "box_style": "",
            "layout": "IPY_MODEL_75464b2aa460446a86ac6b81ff9e1666",
            "_model_module": "@jupyter-widgets/controls",
            "children": [
              "IPY_MODEL_70a54537cbef4d25805f38d72abee985",
              "IPY_MODEL_ff05fce7c8b3431e9e73194c9978bfe8"
            ]
          }
        },
        "75464b2aa460446a86ac6b81ff9e1666": {
          "model_module": "@jupyter-widgets/base",
          "model_name": "LayoutModel",
          "state": {
            "_view_name": "LayoutView",
            "grid_template_rows": null,
            "right": null,
            "justify_content": null,
            "_view_module": "@jupyter-widgets/base",
            "overflow": null,
            "_model_module_version": "1.2.0",
            "_view_count": null,
            "flex_flow": null,
            "width": null,
            "min_width": null,
            "border": null,
            "align_items": null,
            "bottom": null,
            "_model_module": "@jupyter-widgets/base",
            "top": null,
            "grid_column": null,
            "overflow_y": null,
            "overflow_x": null,
            "grid_auto_flow": null,
            "grid_area": null,
            "grid_template_columns": null,
            "flex": null,
            "_model_name": "LayoutModel",
            "justify_items": null,
            "grid_row": null,
            "max_height": null,
            "align_content": null,
            "visibility": null,
            "align_self": null,
            "height": null,
            "min_height": null,
            "padding": null,
            "grid_auto_rows": null,
            "grid_gap": null,
            "max_width": null,
            "order": null,
            "_view_module_version": "1.2.0",
            "grid_template_areas": null,
            "object_position": null,
            "object_fit": null,
            "grid_auto_columns": null,
            "margin": null,
            "display": null,
            "left": null
          }
        },
        "70a54537cbef4d25805f38d72abee985": {
          "model_module": "@jupyter-widgets/controls",
          "model_name": "FloatProgressModel",
          "state": {
            "_view_name": "ProgressView",
            "style": "IPY_MODEL_0a06bcf037a043fbb5614b90eb933072",
            "_dom_classes": [],
            "description": "Batches: 100%",
            "_model_name": "FloatProgressModel",
            "bar_style": "success",
            "max": 139,
            "_view_module": "@jupyter-widgets/controls",
            "_model_module_version": "1.5.0",
            "value": 139,
            "_view_count": null,
            "_view_module_version": "1.5.0",
            "orientation": "horizontal",
            "min": 0,
            "description_tooltip": null,
            "_model_module": "@jupyter-widgets/controls",
            "layout": "IPY_MODEL_74e98d222c26479abe7763bb08216815"
          }
        },
        "ff05fce7c8b3431e9e73194c9978bfe8": {
          "model_module": "@jupyter-widgets/controls",
          "model_name": "HTMLModel",
          "state": {
            "_view_name": "HTMLView",
            "style": "IPY_MODEL_cd83bafcd25d406e8f2c0fbfd528db0f",
            "_dom_classes": [],
            "description": "",
            "_model_name": "HTMLModel",
            "placeholder": "​",
            "_view_module": "@jupyter-widgets/controls",
            "_model_module_version": "1.5.0",
            "value": " 139/139 [20:08&lt;00:00,  8.69s/it]",
            "_view_count": null,
            "_view_module_version": "1.5.0",
            "description_tooltip": null,
            "_model_module": "@jupyter-widgets/controls",
            "layout": "IPY_MODEL_9efe9b2c5dc8463d86d73f04c2e388a6"
          }
        },
        "0a06bcf037a043fbb5614b90eb933072": {
          "model_module": "@jupyter-widgets/controls",
          "model_name": "ProgressStyleModel",
          "state": {
            "_view_name": "StyleView",
            "_model_name": "ProgressStyleModel",
            "description_width": "initial",
            "_view_module": "@jupyter-widgets/base",
            "_model_module_version": "1.5.0",
            "_view_count": null,
            "_view_module_version": "1.2.0",
            "bar_color": null,
            "_model_module": "@jupyter-widgets/controls"
          }
        },
        "74e98d222c26479abe7763bb08216815": {
          "model_module": "@jupyter-widgets/base",
          "model_name": "LayoutModel",
          "state": {
            "_view_name": "LayoutView",
            "grid_template_rows": null,
            "right": null,
            "justify_content": null,
            "_view_module": "@jupyter-widgets/base",
            "overflow": null,
            "_model_module_version": "1.2.0",
            "_view_count": null,
            "flex_flow": null,
            "width": null,
            "min_width": null,
            "border": null,
            "align_items": null,
            "bottom": null,
            "_model_module": "@jupyter-widgets/base",
            "top": null,
            "grid_column": null,
            "overflow_y": null,
            "overflow_x": null,
            "grid_auto_flow": null,
            "grid_area": null,
            "grid_template_columns": null,
            "flex": null,
            "_model_name": "LayoutModel",
            "justify_items": null,
            "grid_row": null,
            "max_height": null,
            "align_content": null,
            "visibility": null,
            "align_self": null,
            "height": null,
            "min_height": null,
            "padding": null,
            "grid_auto_rows": null,
            "grid_gap": null,
            "max_width": null,
            "order": null,
            "_view_module_version": "1.2.0",
            "grid_template_areas": null,
            "object_position": null,
            "object_fit": null,
            "grid_auto_columns": null,
            "margin": null,
            "display": null,
            "left": null
          }
        },
        "cd83bafcd25d406e8f2c0fbfd528db0f": {
          "model_module": "@jupyter-widgets/controls",
          "model_name": "DescriptionStyleModel",
          "state": {
            "_view_name": "StyleView",
            "_model_name": "DescriptionStyleModel",
            "description_width": "",
            "_view_module": "@jupyter-widgets/base",
            "_model_module_version": "1.5.0",
            "_view_count": null,
            "_view_module_version": "1.2.0",
            "_model_module": "@jupyter-widgets/controls"
          }
        },
        "9efe9b2c5dc8463d86d73f04c2e388a6": {
          "model_module": "@jupyter-widgets/base",
          "model_name": "LayoutModel",
          "state": {
            "_view_name": "LayoutView",
            "grid_template_rows": null,
            "right": null,
            "justify_content": null,
            "_view_module": "@jupyter-widgets/base",
            "overflow": null,
            "_model_module_version": "1.2.0",
            "_view_count": null,
            "flex_flow": null,
            "width": null,
            "min_width": null,
            "border": null,
            "align_items": null,
            "bottom": null,
            "_model_module": "@jupyter-widgets/base",
            "top": null,
            "grid_column": null,
            "overflow_y": null,
            "overflow_x": null,
            "grid_auto_flow": null,
            "grid_area": null,
            "grid_template_columns": null,
            "flex": null,
            "_model_name": "LayoutModel",
            "justify_items": null,
            "grid_row": null,
            "max_height": null,
            "align_content": null,
            "visibility": null,
            "align_self": null,
            "height": null,
            "min_height": null,
            "padding": null,
            "grid_auto_rows": null,
            "grid_gap": null,
            "max_width": null,
            "order": null,
            "_view_module_version": "1.2.0",
            "grid_template_areas": null,
            "object_position": null,
            "object_fit": null,
            "grid_auto_columns": null,
            "margin": null,
            "display": null,
            "left": null
          }
        }
      }
    }
  },
  "cells": [
    {
      "cell_type": "markdown",
      "metadata": {
        "id": "view-in-github",
        "colab_type": "text"
      },
      "source": [
        "<a href=\"https://colab.research.google.com/github/akshithamaddi/akshithamaddi_INFO5731/blob/master/BerTopic_topic_modeling.ipynb\" target=\"_parent\"><img src=\"https://colab.research.google.com/assets/colab-badge.svg\" alt=\"Open In Colab\"/></a>"
      ]
    },
    {
      "cell_type": "code",
      "metadata": {
        "id": "nuLZeY0fhQCL"
      },
      "source": [
        "import pandas as pd\n",
        "df = pd.read_csv(\"Article_information.csv\",encoding=\"ISO-8859-1\")\n",
        "header = [\"Title\"]\n",
        "df.to_csv('output.csv', columns = header)"
      ],
      "execution_count": 60,
      "outputs": []
    },
    {
      "cell_type": "code",
      "metadata": {
        "colab": {
          "base_uri": "https://localhost:8080/"
        },
        "id": "g50D-mXOidyL",
        "outputId": "932d2b1a-cba4-475b-9136-4e96c735426b"
      },
      "source": [
        "pip install bertopic"
      ],
      "execution_count": 61,
      "outputs": [
        {
          "output_type": "stream",
          "text": [
            "Collecting bertopic\n",
            "  Downloading https://files.pythonhosted.org/packages/5d/d5/a9f440c43505dcb68dac06132607c8589118a8cb1346bea60bd9abcc8d3d/bertopic-0.6.0-py2.py3-none-any.whl\n",
            "Collecting hdbscan>=0.8.27\n",
            "\u001b[?25l  Downloading https://files.pythonhosted.org/packages/32/bb/59a75bc5ac66a9b4f9b8f979e4545af0e98bb1ca4e6ae96b3b956b554223/hdbscan-0.8.27.tar.gz (6.4MB)\n",
            "\u001b[K     |████████████████████████████████| 6.4MB 6.2MB/s \n",
            "\u001b[?25h  Installing build dependencies ... \u001b[?25l\u001b[?25hdone\n",
            "  Getting requirements to build wheel ... \u001b[?25l\u001b[?25hdone\n",
            "    Preparing wheel metadata ... \u001b[?25l\u001b[?25hdone\n",
            "Requirement already satisfied: pandas>=1.1.5 in /usr/local/lib/python3.7/dist-packages (from bertopic) (1.1.5)\n",
            "Requirement already satisfied: numpy>=1.19.2 in /usr/local/lib/python3.7/dist-packages (from bertopic) (1.19.5)\n",
            "Requirement already satisfied: scikit-learn>=0.22.2.post1 in /usr/local/lib/python3.7/dist-packages (from bertopic) (0.22.2.post1)\n",
            "Requirement already satisfied: tqdm>=4.41.1 in /usr/local/lib/python3.7/dist-packages (from bertopic) (4.41.1)\n",
            "Requirement already satisfied: torch>=1.4.0 in /usr/local/lib/python3.7/dist-packages (from bertopic) (1.8.0+cu101)\n",
            "Requirement already satisfied: umap-learn>=0.5.0 in /usr/local/lib/python3.7/dist-packages (from bertopic) (0.5.1)\n",
            "Collecting sentence-transformers>=0.4.1\n",
            "\u001b[?25l  Downloading https://files.pythonhosted.org/packages/6f/4d/9fb1028b0b4645c77401417151d06122d745c7a874fda6a4d5e6bb7bebc6/sentence-transformers-1.0.3.tar.gz (74kB)\n",
            "\u001b[K     |████████████████████████████████| 81kB 9.3MB/s \n",
            "\u001b[?25hRequirement already satisfied: cython>=0.27 in /usr/local/lib/python3.7/dist-packages (from hdbscan>=0.8.27->bertopic) (0.29.22)\n",
            "Requirement already satisfied: joblib>=1.0 in /usr/local/lib/python3.7/dist-packages (from hdbscan>=0.8.27->bertopic) (1.0.1)\n",
            "Requirement already satisfied: scipy>=1.0 in /usr/local/lib/python3.7/dist-packages (from hdbscan>=0.8.27->bertopic) (1.4.1)\n",
            "Requirement already satisfied: six in /usr/local/lib/python3.7/dist-packages (from hdbscan>=0.8.27->bertopic) (1.15.0)\n",
            "Requirement already satisfied: pytz>=2017.2 in /usr/local/lib/python3.7/dist-packages (from pandas>=1.1.5->bertopic) (2018.9)\n",
            "Requirement already satisfied: python-dateutil>=2.7.3 in /usr/local/lib/python3.7/dist-packages (from pandas>=1.1.5->bertopic) (2.8.1)\n",
            "Requirement already satisfied: typing-extensions in /usr/local/lib/python3.7/dist-packages (from torch>=1.4.0->bertopic) (3.7.4.3)\n",
            "Requirement already satisfied: numba>=0.49 in /usr/local/lib/python3.7/dist-packages (from umap-learn>=0.5.0->bertopic) (0.51.2)\n",
            "Requirement already satisfied: pynndescent>=0.5 in /usr/local/lib/python3.7/dist-packages (from umap-learn>=0.5.0->bertopic) (0.5.2)\n",
            "Collecting transformers<5.0.0,>=3.1.0\n",
            "\u001b[?25l  Downloading https://files.pythonhosted.org/packages/ed/d5/f4157a376b8a79489a76ce6cfe147f4f3be1e029b7144fa7b8432e8acb26/transformers-4.4.2-py3-none-any.whl (2.0MB)\n",
            "\u001b[K     |████████████████████████████████| 2.0MB 52.2MB/s \n",
            "\u001b[?25hRequirement already satisfied: nltk in /usr/local/lib/python3.7/dist-packages (from sentence-transformers>=0.4.1->bertopic) (3.2.5)\n",
            "Collecting sentencepiece\n",
            "\u001b[?25l  Downloading https://files.pythonhosted.org/packages/f5/99/e0808cb947ba10f575839c43e8fafc9cc44e4a7a2c8f79c60db48220a577/sentencepiece-0.1.95-cp37-cp37m-manylinux2014_x86_64.whl (1.2MB)\n",
            "\u001b[K     |████████████████████████████████| 1.2MB 53.7MB/s \n",
            "\u001b[?25hRequirement already satisfied: setuptools in /usr/local/lib/python3.7/dist-packages (from numba>=0.49->umap-learn>=0.5.0->bertopic) (54.1.2)\n",
            "Requirement already satisfied: llvmlite<0.35,>=0.34.0.dev0 in /usr/local/lib/python3.7/dist-packages (from numba>=0.49->umap-learn>=0.5.0->bertopic) (0.34.0)\n",
            "Requirement already satisfied: regex!=2019.12.17 in /usr/local/lib/python3.7/dist-packages (from transformers<5.0.0,>=3.1.0->sentence-transformers>=0.4.1->bertopic) (2019.12.20)\n",
            "Collecting sacremoses\n",
            "\u001b[?25l  Downloading https://files.pythonhosted.org/packages/7d/34/09d19aff26edcc8eb2a01bed8e98f13a1537005d31e95233fd48216eed10/sacremoses-0.0.43.tar.gz (883kB)\n",
            "\u001b[K     |████████████████████████████████| 890kB 45.0MB/s \n",
            "\u001b[?25hRequirement already satisfied: importlib-metadata; python_version < \"3.8\" in /usr/local/lib/python3.7/dist-packages (from transformers<5.0.0,>=3.1.0->sentence-transformers>=0.4.1->bertopic) (3.7.2)\n",
            "Requirement already satisfied: packaging in /usr/local/lib/python3.7/dist-packages (from transformers<5.0.0,>=3.1.0->sentence-transformers>=0.4.1->bertopic) (20.9)\n",
            "Requirement already satisfied: requests in /usr/local/lib/python3.7/dist-packages (from transformers<5.0.0,>=3.1.0->sentence-transformers>=0.4.1->bertopic) (2.23.0)\n",
            "Collecting tokenizers<0.11,>=0.10.1\n",
            "\u001b[?25l  Downloading https://files.pythonhosted.org/packages/71/23/2ddc317b2121117bf34dd00f5b0de194158f2a44ee2bf5e47c7166878a97/tokenizers-0.10.1-cp37-cp37m-manylinux2010_x86_64.whl (3.2MB)\n",
            "\u001b[K     |████████████████████████████████| 3.2MB 46.0MB/s \n",
            "\u001b[?25hRequirement already satisfied: filelock in /usr/local/lib/python3.7/dist-packages (from transformers<5.0.0,>=3.1.0->sentence-transformers>=0.4.1->bertopic) (3.0.12)\n",
            "Requirement already satisfied: click in /usr/local/lib/python3.7/dist-packages (from sacremoses->transformers<5.0.0,>=3.1.0->sentence-transformers>=0.4.1->bertopic) (7.1.2)\n",
            "Requirement already satisfied: zipp>=0.5 in /usr/local/lib/python3.7/dist-packages (from importlib-metadata; python_version < \"3.8\"->transformers<5.0.0,>=3.1.0->sentence-transformers>=0.4.1->bertopic) (3.4.1)\n",
            "Requirement already satisfied: pyparsing>=2.0.2 in /usr/local/lib/python3.7/dist-packages (from packaging->transformers<5.0.0,>=3.1.0->sentence-transformers>=0.4.1->bertopic) (2.4.7)\n",
            "Requirement already satisfied: urllib3!=1.25.0,!=1.25.1,<1.26,>=1.21.1 in /usr/local/lib/python3.7/dist-packages (from requests->transformers<5.0.0,>=3.1.0->sentence-transformers>=0.4.1->bertopic) (1.24.3)\n",
            "Requirement already satisfied: chardet<4,>=3.0.2 in /usr/local/lib/python3.7/dist-packages (from requests->transformers<5.0.0,>=3.1.0->sentence-transformers>=0.4.1->bertopic) (3.0.4)\n",
            "Requirement already satisfied: certifi>=2017.4.17 in /usr/local/lib/python3.7/dist-packages (from requests->transformers<5.0.0,>=3.1.0->sentence-transformers>=0.4.1->bertopic) (2020.12.5)\n",
            "Requirement already satisfied: idna<3,>=2.5 in /usr/local/lib/python3.7/dist-packages (from requests->transformers<5.0.0,>=3.1.0->sentence-transformers>=0.4.1->bertopic) (2.10)\n",
            "Building wheels for collected packages: hdbscan\n",
            "  Building wheel for hdbscan (PEP 517) ... \u001b[?25l\u001b[?25hdone\n",
            "  Created wheel for hdbscan: filename=hdbscan-0.8.27-cp37-cp37m-linux_x86_64.whl size=2311682 sha256=3c160571d52ee398229673addffbf92b49e038f2ce48ef7644567abcec3137da\n",
            "  Stored in directory: /root/.cache/pip/wheels/42/63/fb/314ad6c3b270887a3ecb588b8e5aac50b0fad38ff89bb6dff2\n",
            "Successfully built hdbscan\n",
            "Building wheels for collected packages: sentence-transformers, sacremoses\n",
            "  Building wheel for sentence-transformers (setup.py) ... \u001b[?25l\u001b[?25hdone\n",
            "  Created wheel for sentence-transformers: filename=sentence_transformers-1.0.3-cp37-none-any.whl size=114277 sha256=ad3b159501cd29b54509558a9e8e6a39ede3f09b8593dde3bbc87a1f756e0711\n",
            "  Stored in directory: /root/.cache/pip/wheels/c8/0d/fa/4e28cf045da4781344e7972befb2fdf306051b225bfc290187\n",
            "  Building wheel for sacremoses (setup.py) ... \u001b[?25l\u001b[?25hdone\n",
            "  Created wheel for sacremoses: filename=sacremoses-0.0.43-cp37-none-any.whl size=893262 sha256=5570f6aea78df770cae885c42f33ee2114ea666681be36914c48150811dc3c8b\n",
            "  Stored in directory: /root/.cache/pip/wheels/29/3c/fd/7ce5c3f0666dab31a50123635e6fb5e19ceb42ce38d4e58f45\n",
            "Successfully built sentence-transformers sacremoses\n",
            "Installing collected packages: hdbscan, sacremoses, tokenizers, transformers, sentencepiece, sentence-transformers, bertopic\n",
            "Successfully installed bertopic-0.6.0 hdbscan-0.8.27 sacremoses-0.0.43 sentence-transformers-1.0.3 sentencepiece-0.1.95 tokenizers-0.10.1 transformers-4.4.2\n"
          ],
          "name": "stdout"
        }
      ]
    },
    {
      "cell_type": "code",
      "metadata": {
        "colab": {
          "base_uri": "https://localhost:8080/"
        },
        "id": "OThzk94qiu1y",
        "outputId": "8464a0a3-b0cd-47dc-d81a-1020c8a901fd"
      },
      "source": [
        "pip install bertopic[visualization]\n"
      ],
      "execution_count": 62,
      "outputs": [
        {
          "output_type": "stream",
          "text": [
            "Requirement already satisfied: bertopic[visualization] in /usr/local/lib/python3.7/dist-packages (0.6.0)\n",
            "Requirement already satisfied: scikit-learn>=0.22.2.post1 in /usr/local/lib/python3.7/dist-packages (from bertopic[visualization]) (0.22.2.post1)\n",
            "Requirement already satisfied: pandas>=1.1.5 in /usr/local/lib/python3.7/dist-packages (from bertopic[visualization]) (1.1.5)\n",
            "Requirement already satisfied: numpy>=1.19.2 in /usr/local/lib/python3.7/dist-packages (from bertopic[visualization]) (1.19.5)\n",
            "Requirement already satisfied: umap-learn>=0.5.0 in /usr/local/lib/python3.7/dist-packages (from bertopic[visualization]) (0.5.1)\n",
            "Requirement already satisfied: tqdm>=4.41.1 in /usr/local/lib/python3.7/dist-packages (from bertopic[visualization]) (4.41.1)\n",
            "Requirement already satisfied: hdbscan>=0.8.27 in /usr/local/lib/python3.7/dist-packages (from bertopic[visualization]) (0.8.27)\n",
            "Requirement already satisfied: torch>=1.4.0 in /usr/local/lib/python3.7/dist-packages (from bertopic[visualization]) (1.8.0+cu101)\n",
            "Requirement already satisfied: sentence-transformers>=0.4.1 in /usr/local/lib/python3.7/dist-packages (from bertopic[visualization]) (1.0.3)\n",
            "Requirement already satisfied: matplotlib>=3.2.2; extra == \"visualization\" in /usr/local/lib/python3.7/dist-packages (from bertopic[visualization]) (3.2.2)\n",
            "Collecting plotly<4.14.3,>=4.7.0; extra == \"visualization\"\n",
            "\u001b[?25l  Downloading https://files.pythonhosted.org/packages/9d/2e/69579c3db25fa4f85d70a10f8a98d52c2b4a0dcbd153e8f17f425761bef4/plotly-4.14.2-py2.py3-none-any.whl (13.2MB)\n",
            "\u001b[K     |████████████████████████████████| 13.2MB 4.2MB/s \n",
            "\u001b[?25hRequirement already satisfied: joblib>=0.11 in /usr/local/lib/python3.7/dist-packages (from scikit-learn>=0.22.2.post1->bertopic[visualization]) (1.0.1)\n",
            "Requirement already satisfied: scipy>=0.17.0 in /usr/local/lib/python3.7/dist-packages (from scikit-learn>=0.22.2.post1->bertopic[visualization]) (1.4.1)\n",
            "Requirement already satisfied: pytz>=2017.2 in /usr/local/lib/python3.7/dist-packages (from pandas>=1.1.5->bertopic[visualization]) (2018.9)\n",
            "Requirement already satisfied: python-dateutil>=2.7.3 in /usr/local/lib/python3.7/dist-packages (from pandas>=1.1.5->bertopic[visualization]) (2.8.1)\n",
            "Requirement already satisfied: numba>=0.49 in /usr/local/lib/python3.7/dist-packages (from umap-learn>=0.5.0->bertopic[visualization]) (0.51.2)\n",
            "Requirement already satisfied: pynndescent>=0.5 in /usr/local/lib/python3.7/dist-packages (from umap-learn>=0.5.0->bertopic[visualization]) (0.5.2)\n",
            "Requirement already satisfied: six in /usr/local/lib/python3.7/dist-packages (from hdbscan>=0.8.27->bertopic[visualization]) (1.15.0)\n",
            "Requirement already satisfied: cython>=0.27 in /usr/local/lib/python3.7/dist-packages (from hdbscan>=0.8.27->bertopic[visualization]) (0.29.22)\n",
            "Requirement already satisfied: typing-extensions in /usr/local/lib/python3.7/dist-packages (from torch>=1.4.0->bertopic[visualization]) (3.7.4.3)\n",
            "Requirement already satisfied: transformers<5.0.0,>=3.1.0 in /usr/local/lib/python3.7/dist-packages (from sentence-transformers>=0.4.1->bertopic[visualization]) (4.4.2)\n",
            "Requirement already satisfied: nltk in /usr/local/lib/python3.7/dist-packages (from sentence-transformers>=0.4.1->bertopic[visualization]) (3.2.5)\n",
            "Requirement already satisfied: sentencepiece in /usr/local/lib/python3.7/dist-packages (from sentence-transformers>=0.4.1->bertopic[visualization]) (0.1.95)\n",
            "Requirement already satisfied: pyparsing!=2.0.4,!=2.1.2,!=2.1.6,>=2.0.1 in /usr/local/lib/python3.7/dist-packages (from matplotlib>=3.2.2; extra == \"visualization\"->bertopic[visualization]) (2.4.7)\n",
            "Requirement already satisfied: cycler>=0.10 in /usr/local/lib/python3.7/dist-packages (from matplotlib>=3.2.2; extra == \"visualization\"->bertopic[visualization]) (0.10.0)\n",
            "Requirement already satisfied: kiwisolver>=1.0.1 in /usr/local/lib/python3.7/dist-packages (from matplotlib>=3.2.2; extra == \"visualization\"->bertopic[visualization]) (1.3.1)\n",
            "Requirement already satisfied: retrying>=1.3.3 in /usr/local/lib/python3.7/dist-packages (from plotly<4.14.3,>=4.7.0; extra == \"visualization\"->bertopic[visualization]) (1.3.3)\n",
            "Requirement already satisfied: llvmlite<0.35,>=0.34.0.dev0 in /usr/local/lib/python3.7/dist-packages (from numba>=0.49->umap-learn>=0.5.0->bertopic[visualization]) (0.34.0)\n",
            "Requirement already satisfied: setuptools in /usr/local/lib/python3.7/dist-packages (from numba>=0.49->umap-learn>=0.5.0->bertopic[visualization]) (54.1.2)\n",
            "Requirement already satisfied: requests in /usr/local/lib/python3.7/dist-packages (from transformers<5.0.0,>=3.1.0->sentence-transformers>=0.4.1->bertopic[visualization]) (2.23.0)\n",
            "Requirement already satisfied: regex!=2019.12.17 in /usr/local/lib/python3.7/dist-packages (from transformers<5.0.0,>=3.1.0->sentence-transformers>=0.4.1->bertopic[visualization]) (2019.12.20)\n",
            "Requirement already satisfied: sacremoses in /usr/local/lib/python3.7/dist-packages (from transformers<5.0.0,>=3.1.0->sentence-transformers>=0.4.1->bertopic[visualization]) (0.0.43)\n",
            "Requirement already satisfied: importlib-metadata; python_version < \"3.8\" in /usr/local/lib/python3.7/dist-packages (from transformers<5.0.0,>=3.1.0->sentence-transformers>=0.4.1->bertopic[visualization]) (3.7.2)\n",
            "Requirement already satisfied: packaging in /usr/local/lib/python3.7/dist-packages (from transformers<5.0.0,>=3.1.0->sentence-transformers>=0.4.1->bertopic[visualization]) (20.9)\n",
            "Requirement already satisfied: filelock in /usr/local/lib/python3.7/dist-packages (from transformers<5.0.0,>=3.1.0->sentence-transformers>=0.4.1->bertopic[visualization]) (3.0.12)\n",
            "Requirement already satisfied: tokenizers<0.11,>=0.10.1 in /usr/local/lib/python3.7/dist-packages (from transformers<5.0.0,>=3.1.0->sentence-transformers>=0.4.1->bertopic[visualization]) (0.10.1)\n",
            "Requirement already satisfied: urllib3!=1.25.0,!=1.25.1,<1.26,>=1.21.1 in /usr/local/lib/python3.7/dist-packages (from requests->transformers<5.0.0,>=3.1.0->sentence-transformers>=0.4.1->bertopic[visualization]) (1.24.3)\n",
            "Requirement already satisfied: idna<3,>=2.5 in /usr/local/lib/python3.7/dist-packages (from requests->transformers<5.0.0,>=3.1.0->sentence-transformers>=0.4.1->bertopic[visualization]) (2.10)\n",
            "Requirement already satisfied: chardet<4,>=3.0.2 in /usr/local/lib/python3.7/dist-packages (from requests->transformers<5.0.0,>=3.1.0->sentence-transformers>=0.4.1->bertopic[visualization]) (3.0.4)\n",
            "Requirement already satisfied: certifi>=2017.4.17 in /usr/local/lib/python3.7/dist-packages (from requests->transformers<5.0.0,>=3.1.0->sentence-transformers>=0.4.1->bertopic[visualization]) (2020.12.5)\n",
            "Requirement already satisfied: click in /usr/local/lib/python3.7/dist-packages (from sacremoses->transformers<5.0.0,>=3.1.0->sentence-transformers>=0.4.1->bertopic[visualization]) (7.1.2)\n",
            "Requirement already satisfied: zipp>=0.5 in /usr/local/lib/python3.7/dist-packages (from importlib-metadata; python_version < \"3.8\"->transformers<5.0.0,>=3.1.0->sentence-transformers>=0.4.1->bertopic[visualization]) (3.4.1)\n",
            "Installing collected packages: plotly\n",
            "  Found existing installation: plotly 4.4.1\n",
            "    Uninstalling plotly-4.4.1:\n",
            "      Successfully uninstalled plotly-4.4.1\n",
            "Successfully installed plotly-4.14.2\n"
          ],
          "name": "stdout"
        }
      ]
    },
    {
      "cell_type": "code",
      "metadata": {
        "colab": {
          "base_uri": "https://localhost:8080/"
        },
        "id": "RSs0Ujh3i1aZ",
        "outputId": "dbc583ff-7a00-4c92-ad7e-5de70b346ed4"
      },
      "source": [
        "pip install bertopic[flair]"
      ],
      "execution_count": 63,
      "outputs": [
        {
          "output_type": "stream",
          "text": [
            "Requirement already satisfied: bertopic[flair] in /usr/local/lib/python3.7/dist-packages (0.6.0)\n",
            "Requirement already satisfied: pandas>=1.1.5 in /usr/local/lib/python3.7/dist-packages (from bertopic[flair]) (1.1.5)\n",
            "Requirement already satisfied: numpy>=1.19.2 in /usr/local/lib/python3.7/dist-packages (from bertopic[flair]) (1.19.5)\n",
            "Requirement already satisfied: tqdm>=4.41.1 in /usr/local/lib/python3.7/dist-packages (from bertopic[flair]) (4.41.1)\n",
            "Requirement already satisfied: hdbscan>=0.8.27 in /usr/local/lib/python3.7/dist-packages (from bertopic[flair]) (0.8.27)\n",
            "Requirement already satisfied: torch>=1.4.0 in /usr/local/lib/python3.7/dist-packages (from bertopic[flair]) (1.8.0+cu101)\n",
            "Requirement already satisfied: sentence-transformers>=0.4.1 in /usr/local/lib/python3.7/dist-packages (from bertopic[flair]) (1.0.3)\n",
            "Requirement already satisfied: scikit-learn>=0.22.2.post1 in /usr/local/lib/python3.7/dist-packages (from bertopic[flair]) (0.22.2.post1)\n",
            "Requirement already satisfied: umap-learn>=0.5.0 in /usr/local/lib/python3.7/dist-packages (from bertopic[flair]) (0.5.1)\n",
            "Collecting flair==0.7; extra == \"flair\"\n",
            "\u001b[?25l  Downloading https://files.pythonhosted.org/packages/68/a0/a1b41fa2fcb23ff71ba9148af75211dcccc35b256dea821b36e1ee871848/flair-0.7-py3-none-any.whl (448kB)\n",
            "\u001b[K     |████████████████████████████████| 450kB 4.8MB/s \n",
            "\u001b[?25hRequirement already satisfied: pytz>=2017.2 in /usr/local/lib/python3.7/dist-packages (from pandas>=1.1.5->bertopic[flair]) (2018.9)\n",
            "Requirement already satisfied: python-dateutil>=2.7.3 in /usr/local/lib/python3.7/dist-packages (from pandas>=1.1.5->bertopic[flair]) (2.8.1)\n",
            "Requirement already satisfied: six in /usr/local/lib/python3.7/dist-packages (from hdbscan>=0.8.27->bertopic[flair]) (1.15.0)\n",
            "Requirement already satisfied: cython>=0.27 in /usr/local/lib/python3.7/dist-packages (from hdbscan>=0.8.27->bertopic[flair]) (0.29.22)\n",
            "Requirement already satisfied: joblib>=1.0 in /usr/local/lib/python3.7/dist-packages (from hdbscan>=0.8.27->bertopic[flair]) (1.0.1)\n",
            "Requirement already satisfied: scipy>=1.0 in /usr/local/lib/python3.7/dist-packages (from hdbscan>=0.8.27->bertopic[flair]) (1.4.1)\n",
            "Requirement already satisfied: typing-extensions in /usr/local/lib/python3.7/dist-packages (from torch>=1.4.0->bertopic[flair]) (3.7.4.3)\n",
            "Requirement already satisfied: sentencepiece in /usr/local/lib/python3.7/dist-packages (from sentence-transformers>=0.4.1->bertopic[flair]) (0.1.95)\n",
            "Requirement already satisfied: transformers<5.0.0,>=3.1.0 in /usr/local/lib/python3.7/dist-packages (from sentence-transformers>=0.4.1->bertopic[flair]) (4.4.2)\n",
            "Requirement already satisfied: nltk in /usr/local/lib/python3.7/dist-packages (from sentence-transformers>=0.4.1->bertopic[flair]) (3.2.5)\n",
            "Requirement already satisfied: pynndescent>=0.5 in /usr/local/lib/python3.7/dist-packages (from umap-learn>=0.5.0->bertopic[flair]) (0.5.2)\n",
            "Requirement already satisfied: numba>=0.49 in /usr/local/lib/python3.7/dist-packages (from umap-learn>=0.5.0->bertopic[flair]) (0.51.2)\n",
            "Requirement already satisfied: gensim<=3.8.3,>=3.4.0 in /usr/local/lib/python3.7/dist-packages (from flair==0.7; extra == \"flair\"->bertopic[flair]) (3.8.1)\n",
            "Requirement already satisfied: gdown in /usr/local/lib/python3.7/dist-packages (from flair==0.7; extra == \"flair\"->bertopic[flair]) (3.6.4)\n",
            "Requirement already satisfied: regex in /usr/local/lib/python3.7/dist-packages (from flair==0.7; extra == \"flair\"->bertopic[flair]) (2019.12.20)\n",
            "Requirement already satisfied: matplotlib>=2.2.3 in /usr/local/lib/python3.7/dist-packages (from flair==0.7; extra == \"flair\"->bertopic[flair]) (3.2.2)\n",
            "Collecting sqlitedict>=1.6.0\n",
            "  Downloading https://files.pythonhosted.org/packages/5c/2d/b1d99e9ad157dd7de9cd0d36a8a5876b13b55e4b75f7498bc96035fb4e96/sqlitedict-1.7.0.tar.gz\n",
            "Collecting mpld3==0.3\n",
            "\u001b[?25l  Downloading https://files.pythonhosted.org/packages/91/95/a52d3a83d0a29ba0d6898f6727e9858fe7a43f6c2ce81a5fe7e05f0f4912/mpld3-0.3.tar.gz (788kB)\n",
            "\u001b[K     |████████████████████████████████| 798kB 9.8MB/s \n",
            "\u001b[?25hCollecting langdetect\n",
            "\u001b[?25l  Downloading https://files.pythonhosted.org/packages/56/a3/8407c1e62d5980188b4acc45ef3d94b933d14a2ebc9ef3505f22cf772570/langdetect-1.0.8.tar.gz (981kB)\n",
            "\u001b[K     |████████████████████████████████| 983kB 19.4MB/s \n",
            "\u001b[?25hCollecting konoha<5.0.0,>=4.0.0\n",
            "  Downloading https://files.pythonhosted.org/packages/02/be/4dd30d56a0a19619deb9bf41ba8202709fa83b1b301b876572cd6dc38117/konoha-4.6.4-py3-none-any.whl\n",
            "Collecting bpemb>=0.3.2\n",
            "  Downloading https://files.pythonhosted.org/packages/91/77/3f0f53856e86af32b1d3c86652815277f7b5f880002584eb30db115b6df5/bpemb-0.3.2-py3-none-any.whl\n",
            "Requirement already satisfied: hyperopt>=0.1.1 in /usr/local/lib/python3.7/dist-packages (from flair==0.7; extra == \"flair\"->bertopic[flair]) (0.1.2)\n",
            "Collecting ftfy\n",
            "\u001b[?25l  Downloading https://files.pythonhosted.org/packages/04/06/e5c80e2e0f979628d47345efba51f7ba386fe95963b11c594209085f5a9b/ftfy-5.9.tar.gz (66kB)\n",
            "\u001b[K     |████████████████████████████████| 71kB 7.8MB/s \n",
            "\u001b[?25hCollecting janome\n",
            "\u001b[?25l  Downloading https://files.pythonhosted.org/packages/a8/63/98858cbead27df7536c7e300c169da0999e9704d02220dc6700b804eeff0/Janome-0.4.1-py2.py3-none-any.whl (19.7MB)\n",
            "\u001b[K     |████████████████████████████████| 19.7MB 1.2MB/s \n",
            "\u001b[?25hCollecting deprecated>=1.2.4\n",
            "  Downloading https://files.pythonhosted.org/packages/fb/73/994edfcba74443146c84b91921fcc269374354118d4f452fb0c54c1cbb12/Deprecated-1.2.12-py2.py3-none-any.whl\n",
            "Requirement already satisfied: lxml in /usr/local/lib/python3.7/dist-packages (from flair==0.7; extra == \"flair\"->bertopic[flair]) (4.2.6)\n",
            "Requirement already satisfied: tabulate in /usr/local/lib/python3.7/dist-packages (from flair==0.7; extra == \"flair\"->bertopic[flair]) (0.8.9)\n",
            "Collecting segtok>=1.5.7\n",
            "  Downloading https://files.pythonhosted.org/packages/41/08/582dab5f4b1d5ca23bc6927b4bb977c8ff7f3a87a3b98844ef833e2f5623/segtok-1.5.10.tar.gz\n",
            "Requirement already satisfied: packaging in /usr/local/lib/python3.7/dist-packages (from transformers<5.0.0,>=3.1.0->sentence-transformers>=0.4.1->bertopic[flair]) (20.9)\n",
            "Requirement already satisfied: tokenizers<0.11,>=0.10.1 in /usr/local/lib/python3.7/dist-packages (from transformers<5.0.0,>=3.1.0->sentence-transformers>=0.4.1->bertopic[flair]) (0.10.1)\n",
            "Requirement already satisfied: requests in /usr/local/lib/python3.7/dist-packages (from transformers<5.0.0,>=3.1.0->sentence-transformers>=0.4.1->bertopic[flair]) (2.23.0)\n",
            "Requirement already satisfied: importlib-metadata; python_version < \"3.8\" in /usr/local/lib/python3.7/dist-packages (from transformers<5.0.0,>=3.1.0->sentence-transformers>=0.4.1->bertopic[flair]) (3.7.2)\n",
            "Requirement already satisfied: filelock in /usr/local/lib/python3.7/dist-packages (from transformers<5.0.0,>=3.1.0->sentence-transformers>=0.4.1->bertopic[flair]) (3.0.12)\n",
            "Requirement already satisfied: sacremoses in /usr/local/lib/python3.7/dist-packages (from transformers<5.0.0,>=3.1.0->sentence-transformers>=0.4.1->bertopic[flair]) (0.0.43)\n",
            "Requirement already satisfied: llvmlite>=0.30 in /usr/local/lib/python3.7/dist-packages (from pynndescent>=0.5->umap-learn>=0.5.0->bertopic[flair]) (0.34.0)\n",
            "Requirement already satisfied: setuptools in /usr/local/lib/python3.7/dist-packages (from numba>=0.49->umap-learn>=0.5.0->bertopic[flair]) (54.1.2)\n",
            "Requirement already satisfied: smart-open>=1.8.1 in /usr/local/lib/python3.7/dist-packages (from gensim<=3.8.3,>=3.4.0->flair==0.7; extra == \"flair\"->bertopic[flair]) (4.2.0)\n",
            "Requirement already satisfied: kiwisolver>=1.0.1 in /usr/local/lib/python3.7/dist-packages (from matplotlib>=2.2.3->flair==0.7; extra == \"flair\"->bertopic[flair]) (1.3.1)\n",
            "Requirement already satisfied: cycler>=0.10 in /usr/local/lib/python3.7/dist-packages (from matplotlib>=2.2.3->flair==0.7; extra == \"flair\"->bertopic[flair]) (0.10.0)\n",
            "Requirement already satisfied: pyparsing!=2.0.4,!=2.1.2,!=2.1.6,>=2.0.1 in /usr/local/lib/python3.7/dist-packages (from matplotlib>=2.2.3->flair==0.7; extra == \"flair\"->bertopic[flair]) (2.4.7)\n",
            "Collecting overrides<4.0.0,>=3.0.0\n",
            "  Downloading https://files.pythonhosted.org/packages/ff/b1/10f69c00947518e6676bbd43e739733048de64b8dd998e9c2d5a71f44c5d/overrides-3.1.0.tar.gz\n",
            "Requirement already satisfied: future in /usr/local/lib/python3.7/dist-packages (from hyperopt>=0.1.1->flair==0.7; extra == \"flair\"->bertopic[flair]) (0.16.0)\n",
            "Requirement already satisfied: pymongo in /usr/local/lib/python3.7/dist-packages (from hyperopt>=0.1.1->flair==0.7; extra == \"flair\"->bertopic[flair]) (3.11.3)\n",
            "Requirement already satisfied: networkx in /usr/local/lib/python3.7/dist-packages (from hyperopt>=0.1.1->flair==0.7; extra == \"flair\"->bertopic[flair]) (2.5)\n",
            "Requirement already satisfied: wcwidth in /usr/local/lib/python3.7/dist-packages (from ftfy->flair==0.7; extra == \"flair\"->bertopic[flair]) (0.2.5)\n",
            "Requirement already satisfied: wrapt<2,>=1.10 in /usr/local/lib/python3.7/dist-packages (from deprecated>=1.2.4->flair==0.7; extra == \"flair\"->bertopic[flair]) (1.12.1)\n",
            "Requirement already satisfied: idna<3,>=2.5 in /usr/local/lib/python3.7/dist-packages (from requests->transformers<5.0.0,>=3.1.0->sentence-transformers>=0.4.1->bertopic[flair]) (2.10)\n",
            "Requirement already satisfied: urllib3!=1.25.0,!=1.25.1,<1.26,>=1.21.1 in /usr/local/lib/python3.7/dist-packages (from requests->transformers<5.0.0,>=3.1.0->sentence-transformers>=0.4.1->bertopic[flair]) (1.24.3)\n",
            "Requirement already satisfied: certifi>=2017.4.17 in /usr/local/lib/python3.7/dist-packages (from requests->transformers<5.0.0,>=3.1.0->sentence-transformers>=0.4.1->bertopic[flair]) (2020.12.5)\n",
            "Requirement already satisfied: chardet<4,>=3.0.2 in /usr/local/lib/python3.7/dist-packages (from requests->transformers<5.0.0,>=3.1.0->sentence-transformers>=0.4.1->bertopic[flair]) (3.0.4)\n",
            "Requirement already satisfied: zipp>=0.5 in /usr/local/lib/python3.7/dist-packages (from importlib-metadata; python_version < \"3.8\"->transformers<5.0.0,>=3.1.0->sentence-transformers>=0.4.1->bertopic[flair]) (3.4.1)\n",
            "Requirement already satisfied: click in /usr/local/lib/python3.7/dist-packages (from sacremoses->transformers<5.0.0,>=3.1.0->sentence-transformers>=0.4.1->bertopic[flair]) (7.1.2)\n",
            "Requirement already satisfied: decorator>=4.3.0 in /usr/local/lib/python3.7/dist-packages (from networkx->hyperopt>=0.1.1->flair==0.7; extra == \"flair\"->bertopic[flair]) (4.4.2)\n",
            "Building wheels for collected packages: sqlitedict, mpld3, langdetect, ftfy, segtok, overrides\n",
            "  Building wheel for sqlitedict (setup.py) ... \u001b[?25l\u001b[?25hdone\n",
            "  Created wheel for sqlitedict: filename=sqlitedict-1.7.0-cp37-none-any.whl size=14376 sha256=8c6f46252aaf213b559401851bd1916e0e54aef401df3a2ddabecbf2a963698a\n",
            "  Stored in directory: /root/.cache/pip/wheels/cf/c6/4f/2c64a43f041415eb8b8740bd80e15e92f0d46c5e464d8e4b9b\n",
            "  Building wheel for mpld3 (setup.py) ... \u001b[?25l\u001b[?25hdone\n",
            "  Created wheel for mpld3: filename=mpld3-0.3-cp37-none-any.whl size=116679 sha256=dc7366eed2ba17ff8b66e208168653aa442af12f53793cad810356ffb33d3495\n",
            "  Stored in directory: /root/.cache/pip/wheels/c0/47/fb/8a64f89aecfe0059830479308ad42d62e898a3e3cefdf6ba28\n",
            "  Building wheel for langdetect (setup.py) ... \u001b[?25l\u001b[?25hdone\n",
            "  Created wheel for langdetect: filename=langdetect-1.0.8-cp37-none-any.whl size=993193 sha256=9c03f22ecaad184a60ecba6735177dd537cb5f472b0f886d596b90d07effb51d\n",
            "  Stored in directory: /root/.cache/pip/wheels/8d/b3/aa/6d99de9f3841d7d3d40a60ea06e6d669e8e5012e6c8b947a57\n",
            "  Building wheel for ftfy (setup.py) ... \u001b[?25l\u001b[?25hdone\n",
            "  Created wheel for ftfy: filename=ftfy-5.9-cp37-none-any.whl size=46451 sha256=6a6da9db6d2e2b83fc9f87dc774f856e52c28cb5940e93c3e830f80d39288cac\n",
            "  Stored in directory: /root/.cache/pip/wheels/5e/2e/f0/b07196e8c929114998f0316894a61c752b63bfa3fdd50d2fc3\n",
            "  Building wheel for segtok (setup.py) ... \u001b[?25l\u001b[?25hdone\n",
            "  Created wheel for segtok: filename=segtok-1.5.10-cp37-none-any.whl size=25019 sha256=888116cfce036ef617c311982e98a1ed1b41c6382b44c282f1075e9807532d04\n",
            "  Stored in directory: /root/.cache/pip/wheels/b4/39/f6/9ca1c5cabde964d728023b5751c3a206a5c8cc40252321fb6b\n",
            "  Building wheel for overrides (setup.py) ... \u001b[?25l\u001b[?25hdone\n",
            "  Created wheel for overrides: filename=overrides-3.1.0-cp37-none-any.whl size=10174 sha256=7b44106d5b9a945708c19f464677057e8c7773cbc45146fd9ad395438ef20f94\n",
            "  Stored in directory: /root/.cache/pip/wheels/5c/24/13/6ef8600e6f147c95e595f1289a86a3cc82ed65df57582c65a9\n",
            "Successfully built sqlitedict mpld3 langdetect ftfy segtok overrides\n",
            "\u001b[31mERROR: konoha 4.6.4 has requirement requests<3.0.0,>=2.25.1, but you'll have requests 2.23.0 which is incompatible.\u001b[0m\n",
            "\u001b[31mERROR: flair 0.7 has requirement sentencepiece<=0.1.91, but you'll have sentencepiece 0.1.95 which is incompatible.\u001b[0m\n",
            "\u001b[31mERROR: flair 0.7 has requirement transformers<=3.5.1,>=3.5.0, but you'll have transformers 4.4.2 which is incompatible.\u001b[0m\n",
            "Installing collected packages: sqlitedict, mpld3, langdetect, overrides, konoha, bpemb, ftfy, janome, deprecated, segtok, flair\n",
            "Successfully installed bpemb-0.3.2 deprecated-1.2.12 flair-0.7 ftfy-5.9 janome-0.4.1 konoha-4.6.4 langdetect-1.0.8 mpld3-0.3 overrides-3.1.0 segtok-1.5.10 sqlitedict-1.7.0\n"
          ],
          "name": "stdout"
        }
      ]
    },
    {
      "cell_type": "code",
      "metadata": {
        "id": "TNEcYVNcjH0k"
      },
      "source": [
        "from bertopic import BERTopic\n",
        "\n",
        "df1= pd.read_csv(\"output.csv\")\n",
        "docs = df1['Title']\n",
        "topic_model = BERTopic()\n",
        "topics, probabilities = topic_model.fit_transform(docs)"
      ],
      "execution_count": 65,
      "outputs": []
    },
    {
      "cell_type": "code",
      "metadata": {
        "colab": {
          "base_uri": "https://localhost:8080/",
          "height": 204
        },
        "id": "QUx8b4lAj2Bu",
        "outputId": "15315662-a55e-4727-84d5-b768e86a77e0"
      },
      "source": [
        "topic_model.get_topic_freq().head()"
      ],
      "execution_count": 17,
      "outputs": [
        {
          "output_type": "execute_result",
          "data": {
            "text/html": [
              "<div>\n",
              "<style scoped>\n",
              "    .dataframe tbody tr th:only-of-type {\n",
              "        vertical-align: middle;\n",
              "    }\n",
              "\n",
              "    .dataframe tbody tr th {\n",
              "        vertical-align: top;\n",
              "    }\n",
              "\n",
              "    .dataframe thead th {\n",
              "        text-align: right;\n",
              "    }\n",
              "</style>\n",
              "<table border=\"1\" class=\"dataframe\">\n",
              "  <thead>\n",
              "    <tr style=\"text-align: right;\">\n",
              "      <th></th>\n",
              "      <th>Topic</th>\n",
              "      <th>Count</th>\n",
              "    </tr>\n",
              "  </thead>\n",
              "  <tbody>\n",
              "    <tr>\n",
              "      <th>0</th>\n",
              "      <td>-1</td>\n",
              "      <td>1748</td>\n",
              "    </tr>\n",
              "    <tr>\n",
              "      <th>1</th>\n",
              "      <td>47</td>\n",
              "      <td>195</td>\n",
              "    </tr>\n",
              "    <tr>\n",
              "      <th>2</th>\n",
              "      <td>45</td>\n",
              "      <td>141</td>\n",
              "    </tr>\n",
              "    <tr>\n",
              "      <th>3</th>\n",
              "      <td>65</td>\n",
              "      <td>130</td>\n",
              "    </tr>\n",
              "    <tr>\n",
              "      <th>4</th>\n",
              "      <td>55</td>\n",
              "      <td>109</td>\n",
              "    </tr>\n",
              "  </tbody>\n",
              "</table>\n",
              "</div>"
            ],
            "text/plain": [
              "   Topic  Count\n",
              "0     -1   1748\n",
              "1     47    195\n",
              "2     45    141\n",
              "3     65    130\n",
              "4     55    109"
            ]
          },
          "metadata": {
            "tags": []
          },
          "execution_count": 17
        }
      ]
    },
    {
      "cell_type": "code",
      "metadata": {
        "colab": {
          "base_uri": "https://localhost:8080/"
        },
        "id": "uCaa7lxHvE9g",
        "outputId": "5272d04b-49ca-4bc0-e4d3-c233c38b2db1"
      },
      "source": [
        "topic_model.get_topic(47)"
      ],
      "execution_count": 66,
      "outputs": [
        {
          "output_type": "execute_result",
          "data": {
            "text/plain": [
              "[('clustering', 0.16519404646439323),\n",
              " ('cluster', 0.027167182739895223),\n",
              " ('nonlinear', 0.02548784911808297),\n",
              " ('array', 0.02548784911808297),\n",
              " ('letor', 0.02548784911808297),\n",
              " ('indexation', 0.02548784911808297),\n",
              " ('hypergraph', 0.02548784911808297),\n",
              " ('icl', 0.02548784911808297),\n",
              " ('geotemporal', 0.02548784911808297),\n",
              " ('metaclustering', 0.02548784911808297)]"
            ]
          },
          "metadata": {
            "tags": []
          },
          "execution_count": 66
        }
      ]
    },
    {
      "cell_type": "code",
      "metadata": {
        "id": "8pH-fJbzd5i2"
      },
      "source": [
        "from bertopic import BERTopic\n",
        "topic_model = BERTopic(language=\"Dutch\")"
      ],
      "execution_count": 71,
      "outputs": []
    },
    {
      "cell_type": "code",
      "metadata": {
        "id": "ulG58YT_d8lA"
      },
      "source": [
        "from bertopic import BERTopic\n",
        "topic_model = BERTopic(embedding_model=\"xlm-r-bert-base-nli-stsb-mean-tokens\")"
      ],
      "execution_count": 72,
      "outputs": []
    },
    {
      "cell_type": "code",
      "metadata": {
        "id": "iNMYA18FeDoi"
      },
      "source": [
        "from bertopic import BERTopic\n",
        "topic_model = BERTopic()\n",
        "topic_model.save(\"my_model\")"
      ],
      "execution_count": 73,
      "outputs": []
    },
    {
      "cell_type": "code",
      "metadata": {
        "id": "5Di_g1SVeH2a"
      },
      "source": [
        "loaded_model = BERTopic.load(\"my_model\")"
      ],
      "execution_count": 74,
      "outputs": []
    },
    {
      "cell_type": "code",
      "metadata": {
        "id": "78G3qGs4dviV"
      },
      "source": [
        "from bertopic import BERTopic\n",
        "topic_model = BERTopic(nr_topics=\"auto\")"
      ],
      "execution_count": 80,
      "outputs": []
    },
    {
      "cell_type": "code",
      "metadata": {
        "id": "svWvKmkjfuOw"
      },
      "source": [
        "from bertopic import BERTopic\n",
        "\n",
        "topic_model = BERTopic()\n",
        "topics, probs = topic_model.fit_transform(docs)\n",
        "\n",
        "# Further reduce topics\n",
        "new_topics, new_probs = topic_model.reduce_topics(docs, topics, probs, nr_topics=38)"
      ],
      "execution_count": 81,
      "outputs": []
    },
    {
      "cell_type": "code",
      "metadata": {
        "colab": {
          "base_uri": "https://localhost:8080/",
          "height": 1000
        },
        "id": "P0j6V5m7g9sS",
        "outputId": "9c686a53-d79b-4289-a1e1-27b269e56f2c"
      },
      "source": [
        "topic_model.get_topic_freq()"
      ],
      "execution_count": 91,
      "outputs": [
        {
          "output_type": "execute_result",
          "data": {
            "text/html": [
              "<div>\n",
              "<style scoped>\n",
              "    .dataframe tbody tr th:only-of-type {\n",
              "        vertical-align: middle;\n",
              "    }\n",
              "\n",
              "    .dataframe tbody tr th {\n",
              "        vertical-align: top;\n",
              "    }\n",
              "\n",
              "    .dataframe thead th {\n",
              "        text-align: right;\n",
              "    }\n",
              "</style>\n",
              "<table border=\"1\" class=\"dataframe\">\n",
              "  <thead>\n",
              "    <tr style=\"text-align: right;\">\n",
              "      <th></th>\n",
              "      <th>Topic</th>\n",
              "      <th>Count</th>\n",
              "    </tr>\n",
              "  </thead>\n",
              "  <tbody>\n",
              "    <tr>\n",
              "      <th>0</th>\n",
              "      <td>-1</td>\n",
              "      <td>2233</td>\n",
              "    </tr>\n",
              "    <tr>\n",
              "      <th>1</th>\n",
              "      <td>69</td>\n",
              "      <td>222</td>\n",
              "    </tr>\n",
              "    <tr>\n",
              "      <th>2</th>\n",
              "      <td>50</td>\n",
              "      <td>160</td>\n",
              "    </tr>\n",
              "    <tr>\n",
              "      <th>3</th>\n",
              "      <td>59</td>\n",
              "      <td>147</td>\n",
              "    </tr>\n",
              "    <tr>\n",
              "      <th>4</th>\n",
              "      <td>42</td>\n",
              "      <td>105</td>\n",
              "    </tr>\n",
              "    <tr>\n",
              "      <th>5</th>\n",
              "      <td>49</td>\n",
              "      <td>87</td>\n",
              "    </tr>\n",
              "    <tr>\n",
              "      <th>6</th>\n",
              "      <td>53</td>\n",
              "      <td>80</td>\n",
              "    </tr>\n",
              "    <tr>\n",
              "      <th>7</th>\n",
              "      <td>66</td>\n",
              "      <td>72</td>\n",
              "    </tr>\n",
              "    <tr>\n",
              "      <th>8</th>\n",
              "      <td>64</td>\n",
              "      <td>69</td>\n",
              "    </tr>\n",
              "    <tr>\n",
              "      <th>9</th>\n",
              "      <td>16</td>\n",
              "      <td>66</td>\n",
              "    </tr>\n",
              "    <tr>\n",
              "      <th>10</th>\n",
              "      <td>46</td>\n",
              "      <td>64</td>\n",
              "    </tr>\n",
              "    <tr>\n",
              "      <th>11</th>\n",
              "      <td>8</td>\n",
              "      <td>61</td>\n",
              "    </tr>\n",
              "    <tr>\n",
              "      <th>12</th>\n",
              "      <td>72</td>\n",
              "      <td>56</td>\n",
              "    </tr>\n",
              "    <tr>\n",
              "      <th>13</th>\n",
              "      <td>52</td>\n",
              "      <td>56</td>\n",
              "    </tr>\n",
              "    <tr>\n",
              "      <th>14</th>\n",
              "      <td>26</td>\n",
              "      <td>53</td>\n",
              "    </tr>\n",
              "    <tr>\n",
              "      <th>15</th>\n",
              "      <td>55</td>\n",
              "      <td>49</td>\n",
              "    </tr>\n",
              "    <tr>\n",
              "      <th>16</th>\n",
              "      <td>22</td>\n",
              "      <td>47</td>\n",
              "    </tr>\n",
              "    <tr>\n",
              "      <th>17</th>\n",
              "      <td>10</td>\n",
              "      <td>46</td>\n",
              "    </tr>\n",
              "    <tr>\n",
              "      <th>18</th>\n",
              "      <td>19</td>\n",
              "      <td>45</td>\n",
              "    </tr>\n",
              "    <tr>\n",
              "      <th>20</th>\n",
              "      <td>7</td>\n",
              "      <td>44</td>\n",
              "    </tr>\n",
              "    <tr>\n",
              "      <th>19</th>\n",
              "      <td>23</td>\n",
              "      <td>44</td>\n",
              "    </tr>\n",
              "    <tr>\n",
              "      <th>21</th>\n",
              "      <td>76</td>\n",
              "      <td>43</td>\n",
              "    </tr>\n",
              "    <tr>\n",
              "      <th>22</th>\n",
              "      <td>14</td>\n",
              "      <td>42</td>\n",
              "    </tr>\n",
              "    <tr>\n",
              "      <th>23</th>\n",
              "      <td>18</td>\n",
              "      <td>40</td>\n",
              "    </tr>\n",
              "    <tr>\n",
              "      <th>24</th>\n",
              "      <td>47</td>\n",
              "      <td>39</td>\n",
              "    </tr>\n",
              "    <tr>\n",
              "      <th>25</th>\n",
              "      <td>74</td>\n",
              "      <td>37</td>\n",
              "    </tr>\n",
              "    <tr>\n",
              "      <th>26</th>\n",
              "      <td>39</td>\n",
              "      <td>37</td>\n",
              "    </tr>\n",
              "    <tr>\n",
              "      <th>27</th>\n",
              "      <td>54</td>\n",
              "      <td>36</td>\n",
              "    </tr>\n",
              "    <tr>\n",
              "      <th>28</th>\n",
              "      <td>57</td>\n",
              "      <td>35</td>\n",
              "    </tr>\n",
              "    <tr>\n",
              "      <th>29</th>\n",
              "      <td>56</td>\n",
              "      <td>35</td>\n",
              "    </tr>\n",
              "    <tr>\n",
              "      <th>30</th>\n",
              "      <td>44</td>\n",
              "      <td>34</td>\n",
              "    </tr>\n",
              "    <tr>\n",
              "      <th>31</th>\n",
              "      <td>29</td>\n",
              "      <td>33</td>\n",
              "    </tr>\n",
              "    <tr>\n",
              "      <th>32</th>\n",
              "      <td>0</td>\n",
              "      <td>32</td>\n",
              "    </tr>\n",
              "    <tr>\n",
              "      <th>33</th>\n",
              "      <td>61</td>\n",
              "      <td>31</td>\n",
              "    </tr>\n",
              "    <tr>\n",
              "      <th>34</th>\n",
              "      <td>13</td>\n",
              "      <td>31</td>\n",
              "    </tr>\n",
              "    <tr>\n",
              "      <th>35</th>\n",
              "      <td>5</td>\n",
              "      <td>31</td>\n",
              "    </tr>\n",
              "    <tr>\n",
              "      <th>36</th>\n",
              "      <td>20</td>\n",
              "      <td>31</td>\n",
              "    </tr>\n",
              "    <tr>\n",
              "      <th>37</th>\n",
              "      <td>63</td>\n",
              "      <td>30</td>\n",
              "    </tr>\n",
              "    <tr>\n",
              "      <th>38</th>\n",
              "      <td>71</td>\n",
              "      <td>30</td>\n",
              "    </tr>\n",
              "  </tbody>\n",
              "</table>\n",
              "</div>"
            ],
            "text/plain": [
              "    Topic  Count\n",
              "0      -1   2233\n",
              "1      69    222\n",
              "2      50    160\n",
              "3      59    147\n",
              "4      42    105\n",
              "5      49     87\n",
              "6      53     80\n",
              "7      66     72\n",
              "8      64     69\n",
              "9      16     66\n",
              "10     46     64\n",
              "11      8     61\n",
              "12     72     56\n",
              "13     52     56\n",
              "14     26     53\n",
              "15     55     49\n",
              "16     22     47\n",
              "17     10     46\n",
              "18     19     45\n",
              "20      7     44\n",
              "19     23     44\n",
              "21     76     43\n",
              "22     14     42\n",
              "23     18     40\n",
              "24     47     39\n",
              "25     74     37\n",
              "26     39     37\n",
              "27     54     36\n",
              "28     57     35\n",
              "29     56     35\n",
              "30     44     34\n",
              "31     29     33\n",
              "32      0     32\n",
              "33     61     31\n",
              "34     13     31\n",
              "35      5     31\n",
              "36     20     31\n",
              "37     63     30\n",
              "38     71     30"
            ]
          },
          "metadata": {
            "tags": []
          },
          "execution_count": 91
        }
      ]
    },
    {
      "cell_type": "code",
      "metadata": {
        "colab": {
          "base_uri": "https://localhost:8080/"
        },
        "id": "HaTV0FILhO9b",
        "outputId": "2195e47a-62aa-4a41-af28-ca30f5afbb57"
      },
      "source": [
        "topic_model.get_topics()"
      ],
      "execution_count": 90,
      "outputs": [
        {
          "output_type": "execute_result",
          "data": {
            "text/plain": [
              "{-1: [('web', 0.012325621360128108),\n",
              "  ('query', 0.01199101880546992),\n",
              "  ('user', 0.011589261427109648),\n",
              "  ('learning', 0.008494835274734186),\n",
              "  ('queries', 0.00829767531097666),\n",
              "  ('evaluation', 0.007600553441612183),\n",
              "  ('online', 0.007489695412536683),\n",
              "  ('neural', 0.006842641708309597),\n",
              "  ('data', 0.006680806531065593),\n",
              "  ('interactive', 0.006642745068098107)],\n",
              " 0: [('xml', 0.42383501122749995),\n",
              "  ('xmlretrieval', 0.052375728988859144),\n",
              "  ('overlap', 0.044544184271986025),\n",
              "  ('xirql', 0.029150031932719936),\n",
              "  ('highprecision', 0.029150031932719936),\n",
              "  ('proximityaware', 0.029150031932719936),\n",
              "  ('hyrex', 0.029150031932719936),\n",
              "  ('flexbasex', 0.029150031932719936),\n",
              "  ('bm25fbased', 0.029150031932719936),\n",
              "  ('xmlaided', 0.029150031932719936)],\n",
              " 5: [('multimedia', 0.267397672276301),\n",
              "  ('libraries', 0.0949533026817912),\n",
              "  ('library', 0.0621336951064953),\n",
              "  ('resource', 0.04660027132987148),\n",
              "  ('cheshire3', 0.02489455281845425),\n",
              "  ('multidisciplines', 0.02489455281845425),\n",
              "  ('terascale', 0.02489455281845425),\n",
              "  ('collage', 0.02489455281845425),\n",
              "  ('gridbased', 0.02489455281845425),\n",
              "  ('logicbased', 0.02489455281845425)],\n",
              " 7: [('medical', 0.21228012302672392),\n",
              "  ('medicine', 0.07710025903376634),\n",
              "  ('clinical', 0.06425021586147195),\n",
              "  ('patient', 0.03321387691976433),\n",
              "  ('healthcare', 0.03321387691976433),\n",
              "  ('tsunami', 0.03321387691976433),\n",
              "  ('medir', 0.018485386103676057),\n",
              "  ('medir14', 0.018485386103676057),\n",
              "  ('medicinal', 0.018485386103676057),\n",
              "  ('ontologyaware', 0.018485386103676057)],\n",
              " 8: [('poster', 0.18756948825476433),\n",
              "  ('demonstration', 0.05729950120206451),\n",
              "  ('speech', 0.027226751962760212),\n",
              "  ('workshop', 0.021234193188527872),\n",
              "  ('code', 0.020885018918205676),\n",
              "  ('abstracts', 0.01902069182416921),\n",
              "  ('research', 0.01787824494945466),\n",
              "  ('semantics', 0.015825550446965198),\n",
              "  ('library', 0.015533423776623825),\n",
              "  ('visualization', 0.014148425157262862)],\n",
              " 10: [('workshop', 0.19764480454035285),\n",
              "  ('tutorial', 0.07736023089203854),\n",
              "  ('bibliometricenhanced', 0.03644901390820609),\n",
              "  ('birndl', 0.03644901390820609),\n",
              "  ('ecommerce', 0.03167783455539829),\n",
              "  ('libraries', 0.02761911351890742),\n",
              "  ('consumers', 0.026021062809751673),\n",
              "  ('clinicians', 0.026021062809751673),\n",
              "  ('factoids', 0.026021062809751673),\n",
              "  ('spatiallyaware', 0.026021062809751673)],\n",
              " 13: [('mobile', 0.31903244676134884),\n",
              "  ('smartphone', 0.044729637165668024),\n",
              "  ('placesofinterest', 0.044729637165668024),\n",
              "  ('notifications', 0.04177003783641135),\n",
              "  ('recognizing', 0.04177003783641135),\n",
              "  ('app', 0.03967016869442754),\n",
              "  ('interoperability', 0.02489455281845425),\n",
              "  ('heightbiased', 0.02489455281845425),\n",
              "  ('wapenabled', 0.02489455281845425),\n",
              "  ('apps', 0.02489455281845425)],\n",
              " 14: [('music', 0.33407321269590357),\n",
              "  ('contentbased', 0.0699387191043403),\n",
              "  ('audio', 0.05095137291690538),\n",
              "  ('polyphonic', 0.038299751823103245),\n",
              "  ('similarity', 0.03661608967682298),\n",
              "  ('song', 0.032572934748889774),\n",
              "  ('singer', 0.021315960850801452),\n",
              "  ('audiobased', 0.021315960850801452),\n",
              "  ('spotify', 0.021315960850801452),\n",
              "  ('venueaware', 0.021315960850801452)],\n",
              " 16: [('tool', 0.027546719409516213),\n",
              "  ('quantum', 0.023168091840062455),\n",
              "  ('ai', 0.02163514247103348),\n",
              "  ('science', 0.018431747913803975),\n",
              "  ('visualization', 0.014656591656294989),\n",
              "  ('browsing', 0.013470740772154946),\n",
              "  ('online', 0.013164259746273345),\n",
              "  ('arabicweb16', 0.01289434304774379),\n",
              "  ('crazy', 0.01289434304774379),\n",
              "  ('uncertaintyaware', 0.01289434304774379)],\n",
              " 18: [('image', 0.24045917171736614),\n",
              "  ('spatial', 0.0515398470714851),\n",
              "  ('map', 0.05025959668391571),\n",
              "  ('photo', 0.04146735640281417),\n",
              "  ('photos', 0.03532751683479095),\n",
              "  ('images', 0.028897783537682964),\n",
              "  ('regionbased', 0.024714157508175596),\n",
              "  ('photographic', 0.024714157508175596),\n",
              "  ('photograph', 0.024714157508175596),\n",
              "  ('conceptpreserving', 0.024714157508175596)],\n",
              " 19: [('video', 0.24757245961019847),\n",
              "  ('videos', 0.051715660699520924),\n",
              "  ('streaming', 0.03565976525645433),\n",
              "  ('temporal', 0.03246833754372049),\n",
              "  ('mpeg7', 0.03150622257941655),\n",
              "  ('movie', 0.029421569067292316),\n",
              "  ('contentbased', 0.028766568269137396),\n",
              "  ('flickr', 0.025857830349760462),\n",
              "  ('semantic', 0.02375576314385208),\n",
              "  ('wordsofinterest', 0.0175349806484742)],\n",
              " 20: [('hashing', 0.31672508509899483),\n",
              "  ('hash', 0.07496718581120115),\n",
              "  ('semantic', 0.06053051438619078),\n",
              "  ('crossmodal', 0.057946011346612585),\n",
              "  ('deep', 0.05385917648861304),\n",
              "  ('scalable', 0.05078605012781691),\n",
              "  ('kernel', 0.0439244367076717),\n",
              "  ('learning', 0.03924197570596287),\n",
              "  ('neural', 0.03487630203794925),\n",
              "  ('semanticinvariant', 0.02978649551203696)],\n",
              " 22: [('graph', 0.17547905332251246),\n",
              "  ('graphs', 0.13667003540226474),\n",
              "  ('graphbased', 0.08995030220606072),\n",
              "  ('bipartite', 0.04418547244826483),\n",
              "  ('edges', 0.03101623405738946),\n",
              "  ('webscale', 0.03101623405738946),\n",
              "  ('multilayer', 0.03101623405738946),\n",
              "  ('hierarchical', 0.02287621371564223),\n",
              "  ('network', 0.021644100722738157),\n",
              "  ('multilingual', 0.019311712380677415)],\n",
              " 23: [('twostage', 0.07991571793106679),\n",
              "  ('mathematical', 0.0706369101548934),\n",
              "  ('mathematics', 0.048223274019003),\n",
              "  ('twophase', 0.034426743211778195),\n",
              "  ('twolevel', 0.032148849346002),\n",
              "  ('twodimensional', 0.019160414247911418),\n",
              "  ('twotiered', 0.019160414247911418),\n",
              "  ('twotrie', 0.019160414247911418),\n",
              "  ('twoword', 0.019160414247911418),\n",
              "  ('querybymultipleexamples', 0.019160414247911418)],\n",
              " 26: [('supervision', 0.04168497521386048),\n",
              "  ('weak', 0.04064951995534282),\n",
              "  ('judgments', 0.039584963158112794),\n",
              "  ('evaluation', 0.038182340723439664),\n",
              "  ('incomplete', 0.0331605362837038),\n",
              "  ('low', 0.0331605362837038),\n",
              "  ('relevance', 0.027862250715191484),\n",
              "  ('evaluating', 0.02382622952161014),\n",
              "  ('blind', 0.02210702418913587),\n",
              "  ('discriminative', 0.01906022339546578)],\n",
              " 29: [('efficient', 0.1079992664545949),\n",
              "  ('fast', 0.09481051567015661),\n",
              "  ('faster', 0.057355262625895895),\n",
              "  ('highly', 0.05315908681485199),\n",
              "  ('simfusion', 0.04488231516539887),\n",
              "  ('large', 0.035998910077210615),\n",
              "  ('incremental', 0.0333816322729014),\n",
              "  ('supercomputer', 0.02674944106767241),\n",
              "  ('massively', 0.02674944106767241),\n",
              "  ('widely', 0.02674944106767241)],\n",
              " 39: [('timebased', 0.07213229223010532),\n",
              "  ('retrospective', 0.06850604761936858),\n",
              "  ('timeaware', 0.0582842381712636),\n",
              "  ('timeline', 0.04096804473278278),\n",
              "  ('timedtextrank', 0.02866011542964901),\n",
              "  ('timemine', 0.02866011542964901),\n",
              "  ('timecritical', 0.02866011542964901),\n",
              "  ('eventdriven', 0.02866011542964901),\n",
              "  ('eventinterval', 0.02866011542964901),\n",
              "  ('recontextualization', 0.02866011542964901)],\n",
              " 42: [('filtering', 0.16524246857042738),\n",
              "  ('collaborative', 0.14095698205944288),\n",
              "  ('spam', 0.05648393256266768),\n",
              "  ('bandits', 0.020355105285155706),\n",
              "  ('coding', 0.01951936164727477),\n",
              "  ('algorithm', 0.016602246745518027),\n",
              "  ('coarsetofine', 0.01530077476079031),\n",
              "  ('filter', 0.013570070190103804),\n",
              "  ('email', 0.013491504297334322),\n",
              "  ('algorithms', 0.01280865202469779)],\n",
              " 44: [('community', 0.12484578626555509),\n",
              "  ('recommendation', 0.08911869180546389),\n",
              "  ('recommendations', 0.07361592839328478),\n",
              "  ('geographical', 0.060436330452906833),\n",
              "  ('recommender', 0.057667817555062166),\n",
              "  ('group', 0.05732086233372205),\n",
              "  ('collaborative', 0.04963361290206336),\n",
              "  ('factorization', 0.04370170173039838),\n",
              "  ('pointofinterest', 0.04307164925473028),\n",
              "  ('qnetwork', 0.028186394513456465)],\n",
              " 46: [('social', 0.14516826299647836),\n",
              "  ('popularity', 0.04607936978450994),\n",
              "  ('influence', 0.02972200918230851),\n",
              "  ('networks', 0.028097943860901108),\n",
              "  ('trend', 0.02163514247103348),\n",
              "  ('users', 0.02127617608335723),\n",
              "  ('microblogging', 0.019703854668515555),\n",
              "  ('online', 0.017552346328364457),\n",
              "  ('streaming', 0.017481598846579377),\n",
              "  ('profiles', 0.01609133502758007)],\n",
              " 47: [('twitter', 0.2416795577919551),\n",
              "  ('tweets', 0.12887658079869838),\n",
              "  ('tweet', 0.056868207507783146),\n",
              "  ('hashtag', 0.03752455858090725),\n",
              "  ('retweet', 0.03752455858090725),\n",
              "  ('twitterspecific', 0.02236428679428349),\n",
              "  ('hashtagoriented', 0.02236428679428349),\n",
              "  ('retweeters', 0.02236428679428349),\n",
              "  ('themestreams', 0.02236428679428349),\n",
              "  ('followers', 0.02236428679428349)],\n",
              " 49: [('similarity', 0.08282210760233769),\n",
              "  ('tag', 0.06434240008625491),\n",
              "  ('matrix', 0.02168484310659833),\n",
              "  ('hashing', 0.02055840263255947),\n",
              "  ('clustering', 0.01833629944618209),\n",
              "  ('multitype', 0.018237977058620593),\n",
              "  ('tagbased', 0.018237977058620593),\n",
              "  ('multidocument', 0.018073744419717337),\n",
              "  ('factorization', 0.01573781520648275),\n",
              "  ('composite', 0.01551092130899513)],\n",
              " 50: [('relevance', 0.07590414624984151),\n",
              "  ('feedback', 0.05776883731884527),\n",
              "  ('pseudorelevance', 0.038019857128316646),\n",
              "  ('bias', 0.02973588033249139),\n",
              "  ('topical', 0.022803932312294262),\n",
              "  ('analysis', 0.021143846487178687),\n",
              "  ('evaluation', 0.01725351759962915),\n",
              "  ('sentiment', 0.014659256143198574),\n",
              "  ('diversified', 0.013701209523873716),\n",
              "  ('assessment', 0.010931598712105374)],\n",
              " 52: [('diversification', 0.12845300893365977),\n",
              "  ('personalized', 0.05643866445533597),\n",
              "  ('exploratory', 0.04215266181619625),\n",
              "  ('diversifying', 0.04191691334977773),\n",
              "  ('personalizing', 0.037189406661556935),\n",
              "  ('personalization', 0.035575433239609336),\n",
              "  ('context', 0.03163438564448873),\n",
              "  ('cloudsearch', 0.01828715140015138),\n",
              "  ('intercategory', 0.01828715140015138),\n",
              "  ('gazebased', 0.01828715140015138)],\n",
              " 53: [('learning', 0.09783030646447666),\n",
              "  ('learningtorank', 0.04693015243883431),\n",
              "  ('training', 0.02349353054141861),\n",
              "  ('boosting', 0.01985765838940091),\n",
              "  ('feedback', 0.01670512160026873),\n",
              "  ('diversity', 0.01662369020638406),\n",
              "  ('optimization', 0.015956034637298493),\n",
              "  ('gradient', 0.015163910803114),\n",
              "  ('study', 0.015019522394974878),\n",
              "  ('evaluation', 0.014737422617699746)],\n",
              " 54: [('test', 0.2069899085527906),\n",
              "  ('design', 0.04559487316528041),\n",
              "  ('manual', 0.04044858278347537),\n",
              "  ('laboratory', 0.03777224543622677),\n",
              "  ('experiment', 0.03319701652163967),\n",
              "  ('experiments', 0.03262125690732974),\n",
              "  ('research', 0.03233425159175298),\n",
              "  ('trec', 0.029825230226154586),\n",
              "  ('testing', 0.027148892878905973),\n",
              "  ('bfnumdocs', 0.022511905849031236)],\n",
              " 55: [('cluster', 0.13790988339597404),\n",
              "  ('clusterbased', 0.13406346373798356),\n",
              "  ('clustering', 0.09232617404141023),\n",
              "  ('hypothesis', 0.06662655468184792),\n",
              "  ('clusters', 0.05098803688136131),\n",
              "  ('fusion', 0.031143213089812084),\n",
              "  ('eliasfano', 0.019657370237050328),\n",
              "  ('instancelevel', 0.019657370237050328),\n",
              "  ('clusterbook', 0.019657370237050328),\n",
              "  ('pseudoquery', 0.019657370237050328)],\n",
              " 56: [('clustering', 0.23658226997441986),\n",
              "  ('clothing', 0.049023682333572155),\n",
              "  ('collections', 0.03590959290920844),\n",
              "  ('cluster', 0.03190315302560199),\n",
              "  ('factorization', 0.02820216485001709),\n",
              "  ('optimization', 0.02735928072475448),\n",
              "  ('subsets4', 0.02728442988902586),\n",
              "  ('paragraphbased', 0.02728442988902586),\n",
              "  ('metaclustering', 0.02728442988902586),\n",
              "  ('attributewise', 0.02728442988902586)],\n",
              " 57: [('ecommerce', 0.17065656949207217),\n",
              "  ('sales', 0.04005202805030405),\n",
              "  ('purchase', 0.03740192930449906),\n",
              "  ('ebusiness', 0.022291200889727008),\n",
              "  ('inventory', 0.022291200889727008),\n",
              "  ('ebays', 0.022291200889727008),\n",
              "  ('marketplace', 0.022291200889727008),\n",
              "  ('grocery', 0.022291200889727008),\n",
              "  ('retail', 0.022291200889727008),\n",
              "  ('crowdsourcingbased', 0.022291200889727008)],\n",
              " 59: [('text', 0.13198053847478647),\n",
              "  ('categorization', 0.05850009236329873),\n",
              "  ('classifiers', 0.030516472990075507),\n",
              "  ('compression', 0.022426822772962575),\n",
              "  ('fulltext', 0.018158294901459232),\n",
              "  ('compressed', 0.015884977991881506),\n",
              "  ('corpus', 0.015814845203237192),\n",
              "  ('bayesian', 0.012987164130954855),\n",
              "  ('summarization', 0.011349386968522418),\n",
              "  ('data', 0.011018639319539466)],\n",
              " 61: [('crosslanguage', 0.14420131380798268),\n",
              "  ('translation', 0.13654743180907533),\n",
              "  ('dictionary', 0.06608593631465685),\n",
              "  ('dictionarybased', 0.05680989314776907),\n",
              "  ('bilingual', 0.054477382158421926),\n",
              "  ('translations', 0.03631825477228128),\n",
              "  ('dictionaries', 0.035047721275459305),\n",
              "  ('crosslingual', 0.028662420008043588),\n",
              "  ('semantic', 0.024148933439786916),\n",
              "  ('hashing', 0.02406837381372816)],\n",
              " 63: [('japanese', 0.18853047054210717),\n",
              "  ('dictionaries', 0.05466682611987402),\n",
              "  ('englishjapanese', 0.04440550936011971),\n",
              "  ('katakana', 0.04440550936011971),\n",
              "  ('english', 0.03532751683479095),\n",
              "  ('japanesetoenglish', 0.024714157508175596),\n",
              "  ('easytounderstand', 0.024714157508175596),\n",
              "  ('englishchinese', 0.024714157508175596),\n",
              "  ('bmirj2', 0.024714157508175596),\n",
              "  ('1click2', 0.024714157508175596)],\n",
              " 64: [('spoken', 0.09601487375931463),\n",
              "  ('speech', 0.08218787329775583),\n",
              "  ('language', 0.07136069226965948),\n",
              "  ('conversational', 0.03544110290373904),\n",
              "  ('voice', 0.033052185242041704),\n",
              "  ('speechonly', 0.020772746751513624),\n",
              "  ('sound', 0.020772746751513624),\n",
              "  ('transcripts', 0.019398288757926627),\n",
              "  ('communication', 0.018423095291988385),\n",
              "  ('phonetic', 0.018423095291988385)],\n",
              " 66: [('document', 0.11876162088269979),\n",
              "  ('documents', 0.06538594226009167),\n",
              "  ('representation', 0.029417383461074136),\n",
              "  ('documentlevel', 0.02188557247034471),\n",
              "  ('syntactic', 0.021363718543929905),\n",
              "  ('incorporating', 0.019087558576258837),\n",
              "  ('layout', 0.018613105570794156),\n",
              "  ('strategy', 0.016934521180630817),\n",
              "  ('integrating', 0.01579718642663605),\n",
              "  ('inference', 0.014935893366575737)],\n",
              " 69: [('intelligent', 0.02672285386673301),\n",
              "  ('probabilistic', 0.022069241602091404),\n",
              "  ('logic', 0.016185751806313146),\n",
              "  ('evaluation', 0.013200624716868963),\n",
              "  ('knowledge', 0.011894324212394667),\n",
              "  ('axiomatic', 0.01132338132675016),\n",
              "  ('conceptual', 0.010163959677122218),\n",
              "  ('analysis', 0.009656741828472653),\n",
              "  ('sensitivity', 0.009334333539980354),\n",
              "  ('theory', 0.00901871053022816)],\n",
              " 71: [('dialogue', 0.07479100611655835),\n",
              "  ('lecture', 0.07172022330030776),\n",
              "  ('science', 0.04472658094679956),\n",
              "  ('conversational', 0.03836743250129548),\n",
              "  ('neural', 0.03663611544353385),\n",
              "  ('kwic', 0.03128948381769021),\n",
              "  ('courseware', 0.03128948381769021),\n",
              "  ('curriculum', 0.03128948381769021),\n",
              "  ('commentsoriented', 0.03128948381769021),\n",
              "  ('learning', 0.029444339569677257)],\n",
              " 72: [('web', 0.05084633141478303),\n",
              "  ('cache', 0.04416669118493529),\n",
              "  ('snippets', 0.03454330367247822),\n",
              "  ('clickthrough', 0.033795712950849564),\n",
              "  ('query', 0.027326491759324896),\n",
              "  ('urls', 0.02596593343939203),\n",
              "  ('online', 0.024590019088201267),\n",
              "  ('search', 0.018844183445862486),\n",
              "  ('internet', 0.018034568283029358),\n",
              "  ('networks', 0.015745563879678695)],\n",
              " 74: [('mining', 0.20130969451071723),\n",
              "  ('logs', 0.09938381669823793),\n",
              "  ('log', 0.09051036184382269),\n",
              "  ('query', 0.04242797404737287),\n",
              "  ('web', 0.037756600787407536),\n",
              "  ('browse', 0.035755349415372194),\n",
              "  ('crosslingual', 0.02705958731022536),\n",
              "  ('miningbased', 0.02243785352715942),\n",
              "  ('websearch', 0.02243785352715942),\n",
              "  ('emailsift', 0.02243785352715942)],\n",
              " 76: [('satisfaction', 0.06390112900697842),\n",
              "  ('user', 0.04129086479154529),\n",
              "  ('web', 0.037266255322636006),\n",
              "  ('behavioral', 0.03144228122850745),\n",
              "  ('users', 0.030920596560703232),\n",
              "  ('usefulness', 0.029861610500750407),\n",
              "  ('browsing', 0.029365474732705905),\n",
              "  ('prediction', 0.028270464068209954),\n",
              "  ('searching', 0.021941409798599945),\n",
              "  ('online', 0.01913157529060055)]}"
            ]
          },
          "metadata": {
            "tags": []
          },
          "execution_count": 90
        }
      ]
    },
    {
      "cell_type": "code",
      "metadata": {
        "colab": {
          "base_uri": "https://localhost:8080/",
          "height": 667
        },
        "id": "EQVSJkXAvIVF",
        "outputId": "17198f31-ebd6-4460-ec80-4cbe22508f01"
      },
      "source": [
        "topic_model.visualize_topics()"
      ],
      "execution_count": 85,
      "outputs": [
        {
          "output_type": "display_data",
          "data": {
            "text/html": [
              "<html>\n",
              "<head><meta charset=\"utf-8\" /></head>\n",
              "<body>\n",
              "    <div>            <script src=\"https://cdnjs.cloudflare.com/ajax/libs/mathjax/2.7.5/MathJax.js?config=TeX-AMS-MML_SVG\"></script><script type=\"text/javascript\">if (window.MathJax) {MathJax.Hub.Config({SVG: {font: \"STIX-Web\"}});}</script>                <script type=\"text/javascript\">window.PlotlyConfig = {MathJaxConfig: 'local'};</script>\n",
              "        <script src=\"https://cdn.plot.ly/plotly-latest.min.js\"></script>                <div id=\"1c98e38c-5806-403f-a400-ef26349c13e0\" class=\"plotly-graph-div\" style=\"height:650px; width:650px;\"></div>            <script type=\"text/javascript\">                                    window.PLOTLYENV=window.PLOTLYENV || {};                                    if (document.getElementById(\"1c98e38c-5806-403f-a400-ef26349c13e0\")) {                    Plotly.newPlot(                        \"1c98e38c-5806-403f-a400-ef26349c13e0\",                        [{\"customdata\": [[3.7631561756134033, -0.38657721877098083, 0, \"xml | xmlretrieval | overlap | xirql | highprecision\", 32], [1.2499613761901855, 15.186450958251953, 5, \"multimedia | libraries | library | resource | cheshire3\", 31], [1.1116812229156494, 14.199700355529785, 7, \"medical | medicine | clinical | patient | healthcare\", 44], [1.1409082412719727, 14.772797584533691, 8, \"poster | demonstration | speech | workshop | code\", 61], [1.4581515789031982, 14.680378913879395, 10, \"workshop | tutorial | bibliometricenhanced | birndl | ecommerce\", 46], [10.177838325500488, -10.66065502166748, 13, \"mobile | smartphone | placesofinterest | notifications | recognizing\", 31], [11.130209922790527, 0.713616132736206, 14, \"music | contentbased | audio | polyphonic | similarity\", 42], [1.1239895820617676, 14.989351272583008, 16, \"tool | quantum | ai | science | visualization\", 66], [11.939400672912598, -10.83323860168457, 18, \"image | spatial | map | photo | photos\", 40], [11.811986923217773, -10.658282279968262, 19, \"video | videos | streaming | temporal | mpeg7\", 45], [11.384156227111816, -10.190526008605957, 20, \"hashing | hash | semantic | crossmodal | deep\", 31], [11.270851135253906, -10.46278190612793, 22, \"graph | graphs | graphbased | bipartite | edges\", 47], [-7.714372634887695, 16.692012786865234, 23, \"twostage | mathematical | mathematics | twophase | twolevel\", 44], [-4.624716758728027, -9.581618309020996, 26, \"supervision | weak | judgments | evaluation | incomplete\", 53], [-7.467609882354736, 16.444997787475586, 29, \"efficient | fast | faster | highly | simfusion\", 33], [15.52670669555664, -15.113428115844727, 39, \"timebased | retrospective | timeaware | timeline | timedtextrank\", 37], [11.1259765625, -10.646684646606445, 42, \"filtering | collaborative | spam | bandits | coding\", 105], [15.56525993347168, -15.1519775390625, 44, \"community | recommendation | recommendations | geographical | recommender\", 34], [21.11965560913086, 4.005648612976074, 46, \"social | popularity | influence | networks | trend\", 64], [21.119626998901367, 4.00562858581543, 47, \"twitter | tweets | tweet | hashtag | retweet\", 39], [11.176405906677246, -10.40048599243164, 49, \"similarity | tag | matrix | hashing | clustering\", 87], [-8.452291488647461, 0.8572613000869751, 50, \"relevance | feedback | pseudorelevance | bias | topical\", 160], [10.328179359436035, -11.036476135253906, 52, \"diversification | personalized | exploratory | diversifying | personalizing\", 56], [-8.396796226501465, 0.8017725944519043, 53, \"learning | learningtorank | training | boosting | feedback\", 80], [-4.624719142913818, -9.581619262695312, 54, \"test | design | manual | laboratory | experiment\", 36], [11.124703407287598, 0.7084442377090454, 55, \"cluster | clusterbased | clustering | hypothesis | clusters\", 49], [10.96313190460205, 0.5467293858528137, 56, \"clustering | clothing | collections | cluster | factorization\", 35], [9.428168296813965, -11.053563117980957, 57, \"ecommerce | sales | purchase | ebusiness | inventory\", 35], [3.495711088180542, -0.1190413385629654, 59, \"text | categorization | classifiers | compression | fulltext\", 147], [6.96368408203125, 8.852058410644531, 61, \"crosslanguage | translation | dictionary | dictionarybased | bilingual\", 31], [6.936917781829834, 8.878745079040527, 63, \"japanese | dictionaries | englishjapanese | katakana | english\", 30], [1.1181821823120117, 14.324925422668457, 64, \"spoken | speech | language | conversational | voice\", 69], [3.738990545272827, -0.3622335195541382, 66, \"document | documents | representation | documentlevel | syntactic\", 72], [3.624246597290039, -0.24607782065868378, 69, \"intelligent | probabilistic | logic | evaluation | knowledge\", 222], [15.30380630493164, -14.8905668258667, 71, \"dialogue | lecture | science | conversational | neural\", 30], [-7.747937202453613, 16.725677490234375, 72, \"web | cache | snippets | clickthrough | query\", 56], [10.166542053222656, -10.850528717041016, 74, \"mining | logs | log | query | web\", 37], [9.72059154510498, -10.956822395324707, 76, \"satisfaction | user | web | behavioral | users\", 43]], \"hovertemplate\": \"<b>Topic %{customdata[2]}</b><br>Words: %{customdata[3]}<br>Size: %{customdata[4]}\", \"legendgroup\": \"\", \"marker\": {\"color\": \"#B0BEC5\", \"line\": {\"color\": \"DarkSlateGrey\", \"width\": 2}, \"size\": [32, 31, 44, 61, 46, 31, 42, 66, 40, 45, 31, 47, 44, 53, 33, 37, 105, 34, 64, 39, 87, 160, 56, 80, 36, 49, 35, 35, 147, 31, 30, 69, 72, 222, 30, 56, 37, 43], \"sizemode\": \"area\", \"sizeref\": 0.13875, \"symbol\": \"circle\"}, \"mode\": \"markers\", \"name\": \"\", \"orientation\": \"v\", \"showlegend\": false, \"type\": \"scatter\", \"x\": [3.7631561756134033, 1.2499613761901855, 1.1116812229156494, 1.1409082412719727, 1.4581515789031982, 10.177838325500488, 11.130209922790527, 1.1239895820617676, 11.939400672912598, 11.811986923217773, 11.384156227111816, 11.270851135253906, -7.714372634887695, -4.624716758728027, -7.467609882354736, 15.52670669555664, 11.1259765625, 15.56525993347168, 21.11965560913086, 21.119626998901367, 11.176405906677246, -8.452291488647461, 10.328179359436035, -8.396796226501465, -4.624719142913818, 11.124703407287598, 10.96313190460205, 9.428168296813965, 3.495711088180542, 6.96368408203125, 6.936917781829834, 1.1181821823120117, 3.738990545272827, 3.624246597290039, 15.30380630493164, -7.747937202453613, 10.166542053222656, 9.72059154510498], \"xaxis\": \"x\", \"y\": [-0.38657721877098083, 15.186450958251953, 14.199700355529785, 14.772797584533691, 14.680378913879395, -10.66065502166748, 0.713616132736206, 14.989351272583008, -10.83323860168457, -10.658282279968262, -10.190526008605957, -10.46278190612793, 16.692012786865234, -9.581618309020996, 16.444997787475586, -15.113428115844727, -10.646684646606445, -15.1519775390625, 4.005648612976074, 4.00562858581543, -10.40048599243164, 0.8572613000869751, -11.036476135253906, 0.8017725944519043, -9.581619262695312, 0.7084442377090454, 0.5467293858528137, -11.053563117980957, -0.1190413385629654, 8.852058410644531, 8.878745079040527, 14.324925422668457, -0.3622335195541382, -0.24607782065868378, -14.8905668258667, 16.725677490234375, -10.850528717041016, -10.956822395324707], \"yaxis\": \"y\"}],                        {\"annotations\": [{\"showarrow\": false, \"text\": \"D1\", \"x\": -9.72013521194458, \"y\": 0.9048774719238288, \"yshift\": 10}, {\"showarrow\": false, \"text\": \"D2\", \"x\": 7.283734369277955, \"xshift\": 10, \"y\": 19.234529113769533}], \"height\": 650, \"hoverlabel\": {\"bgcolor\": \"white\", \"font\": {\"family\": \"Rockwell\", \"size\": 16}}, \"legend\": {\"itemsizing\": \"constant\", \"tracegroupgap\": 0}, \"margin\": {\"t\": 60}, \"shapes\": [{\"line\": {\"color\": \"#CFD8DC\", \"width\": 2}, \"type\": \"line\", \"x0\": 7.283734369277955, \"x1\": 7.283734369277955, \"y0\": -17.424774169921875, \"y1\": 19.234529113769533}, {\"line\": {\"color\": \"#9E9E9E\", \"width\": 2}, \"type\": \"line\", \"x0\": -9.72013521194458, \"x1\": 24.28760395050049, \"y0\": 0.9048774719238288, \"y1\": 0.9048774719238288}], \"sliders\": [{\"active\": 0, \"pad\": {\"t\": 50}, \"steps\": [{\"args\": [{\"marker.color\": [[\"red\", \"#B0BEC5\", \"#B0BEC5\", \"#B0BEC5\", \"#B0BEC5\", \"#B0BEC5\", \"#B0BEC5\", \"#B0BEC5\", \"#B0BEC5\", \"#B0BEC5\", \"#B0BEC5\", \"#B0BEC5\", \"#B0BEC5\", \"#B0BEC5\", \"#B0BEC5\", \"#B0BEC5\", \"#B0BEC5\", \"#B0BEC5\", \"#B0BEC5\", \"#B0BEC5\", \"#B0BEC5\", \"#B0BEC5\", \"#B0BEC5\", \"#B0BEC5\", \"#B0BEC5\", \"#B0BEC5\", \"#B0BEC5\", \"#B0BEC5\", \"#B0BEC5\", \"#B0BEC5\", \"#B0BEC5\", \"#B0BEC5\", \"#B0BEC5\", \"#B0BEC5\", \"#B0BEC5\", \"#B0BEC5\", \"#B0BEC5\", \"#B0BEC5\"]]}], \"label\": \"Topic 0\", \"method\": \"update\"}, {\"args\": [{\"marker.color\": [[\"#B0BEC5\", \"red\", \"#B0BEC5\", \"#B0BEC5\", \"#B0BEC5\", \"#B0BEC5\", \"#B0BEC5\", \"#B0BEC5\", \"#B0BEC5\", \"#B0BEC5\", \"#B0BEC5\", \"#B0BEC5\", \"#B0BEC5\", \"#B0BEC5\", \"#B0BEC5\", \"#B0BEC5\", \"#B0BEC5\", \"#B0BEC5\", \"#B0BEC5\", \"#B0BEC5\", \"#B0BEC5\", \"#B0BEC5\", \"#B0BEC5\", \"#B0BEC5\", \"#B0BEC5\", \"#B0BEC5\", \"#B0BEC5\", \"#B0BEC5\", \"#B0BEC5\", \"#B0BEC5\", \"#B0BEC5\", \"#B0BEC5\", \"#B0BEC5\", \"#B0BEC5\", \"#B0BEC5\", \"#B0BEC5\", \"#B0BEC5\", \"#B0BEC5\"]]}], \"label\": \"Topic 5\", \"method\": \"update\"}, {\"args\": [{\"marker.color\": [[\"#B0BEC5\", \"#B0BEC5\", \"red\", \"#B0BEC5\", \"#B0BEC5\", \"#B0BEC5\", \"#B0BEC5\", \"#B0BEC5\", \"#B0BEC5\", \"#B0BEC5\", \"#B0BEC5\", \"#B0BEC5\", \"#B0BEC5\", \"#B0BEC5\", \"#B0BEC5\", \"#B0BEC5\", \"#B0BEC5\", \"#B0BEC5\", \"#B0BEC5\", \"#B0BEC5\", \"#B0BEC5\", \"#B0BEC5\", \"#B0BEC5\", \"#B0BEC5\", \"#B0BEC5\", \"#B0BEC5\", \"#B0BEC5\", \"#B0BEC5\", \"#B0BEC5\", \"#B0BEC5\", \"#B0BEC5\", \"#B0BEC5\", \"#B0BEC5\", \"#B0BEC5\", \"#B0BEC5\", \"#B0BEC5\", \"#B0BEC5\", \"#B0BEC5\"]]}], \"label\": \"Topic 7\", \"method\": \"update\"}, {\"args\": [{\"marker.color\": [[\"#B0BEC5\", \"#B0BEC5\", \"#B0BEC5\", \"red\", \"#B0BEC5\", \"#B0BEC5\", \"#B0BEC5\", \"#B0BEC5\", \"#B0BEC5\", \"#B0BEC5\", \"#B0BEC5\", \"#B0BEC5\", \"#B0BEC5\", \"#B0BEC5\", \"#B0BEC5\", \"#B0BEC5\", \"#B0BEC5\", \"#B0BEC5\", \"#B0BEC5\", \"#B0BEC5\", \"#B0BEC5\", \"#B0BEC5\", \"#B0BEC5\", \"#B0BEC5\", \"#B0BEC5\", \"#B0BEC5\", \"#B0BEC5\", \"#B0BEC5\", \"#B0BEC5\", \"#B0BEC5\", \"#B0BEC5\", \"#B0BEC5\", \"#B0BEC5\", \"#B0BEC5\", \"#B0BEC5\", \"#B0BEC5\", \"#B0BEC5\", \"#B0BEC5\"]]}], \"label\": \"Topic 8\", \"method\": \"update\"}, {\"args\": [{\"marker.color\": [[\"#B0BEC5\", \"#B0BEC5\", \"#B0BEC5\", \"#B0BEC5\", \"red\", \"#B0BEC5\", \"#B0BEC5\", \"#B0BEC5\", \"#B0BEC5\", \"#B0BEC5\", \"#B0BEC5\", \"#B0BEC5\", \"#B0BEC5\", \"#B0BEC5\", \"#B0BEC5\", \"#B0BEC5\", \"#B0BEC5\", \"#B0BEC5\", \"#B0BEC5\", \"#B0BEC5\", \"#B0BEC5\", \"#B0BEC5\", \"#B0BEC5\", \"#B0BEC5\", \"#B0BEC5\", \"#B0BEC5\", \"#B0BEC5\", \"#B0BEC5\", \"#B0BEC5\", \"#B0BEC5\", \"#B0BEC5\", \"#B0BEC5\", \"#B0BEC5\", \"#B0BEC5\", \"#B0BEC5\", \"#B0BEC5\", \"#B0BEC5\", \"#B0BEC5\"]]}], \"label\": \"Topic 10\", \"method\": \"update\"}, {\"args\": [{\"marker.color\": [[\"#B0BEC5\", \"#B0BEC5\", \"#B0BEC5\", \"#B0BEC5\", \"#B0BEC5\", \"red\", \"#B0BEC5\", \"#B0BEC5\", \"#B0BEC5\", \"#B0BEC5\", \"#B0BEC5\", \"#B0BEC5\", \"#B0BEC5\", \"#B0BEC5\", \"#B0BEC5\", \"#B0BEC5\", \"#B0BEC5\", \"#B0BEC5\", \"#B0BEC5\", \"#B0BEC5\", \"#B0BEC5\", \"#B0BEC5\", \"#B0BEC5\", \"#B0BEC5\", \"#B0BEC5\", \"#B0BEC5\", \"#B0BEC5\", \"#B0BEC5\", \"#B0BEC5\", \"#B0BEC5\", \"#B0BEC5\", \"#B0BEC5\", \"#B0BEC5\", \"#B0BEC5\", \"#B0BEC5\", \"#B0BEC5\", \"#B0BEC5\", \"#B0BEC5\"]]}], \"label\": \"Topic 13\", \"method\": \"update\"}, {\"args\": [{\"marker.color\": [[\"#B0BEC5\", \"#B0BEC5\", \"#B0BEC5\", \"#B0BEC5\", \"#B0BEC5\", \"#B0BEC5\", \"red\", \"#B0BEC5\", \"#B0BEC5\", \"#B0BEC5\", \"#B0BEC5\", \"#B0BEC5\", \"#B0BEC5\", \"#B0BEC5\", \"#B0BEC5\", \"#B0BEC5\", \"#B0BEC5\", \"#B0BEC5\", \"#B0BEC5\", \"#B0BEC5\", \"#B0BEC5\", \"#B0BEC5\", \"#B0BEC5\", \"#B0BEC5\", \"#B0BEC5\", \"#B0BEC5\", \"#B0BEC5\", \"#B0BEC5\", \"#B0BEC5\", \"#B0BEC5\", \"#B0BEC5\", \"#B0BEC5\", \"#B0BEC5\", \"#B0BEC5\", \"#B0BEC5\", \"#B0BEC5\", \"#B0BEC5\", \"#B0BEC5\"]]}], \"label\": \"Topic 14\", \"method\": \"update\"}, {\"args\": [{\"marker.color\": [[\"#B0BEC5\", \"#B0BEC5\", \"#B0BEC5\", \"#B0BEC5\", \"#B0BEC5\", \"#B0BEC5\", \"#B0BEC5\", \"red\", \"#B0BEC5\", \"#B0BEC5\", \"#B0BEC5\", \"#B0BEC5\", \"#B0BEC5\", \"#B0BEC5\", \"#B0BEC5\", \"#B0BEC5\", \"#B0BEC5\", \"#B0BEC5\", \"#B0BEC5\", \"#B0BEC5\", \"#B0BEC5\", \"#B0BEC5\", \"#B0BEC5\", \"#B0BEC5\", \"#B0BEC5\", \"#B0BEC5\", \"#B0BEC5\", \"#B0BEC5\", \"#B0BEC5\", \"#B0BEC5\", \"#B0BEC5\", \"#B0BEC5\", \"#B0BEC5\", \"#B0BEC5\", \"#B0BEC5\", \"#B0BEC5\", \"#B0BEC5\", \"#B0BEC5\"]]}], \"label\": \"Topic 16\", \"method\": \"update\"}, {\"args\": [{\"marker.color\": [[\"#B0BEC5\", \"#B0BEC5\", \"#B0BEC5\", \"#B0BEC5\", \"#B0BEC5\", \"#B0BEC5\", \"#B0BEC5\", \"#B0BEC5\", \"red\", \"#B0BEC5\", \"#B0BEC5\", \"#B0BEC5\", \"#B0BEC5\", \"#B0BEC5\", \"#B0BEC5\", \"#B0BEC5\", \"#B0BEC5\", \"#B0BEC5\", \"#B0BEC5\", \"#B0BEC5\", \"#B0BEC5\", \"#B0BEC5\", \"#B0BEC5\", \"#B0BEC5\", \"#B0BEC5\", \"#B0BEC5\", \"#B0BEC5\", \"#B0BEC5\", \"#B0BEC5\", \"#B0BEC5\", \"#B0BEC5\", \"#B0BEC5\", \"#B0BEC5\", \"#B0BEC5\", \"#B0BEC5\", \"#B0BEC5\", \"#B0BEC5\", \"#B0BEC5\"]]}], \"label\": \"Topic 18\", \"method\": \"update\"}, {\"args\": [{\"marker.color\": [[\"#B0BEC5\", \"#B0BEC5\", \"#B0BEC5\", \"#B0BEC5\", \"#B0BEC5\", \"#B0BEC5\", \"#B0BEC5\", \"#B0BEC5\", \"#B0BEC5\", \"red\", \"#B0BEC5\", \"#B0BEC5\", \"#B0BEC5\", \"#B0BEC5\", \"#B0BEC5\", \"#B0BEC5\", \"#B0BEC5\", \"#B0BEC5\", \"#B0BEC5\", \"#B0BEC5\", \"#B0BEC5\", \"#B0BEC5\", \"#B0BEC5\", \"#B0BEC5\", \"#B0BEC5\", \"#B0BEC5\", \"#B0BEC5\", \"#B0BEC5\", \"#B0BEC5\", \"#B0BEC5\", \"#B0BEC5\", \"#B0BEC5\", \"#B0BEC5\", \"#B0BEC5\", \"#B0BEC5\", \"#B0BEC5\", \"#B0BEC5\", \"#B0BEC5\"]]}], \"label\": \"Topic 19\", \"method\": \"update\"}, {\"args\": [{\"marker.color\": [[\"#B0BEC5\", \"#B0BEC5\", \"#B0BEC5\", \"#B0BEC5\", \"#B0BEC5\", \"#B0BEC5\", \"#B0BEC5\", \"#B0BEC5\", \"#B0BEC5\", \"#B0BEC5\", \"red\", \"#B0BEC5\", \"#B0BEC5\", \"#B0BEC5\", \"#B0BEC5\", \"#B0BEC5\", \"#B0BEC5\", \"#B0BEC5\", \"#B0BEC5\", \"#B0BEC5\", \"#B0BEC5\", \"#B0BEC5\", \"#B0BEC5\", \"#B0BEC5\", \"#B0BEC5\", \"#B0BEC5\", \"#B0BEC5\", \"#B0BEC5\", \"#B0BEC5\", \"#B0BEC5\", \"#B0BEC5\", \"#B0BEC5\", \"#B0BEC5\", \"#B0BEC5\", \"#B0BEC5\", \"#B0BEC5\", \"#B0BEC5\", \"#B0BEC5\"]]}], \"label\": \"Topic 20\", \"method\": \"update\"}, {\"args\": [{\"marker.color\": [[\"#B0BEC5\", \"#B0BEC5\", \"#B0BEC5\", \"#B0BEC5\", \"#B0BEC5\", \"#B0BEC5\", \"#B0BEC5\", \"#B0BEC5\", \"#B0BEC5\", \"#B0BEC5\", \"#B0BEC5\", \"red\", \"#B0BEC5\", \"#B0BEC5\", \"#B0BEC5\", \"#B0BEC5\", \"#B0BEC5\", \"#B0BEC5\", \"#B0BEC5\", \"#B0BEC5\", \"#B0BEC5\", \"#B0BEC5\", \"#B0BEC5\", \"#B0BEC5\", \"#B0BEC5\", \"#B0BEC5\", \"#B0BEC5\", \"#B0BEC5\", \"#B0BEC5\", \"#B0BEC5\", \"#B0BEC5\", \"#B0BEC5\", \"#B0BEC5\", \"#B0BEC5\", \"#B0BEC5\", \"#B0BEC5\", \"#B0BEC5\", \"#B0BEC5\"]]}], \"label\": \"Topic 22\", \"method\": \"update\"}, {\"args\": [{\"marker.color\": [[\"#B0BEC5\", \"#B0BEC5\", \"#B0BEC5\", \"#B0BEC5\", \"#B0BEC5\", \"#B0BEC5\", \"#B0BEC5\", \"#B0BEC5\", \"#B0BEC5\", \"#B0BEC5\", \"#B0BEC5\", \"#B0BEC5\", \"red\", \"#B0BEC5\", \"#B0BEC5\", \"#B0BEC5\", \"#B0BEC5\", \"#B0BEC5\", \"#B0BEC5\", \"#B0BEC5\", \"#B0BEC5\", \"#B0BEC5\", \"#B0BEC5\", \"#B0BEC5\", \"#B0BEC5\", \"#B0BEC5\", \"#B0BEC5\", \"#B0BEC5\", \"#B0BEC5\", \"#B0BEC5\", \"#B0BEC5\", \"#B0BEC5\", \"#B0BEC5\", \"#B0BEC5\", \"#B0BEC5\", \"#B0BEC5\", \"#B0BEC5\", \"#B0BEC5\"]]}], \"label\": \"Topic 23\", \"method\": \"update\"}, {\"args\": [{\"marker.color\": [[\"#B0BEC5\", \"#B0BEC5\", \"#B0BEC5\", \"#B0BEC5\", \"#B0BEC5\", \"#B0BEC5\", \"#B0BEC5\", \"#B0BEC5\", \"#B0BEC5\", \"#B0BEC5\", \"#B0BEC5\", \"#B0BEC5\", \"#B0BEC5\", \"red\", \"#B0BEC5\", \"#B0BEC5\", \"#B0BEC5\", \"#B0BEC5\", \"#B0BEC5\", \"#B0BEC5\", \"#B0BEC5\", \"#B0BEC5\", \"#B0BEC5\", \"#B0BEC5\", \"#B0BEC5\", \"#B0BEC5\", \"#B0BEC5\", \"#B0BEC5\", \"#B0BEC5\", \"#B0BEC5\", \"#B0BEC5\", \"#B0BEC5\", \"#B0BEC5\", \"#B0BEC5\", \"#B0BEC5\", \"#B0BEC5\", \"#B0BEC5\", \"#B0BEC5\"]]}], \"label\": \"Topic 26\", \"method\": \"update\"}, {\"args\": [{\"marker.color\": [[\"#B0BEC5\", \"#B0BEC5\", \"#B0BEC5\", \"#B0BEC5\", \"#B0BEC5\", \"#B0BEC5\", \"#B0BEC5\", \"#B0BEC5\", \"#B0BEC5\", \"#B0BEC5\", \"#B0BEC5\", \"#B0BEC5\", \"#B0BEC5\", \"#B0BEC5\", \"red\", \"#B0BEC5\", \"#B0BEC5\", \"#B0BEC5\", \"#B0BEC5\", \"#B0BEC5\", \"#B0BEC5\", \"#B0BEC5\", \"#B0BEC5\", \"#B0BEC5\", \"#B0BEC5\", \"#B0BEC5\", \"#B0BEC5\", \"#B0BEC5\", \"#B0BEC5\", \"#B0BEC5\", \"#B0BEC5\", \"#B0BEC5\", \"#B0BEC5\", \"#B0BEC5\", \"#B0BEC5\", \"#B0BEC5\", \"#B0BEC5\", \"#B0BEC5\"]]}], \"label\": \"Topic 29\", \"method\": \"update\"}, {\"args\": [{\"marker.color\": [[\"#B0BEC5\", \"#B0BEC5\", \"#B0BEC5\", \"#B0BEC5\", \"#B0BEC5\", \"#B0BEC5\", \"#B0BEC5\", \"#B0BEC5\", \"#B0BEC5\", \"#B0BEC5\", \"#B0BEC5\", \"#B0BEC5\", \"#B0BEC5\", \"#B0BEC5\", \"#B0BEC5\", \"red\", \"#B0BEC5\", \"#B0BEC5\", \"#B0BEC5\", \"#B0BEC5\", \"#B0BEC5\", \"#B0BEC5\", \"#B0BEC5\", \"#B0BEC5\", \"#B0BEC5\", \"#B0BEC5\", \"#B0BEC5\", \"#B0BEC5\", \"#B0BEC5\", \"#B0BEC5\", \"#B0BEC5\", \"#B0BEC5\", \"#B0BEC5\", \"#B0BEC5\", \"#B0BEC5\", \"#B0BEC5\", \"#B0BEC5\", \"#B0BEC5\"]]}], \"label\": \"Topic 39\", \"method\": \"update\"}, {\"args\": [{\"marker.color\": [[\"#B0BEC5\", \"#B0BEC5\", \"#B0BEC5\", \"#B0BEC5\", \"#B0BEC5\", \"#B0BEC5\", \"#B0BEC5\", \"#B0BEC5\", \"#B0BEC5\", \"#B0BEC5\", \"#B0BEC5\", \"#B0BEC5\", \"#B0BEC5\", \"#B0BEC5\", \"#B0BEC5\", \"#B0BEC5\", \"red\", \"#B0BEC5\", \"#B0BEC5\", \"#B0BEC5\", \"#B0BEC5\", \"#B0BEC5\", \"#B0BEC5\", \"#B0BEC5\", \"#B0BEC5\", \"#B0BEC5\", \"#B0BEC5\", \"#B0BEC5\", \"#B0BEC5\", \"#B0BEC5\", \"#B0BEC5\", \"#B0BEC5\", \"#B0BEC5\", \"#B0BEC5\", \"#B0BEC5\", \"#B0BEC5\", \"#B0BEC5\", \"#B0BEC5\"]]}], \"label\": \"Topic 42\", \"method\": \"update\"}, {\"args\": [{\"marker.color\": [[\"#B0BEC5\", \"#B0BEC5\", \"#B0BEC5\", \"#B0BEC5\", \"#B0BEC5\", \"#B0BEC5\", \"#B0BEC5\", \"#B0BEC5\", \"#B0BEC5\", \"#B0BEC5\", \"#B0BEC5\", \"#B0BEC5\", \"#B0BEC5\", \"#B0BEC5\", \"#B0BEC5\", \"#B0BEC5\", \"#B0BEC5\", \"red\", \"#B0BEC5\", \"#B0BEC5\", \"#B0BEC5\", \"#B0BEC5\", \"#B0BEC5\", \"#B0BEC5\", \"#B0BEC5\", \"#B0BEC5\", \"#B0BEC5\", \"#B0BEC5\", \"#B0BEC5\", \"#B0BEC5\", \"#B0BEC5\", \"#B0BEC5\", \"#B0BEC5\", \"#B0BEC5\", \"#B0BEC5\", \"#B0BEC5\", \"#B0BEC5\", \"#B0BEC5\"]]}], \"label\": \"Topic 44\", \"method\": \"update\"}, {\"args\": [{\"marker.color\": [[\"#B0BEC5\", \"#B0BEC5\", \"#B0BEC5\", \"#B0BEC5\", \"#B0BEC5\", \"#B0BEC5\", \"#B0BEC5\", \"#B0BEC5\", \"#B0BEC5\", \"#B0BEC5\", \"#B0BEC5\", \"#B0BEC5\", \"#B0BEC5\", \"#B0BEC5\", \"#B0BEC5\", \"#B0BEC5\", \"#B0BEC5\", \"#B0BEC5\", \"red\", \"#B0BEC5\", \"#B0BEC5\", \"#B0BEC5\", \"#B0BEC5\", \"#B0BEC5\", \"#B0BEC5\", \"#B0BEC5\", \"#B0BEC5\", \"#B0BEC5\", \"#B0BEC5\", \"#B0BEC5\", \"#B0BEC5\", \"#B0BEC5\", \"#B0BEC5\", \"#B0BEC5\", \"#B0BEC5\", \"#B0BEC5\", \"#B0BEC5\", \"#B0BEC5\"]]}], \"label\": \"Topic 46\", \"method\": \"update\"}, {\"args\": [{\"marker.color\": [[\"#B0BEC5\", \"#B0BEC5\", \"#B0BEC5\", \"#B0BEC5\", \"#B0BEC5\", \"#B0BEC5\", \"#B0BEC5\", \"#B0BEC5\", \"#B0BEC5\", \"#B0BEC5\", \"#B0BEC5\", \"#B0BEC5\", \"#B0BEC5\", \"#B0BEC5\", \"#B0BEC5\", \"#B0BEC5\", \"#B0BEC5\", \"#B0BEC5\", \"#B0BEC5\", \"red\", \"#B0BEC5\", \"#B0BEC5\", \"#B0BEC5\", \"#B0BEC5\", \"#B0BEC5\", \"#B0BEC5\", \"#B0BEC5\", \"#B0BEC5\", \"#B0BEC5\", \"#B0BEC5\", \"#B0BEC5\", \"#B0BEC5\", \"#B0BEC5\", \"#B0BEC5\", \"#B0BEC5\", \"#B0BEC5\", \"#B0BEC5\", \"#B0BEC5\"]]}], \"label\": \"Topic 47\", \"method\": \"update\"}, {\"args\": [{\"marker.color\": [[\"#B0BEC5\", \"#B0BEC5\", \"#B0BEC5\", \"#B0BEC5\", \"#B0BEC5\", \"#B0BEC5\", \"#B0BEC5\", \"#B0BEC5\", \"#B0BEC5\", \"#B0BEC5\", \"#B0BEC5\", \"#B0BEC5\", \"#B0BEC5\", \"#B0BEC5\", \"#B0BEC5\", \"#B0BEC5\", \"#B0BEC5\", \"#B0BEC5\", \"#B0BEC5\", \"#B0BEC5\", \"red\", \"#B0BEC5\", \"#B0BEC5\", \"#B0BEC5\", \"#B0BEC5\", \"#B0BEC5\", \"#B0BEC5\", \"#B0BEC5\", \"#B0BEC5\", \"#B0BEC5\", \"#B0BEC5\", \"#B0BEC5\", \"#B0BEC5\", \"#B0BEC5\", \"#B0BEC5\", \"#B0BEC5\", \"#B0BEC5\", \"#B0BEC5\"]]}], \"label\": \"Topic 49\", \"method\": \"update\"}, {\"args\": [{\"marker.color\": [[\"#B0BEC5\", \"#B0BEC5\", \"#B0BEC5\", \"#B0BEC5\", \"#B0BEC5\", \"#B0BEC5\", \"#B0BEC5\", \"#B0BEC5\", \"#B0BEC5\", \"#B0BEC5\", \"#B0BEC5\", \"#B0BEC5\", \"#B0BEC5\", \"#B0BEC5\", \"#B0BEC5\", \"#B0BEC5\", \"#B0BEC5\", \"#B0BEC5\", \"#B0BEC5\", \"#B0BEC5\", \"#B0BEC5\", \"red\", \"#B0BEC5\", \"#B0BEC5\", \"#B0BEC5\", \"#B0BEC5\", \"#B0BEC5\", \"#B0BEC5\", \"#B0BEC5\", \"#B0BEC5\", \"#B0BEC5\", \"#B0BEC5\", \"#B0BEC5\", \"#B0BEC5\", \"#B0BEC5\", \"#B0BEC5\", \"#B0BEC5\", \"#B0BEC5\"]]}], \"label\": \"Topic 50\", \"method\": \"update\"}, {\"args\": [{\"marker.color\": [[\"#B0BEC5\", \"#B0BEC5\", \"#B0BEC5\", \"#B0BEC5\", \"#B0BEC5\", \"#B0BEC5\", \"#B0BEC5\", \"#B0BEC5\", \"#B0BEC5\", \"#B0BEC5\", \"#B0BEC5\", \"#B0BEC5\", \"#B0BEC5\", \"#B0BEC5\", \"#B0BEC5\", \"#B0BEC5\", \"#B0BEC5\", \"#B0BEC5\", \"#B0BEC5\", \"#B0BEC5\", \"#B0BEC5\", \"#B0BEC5\", \"red\", \"#B0BEC5\", \"#B0BEC5\", \"#B0BEC5\", \"#B0BEC5\", \"#B0BEC5\", \"#B0BEC5\", \"#B0BEC5\", \"#B0BEC5\", \"#B0BEC5\", \"#B0BEC5\", \"#B0BEC5\", \"#B0BEC5\", \"#B0BEC5\", \"#B0BEC5\", \"#B0BEC5\"]]}], \"label\": \"Topic 52\", \"method\": \"update\"}, {\"args\": [{\"marker.color\": [[\"#B0BEC5\", \"#B0BEC5\", \"#B0BEC5\", \"#B0BEC5\", \"#B0BEC5\", \"#B0BEC5\", \"#B0BEC5\", \"#B0BEC5\", \"#B0BEC5\", \"#B0BEC5\", \"#B0BEC5\", \"#B0BEC5\", \"#B0BEC5\", \"#B0BEC5\", \"#B0BEC5\", \"#B0BEC5\", \"#B0BEC5\", \"#B0BEC5\", \"#B0BEC5\", \"#B0BEC5\", \"#B0BEC5\", \"#B0BEC5\", \"#B0BEC5\", \"red\", \"#B0BEC5\", \"#B0BEC5\", \"#B0BEC5\", \"#B0BEC5\", \"#B0BEC5\", \"#B0BEC5\", \"#B0BEC5\", \"#B0BEC5\", \"#B0BEC5\", \"#B0BEC5\", \"#B0BEC5\", \"#B0BEC5\", \"#B0BEC5\", \"#B0BEC5\"]]}], \"label\": \"Topic 53\", \"method\": \"update\"}, {\"args\": [{\"marker.color\": [[\"#B0BEC5\", \"#B0BEC5\", \"#B0BEC5\", \"#B0BEC5\", \"#B0BEC5\", \"#B0BEC5\", \"#B0BEC5\", \"#B0BEC5\", \"#B0BEC5\", \"#B0BEC5\", \"#B0BEC5\", \"#B0BEC5\", \"#B0BEC5\", \"#B0BEC5\", \"#B0BEC5\", \"#B0BEC5\", \"#B0BEC5\", \"#B0BEC5\", \"#B0BEC5\", \"#B0BEC5\", \"#B0BEC5\", \"#B0BEC5\", \"#B0BEC5\", \"#B0BEC5\", \"red\", \"#B0BEC5\", \"#B0BEC5\", \"#B0BEC5\", \"#B0BEC5\", \"#B0BEC5\", \"#B0BEC5\", \"#B0BEC5\", \"#B0BEC5\", \"#B0BEC5\", \"#B0BEC5\", \"#B0BEC5\", \"#B0BEC5\", \"#B0BEC5\"]]}], \"label\": \"Topic 54\", \"method\": \"update\"}, {\"args\": [{\"marker.color\": [[\"#B0BEC5\", \"#B0BEC5\", \"#B0BEC5\", \"#B0BEC5\", \"#B0BEC5\", \"#B0BEC5\", \"#B0BEC5\", \"#B0BEC5\", \"#B0BEC5\", \"#B0BEC5\", \"#B0BEC5\", \"#B0BEC5\", \"#B0BEC5\", \"#B0BEC5\", \"#B0BEC5\", \"#B0BEC5\", \"#B0BEC5\", \"#B0BEC5\", \"#B0BEC5\", \"#B0BEC5\", \"#B0BEC5\", \"#B0BEC5\", \"#B0BEC5\", \"#B0BEC5\", \"#B0BEC5\", \"red\", \"#B0BEC5\", \"#B0BEC5\", \"#B0BEC5\", \"#B0BEC5\", \"#B0BEC5\", \"#B0BEC5\", \"#B0BEC5\", \"#B0BEC5\", \"#B0BEC5\", \"#B0BEC5\", \"#B0BEC5\", \"#B0BEC5\"]]}], \"label\": \"Topic 55\", \"method\": \"update\"}, {\"args\": [{\"marker.color\": [[\"#B0BEC5\", \"#B0BEC5\", \"#B0BEC5\", \"#B0BEC5\", \"#B0BEC5\", \"#B0BEC5\", \"#B0BEC5\", \"#B0BEC5\", \"#B0BEC5\", \"#B0BEC5\", \"#B0BEC5\", \"#B0BEC5\", \"#B0BEC5\", \"#B0BEC5\", \"#B0BEC5\", \"#B0BEC5\", \"#B0BEC5\", \"#B0BEC5\", \"#B0BEC5\", \"#B0BEC5\", \"#B0BEC5\", \"#B0BEC5\", \"#B0BEC5\", \"#B0BEC5\", \"#B0BEC5\", \"#B0BEC5\", \"red\", \"#B0BEC5\", \"#B0BEC5\", \"#B0BEC5\", \"#B0BEC5\", \"#B0BEC5\", \"#B0BEC5\", \"#B0BEC5\", \"#B0BEC5\", \"#B0BEC5\", \"#B0BEC5\", \"#B0BEC5\"]]}], \"label\": \"Topic 56\", \"method\": \"update\"}, {\"args\": [{\"marker.color\": [[\"#B0BEC5\", \"#B0BEC5\", \"#B0BEC5\", \"#B0BEC5\", \"#B0BEC5\", \"#B0BEC5\", \"#B0BEC5\", \"#B0BEC5\", \"#B0BEC5\", \"#B0BEC5\", \"#B0BEC5\", \"#B0BEC5\", \"#B0BEC5\", \"#B0BEC5\", \"#B0BEC5\", \"#B0BEC5\", \"#B0BEC5\", \"#B0BEC5\", \"#B0BEC5\", \"#B0BEC5\", \"#B0BEC5\", \"#B0BEC5\", \"#B0BEC5\", \"#B0BEC5\", \"#B0BEC5\", \"#B0BEC5\", \"#B0BEC5\", \"red\", \"#B0BEC5\", \"#B0BEC5\", \"#B0BEC5\", \"#B0BEC5\", \"#B0BEC5\", \"#B0BEC5\", \"#B0BEC5\", \"#B0BEC5\", \"#B0BEC5\", \"#B0BEC5\"]]}], \"label\": \"Topic 57\", \"method\": \"update\"}, {\"args\": [{\"marker.color\": [[\"#B0BEC5\", \"#B0BEC5\", \"#B0BEC5\", \"#B0BEC5\", \"#B0BEC5\", \"#B0BEC5\", \"#B0BEC5\", \"#B0BEC5\", \"#B0BEC5\", \"#B0BEC5\", \"#B0BEC5\", \"#B0BEC5\", \"#B0BEC5\", \"#B0BEC5\", \"#B0BEC5\", \"#B0BEC5\", \"#B0BEC5\", \"#B0BEC5\", \"#B0BEC5\", \"#B0BEC5\", \"#B0BEC5\", \"#B0BEC5\", \"#B0BEC5\", \"#B0BEC5\", \"#B0BEC5\", \"#B0BEC5\", \"#B0BEC5\", \"#B0BEC5\", \"red\", \"#B0BEC5\", \"#B0BEC5\", \"#B0BEC5\", \"#B0BEC5\", \"#B0BEC5\", \"#B0BEC5\", \"#B0BEC5\", \"#B0BEC5\", \"#B0BEC5\"]]}], \"label\": \"Topic 59\", \"method\": \"update\"}, {\"args\": [{\"marker.color\": [[\"#B0BEC5\", \"#B0BEC5\", \"#B0BEC5\", \"#B0BEC5\", \"#B0BEC5\", \"#B0BEC5\", \"#B0BEC5\", \"#B0BEC5\", \"#B0BEC5\", \"#B0BEC5\", \"#B0BEC5\", \"#B0BEC5\", \"#B0BEC5\", \"#B0BEC5\", \"#B0BEC5\", \"#B0BEC5\", \"#B0BEC5\", \"#B0BEC5\", \"#B0BEC5\", \"#B0BEC5\", \"#B0BEC5\", \"#B0BEC5\", \"#B0BEC5\", \"#B0BEC5\", \"#B0BEC5\", \"#B0BEC5\", \"#B0BEC5\", \"#B0BEC5\", \"#B0BEC5\", \"red\", \"#B0BEC5\", \"#B0BEC5\", \"#B0BEC5\", \"#B0BEC5\", \"#B0BEC5\", \"#B0BEC5\", \"#B0BEC5\", \"#B0BEC5\"]]}], \"label\": \"Topic 61\", \"method\": \"update\"}, {\"args\": [{\"marker.color\": [[\"#B0BEC5\", \"#B0BEC5\", \"#B0BEC5\", \"#B0BEC5\", \"#B0BEC5\", \"#B0BEC5\", \"#B0BEC5\", \"#B0BEC5\", \"#B0BEC5\", \"#B0BEC5\", \"#B0BEC5\", \"#B0BEC5\", \"#B0BEC5\", \"#B0BEC5\", \"#B0BEC5\", \"#B0BEC5\", \"#B0BEC5\", \"#B0BEC5\", \"#B0BEC5\", \"#B0BEC5\", \"#B0BEC5\", \"#B0BEC5\", \"#B0BEC5\", \"#B0BEC5\", \"#B0BEC5\", \"#B0BEC5\", \"#B0BEC5\", \"#B0BEC5\", \"#B0BEC5\", \"#B0BEC5\", \"red\", \"#B0BEC5\", \"#B0BEC5\", \"#B0BEC5\", \"#B0BEC5\", \"#B0BEC5\", \"#B0BEC5\", \"#B0BEC5\"]]}], \"label\": \"Topic 63\", \"method\": \"update\"}, {\"args\": [{\"marker.color\": [[\"#B0BEC5\", \"#B0BEC5\", \"#B0BEC5\", \"#B0BEC5\", \"#B0BEC5\", \"#B0BEC5\", \"#B0BEC5\", \"#B0BEC5\", \"#B0BEC5\", \"#B0BEC5\", \"#B0BEC5\", \"#B0BEC5\", \"#B0BEC5\", \"#B0BEC5\", \"#B0BEC5\", \"#B0BEC5\", \"#B0BEC5\", \"#B0BEC5\", \"#B0BEC5\", \"#B0BEC5\", \"#B0BEC5\", \"#B0BEC5\", \"#B0BEC5\", \"#B0BEC5\", \"#B0BEC5\", \"#B0BEC5\", \"#B0BEC5\", \"#B0BEC5\", \"#B0BEC5\", \"#B0BEC5\", \"#B0BEC5\", \"red\", \"#B0BEC5\", \"#B0BEC5\", \"#B0BEC5\", \"#B0BEC5\", \"#B0BEC5\", \"#B0BEC5\"]]}], \"label\": \"Topic 64\", \"method\": \"update\"}, {\"args\": [{\"marker.color\": [[\"#B0BEC5\", \"#B0BEC5\", \"#B0BEC5\", \"#B0BEC5\", \"#B0BEC5\", \"#B0BEC5\", \"#B0BEC5\", \"#B0BEC5\", \"#B0BEC5\", \"#B0BEC5\", \"#B0BEC5\", \"#B0BEC5\", \"#B0BEC5\", \"#B0BEC5\", \"#B0BEC5\", \"#B0BEC5\", \"#B0BEC5\", \"#B0BEC5\", \"#B0BEC5\", \"#B0BEC5\", \"#B0BEC5\", \"#B0BEC5\", \"#B0BEC5\", \"#B0BEC5\", \"#B0BEC5\", \"#B0BEC5\", \"#B0BEC5\", \"#B0BEC5\", \"#B0BEC5\", \"#B0BEC5\", \"#B0BEC5\", \"#B0BEC5\", \"red\", \"#B0BEC5\", \"#B0BEC5\", \"#B0BEC5\", \"#B0BEC5\", \"#B0BEC5\"]]}], \"label\": \"Topic 66\", \"method\": \"update\"}, {\"args\": [{\"marker.color\": [[\"#B0BEC5\", \"#B0BEC5\", \"#B0BEC5\", \"#B0BEC5\", \"#B0BEC5\", \"#B0BEC5\", \"#B0BEC5\", \"#B0BEC5\", \"#B0BEC5\", \"#B0BEC5\", \"#B0BEC5\", \"#B0BEC5\", \"#B0BEC5\", \"#B0BEC5\", \"#B0BEC5\", \"#B0BEC5\", \"#B0BEC5\", \"#B0BEC5\", \"#B0BEC5\", \"#B0BEC5\", \"#B0BEC5\", \"#B0BEC5\", \"#B0BEC5\", \"#B0BEC5\", \"#B0BEC5\", \"#B0BEC5\", \"#B0BEC5\", \"#B0BEC5\", \"#B0BEC5\", \"#B0BEC5\", \"#B0BEC5\", \"#B0BEC5\", \"#B0BEC5\", \"red\", \"#B0BEC5\", \"#B0BEC5\", \"#B0BEC5\", \"#B0BEC5\"]]}], \"label\": \"Topic 69\", \"method\": \"update\"}, {\"args\": [{\"marker.color\": [[\"#B0BEC5\", \"#B0BEC5\", \"#B0BEC5\", \"#B0BEC5\", \"#B0BEC5\", \"#B0BEC5\", \"#B0BEC5\", \"#B0BEC5\", \"#B0BEC5\", \"#B0BEC5\", \"#B0BEC5\", \"#B0BEC5\", \"#B0BEC5\", \"#B0BEC5\", \"#B0BEC5\", \"#B0BEC5\", \"#B0BEC5\", \"#B0BEC5\", \"#B0BEC5\", \"#B0BEC5\", \"#B0BEC5\", \"#B0BEC5\", \"#B0BEC5\", \"#B0BEC5\", \"#B0BEC5\", \"#B0BEC5\", \"#B0BEC5\", \"#B0BEC5\", \"#B0BEC5\", \"#B0BEC5\", \"#B0BEC5\", \"#B0BEC5\", \"#B0BEC5\", \"#B0BEC5\", \"red\", \"#B0BEC5\", \"#B0BEC5\", \"#B0BEC5\"]]}], \"label\": \"Topic 71\", \"method\": \"update\"}, {\"args\": [{\"marker.color\": [[\"#B0BEC5\", \"#B0BEC5\", \"#B0BEC5\", \"#B0BEC5\", \"#B0BEC5\", \"#B0BEC5\", \"#B0BEC5\", \"#B0BEC5\", \"#B0BEC5\", \"#B0BEC5\", \"#B0BEC5\", \"#B0BEC5\", \"#B0BEC5\", \"#B0BEC5\", \"#B0BEC5\", \"#B0BEC5\", \"#B0BEC5\", \"#B0BEC5\", \"#B0BEC5\", \"#B0BEC5\", \"#B0BEC5\", \"#B0BEC5\", \"#B0BEC5\", \"#B0BEC5\", \"#B0BEC5\", \"#B0BEC5\", \"#B0BEC5\", \"#B0BEC5\", \"#B0BEC5\", \"#B0BEC5\", \"#B0BEC5\", \"#B0BEC5\", \"#B0BEC5\", \"#B0BEC5\", \"#B0BEC5\", \"red\", \"#B0BEC5\", \"#B0BEC5\"]]}], \"label\": \"Topic 72\", \"method\": \"update\"}, {\"args\": [{\"marker.color\": [[\"#B0BEC5\", \"#B0BEC5\", \"#B0BEC5\", \"#B0BEC5\", \"#B0BEC5\", \"#B0BEC5\", \"#B0BEC5\", \"#B0BEC5\", \"#B0BEC5\", \"#B0BEC5\", \"#B0BEC5\", \"#B0BEC5\", \"#B0BEC5\", \"#B0BEC5\", \"#B0BEC5\", \"#B0BEC5\", \"#B0BEC5\", \"#B0BEC5\", \"#B0BEC5\", \"#B0BEC5\", \"#B0BEC5\", \"#B0BEC5\", \"#B0BEC5\", \"#B0BEC5\", \"#B0BEC5\", \"#B0BEC5\", \"#B0BEC5\", \"#B0BEC5\", \"#B0BEC5\", \"#B0BEC5\", \"#B0BEC5\", \"#B0BEC5\", \"#B0BEC5\", \"#B0BEC5\", \"#B0BEC5\", \"#B0BEC5\", \"red\", \"#B0BEC5\"]]}], \"label\": \"Topic 74\", \"method\": \"update\"}, {\"args\": [{\"marker.color\": [[\"#B0BEC5\", \"#B0BEC5\", \"#B0BEC5\", \"#B0BEC5\", \"#B0BEC5\", \"#B0BEC5\", \"#B0BEC5\", \"#B0BEC5\", \"#B0BEC5\", \"#B0BEC5\", \"#B0BEC5\", \"#B0BEC5\", \"#B0BEC5\", \"#B0BEC5\", \"#B0BEC5\", \"#B0BEC5\", \"#B0BEC5\", \"#B0BEC5\", \"#B0BEC5\", \"#B0BEC5\", \"#B0BEC5\", \"#B0BEC5\", \"#B0BEC5\", \"#B0BEC5\", \"#B0BEC5\", \"#B0BEC5\", \"#B0BEC5\", \"#B0BEC5\", \"#B0BEC5\", \"#B0BEC5\", \"#B0BEC5\", \"#B0BEC5\", \"#B0BEC5\", \"#B0BEC5\", \"#B0BEC5\", \"#B0BEC5\", \"#B0BEC5\", \"red\"]]}], \"label\": \"Topic 76\", \"method\": \"update\"}]}], \"template\": {\"data\": {\"bar\": [{\"error_x\": {\"color\": \"rgb(36,36,36)\"}, \"error_y\": {\"color\": \"rgb(36,36,36)\"}, \"marker\": {\"line\": {\"color\": \"white\", \"width\": 0.5}}, \"type\": \"bar\"}], \"barpolar\": [{\"marker\": {\"line\": {\"color\": \"white\", \"width\": 0.5}}, \"type\": \"barpolar\"}], \"carpet\": [{\"aaxis\": {\"endlinecolor\": \"rgb(36,36,36)\", \"gridcolor\": \"white\", \"linecolor\": \"white\", \"minorgridcolor\": \"white\", \"startlinecolor\": \"rgb(36,36,36)\"}, \"baxis\": {\"endlinecolor\": \"rgb(36,36,36)\", \"gridcolor\": \"white\", \"linecolor\": \"white\", \"minorgridcolor\": \"white\", \"startlinecolor\": \"rgb(36,36,36)\"}, \"type\": \"carpet\"}], \"choropleth\": [{\"colorbar\": {\"outlinewidth\": 1, \"tickcolor\": \"rgb(36,36,36)\", \"ticks\": \"outside\"}, \"type\": \"choropleth\"}], \"contour\": [{\"colorbar\": {\"outlinewidth\": 1, \"tickcolor\": \"rgb(36,36,36)\", \"ticks\": \"outside\"}, \"colorscale\": [[0.0, \"#440154\"], [0.1111111111111111, \"#482878\"], [0.2222222222222222, \"#3e4989\"], [0.3333333333333333, \"#31688e\"], [0.4444444444444444, \"#26828e\"], [0.5555555555555556, \"#1f9e89\"], [0.6666666666666666, \"#35b779\"], [0.7777777777777778, \"#6ece58\"], [0.8888888888888888, \"#b5de2b\"], [1.0, \"#fde725\"]], \"type\": \"contour\"}], \"contourcarpet\": [{\"colorbar\": {\"outlinewidth\": 1, \"tickcolor\": \"rgb(36,36,36)\", \"ticks\": \"outside\"}, \"type\": \"contourcarpet\"}], \"heatmap\": [{\"colorbar\": {\"outlinewidth\": 1, \"tickcolor\": \"rgb(36,36,36)\", \"ticks\": \"outside\"}, \"colorscale\": [[0.0, \"#440154\"], [0.1111111111111111, \"#482878\"], [0.2222222222222222, \"#3e4989\"], [0.3333333333333333, \"#31688e\"], [0.4444444444444444, \"#26828e\"], [0.5555555555555556, \"#1f9e89\"], [0.6666666666666666, \"#35b779\"], [0.7777777777777778, \"#6ece58\"], [0.8888888888888888, \"#b5de2b\"], [1.0, \"#fde725\"]], \"type\": \"heatmap\"}], \"heatmapgl\": [{\"colorbar\": {\"outlinewidth\": 1, \"tickcolor\": \"rgb(36,36,36)\", \"ticks\": \"outside\"}, \"colorscale\": [[0.0, \"#440154\"], [0.1111111111111111, \"#482878\"], [0.2222222222222222, \"#3e4989\"], [0.3333333333333333, \"#31688e\"], [0.4444444444444444, \"#26828e\"], [0.5555555555555556, \"#1f9e89\"], [0.6666666666666666, \"#35b779\"], [0.7777777777777778, \"#6ece58\"], [0.8888888888888888, \"#b5de2b\"], [1.0, \"#fde725\"]], \"type\": \"heatmapgl\"}], \"histogram\": [{\"marker\": {\"line\": {\"color\": \"white\", \"width\": 0.6}}, \"type\": \"histogram\"}], \"histogram2d\": [{\"colorbar\": {\"outlinewidth\": 1, \"tickcolor\": \"rgb(36,36,36)\", \"ticks\": \"outside\"}, \"colorscale\": [[0.0, \"#440154\"], [0.1111111111111111, \"#482878\"], [0.2222222222222222, \"#3e4989\"], [0.3333333333333333, \"#31688e\"], [0.4444444444444444, \"#26828e\"], [0.5555555555555556, \"#1f9e89\"], [0.6666666666666666, \"#35b779\"], [0.7777777777777778, \"#6ece58\"], [0.8888888888888888, \"#b5de2b\"], [1.0, \"#fde725\"]], \"type\": \"histogram2d\"}], \"histogram2dcontour\": [{\"colorbar\": {\"outlinewidth\": 1, \"tickcolor\": \"rgb(36,36,36)\", \"ticks\": \"outside\"}, \"colorscale\": [[0.0, \"#440154\"], [0.1111111111111111, \"#482878\"], [0.2222222222222222, \"#3e4989\"], [0.3333333333333333, \"#31688e\"], [0.4444444444444444, \"#26828e\"], [0.5555555555555556, \"#1f9e89\"], [0.6666666666666666, \"#35b779\"], [0.7777777777777778, \"#6ece58\"], [0.8888888888888888, \"#b5de2b\"], [1.0, \"#fde725\"]], \"type\": \"histogram2dcontour\"}], \"mesh3d\": [{\"colorbar\": {\"outlinewidth\": 1, \"tickcolor\": \"rgb(36,36,36)\", \"ticks\": \"outside\"}, \"type\": \"mesh3d\"}], \"parcoords\": [{\"line\": {\"colorbar\": {\"outlinewidth\": 1, \"tickcolor\": \"rgb(36,36,36)\", \"ticks\": \"outside\"}}, \"type\": \"parcoords\"}], \"pie\": [{\"automargin\": true, \"type\": \"pie\"}], \"scatter\": [{\"marker\": {\"colorbar\": {\"outlinewidth\": 1, \"tickcolor\": \"rgb(36,36,36)\", \"ticks\": \"outside\"}}, \"type\": \"scatter\"}], \"scatter3d\": [{\"line\": {\"colorbar\": {\"outlinewidth\": 1, \"tickcolor\": \"rgb(36,36,36)\", \"ticks\": \"outside\"}}, \"marker\": {\"colorbar\": {\"outlinewidth\": 1, \"tickcolor\": \"rgb(36,36,36)\", \"ticks\": \"outside\"}}, \"type\": \"scatter3d\"}], \"scattercarpet\": [{\"marker\": {\"colorbar\": {\"outlinewidth\": 1, \"tickcolor\": \"rgb(36,36,36)\", \"ticks\": \"outside\"}}, \"type\": \"scattercarpet\"}], \"scattergeo\": [{\"marker\": {\"colorbar\": {\"outlinewidth\": 1, \"tickcolor\": \"rgb(36,36,36)\", \"ticks\": \"outside\"}}, \"type\": \"scattergeo\"}], \"scattergl\": [{\"marker\": {\"colorbar\": {\"outlinewidth\": 1, \"tickcolor\": \"rgb(36,36,36)\", \"ticks\": \"outside\"}}, \"type\": \"scattergl\"}], \"scattermapbox\": [{\"marker\": {\"colorbar\": {\"outlinewidth\": 1, \"tickcolor\": \"rgb(36,36,36)\", \"ticks\": \"outside\"}}, \"type\": \"scattermapbox\"}], \"scatterpolar\": [{\"marker\": {\"colorbar\": {\"outlinewidth\": 1, \"tickcolor\": \"rgb(36,36,36)\", \"ticks\": \"outside\"}}, \"type\": \"scatterpolar\"}], \"scatterpolargl\": [{\"marker\": {\"colorbar\": {\"outlinewidth\": 1, \"tickcolor\": \"rgb(36,36,36)\", \"ticks\": \"outside\"}}, \"type\": \"scatterpolargl\"}], \"scatterternary\": [{\"marker\": {\"colorbar\": {\"outlinewidth\": 1, \"tickcolor\": \"rgb(36,36,36)\", \"ticks\": \"outside\"}}, \"type\": \"scatterternary\"}], \"surface\": [{\"colorbar\": {\"outlinewidth\": 1, \"tickcolor\": \"rgb(36,36,36)\", \"ticks\": \"outside\"}, \"colorscale\": [[0.0, \"#440154\"], [0.1111111111111111, \"#482878\"], [0.2222222222222222, \"#3e4989\"], [0.3333333333333333, \"#31688e\"], [0.4444444444444444, \"#26828e\"], [0.5555555555555556, \"#1f9e89\"], [0.6666666666666666, \"#35b779\"], [0.7777777777777778, \"#6ece58\"], [0.8888888888888888, \"#b5de2b\"], [1.0, \"#fde725\"]], \"type\": \"surface\"}], \"table\": [{\"cells\": {\"fill\": {\"color\": \"rgb(237,237,237)\"}, \"line\": {\"color\": \"white\"}}, \"header\": {\"fill\": {\"color\": \"rgb(217,217,217)\"}, \"line\": {\"color\": \"white\"}}, \"type\": \"table\"}]}, \"layout\": {\"annotationdefaults\": {\"arrowhead\": 0, \"arrowwidth\": 1}, \"autotypenumbers\": \"strict\", \"coloraxis\": {\"colorbar\": {\"outlinewidth\": 1, \"tickcolor\": \"rgb(36,36,36)\", \"ticks\": \"outside\"}}, \"colorscale\": {\"diverging\": [[0.0, \"rgb(103,0,31)\"], [0.1, \"rgb(178,24,43)\"], [0.2, \"rgb(214,96,77)\"], [0.3, \"rgb(244,165,130)\"], [0.4, \"rgb(253,219,199)\"], [0.5, \"rgb(247,247,247)\"], [0.6, \"rgb(209,229,240)\"], [0.7, \"rgb(146,197,222)\"], [0.8, \"rgb(67,147,195)\"], [0.9, \"rgb(33,102,172)\"], [1.0, \"rgb(5,48,97)\"]], \"sequential\": [[0.0, \"#440154\"], [0.1111111111111111, \"#482878\"], [0.2222222222222222, \"#3e4989\"], [0.3333333333333333, \"#31688e\"], [0.4444444444444444, \"#26828e\"], [0.5555555555555556, \"#1f9e89\"], [0.6666666666666666, \"#35b779\"], [0.7777777777777778, \"#6ece58\"], [0.8888888888888888, \"#b5de2b\"], [1.0, \"#fde725\"]], \"sequentialminus\": [[0.0, \"#440154\"], [0.1111111111111111, \"#482878\"], [0.2222222222222222, \"#3e4989\"], [0.3333333333333333, \"#31688e\"], [0.4444444444444444, \"#26828e\"], [0.5555555555555556, \"#1f9e89\"], [0.6666666666666666, \"#35b779\"], [0.7777777777777778, \"#6ece58\"], [0.8888888888888888, \"#b5de2b\"], [1.0, \"#fde725\"]]}, \"colorway\": [\"#1F77B4\", \"#FF7F0E\", \"#2CA02C\", \"#D62728\", \"#9467BD\", \"#8C564B\", \"#E377C2\", \"#7F7F7F\", \"#BCBD22\", \"#17BECF\"], \"font\": {\"color\": \"rgb(36,36,36)\"}, \"geo\": {\"bgcolor\": \"white\", \"lakecolor\": \"white\", \"landcolor\": \"white\", \"showlakes\": true, \"showland\": true, \"subunitcolor\": \"white\"}, \"hoverlabel\": {\"align\": \"left\"}, \"hovermode\": \"closest\", \"mapbox\": {\"style\": \"light\"}, \"paper_bgcolor\": \"white\", \"plot_bgcolor\": \"white\", \"polar\": {\"angularaxis\": {\"gridcolor\": \"rgb(232,232,232)\", \"linecolor\": \"rgb(36,36,36)\", \"showgrid\": false, \"showline\": true, \"ticks\": \"outside\"}, \"bgcolor\": \"white\", \"radialaxis\": {\"gridcolor\": \"rgb(232,232,232)\", \"linecolor\": \"rgb(36,36,36)\", \"showgrid\": false, \"showline\": true, \"ticks\": \"outside\"}}, \"scene\": {\"xaxis\": {\"backgroundcolor\": \"white\", \"gridcolor\": \"rgb(232,232,232)\", \"gridwidth\": 2, \"linecolor\": \"rgb(36,36,36)\", \"showbackground\": true, \"showgrid\": false, \"showline\": true, \"ticks\": \"outside\", \"zeroline\": false, \"zerolinecolor\": \"rgb(36,36,36)\"}, \"yaxis\": {\"backgroundcolor\": \"white\", \"gridcolor\": \"rgb(232,232,232)\", \"gridwidth\": 2, \"linecolor\": \"rgb(36,36,36)\", \"showbackground\": true, \"showgrid\": false, \"showline\": true, \"ticks\": \"outside\", \"zeroline\": false, \"zerolinecolor\": \"rgb(36,36,36)\"}, \"zaxis\": {\"backgroundcolor\": \"white\", \"gridcolor\": \"rgb(232,232,232)\", \"gridwidth\": 2, \"linecolor\": \"rgb(36,36,36)\", \"showbackground\": true, \"showgrid\": false, \"showline\": true, \"ticks\": \"outside\", \"zeroline\": false, \"zerolinecolor\": \"rgb(36,36,36)\"}}, \"shapedefaults\": {\"fillcolor\": \"black\", \"line\": {\"width\": 0}, \"opacity\": 0.3}, \"ternary\": {\"aaxis\": {\"gridcolor\": \"rgb(232,232,232)\", \"linecolor\": \"rgb(36,36,36)\", \"showgrid\": false, \"showline\": true, \"ticks\": \"outside\"}, \"baxis\": {\"gridcolor\": \"rgb(232,232,232)\", \"linecolor\": \"rgb(36,36,36)\", \"showgrid\": false, \"showline\": true, \"ticks\": \"outside\"}, \"bgcolor\": \"white\", \"caxis\": {\"gridcolor\": \"rgb(232,232,232)\", \"linecolor\": \"rgb(36,36,36)\", \"showgrid\": false, \"showline\": true, \"ticks\": \"outside\"}}, \"title\": {\"x\": 0.05}, \"xaxis\": {\"automargin\": true, \"gridcolor\": \"rgb(232,232,232)\", \"linecolor\": \"rgb(36,36,36)\", \"showgrid\": false, \"showline\": true, \"ticks\": \"outside\", \"title\": {\"standoff\": 15}, \"zeroline\": false, \"zerolinecolor\": \"rgb(36,36,36)\"}, \"yaxis\": {\"automargin\": true, \"gridcolor\": \"rgb(232,232,232)\", \"linecolor\": \"rgb(36,36,36)\", \"showgrid\": false, \"showline\": true, \"ticks\": \"outside\", \"title\": {\"standoff\": 15}, \"zeroline\": false, \"zerolinecolor\": \"rgb(36,36,36)\"}}}, \"title\": {\"font\": {\"color\": \"Black\", \"size\": 22}, \"text\": \"<b>Intertopic Distance Map\", \"x\": 0.5, \"xanchor\": \"center\", \"y\": 0.95, \"yanchor\": \"top\"}, \"width\": 650, \"xaxis\": {\"anchor\": \"y\", \"domain\": [0.0, 1.0], \"range\": [-9.72013521194458, 24.28760395050049], \"title\": {\"text\": \"\"}, \"visible\": false}, \"yaxis\": {\"anchor\": \"x\", \"domain\": [0.0, 1.0], \"range\": [-17.424774169921875, 19.234529113769533], \"title\": {\"text\": \"\"}, \"visible\": false}},                        {\"responsive\": true}                    ).then(function(){\n",
              "                            \n",
              "var gd = document.getElementById('1c98e38c-5806-403f-a400-ef26349c13e0');\n",
              "var x = new MutationObserver(function (mutations, observer) {{\n",
              "        var display = window.getComputedStyle(gd).display;\n",
              "        if (!display || display === 'none') {{\n",
              "            console.log([gd, 'removed!']);\n",
              "            Plotly.purge(gd);\n",
              "            observer.disconnect();\n",
              "        }}\n",
              "}});\n",
              "\n",
              "// Listen for the removal of the full notebook cells\n",
              "var notebookContainer = gd.closest('#notebook-container');\n",
              "if (notebookContainer) {{\n",
              "    x.observe(notebookContainer, {childList: true});\n",
              "}}\n",
              "\n",
              "// Listen for the clearing of the current output cell\n",
              "var outputEl = gd.closest('.output');\n",
              "if (outputEl) {{\n",
              "    x.observe(outputEl, {childList: true});\n",
              "}}\n",
              "\n",
              "                        })                };                            </script>        </div>\n",
              "</body>\n",
              "</html>"
            ]
          },
          "metadata": {
            "tags": []
          }
        }
      ]
    },
    {
      "cell_type": "code",
      "metadata": {
        "colab": {
          "base_uri": "https://localhost:8080/",
          "height": 185
        },
        "id": "5G-0mNOEzno8",
        "outputId": "0c1bb9c7-1763-40e0-bcb3-d2e7bf57c6a2"
      },
      "source": [
        "#Dynamic Topic Modeling\n",
        "import pandas as pd\n",
        "df = pd.read_csv(\"Article_information.csv\",encoding=\"ISO-8859-1\")\n",
        "df.head(1)"
      ],
      "execution_count": 86,
      "outputs": [
        {
          "output_type": "execute_result",
          "data": {
            "text/html": [
              "<div>\n",
              "<style scoped>\n",
              "    .dataframe tbody tr th:only-of-type {\n",
              "        vertical-align: middle;\n",
              "    }\n",
              "\n",
              "    .dataframe tbody tr th {\n",
              "        vertical-align: top;\n",
              "    }\n",
              "\n",
              "    .dataframe thead th {\n",
              "        text-align: right;\n",
              "    }\n",
              "</style>\n",
              "<table border=\"1\" class=\"dataframe\">\n",
              "  <thead>\n",
              "    <tr style=\"text-align: right;\">\n",
              "      <th></th>\n",
              "      <th>Unnamed: 0</th>\n",
              "      <th>Article_id</th>\n",
              "      <th>Venue</th>\n",
              "      <th>Title</th>\n",
              "      <th>Year</th>\n",
              "      <th>Abstract</th>\n",
              "      <th>Doi</th>\n",
              "      <th>fieldsOfStudy</th>\n",
              "      <th>topics</th>\n",
              "      <th>Downloadurl</th>\n",
              "      <th>TotalCitationCount</th>\n",
              "      <th>TotalDownloadCount</th>\n",
              "      <th>Influentialcitationcount</th>\n",
              "    </tr>\n",
              "  </thead>\n",
              "  <tbody>\n",
              "    <tr>\n",
              "      <th>0</th>\n",
              "      <td>0</td>\n",
              "      <td>https://doi.org/10.1145/511285.511286</td>\n",
              "      <td>SIGIR '71</td>\n",
              "      <td>Introduction and perspectives for the 1971 ACM...</td>\n",
              "      <td>1971</td>\n",
              "      <td>introduction prospectives provided 1971 acm in...</td>\n",
              "      <td>10.1145/511285.511286</td>\n",
              "      <td>Computer Science</td>\n",
              "      <td>Information retrieval,Document retrieval</td>\n",
              "      <td>https://dl.acm.org/doi/pdf/10.1145/511285.5112...</td>\n",
              "      <td>0</td>\n",
              "      <td>222</td>\n",
              "      <td>0</td>\n",
              "    </tr>\n",
              "  </tbody>\n",
              "</table>\n",
              "</div>"
            ],
            "text/plain": [
              "   Unnamed: 0  ... Influentialcitationcount\n",
              "0           0  ...                        0\n",
              "\n",
              "[1 rows x 13 columns]"
            ]
          },
          "metadata": {
            "tags": []
          },
          "execution_count": 86
        }
      ]
    },
    {
      "cell_type": "code",
      "metadata": {
        "colab": {
          "base_uri": "https://localhost:8080/"
        },
        "id": "XCHjNha_zwiF",
        "outputId": "b7173299-37aa-4c26-ffaa-2fdd1ba5e33e"
      },
      "source": [
        "import re\n",
        "import pandas as pd\n",
        "df.Title = df.apply(lambda row: re.sub(r\"http\\S+\", \"\", row.Title).lower(), 1)\n",
        "df.text = df.apply(lambda row: \" \".join(filter(lambda x:x[0]!=\"@\", row.Title.split())), 1)\n",
        "df.text = df.apply(lambda row: \" \".join(re.sub(\"[^a-zA-Z]+\", \" \", row.Title).split()), 1)\n",
        "year = df.Year.to_list()\n",
        "title = df.Title.to_list()"
      ],
      "execution_count": 87,
      "outputs": [
        {
          "output_type": "stream",
          "text": [
            "/usr/local/lib/python3.7/dist-packages/ipykernel_launcher.py:4: UserWarning:\n",
            "\n",
            "Pandas doesn't allow columns to be created via a new attribute name - see https://pandas.pydata.org/pandas-docs/stable/indexing.html#attribute-access\n",
            "\n"
          ],
          "name": "stderr"
        }
      ]
    },
    {
      "cell_type": "code",
      "metadata": {
        "colab": {
          "base_uri": "https://localhost:8080/",
          "height": 117,
          "referenced_widgets": [
            "d05265604b13404a9b9ec1e334d2d0a2",
            "75464b2aa460446a86ac6b81ff9e1666",
            "70a54537cbef4d25805f38d72abee985",
            "ff05fce7c8b3431e9e73194c9978bfe8",
            "0a06bcf037a043fbb5614b90eb933072",
            "74e98d222c26479abe7763bb08216815",
            "cd83bafcd25d406e8f2c0fbfd528db0f",
            "9efe9b2c5dc8463d86d73f04c2e388a6"
          ]
        },
        "id": "tUOpVQDr0zVW",
        "outputId": "7634387e-37af-4fa5-af0c-404ea5dff581"
      },
      "source": [
        "from bertopic import BERTopic\n",
        "\n",
        "model = BERTopic(verbose=True)\n",
        "topics, _ = model.fit_transform(title)"
      ],
      "execution_count": 101,
      "outputs": [
        {
          "output_type": "display_data",
          "data": {
            "application/vnd.jupyter.widget-view+json": {
              "model_id": "d05265604b13404a9b9ec1e334d2d0a2",
              "version_minor": 0,
              "version_major": 2
            },
            "text/plain": [
              "HBox(children=(FloatProgress(value=0.0, description='Batches', max=139.0, style=ProgressStyle(description_widt…"
            ]
          },
          "metadata": {
            "tags": []
          }
        },
        {
          "output_type": "stream",
          "text": [
            "2021-03-26 22:19:00,097 - BERTopic - Transformed documents to Embeddings\n"
          ],
          "name": "stderr"
        },
        {
          "output_type": "stream",
          "text": [
            "\n"
          ],
          "name": "stdout"
        },
        {
          "output_type": "stream",
          "text": [
            "2021-03-26 22:19:09,655 - BERTopic - Reduced dimensionality with UMAP\n",
            "2021-03-26 22:19:09,882 - BERTopic - Clustered UMAP embeddings with HDBSCAN\n"
          ],
          "name": "stderr"
        }
      ]
    },
    {
      "cell_type": "code",
      "metadata": {
        "colab": {
          "base_uri": "https://localhost:8080/"
        },
        "id": "9DedaZfDm8h9",
        "outputId": "051f113a-82a7-4ff8-9ca6-99a28f5648c5"
      },
      "source": [
        "topics_over_time = model.topics_over_time(title, topics, year)"
      ],
      "execution_count": 102,
      "outputs": [
        {
          "output_type": "stream",
          "text": [
            "38it [09:15, 14.61s/it]\n"
          ],
          "name": "stderr"
        }
      ]
    },
    {
      "cell_type": "code",
      "metadata": {
        "colab": {
          "base_uri": "https://localhost:8080/",
          "height": 487
        },
        "id": "Lc13KqU4oJ6T",
        "outputId": "1e5ee97b-6bb3-48e7-d850-05b72d7b34d4"
      },
      "source": [
        "model.visualize_topics_over_time(topics_over_time, top_n=38)"
      ],
      "execution_count": 103,
      "outputs": [
        {
          "output_type": "display_data",
          "data": {
            "text/html": [
              "<html>\n",
              "<head><meta charset=\"utf-8\" /></head>\n",
              "<body>\n",
              "    <div>            <script src=\"https://cdnjs.cloudflare.com/ajax/libs/mathjax/2.7.5/MathJax.js?config=TeX-AMS-MML_SVG\"></script><script type=\"text/javascript\">if (window.MathJax) {MathJax.Hub.Config({SVG: {font: \"STIX-Web\"}});}</script>                <script type=\"text/javascript\">window.PlotlyConfig = {MathJaxConfig: 'local'};</script>\n",
              "        <script src=\"https://cdn.plot.ly/plotly-latest.min.js\"></script>                <div id=\"6a476eea-919e-494d-b645-0dd6d4944d6f\" class=\"plotly-graph-div\" style=\"height:450px; width:1250px;\"></div>            <script type=\"text/javascript\">                                    window.PLOTLYENV=window.PLOTLYENV || {};                                    if (document.getElementById(\"6a476eea-919e-494d-b645-0dd6d4944d6f\")) {                    Plotly.newPlot(                        \"6a476eea-919e-494d-b645-0dd6d4944d6f\",                        [{\"hoverinfo\": \"text\", \"hovertext\": [\"<b>Topic 25</b><br>Words: research, test, laboratory, trec, design\", \"<b>Topic 25</b><br>Words: theoretical, test, laboratory, trec, design\", \"<b>Topic 25</b><br>Words: test, laboratory, students, trec, design\", \"<b>Topic 25</b><br>Words: test, laboratory, students, design, testing\", \"<b>Topic 25</b><br>Words: test, laboratory, students, design, testing\", \"<b>Topic 25</b><br>Words: testbed, experiment, test, techniques, laboratory\", \"<b>Topic 25</b><br>Words: design, research, session, test, laboratory\", \"<b>Topic 25</b><br>Words: test, laboratory, students, design, testing\", \"<b>Topic 25</b><br>Words: test, laboratory, students, trec, lifelog\", \"<b>Topic 25</b><br>Words: test, laboratory, students, design, testing\", \"<b>Topic 25</b><br>Words: pooling, test, laboratory, students, trec\", \"<b>Topic 25</b><br>Words: testing, students, algorithms, test, laboratory\", \"<b>Topic 25</b><br>Words: beds, test, construction, laboratory, trec\", \"<b>Topic 25</b><br>Words: test, irtoolbox, teaching, class, theory\", \"<b>Topic 25</b><br>Words: test, queries, laboratory, trec, design\", \"<b>Topic 25</b><br>Words: experimental, test, design, laboratory, students\", \"<b>Topic 25</b><br>Words: test, students, collections, dbpedia, tutorial\", \"<b>Topic 25</b><br>Words: exercise, pools, manual, test, trec\", \"<b>Topic 25</b><br>Words: test, gujarati, technologyassisted, queries, laboratory\", \"<b>Topic 25</b><br>Words: test, laboratory, design, trials, patients\", \"<b>Topic 25</b><br>Words: test, labs, cookpad, infrastructure, dbpediaentity\", \"<b>Topic 25</b><br>Words: laboratory, test, simulation, tools, tutorial\", \"<b>Topic 25</b><br>Words: tableqa, debugging, machines, test, machine\"], \"marker\": {\"color\": \"#E69F00\"}, \"mode\": \"lines\", \"name\": \"25_test_laboratory_trec_lifelog\", \"type\": \"scatter\", \"x\": [1971, 1985, 1992, 1993, 1996, 1998, 1999, 2000, 2002, 2003, 2004, 2005, 2006, 2007, 2008, 2010, 2013, 2014, 2015, 2016, 2017, 2018, 2019], \"y\": [1, 1, 1, 1, 1, 2, 1, 1, 1, 1, 1, 1, 2, 3, 1, 1, 4, 2, 3, 7, 5, 2, 2]}, {\"hoverinfo\": \"text\", \"hovertext\": [\"<b>Topic 33</b><br>Words: algorithm, hashing, compression, hash, deep\", \"<b>Topic 33</b><br>Words: multiway, hashing, compression, hash, deep\", \"<b>Topic 33</b><br>Words: hashing, compression, hash, deep, crossmodal\", \"<b>Topic 33</b><br>Words: polynomial, hash, hashing, compression, deep\", \"<b>Topic 33</b><br>Words: bitmap, generative, compression, hashing, hash\", \"<b>Topic 33</b><br>Words: bitmaps, hash, compression, algorithm, hashing\", \"<b>Topic 33</b><br>Words: decoding, hashing, compression, hash, polynomial\", \"<b>Topic 33</b><br>Words: algorithms, hashing, compression, hash, deep\", \"<b>Topic 33</b><br>Words: compression, hashing, hash, query, deep\", \"<b>Topic 33</b><br>Words: polynomial, semantic, filtering, hashing, compression\", \"<b>Topic 33</b><br>Words: hashbased, boosting, hashing, compression, hash\", \"<b>Topic 33</b><br>Words: hashing, compression, hash, deep, crossmodal\", \"<b>Topic 33</b><br>Words: lunch, localitysensitive, hashing, pairwise, hash\", \"<b>Topic 33</b><br>Words: multikernel, hash, hashing, scalable, compression\", \"<b>Topic 33</b><br>Words: hashing, listwise, crossmodal, supervised, semantic\", \"<b>Topic 33</b><br>Words: hashing, additive, crossmodal, mapping, algorithm\", \"<b>Topic 33</b><br>Words: tweet2vec, cnnlstm, binarise, hashing, encoderdecoder\", \"<b>Topic 33</b><br>Words: hashing, deep, generative, semantic, compression\", \"<b>Topic 33</b><br>Words: hashing, parameterizing, deep, bitfunnel, compression\", \"<b>Topic 33</b><br>Words: hashing, semanticinvariant, politeness, attribute, crossmodal\"], \"marker\": {\"color\": \"#56B4E9\"}, \"mode\": \"lines\", \"name\": \"33_hashing_compression_hash_deep\", \"type\": \"scatter\", \"x\": [1971, 1985, 1987, 1989, 1991, 1992, 1998, 1999, 2002, 2004, 2007, 2010, 2011, 2012, 2014, 2015, 2016, 2017, 2018, 2019], \"y\": [1, 1, 1, 2, 1, 2, 1, 1, 1, 1, 2, 1, 1, 2, 4, 3, 2, 2, 7, 4]}, {\"hoverinfo\": \"text\", \"hovertext\": [\"<b>Topic 49</b><br>Words: quantification, query, prediction, reformulation, historybased\", \"<b>Topic 49</b><br>Words: relational, integration, databases, reformulation, query\", \"<b>Topic 49</b><br>Words: optimizing, predicting, indexing, expansion, prediction\", \"<b>Topic 49</b><br>Words: predicting, query, prediction, systematic, reformulation\", \"<b>Topic 49</b><br>Words: structured, query, prediction, reformulation, historybased\", \"<b>Topic 49</b><br>Words: summarisation, query, reformulation, queryflow, historybased\", \"<b>Topic 49</b><br>Words: prediction, query, systematic, reformulation, adaqac\", \"<b>Topic 49</b><br>Words: 1994, prediction, query, systematic, evaluation\", \"<b>Topic 49</b><br>Words: reformulation, queryflow, historybased, personalization, generalized\", \"<b>Topic 49</b><br>Words: deviation, prediction, query, systematic, reformulation\", \"<b>Topic 49</b><br>Words: prediction, systematic, reformulation, historybased, selectively\", \"<b>Topic 49</b><br>Words: queryperformance, estimating, query, reformulation, historybased\", \"<b>Topic 49</b><br>Words: query, prediction, systematic, reformulation, historybased\", \"<b>Topic 49</b><br>Words: adaqac, eyetracking, reformulation, comparing, adaptive\", \"<b>Topic 49</b><br>Words: selectively, query, prediction, reformulation, historybased\", \"<b>Topic 49</b><br>Words: startup, enhanced, prediction, approach, reformulation\", \"<b>Topic 49</b><br>Words: systematic, prediction, query, reformulation, evaluation\", \"<b>Topic 49</b><br>Words: accelerated, factoring, updates, prediction, processing\"], \"marker\": {\"color\": \"#009E73\"}, \"mode\": \"lines\", \"name\": \"49_prediction_systematic_reformulation_q...\", \"type\": \"scatter\", \"x\": [1971, 1993, 1998, 2002, 2003, 2005, 2006, 2009, 2010, 2011, 2012, 2013, 2014, 2015, 2016, 2017, 2018, 2019], \"y\": [1, 1, 3, 1, 1, 1, 1, 3, 5, 1, 1, 2, 1, 3, 1, 3, 4, 5]}, {\"hoverinfo\": \"text\", \"hovertext\": [\"<b>Topic 54</b><br>Words: hebrew, legal, project, texts, document\", \"<b>Topic 54</b><br>Words: algorithm, searching, documents, representation, reassignment\", \"<b>Topic 54</b><br>Words: values, document, representation, documents, strategy\", \"<b>Topic 54</b><br>Words: limitations, abstracting, difficult, problems, incorporating\", \"<b>Topic 54</b><br>Words: derived, keys, overlap, bibliographic, knowledgebased\", \"<b>Topic 54</b><br>Words: composite, conceptual, multiple, documents, document\", \"<b>Topic 54</b><br>Words: exterimental, anomalous, userspecified, synthetic, factors\", \"<b>Topic 54</b><br>Words: relational, document, approach, representation, syntactic\", \"<b>Topic 54</b><br>Words: impression, strategy, syntactic, inference, retrieving\", \"<b>Topic 54</b><br>Words: connectionist, associated, retrieve, acquisition, learn\", \"<b>Topic 54</b><br>Words: thesaurus, integrating, incorporating, representation, neural\", \"<b>Topic 54</b><br>Words: fulllength, document, representation, strategy, documentlevel\", \"<b>Topic 54</b><br>Words: methodology, databases, visualization, representation, combining\", \"<b>Topic 54</b><br>Words: paintings, repositorybased, facilities, environments, method\", \"<b>Topic 54</b><br>Words: documentordered, termordered, sgml, map, databases\", \"<b>Topic 54</b><br>Words: keyphrases, document, documents, representation, incorporating\", \"<b>Topic 54</b><br>Words: searched, types, documents, retrieving, methods\", \"<b>Topic 54</b><br>Words: syntactic, relevant, combining, detection, semantic\", \"<b>Topic 54</b><br>Words: biterm, interfaces, lexical, document, language\", \"<b>Topic 54</b><br>Words: userselected, genres, patents, annotated, sites\", \"<b>Topic 54</b><br>Words: manuscript, armadillo, pdf, biased, files\", \"<b>Topic 54</b><br>Words: html, oracle, reassignment, sequencing, identifiers\", \"<b>Topic 54</b><br>Words: peng, ldabased, adapting, prototype, document\", \"<b>Topic 54</b><br>Words: plagiarized, querydriven, color, twist, layout\", \"<b>Topic 54</b><br>Words: absorbing, camerabased, space, shape, annotated\", \"<b>Topic 54</b><br>Words: clusters, documentation, queryspecific, integrating, identifying\", \"<b>Topic 54</b><br>Words: temporallyaware, algorithms, representation, strategy, documentlevel\", \"<b>Topic 54</b><br>Words: picasso, draw, sing, eyes, effects\", \"<b>Topic 54</b><br>Words: hypergraphs, 40, java, canvas, characters\", \"<b>Topic 54</b><br>Words: runlengthcompressed, identifier, bagofrepeats, reassignment, representation\", \"<b>Topic 54</b><br>Words: burstinessaware, reranker, syntaxaware, microblog, representation\", \"<b>Topic 54</b><br>Words: vandalism, timeaware, archives, construction, corpus\", \"<b>Topic 54</b><br>Words: entitybased, political, documents, document, representation\", \"<b>Topic 54</b><br>Words: answerpassage, documentlevel, casebased, semantic, representation\", \"<b>Topic 54</b><br>Words: passagelevel, documentlevel, judgment, legal, documents\"], \"marker\": {\"color\": \"#F0E442\"}, \"mode\": \"lines\", \"name\": \"54_document_documents_representation_str...\", \"type\": \"scatter\", \"x\": [1971, 1978, 1979, 1981, 1983, 1985, 1986, 1987, 1988, 1989, 1991, 1993, 1995, 1996, 1998, 1999, 2000, 2001, 2002, 2003, 2004, 2005, 2006, 2007, 2008, 2009, 2010, 2011, 2012, 2013, 2014, 2015, 2016, 2018, 2019], \"y\": [2, 1, 4, 4, 4, 3, 5, 3, 4, 6, 4, 1, 3, 3, 3, 1, 2, 2, 3, 9, 6, 3, 6, 5, 8, 3, 1, 3, 7, 3, 3, 2, 2, 2, 3]}, {\"hoverinfo\": \"text\", \"hovertext\": [\"<b>Topic 59</b><br>Words: 1971, perspectives, symposium, introduction, logic\", \"<b>Topic 59</b><br>Words: integrated, approach, logic, probabilistic, evaluation\", \"<b>Topic 59</b><br>Words: automatic, logic, probabilistic, new, evaluation\", \"<b>Topic 59</b><br>Words: basis, simulation, fuzzy, generalized, theory\", \"<b>Topic 59</b><br>Words: discourse, solutions, mechanisms, recall, analysis\", \"<b>Topic 59</b><br>Words: utah, liveproject, testbed, tests, designing\", \"<b>Topic 59</b><br>Words: invited, corel, entropy, theoretical, conceptual\", \"<b>Topic 59</b><br>Words: chip, transmission, enriched, linear, conceptual\", \"<b>Topic 59</b><br>Words: conceptoriented, oriented, outline, development, database\", \"<b>Topic 59</b><br>Words: factual, conceptbased, logic, probabilistic, theory\", \"<b>Topic 59</b><br>Words: ferret, retrievals, setoriented, objectoriented, programming\", \"<b>Topic 59</b><br>Words: informativeness, developing, designing, theory, logic\", \"<b>Topic 59</b><br>Words: plausible, logic, contextsensitive, inference, recall\", \"<b>Topic 59</b><br>Words: logic, datalogica, kinematics, dissemination, probability\", \"<b>Topic 59</b><br>Words: logic, visualization, networked, fourvalued, recall\", \"<b>Topic 59</b><br>Words: probabilistic, logic, recall, evaluation, theory\", \"<b>Topic 59</b><br>Words: windows, 3d, visualizations, comparisons, experiments\", \"<b>Topic 59</b><br>Words: centralizeddistributed, world, incorporating, metrics, distributed\", \"<b>Topic 59</b><br>Words: combinations, multipleevidence, likelihood, analyses, conceptbased\", \"<b>Topic 59</b><br>Words: setbased, approach, logic, probabilistic, evaluation\", \"<b>Topic 59</b><br>Words: quantitative, peertopeer, algorithms, answering, evaluation\", \"<b>Topic 59</b><br>Words: revision, heuristics, belief, contextual, adaptive\", \"<b>Topic 59</b><br>Words: entropy, multilabelled, gravitationbased, theoretic, sensitivity\", \"<b>Topic 59</b><br>Words: okapibased, commonsense, platform, contextual, combining\", \"<b>Topic 59</b><br>Words: diligent, utilitybased, sequenced, poisson, contexts\", \"<b>Topic 59</b><br>Words: coefficient, multinomial, sensitivity, correlation, answer\", \"<b>Topic 59</b><br>Words: esa, usercentric, imaging, multicriteria, theory\", \"<b>Topic 59</b><br>Words: recalloriented, accessibility, qprp, multisentence, usercentered\", \"<b>Topic 59</b><br>Words: rcommenders, orderings, domainspecific, methods, generated\", \"<b>Topic 59</b><br>Words: multiaspect, rhetorical, intentoriented, composite, focused\", \"<b>Topic 59</b><br>Words: navigation, effectivenessefficiency, crosstemporal, gui, graphics\", \"<b>Topic 59</b><br>Words: userdriven, reqrec, compositional, risksensitive, entitybased\", \"<b>Topic 59</b><br>Words: assessments, benefits, gametheoretic, highrecall, value\", \"<b>Topic 59</b><br>Words: quantization, uqv100, neuropsychological, creative, simulating\", \"<b>Topic 59</b><br>Words: maxmargin, minimax, assessments, generative, embeddings\", \"<b>Topic 59</b><br>Words: adversarial, manipulations, nets, coreferent, fundamentals\", \"<b>Topic 59</b><br>Words: fairness, transparency, confidentiality, accountability, tool\"], \"marker\": {\"color\": \"#D55E00\"}, \"mode\": \"lines\", \"name\": \"59_logic_probabilistic_fairness_evaluati...\", \"type\": \"scatter\", \"x\": [1971, 1978, 1979, 1981, 1983, 1985, 1986, 1987, 1988, 1989, 1991, 1992, 1993, 1995, 1996, 1997, 1998, 2000, 2001, 2002, 2003, 2004, 2005, 2006, 2007, 2008, 2009, 2010, 2011, 2012, 2013, 2014, 2015, 2016, 2017, 2018, 2019], \"y\": [1, 1, 2, 7, 4, 4, 5, 4, 5, 7, 5, 2, 3, 6, 11, 2, 4, 1, 4, 2, 2, 5, 9, 3, 7, 4, 4, 8, 6, 9, 11, 8, 6, 10, 6, 11, 5]}, {\"hoverinfo\": \"text\", \"hovertext\": [\"<b>Topic 60</b><br>Words: economic, commercial, compression, categorization, classifiers\", \"<b>Topic 60</b><br>Words: wordprocessing, statistical, text, analysis, categorization\", \"<b>Topic 60</b><br>Words: hardware, categorization, classifiers, compression, fulltext\", \"<b>Topic 60</b><br>Words: redescription, rubric, algorithm, indexing, categorization\", \"<b>Topic 60</b><br>Words: full, compression, bitvector, text, improved\", \"<b>Topic 60</b><br>Words: zooming, others, graphical, interaction, text\", \"<b>Topic 60</b><br>Words: fulltext, memory, compression, text, categorization\", \"<b>Topic 60</b><br>Words: limeds, encryption, storing, subsets, cdrom\", \"<b>Topic 60</b><br>Words: decode, bilevel, algorithm, categorization, classifiers\", \"<b>Topic 60</b><br>Words: versioning, clustered, cdrom, phrasal, fulltext\", \"<b>Topic 60</b><br>Words: squares, disambiguate, lexicon, wordnet, text\", \"<b>Topic 60</b><br>Words: alphabetic, catalogue, fulltext, library, text\", \"<b>Topic 60</b><br>Words: classifiers, categorization, stylistic, contextsensitive, algorithms\", \"<b>Topic 60</b><br>Words: quilt, categorization, crosslanguage, text, classifiers\", \"<b>Topic 60</b><br>Words: dutch, rocchio, expressiveness, compressed, boosting\", \"<b>Topic 60</b><br>Words: reexamination, summarizing, chinese, categorization, incorporating\", \"<b>Topic 60</b><br>Words: classifiers, boosting, categorization, text, filtering\", \"<b>Topic 60</b><br>Words: metalearning, thresholding, vector, statistical, clustering\", \"<b>Topic 60</b><br>Words: text, categorization, classifiers, genrerevealing, cutex\", \"<b>Topic 60</b><br>Words: categorization, unification, anisotropic, domainindependent, documentself\", \"<b>Topic 60</b><br>Words: comprehension, inexact, narrative, gisting, ebook\", \"<b>Topic 60</b><br>Words: citationbased, categorization, centroid, geometry, orthogonal\", \"<b>Topic 60</b><br>Words: stylistic, errors, index, text, categorization\", \"<b>Topic 60</b><br>Words: errorcorrecting, categorizing, modelrefinement, useroriented, peertopeer\", \"<b>Topic 60</b><br>Words: compressed, text, categorization, botanical, reorganizing\", \"<b>Topic 60</b><br>Words: interannotator, 2poisson, unified, improved, probabilistic\", \"<b>Topic 60</b><br>Words: text, consensusbased, coregularization, multi, languagemodelbased\", \"<b>Topic 60</b><br>Words: descriptive, integration, modelling, novel, statistical\", \"<b>Topic 60</b><br>Words: selections, utilitytheoretic, schemes, classifiers, probability\", \"<b>Topic 60</b><br>Words: disagreement, assessor, classifier, text, categorization\", \"<b>Topic 60</b><br>Words: orthogonalized, weakly, supervised, text, categorization\", \"<b>Topic 60</b><br>Words: imbalanced, oversampling, quantification, distributional, classifiers\", \"<b>Topic 60</b><br>Words: timeliness, multilabel, text, diversity, embedding\", \"<b>Topic 60</b><br>Words: texygen, textcentric, benchmarking, multitask, tutorial\", \"<b>Topic 60</b><br>Words: matching, tracker, matchzoo, doctrine, compatibility\"], \"marker\": {\"color\": \"#0072B2\"}, \"mode\": \"lines\", \"name\": \"60_text_categorization_classifiers_compr...\", \"type\": \"scatter\", \"x\": [1971, 1981, 1983, 1985, 1986, 1987, 1988, 1989, 1991, 1992, 1993, 1995, 1996, 1997, 1998, 1999, 2000, 2001, 2002, 2003, 2004, 2005, 2006, 2007, 2008, 2009, 2010, 2011, 2012, 2013, 2014, 2016, 2017, 2018, 2019], \"y\": [1, 2, 1, 3, 5, 3, 2, 5, 2, 5, 5, 3, 4, 2, 5, 4, 3, 5, 11, 10, 6, 5, 3, 6, 10, 3, 9, 3, 5, 1, 2, 4, 5, 4, 10]}, {\"hoverinfo\": \"text\", \"hovertext\": [\"<b>Topic 56</b><br>Words: clusterbased, cluster, clustering, clusters, hierarchical\", \"<b>Topic 56</b><br>Words: reproductive, clustering, clusterbased, cluster, hypothesis\", \"<b>Topic 56</b><br>Words: validation, experiments, clustering, clusterbased, cluster\", \"<b>Topic 56</b><br>Words: clustering, clusterbased, cluster, hypothesis, clusters\", \"<b>Topic 56</b><br>Words: coefficientbased, methodology, hypothesis, cluster, concepts\", \"<b>Topic 56</b><br>Words: wards, cluster, clustering, clusterbased, clusters\", \"<b>Topic 56</b><br>Words: array, clusters, spaces, concept, clustering\", \"<b>Topic 56</b><br>Words: clusterbased, cluster, hypothesis, clustering, clusters\", \"<b>Topic 56</b><br>Words: disks, clusterbased, cluster, clustering, clusters\", \"<b>Topic 56</b><br>Words: cluster, hypertext, clusterbased, hypothesis, clustering\", \"<b>Topic 56</b><br>Words: clusterbased, comparison, categorization, cluster, hypothesis\", \"<b>Topic 56</b><br>Words: hypothesis, cluster, clusterbased, clustering, clusters\", \"<b>Topic 56</b><br>Words: webcluster, clustering, clusterbased, cluster, hypothesis\", \"<b>Topic 56</b><br>Words: clusterbased, cluster, hypothesis, clustering, clusters\", \"<b>Topic 56</b><br>Words: clusterbook, dual, clusterbased, cluster, hypothesis\", \"<b>Topic 56</b><br>Words: subspace, cluster, adaptive, clustering, clusterbased\", \"<b>Topic 56</b><br>Words: pseudoquery, clusterbased, cluster, hypothesis, clustering\", \"<b>Topic 56</b><br>Words: clusterbased, clusters, rankaggregation, queryspecific, cluster\", \"<b>Topic 56</b><br>Words: multiview, clusterbased, fusion, clustering, cluster\", \"<b>Topic 56</b><br>Words: clusterbased, cluster, hierarchical, algorithm, filtering\", \"<b>Topic 56</b><br>Words: clusterbased, fusion, cluster, hypothesis, clustering\", \"<b>Topic 56</b><br>Words: oneclass, clusterbased, cluster, hypothesis, clustering\", \"<b>Topic 56</b><br>Words: cluster, hypothesis, agglomerative, criterion, clusters\", \"<b>Topic 56</b><br>Words: cluster, eliasfano, clusterbased, hypothesis, partitioned\", \"<b>Topic 56</b><br>Words: hypothesis, cluster, clusterbased, relevance, clustering\"], \"marker\": {\"color\": \"#CC79A7\"}, \"mode\": \"lines\", \"name\": \"56_clusterbased_cluster_clustering_clust...\", \"type\": \"scatter\", \"x\": [1978, 1979, 1981, 1983, 1985, 1986, 1987, 1988, 1989, 1993, 1995, 1996, 1998, 1999, 2000, 2004, 2005, 2008, 2009, 2010, 2011, 2012, 2013, 2014, 2018], \"y\": [1, 1, 1, 1, 2, 2, 3, 1, 1, 1, 1, 1, 2, 1, 1, 2, 1, 4, 2, 3, 1, 1, 5, 3, 1]}, {\"hoverinfo\": \"text\", \"hovertext\": [\"<b>Topic 22</b><br>Words: lattice, empirical, graph, graphs, graphbased\", \"<b>Topic 22</b><br>Words: bitvector, graphs, graph, graphbased, bipartite\", \"<b>Topic 22</b><br>Words: correlating, bipartite, graph, indexes, graphs\", \"<b>Topic 22</b><br>Words: link, graph, graphs, web, graphbased\", \"<b>Topic 22</b><br>Words: graphbased, bridges, neighbors, graph, graphs\", \"<b>Topic 22</b><br>Words: graphs, graph, smoothing, click, optimization\", \"<b>Topic 22</b><br>Words: private, graphbased, graphs, link, wikipedia\", \"<b>Topic 22</b><br>Words: spatial, graph, categorization, graphs, graphbased\", \"<b>Topic 22</b><br>Words: graph, graphbased, graphs, forest, bipartite\", \"<b>Topic 22</b><br>Words: graph, graphs, mining, exploiting, graphbased\", \"<b>Topic 22</b><br>Words: linked, graphs, graph, data, graphbased\", \"<b>Topic 22</b><br>Words: simrank, graphbased, graphs, graph, bipartite\", \"<b>Topic 22</b><br>Words: graphbased, similarity, graph, graphs, bipartite\", \"<b>Topic 22</b><br>Words: webscale, graphs, graph, click, hierarchical\", \"<b>Topic 22</b><br>Words: graphs, graph, crossnetwork, edges, multilayer\", \"<b>Topic 22</b><br>Words: graph, graphs, graphcar, bipartite, contextualization\", \"<b>Topic 22</b><br>Words: graph, hyperlink, graphs, network, graphbased\"], \"marker\": {\"color\": \"#E69F00\"}, \"mode\": \"lines\", \"name\": \"22_graph_graphs_graphbased_bipartite\", \"type\": \"scatter\", \"x\": [1979, 1989, 2002, 2003, 2006, 2008, 2009, 2010, 2011, 2012, 2013, 2014, 2015, 2016, 2017, 2018, 2019], \"y\": [1, 1, 2, 1, 3, 2, 2, 1, 7, 3, 1, 2, 1, 3, 8, 6, 3]}, {\"hoverinfo\": \"text\", \"hovertext\": [\"<b>Topic 69</b><br>Words: extraction, relevance, situ, multidimensional, strategic\", \"<b>Topic 69</b><br>Words: precedental, relevance, situ, argument, revisited\", \"<b>Topic 69</b><br>Words: revisited, feedback, relevance, multidimensional, summarising\", \"<b>Topic 69</b><br>Words: inference, feedback, relevance, multidimensional, priming\", \"<b>Topic 69</b><br>Words: explanations, empirical, relevance, summarization, framework\", \"<b>Topic 69</b><br>Words: criteria, relevance, argument, feedback, multidimensional\", \"<b>Topic 69</b><br>Words: relation, evidence, relevance, consistency, multidimensional\", \"<b>Topic 69</b><br>Words: elicitation, context, feedback, relevance, situ\", \"<b>Topic 69</b><br>Words: strategic, intraassessor, targeted, viewpoints, comparisons\", \"<b>Topic 69</b><br>Words: thresholds, evaluations, relevance, multidimensional, ethics\", \"<b>Topic 69</b><br>Words: filter, quality, relevance, based, feedback\", \"<b>Topic 69</b><br>Words: relevance, independent, feedback, revisited, precedental\", \"<b>Topic 69</b><br>Words: truth, projection, relevance, situ, multidimensional\", \"<b>Topic 69</b><br>Words: subjective, situational, opinions, knowledgebased, relevance\", \"<b>Topic 69</b><br>Words: priming, calibration, assessment, relevance, multidimensional\", \"<b>Topic 69</b><br>Words: phraselevel, gaussian, explainable, factor, contextaware\", \"<b>Topic 69</b><br>Words: situ, adjustment, insights, estimation, relevance\", \"<b>Topic 69</b><br>Words: measure, specificity, informative, focused, relevance\", \"<b>Topic 69</b><br>Words: bm25, relevancebased, multidimensional, comparing, judgments\", \"<b>Topic 69</b><br>Words: ethics, bias, relevance, argument, feedback\", \"<b>Topic 69</b><br>Words: assessing, discriminative, relevance, multidimensional, ethics\"], \"marker\": {\"color\": \"#56B4E9\"}, \"mode\": \"lines\", \"name\": \"69_relevance_feedback_multidimensional_r...\", \"type\": \"scatter\", \"x\": [1979, 1988, 1992, 1993, 2001, 2002, 2005, 2006, 2007, 2008, 2009, 2010, 2011, 2012, 2013, 2014, 2015, 2016, 2017, 2018, 2019], \"y\": [1, 1, 1, 1, 4, 1, 3, 1, 3, 2, 1, 1, 2, 3, 1, 2, 3, 3, 3, 2, 2]}, {\"hoverinfo\": \"text\", \"hovertext\": [\"<b>Topic 75</b><br>Words: online, diversification, personalized, personalize, diversifying\", \"<b>Topic 75</b><br>Words: personalized, filtering, diversification, personalize, diversifying\", \"<b>Topic 75</b><br>Words: hierarchy, searches, interactive, diversification, personalize\", \"<b>Topic 75</b><br>Words: browser, diversification, personalized, personalize, diversifying\", \"<b>Topic 75</b><br>Words: expanded, economics, incrementally, clusterbased, browsing\", \"<b>Topic 75</b><br>Words: personalised, diversification, personalized, personalize, diversifying\", \"<b>Topic 75</b><br>Words: filtering, diversification, personalized, web, personalize\", \"<b>Topic 75</b><br>Words: metadata, ucair, personalize, personalizing, personalized\", \"<b>Topic 75</b><br>Words: contexts, photos, diversification, personalized, personalize\", \"<b>Topic 75</b><br>Words: taskbased, personalizing, characterizing, personalized, diversification\", \"<b>Topic 75</b><br>Words: personal, personalize, landscapes, nonpersonal, gazebased\", \"<b>Topic 75</b><br>Words: crowdreranking, multiple, diversification, personalized, personalize\", \"<b>Topic 75</b><br>Words: diversification, webgraphs, audience, personalize, targeting\", \"<b>Topic 75</b><br>Words: diversifying, diversification, userstudy, streamingbased, personalize\", \"<b>Topic 75</b><br>Words: diversification, context, cloudsearch, socialalgorithmic, genderaware\", \"<b>Topic 75</b><br>Words: diversification, amnesia, differentiation, personalized, function\", \"<b>Topic 75</b><br>Words: searchpanel, personalisation, psychometrics, diversification, diversifying\", \"<b>Topic 75</b><br>Words: tencent, dive, wechat, restaurant, multisource\", \"<b>Topic 75</b><br>Words: bias, personalized, diversification, personalize, diversifying\", \"<b>Topic 75</b><br>Words: personalized, causes, halo, exploit, diversify\", \"<b>Topic 75</b><br>Words: wandbased, thief, splitlists, personalized, personalize\", \"<b>Topic 75</b><br>Words: exploratory, notestoshare, lifelogs, ancestry, notestoself\"], \"marker\": {\"color\": \"#009E73\"}, \"mode\": \"lines\", \"name\": \"75_diversification_personalized_personal...\", \"type\": \"scatter\", \"x\": [1979, 1996, 1997, 1998, 1999, 2003, 2004, 2005, 2006, 2007, 2008, 2009, 2010, 2011, 2012, 2013, 2014, 2015, 2016, 2017, 2018, 2019], \"y\": [1, 1, 1, 1, 2, 2, 2, 6, 3, 4, 9, 3, 8, 9, 10, 9, 11, 8, 2, 7, 2, 7]}, {\"hoverinfo\": \"text\", \"hovertext\": [\"<b>Topic 42</b><br>Words: bibliographic, clustering, multidocument, multilingual, factorization\", \"<b>Topic 42</b><br>Words: adaptive, clustering, multidocument, multilingual, multiple\", \"<b>Topic 42</b><br>Words: queries, clustering, multidocument, multilingual, factorization\", \"<b>Topic 42</b><br>Words: clusterbased, browsing, collections, clustering, multidocument\", \"<b>Topic 42</b><br>Words: interactiontime, applications, multilingual, browsing, clustering\", \"<b>Topic 42</b><br>Words: clustering, multidocument, multilingual, factorization, multiple\", \"<b>Topic 42</b><br>Words: localitybased, similarity, clustering, multidocument, multilingual\", \"<b>Topic 42</b><br>Words: clustering, linguistic, clusters, topical, algorithms\", \"<b>Topic 42</b><br>Words: committees, clustering, cluster, multidocument, multilingual\", \"<b>Topic 42</b><br>Words: informationtheoretic, matrix, factorization, clustering, similarity\", \"<b>Topic 42</b><br>Words: metaclustering, filing, clustering, repository, selforganizing\", \"<b>Topic 42</b><br>Words: multidocument, clustering, collections, multilingual, factorization\", \"<b>Topic 42</b><br>Words: tensor, cluster, clustering, diversity, multidocument\", \"<b>Topic 42</b><br>Words: clustering, collabsum, summarizations, multiple, optimization\", \"<b>Topic 42</b><br>Words: clustering, hypergraph, paragraphbased, partitioning, hypertext\", \"<b>Topic 42</b><br>Words: ktree, linked, clustering, characterizing, multidocument\", \"<b>Topic 42</b><br>Words: ontologyenriched, clustering, subset, composite, multiview\", \"<b>Topic 42</b><br>Words: eventcentric, clustering, multilingual, optimization, similarity\", \"<b>Topic 42</b><br>Words: neighbourhood, quantisation, labeling, clustering, multidocument\", \"<b>Topic 42</b><br>Words: starsum, star, multidocument, clustering, multilingual\", \"<b>Topic 42</b><br>Words: letor, summarized, clustering, multidocument, multilingual\", \"<b>Topic 42</b><br>Words: fix, stitch, tensor, categorization, clustering\"], \"marker\": {\"color\": \"#F0E442\"}, \"mode\": \"lines\", \"name\": \"42_clustering_multidocument_multilingual...\", \"type\": \"scatter\", \"x\": [1981, 1985, 1987, 1992, 1993, 1997, 1999, 2000, 2002, 2003, 2004, 2005, 2006, 2007, 2008, 2009, 2010, 2011, 2013, 2015, 2018, 2019], \"y\": [1, 1, 1, 1, 2, 1, 1, 2, 2, 2, 4, 1, 2, 5, 4, 4, 5, 3, 2, 1, 1, 2]}, {\"hoverinfo\": \"text\", \"hovertext\": [\"<b>Topic 2</b><br>Words: survey, enhancement, testing, translation, tests\", \"<b>Topic 2</b><br>Words: testing, translation, theory, tests, crosslanguage\", \"<b>Topic 2</b><br>Words: testing, experiments, evaluation, translation, tests\", \"<b>Topic 2</b><br>Words: translation, testing, tests, crosslanguage, intercollection\", \"<b>Topic 2</b><br>Words: answerfinding, bridging, lexical, translation, tests\", \"<b>Topic 2</b><br>Words: translation, crosslanguage, testing, effectiveness, statisticallinguistic\", \"<b>Topic 2</b><br>Words: nbest, translations, crosslanguage, translation, iii\", \"<b>Topic 2</b><br>Words: gists, statisticallinguistic, story, statistical, testing\", \"<b>Topic 2</b><br>Words: statistical, translation, incomplete, judgments, finding\", \"<b>Topic 2</b><br>Words: intercollection, standardization, comparison, testing, translation\", \"<b>Topic 2</b><br>Words: tests, sizes, sample, testing, evaluation\", \"<b>Topic 2</b><br>Words: queryperformance, translation, optimization, estimation, prediction\", \"<b>Topic 2</b><br>Words: assessment, crosslanguage, extraction, translation, web\", \"<b>Topic 2</b><br>Words: feedback, relevance, translation, theory, crosslanguage\", \"<b>Topic 2</b><br>Words: statistical, estimates, biased, evaluation, translation\", \"<b>Topic 2</b><br>Words: testing, translation, tests, crosslanguage, answerfinding\", \"<b>Topic 2</b><br>Words: sequential, statistical, random, effectiveness, translation\", \"<b>Topic 2</b><br>Words: testing, translation, tests, crosslanguage, iii\", \"<b>Topic 2</b><br>Words: testing, translation, tests, crosslanguage, answerfinding\", \"<b>Topic 2</b><br>Words: statistical, iii, translation, data, theory\"], \"marker\": {\"color\": \"#D55E00\"}, \"mode\": \"lines\", \"name\": \"2_testing_translation_tests_crosslanguag...\", \"type\": \"scatter\", \"x\": [1983, 1992, 1993, 1999, 2000, 2001, 2002, 2004, 2006, 2008, 2009, 2010, 2011, 2012, 2013, 2014, 2015, 2016, 2017, 2019], \"y\": [1, 1, 1, 1, 1, 1, 1, 1, 3, 1, 1, 3, 1, 1, 2, 1, 1, 1, 1, 2]}, {\"hoverinfo\": \"text\", \"hovertext\": [\"<b>Topic 4</b><br>Words: therapy, cancer, medical, clinical, medicine\", \"<b>Topic 4</b><br>Words: medical, clinical, medicine, healthcare, patient\", \"<b>Topic 4</b><br>Words: medical, multimedia, clinical, medicine, healthcare\", \"<b>Topic 4</b><br>Words: med, marian, interface, graphical, medical\", \"<b>Topic 4</b><br>Words: medical, clinical, medicine, healthcare, patient\", \"<b>Topic 4</b><br>Words: medline, medical, clinical, medicine, patient\", \"<b>Topic 4</b><br>Words: medicine, clinical, medical, healthcare, patient\", \"<b>Topic 4</b><br>Words: medical, clinical, medicine, patient, healthcare\", \"<b>Topic 4</b><br>Words: medical, health, consumer, medicine, clinical\", \"<b>Topic 4</b><br>Words: medical, clinical, medicine, healthcare, patient\", \"<b>Topic 4</b><br>Words: medical, clinical, domainspecific, health, medicine\", \"<b>Topic 4</b><br>Words: medical, healthcare, patient, medicinal, prescription\", \"<b>Topic 4</b><br>Words: medical, medir14, healthcare, diagnostic, comprehensive\", \"<b>Topic 4</b><br>Words: health, medical, clinical, medicine, patient\", \"<b>Topic 4</b><br>Words: medical, health, narratives, patient, evidencebased\", \"<b>Topic 4</b><br>Words: seeddriven, evidencebased, medicine, systematic, medical\", \"<b>Topic 4</b><br>Words: ontologyaware, medical, clinical, medicine, patient\"], \"marker\": {\"color\": \"#0072B2\"}, \"mode\": \"lines\", \"name\": \"4_medical_medicine_clinical_healthcare\", \"type\": \"scatter\", \"x\": [1983, 1985, 1989, 1993, 1995, 2005, 2006, 2008, 2010, 2011, 2012, 2013, 2014, 2016, 2017, 2018, 2019], \"y\": [1, 1, 1, 2, 1, 1, 1, 1, 3, 2, 4, 7, 6, 3, 4, 2, 3]}, {\"hoverinfo\": \"text\", \"hovertext\": [\"<b>Topic 20</b><br>Words: project, poster, seasonal, patterns, visualization\", \"<b>Topic 20</b><br>Words: posters, abstracts, poster, seasonal, patterns\", \"<b>Topic 20</b><br>Words: poster, abstract, attics, visualisation, code\", \"<b>Topic 20</b><br>Words: poster, visualization, shoebox, themebased, questionresponse\", \"<b>Topic 20</b><br>Words: evetar, seven, children, poster, tweets\", \"<b>Topic 20</b><br>Words: influenzalike, seasonal, estimation, poster, patterns\", \"<b>Topic 20</b><br>Words: forecasting, seasonal, poster, hierarchical, framework\"], \"marker\": {\"color\": \"#CC79A7\"}, \"mode\": \"lines\", \"name\": \"20_poster_seasonal_patterns_visualizatio...\", \"type\": \"scatter\", \"x\": [1983, 1996, 1999, 2000, 2016, 2017, 2018], \"y\": [1, 1, 7, 22, 2, 1, 1]}, {\"hoverinfo\": \"text\", \"hovertext\": [\"<b>Topic 13</b><br>Words: multimedia, libraries, library, resource, videosupported\", \"<b>Topic 13</b><br>Words: multimedia, libraries, library, cheshire3, videosupported\", \"<b>Topic 13</b><br>Words: multimedia, databases, libraries, library, multiwindow\", \"<b>Topic 13</b><br>Words: database, multidisciplines, universities, multimedia, library\", \"<b>Topic 13</b><br>Words: logicbased, multimedia, libraries, library, videosupported\", \"<b>Topic 13</b><br>Words: library, ndltd, marian, multimedia, browsing\", \"<b>Topic 13</b><br>Words: multimedia, classifiers, online, filtering, libraries\", \"<b>Topic 13</b><br>Words: multimedia, libraries, videosupported, fusion, speechbased\", \"<b>Topic 13</b><br>Words: multimedia, mining, libraries, library, database\", \"<b>Topic 13</b><br>Words: libraries, cheshire3, gridbased, graphics, resource\", \"<b>Topic 13</b><br>Words: multimedia, multiwindow, broadcoverage, coefficients, multicriteria\", \"<b>Topic 13</b><br>Words: multimedia, libraries, library, multidisciplines, videosupported\", \"<b>Topic 13</b><br>Words: multimedia, collage, collaboration, libraries, leveraging\", \"<b>Topic 13</b><br>Words: enriching, multimedia, libraries, library, resource\", \"<b>Topic 13</b><br>Words: multimedia, libraries, resource, library, logicbased\", \"<b>Topic 13</b><br>Words: multimedia, technology, libraries, library, universities\", \"<b>Topic 13</b><br>Words: multimedia, largescale, digital, libraries, resource\", \"<b>Topic 13</b><br>Words: multimedia, broadcasting, componentlevel, maxmargin, geosocial\", \"<b>Topic 13</b><br>Words: chuxing, multimedia, libraries, library, videosupported\"], \"marker\": {\"color\": \"#E69F00\"}, \"mode\": \"lines\", \"name\": \"13_multimedia_libraries_library_logicbas...\", \"type\": \"scatter\", \"x\": [1986, 1988, 1989, 1992, 1998, 2001, 2002, 2003, 2005, 2006, 2007, 2008, 2010, 2011, 2012, 2013, 2014, 2017, 2018], \"y\": [1, 1, 1, 1, 1, 3, 2, 3, 1, 2, 4, 1, 3, 1, 1, 2, 1, 4, 1]}, {\"hoverinfo\": \"text\", \"hovertext\": [\"<b>Topic 24</b><br>Words: scanning, ir, spark, quantum, science\", \"<b>Topic 24</b><br>Words: ir, spark, 112, quantum, interactive\", \"<b>Topic 24</b><br>Words: concept, ir, spark, quantum, interactive\", \"<b>Topic 24</b><br>Words: design, ir, spark, 112, quantum\", \"<b>Topic 24</b><br>Words: ir, fireworks, belief, design, interactive\", \"<b>Topic 24</b><br>Words: ir, recallprecision, interactive, predicting, spark\", \"<b>Topic 24</b><br>Words: 30000, 300, searches, ir, spark\", \"<b>Topic 24</b><br>Words: ir, engines, spark, 112, quantum\", \"<b>Topic 24</b><br>Words: taskgenre, workplace, modeling, spark, 112\", \"<b>Topic 24</b><br>Words: querybased, navigator, sampling, ir, adaptive\", \"<b>Topic 24</b><br>Words: epistemic, uncertainty, ir, spark, quantum\", \"<b>Topic 24</b><br>Words: teambased, concepts, visualization, ir, spark\", \"<b>Topic 24</b><br>Words: evaluatir, ir, tool, online, spark\", \"<b>Topic 24</b><br>Words: ir, findability, informationbased, scalability, probabilistic\", \"<b>Topic 24</b><br>Words: ir, comparative, tool, evaluation, quantum\", \"<b>Topic 24</b><br>Words: ir, listnet, uncertaintyaware, 112, spark\", \"<b>Topic 24</b><br>Words: ir, multiplicity, biasvariance, quantum, experiments\", \"<b>Topic 24</b><br>Words: timely, educational, designing, revisiting, scientific\", \"<b>Topic 24</b><br>Words: ir, science, interface, interactive, collaborative\", \"<b>Topic 24</b><br>Words: statistically, credible, significant, significance, hypothesis\", \"<b>Topic 24</b><br>Words: apache, agile, torch, spark, create\", \"<b>Topic 24</b><br>Words: ir, topicaware, spark, quantum, presentation\"], \"marker\": {\"color\": \"#56B4E9\"}, \"mode\": \"lines\", \"name\": \"24_ir_spark_112_quantum\", \"type\": \"scatter\", \"x\": [1986, 1987, 1988, 1995, 1996, 1998, 1999, 2004, 2005, 2006, 2007, 2008, 2009, 2010, 2011, 2012, 2013, 2015, 2016, 2017, 2018, 2019], \"y\": [1, 1, 1, 1, 4, 3, 1, 1, 1, 2, 1, 1, 2, 4, 3, 7, 3, 5, 2, 3, 3, 6]}, {\"hoverinfo\": \"text\", \"hovertext\": [\"<b>Topic 27</b><br>Words: pictures, visual, photos, spatial, images\", \"<b>Topic 27</b><br>Words: optical, vectorial, image, visual, photos\", \"<b>Topic 27</b><br>Words: multilevel, photos, spatial, images, precisionoriented\", \"<b>Topic 27</b><br>Words: photograph, spatial, image, pictures, visual\", \"<b>Topic 27</b><br>Words: graphical, hypertext, semantic, visual, spatial\", \"<b>Topic 27</b><br>Words: image, precisionoriented, photographic, spatial, visual\", \"<b>Topic 27</b><br>Words: visual, photo, photos, spatial, images\", \"<b>Topic 27</b><br>Words: image, pictures, visual, photo, photos\", \"<b>Topic 27</b><br>Words: generative, contentbased, neural, networks, analysis\", \"<b>Topic 27</b><br>Words: viewpointbased, 3d, visual, spatial, images\", \"<b>Topic 27</b><br>Words: visual, photo, photos, spatial, images\", \"<b>Topic 27</b><br>Words: sensor, pictures, visual, photo, photos\", \"<b>Topic 27</b><br>Words: visualrank, colorblind, multiclass, photos, tagging\", \"<b>Topic 27</b><br>Words: summarizationsystem, visualsum, multidocument, visualization, spatial\", \"<b>Topic 27</b><br>Words: georeferenced, regionbased, photos, spatial, map\", \"<b>Topic 27</b><br>Words: pictune, music, visual, spatial, images\", \"<b>Topic 27</b><br>Words: pictures, photo, images, contextual, photos\", \"<b>Topic 27</b><br>Words: reconstruction, crossview, clickthroughbased, nodes, perspective\", \"<b>Topic 27</b><br>Words: largescale, interactive, neural, spatial, images\", \"<b>Topic 27</b><br>Words: image, aesthetics, attentionbased, visual, photos\", \"<b>Topic 27</b><br>Words: elasticsearch, spatial, images, multiclass, precisionoriented\", \"<b>Topic 27</b><br>Words: contextaware, image, visual, photo, photos\"], \"marker\": {\"color\": \"#009E73\"}, \"mode\": \"lines\", \"name\": \"27_image_visual_photo_photos\", \"type\": \"scatter\", \"x\": [1987, 1989, 1991, 1996, 1997, 1998, 1999, 2001, 2003, 2005, 2007, 2008, 2009, 2010, 2011, 2012, 2013, 2014, 2015, 2017, 2018, 2019], \"y\": [1, 2, 1, 2, 4, 5, 1, 2, 3, 1, 2, 1, 5, 3, 3, 1, 2, 3, 2, 2, 1, 1]}, {\"hoverinfo\": \"text\", \"hovertext\": [\"<b>Topic 45</b><br>Words: similarity, matching, clustering, documentpassage, connected\", \"<b>Topic 45</b><br>Words: querydocument, similarity, matching, finding, clustering\", \"<b>Topic 45</b><br>Words: cobootstrapping, taxonomy, similarity, integration, profiles\", \"<b>Topic 45</b><br>Words: semantically, similarity, finding, matching, documentpassage\", \"<b>Topic 45</b><br>Words: itembased, similarity, fusion, browsing, collaborative\", \"<b>Topic 45</b><br>Words: links, similarity, matching, clustering, findsimilar\", \"<b>Topic 45</b><br>Words: fixedthreshold, bounds, documentpassage, similarity, regularization\", \"<b>Topic 45</b><br>Words: cdpranking, matching, similarity, crossdocument, cross\", \"<b>Topic 45</b><br>Words: similarity, algorithms, clustering, matching, finding\", \"<b>Topic 45</b><br>Words: clustering, collaborative, similarity, matching, finding\", \"<b>Topic 45</b><br>Words: interdocument, similarities, similarity, matching, clustering\", \"<b>Topic 45</b><br>Words: similarity, termdependency, servicexplorer, partitionbased, validation\", \"<b>Topic 45</b><br>Words: multidomain, modularitybased, similarity, sharing, personalization\", \"<b>Topic 45</b><br>Words: resolver, connected, subspace, crossmodal, matching\", \"<b>Topic 45</b><br>Words: similarity, similar, matching, documentpassage, conformity\", \"<b>Topic 45</b><br>Words: matching, similarity, similar, fixedthreshold, documentpassage\"], \"marker\": {\"color\": \"#F0E442\"}, \"mode\": \"lines\", \"name\": \"45_similarity_matching_clustering_connec...\", \"type\": \"scatter\", \"x\": [1987, 1996, 2004, 2005, 2006, 2007, 2008, 2009, 2010, 2011, 2012, 2014, 2015, 2016, 2017, 2019], \"y\": [1, 1, 3, 2, 2, 2, 3, 4, 2, 2, 1, 4, 2, 2, 1, 1]}, {\"hoverinfo\": \"text\", \"hovertext\": [\"<b>Topic 78</b><br>Words: incrementally, page, engines, clickthrough, web\", \"<b>Topic 78</b><br>Words: multiterm, page, clickthrough, web, click\", \"<b>Topic 78</b><br>Words: routing, classifiers, page, clickthrough, web\", \"<b>Topic 78</b><br>Words: cafe, indexed, server, databases, page\", \"<b>Topic 78</b><br>Words: directory, internet, interactive, web, page\", \"<b>Topic 78</b><br>Words: repositories, organizing, applications, searching, web\", \"<b>Topic 78</b><br>Words: wt10g, acoustic, database, hierarchical, music\", \"<b>Topic 78</b><br>Words: searches, searchers, hierarchical, web, page\", \"<b>Topic 78</b><br>Words: uksearch, geotagging, blockbased, webawhere, log\", \"<b>Topic 78</b><br>Words: affinity, publishsubscribe, overlay, webpage, phraselevel\", \"<b>Topic 78</b><br>Words: webgraph, transactional, page, sites, pages\", \"<b>Topic 78</b><br>Words: tails, caption, page, layout, clickthrough\", \"<b>Topic 78</b><br>Words: engines, spotsigs, neighboring, bloggers, sitebased\", \"<b>Topic 78</b><br>Words: urls, clickthrough, annotation, page, web\", \"<b>Topic 78</b><br>Words: click, trailfinding, advertisability, clicked, postclick\", \"<b>Topic 78</b><br>Words: expert, temporalimplicit, energypricedriven, clickthroughs, multitasking\", \"<b>Topic 78</b><br>Words: quilted, intranets, tilebased, replication, useraware\", \"<b>Topic 78</b><br>Words: wordpairs, browserank, page, clickthrough, web\", \"<b>Topic 78</b><br>Words: contextaware, parallelization, taming, cache, uncovering\", \"<b>Topic 78</b><br>Words: dumpling, rewriting, distributional, click, incorporating\", \"<b>Topic 78</b><br>Words: longitudinal, ads, log, advertising, domain\", \"<b>Topic 78</b><br>Words: deduping, mailboxbased, sequencetosequence, recencyaware, urls\", \"<b>Topic 78</b><br>Words: sequence, click, web, page, clickthrough\", \"<b>Topic 78</b><br>Words: clickthrough, graph, online, web, click\"], \"marker\": {\"color\": \"#D55E00\"}, \"mode\": \"lines\", \"name\": \"78_page_clickthrough_web_click\", \"type\": \"scatter\", \"x\": [1987, 1993, 1995, 1998, 2000, 2001, 2002, 2003, 2004, 2005, 2006, 2007, 2008, 2009, 2010, 2011, 2012, 2013, 2014, 2015, 2016, 2017, 2018, 2019], \"y\": [1, 1, 1, 2, 3, 3, 4, 2, 7, 8, 8, 6, 6, 3, 12, 13, 13, 3, 10, 4, 3, 5, 1, 2]}, {\"hoverinfo\": \"text\", \"hovertext\": [\"<b>Topic 48</b><br>Words: timebased, timeaware, timecritical, timedtextrank, eventinterval\", \"<b>Topic 48</b><br>Words: temporal, timebased, timeaware, ctrec, timelimits\", \"<b>Topic 48</b><br>Words: temporal, timebased, timeaware, timedtextrank, eventinterval\", \"<b>Topic 48</b><br>Words: precision, timebased, timeaware, recontextualization, multirate\", \"<b>Topic 48</b><br>Words: temporal, clustering, timebased, timeaware, essence\", \"<b>Topic 48</b><br>Words: timedtextrank, multidocument, timebased, timeaware, timelimits\", \"<b>Topic 48</b><br>Words: timebased, timeaware, summaries, ctrec, timecritical\", \"<b>Topic 48</b><br>Words: timebased, timeaware, ctrec, timelimits, multirate\", \"<b>Topic 48</b><br>Words: timebased, timeseries, predictors, timeaware, detecting\", \"<b>Topic 48</b><br>Words: replicas, timebased, calibration, scheduling, timeaware\", \"<b>Topic 48</b><br>Words: eventdriven, multifaceted, timeaware, timebased, eventinterval\", \"<b>Topic 48</b><br>Words: timecritical, recontextualization, timeaware, context, timebased\", \"<b>Topic 48</b><br>Words: eventinterval, sequences, timebased, timeaware, timecritical\", \"<b>Topic 48</b><br>Words: temporal, timequality, multirate, temporally, timebased\", \"<b>Topic 48</b><br>Words: contextual, timebased, timeaware, timelimits, essence\", \"<b>Topic 48</b><br>Words: temporal, neural, networks, timebased, continuoustime\", \"<b>Topic 48</b><br>Words: timelimits, continuoustime, ctrec, longshort, timebased\"], \"marker\": {\"color\": \"#0072B2\"}, \"mode\": \"lines\", \"name\": \"48_temporal_timebased_timeaware_recontex...\", \"type\": \"scatter\", \"x\": [1988, 1999, 2001, 2004, 2006, 2007, 2009, 2010, 2011, 2012, 2013, 2014, 2015, 2016, 2017, 2018, 2019], \"y\": [1, 1, 1, 1, 3, 1, 1, 1, 4, 3, 2, 2, 3, 5, 1, 1, 2]}, {\"hoverinfo\": \"text\", \"hovertext\": [\"<b>Topic 50</b><br>Words: query, simfusion, mismatch, robertsonsprck, querydrift\", \"<b>Topic 50</b><br>Words: extended, expansion, simfusion, interactive, querydrift\", \"<b>Topic 50</b><br>Words: modification, adaptive, query, simfusion, mismatch\", \"<b>Topic 50</b><br>Words: concept, expansion, query, simfusion, querydrift\", \"<b>Topic 50</b><br>Words: query, simfusion, mismatch, pathconstrained, querydrift\", \"<b>Topic 50</b><br>Words: expansion, interactive, query, simfusion, extending\", \"<b>Topic 50</b><br>Words: expansion, query, simfusion, interactive, querydrift\", \"<b>Topic 50</b><br>Words: query, simfusion, mismatch, robertsonsprck, querydrift\", \"<b>Topic 50</b><br>Words: deletion, reexamining, fails, query, mismatch\", \"<b>Topic 50</b><br>Words: expansion, interactive, simfusion, mismatch, querydrift\", \"<b>Topic 50</b><br>Words: recursive, documentindependent, methods, analysis, mismatch\", \"<b>Topic 50</b><br>Words: evaluating, query, simfusion, mismatch, interactive\", \"<b>Topic 50</b><br>Words: robertsonsprck, derivation, querydocument, revisited, approach\", \"<b>Topic 50</b><br>Words: querydrift, query, simfusion, deletion, documentindependent\", \"<b>Topic 50</b><br>Words: simfusion, expansion, mismatch, watson, jeopardy\", \"<b>Topic 50</b><br>Words: pathconstrained, expansion, query, simfusion, mismatch\", \"<b>Topic 50</b><br>Words: innovation, testing, expansion, simfusion, mismatch\", \"<b>Topic 50</b><br>Words: chatbot, irbased, largescale, expansion, simfusion\"], \"marker\": {\"color\": \"#CC79A7\"}, \"mode\": \"lines\", \"name\": \"50_expansion_simfusion_mismatch_interact...\", \"type\": \"scatter\", \"x\": [1988, 1989, 1991, 1993, 1996, 1997, 1998, 2001, 2003, 2004, 2005, 2006, 2007, 2008, 2012, 2013, 2017, 2018], \"y\": [1, 1, 1, 1, 1, 1, 1, 1, 3, 1, 2, 2, 2, 1, 5, 1, 1, 1]}, {\"hoverinfo\": \"text\", \"hovertext\": [\"<b>Topic 28</b><br>Words: videodisk, video, videos, mpeg7, contentbased\", \"<b>Topic 28</b><br>Words: video, videos, mpeg7, contentbased, flickr\", \"<b>Topic 28</b><br>Words: mpeg7, video, videos, contentbased, flickr\", \"<b>Topic 28</b><br>Words: video, cues, videos, mpeg7, contentbased\", \"<b>Topic 28</b><br>Words: video, filters, mpeg7, integrating, contentbased\", \"<b>Topic 28</b><br>Words: audiovisualtext, video, videos, mpeg7, contentbased\", \"<b>Topic 28</b><br>Words: video, contentbased, videos, semantic, mpeg7\", \"<b>Topic 28</b><br>Words: video, transcripts, videos, mpeg7, contentbased\", \"<b>Topic 28</b><br>Words: video, adimage, bagofvisualwords, scheduling, advertising\", \"<b>Topic 28</b><br>Words: video, videos, scripts, keywords, tagging\", \"<b>Topic 28</b><br>Words: video, scripts, advertising, multimodal, contextual\", \"<b>Topic 28</b><br>Words: video, wordsofinterest, flickr, sequence, metadata\", \"<b>Topic 28</b><br>Words: flickr, photos, video, videos, mpeg7\", \"<b>Topic 28</b><br>Words: video, comprehensive, movie, videos, feature\", \"<b>Topic 28</b><br>Words: video, attributeaugmented, videos, mpeg7, visual\", \"<b>Topic 28</b><br>Words: videos, video, mpeg7, contentbased, flickr\", \"<b>Topic 28</b><br>Words: video, netflix, videos, querybased, streaming\"], \"marker\": {\"color\": \"#E69F00\"}, \"mode\": \"lines\", \"name\": \"28_video_videos_mpeg7_contentbased\", \"type\": \"scatter\", \"x\": [1989, 1995, 2002, 2003, 2004, 2005, 2006, 2007, 2008, 2009, 2010, 2011, 2014, 2016, 2017, 2018, 2019], \"y\": [1, 1, 1, 2, 3, 1, 2, 2, 3, 5, 3, 3, 1, 3, 2, 1, 3]}, {\"hoverinfo\": \"text\", \"hovertext\": [\"<b>Topic 52</b><br>Words: dictionary, translation, crosslanguage, dictionarybased, bilingual\", \"<b>Topic 52</b><br>Words: encyclopedia, linguistic, translation, crosslanguage, dictionary\", \"<b>Topic 52</b><br>Words: dictionarybased, dictionary, languages, querying, translation\", \"<b>Topic 52</b><br>Words: monolingual, translation, crosslanguage, dictionary, dictionarybased\", \"<b>Topic 52</b><br>Words: crosslanguage, dictionarybased, dictionary, translation, bilingual\", \"<b>Topic 52</b><br>Words: englishjapanese, translation, crosslanguage, dictionary, dictionarybased\", \"<b>Topic 52</b><br>Words: translation, crosslanguage, dictionary, dictionarybased, bilingual\", \"<b>Topic 52</b><br>Words: translation, mining, extraction, language, crosslanguage\", \"<b>Topic 52</b><br>Words: translation, crosslanguage, translingual, chineseenglish, mappings\", \"<b>Topic 52</b><br>Words: crosslanguage, translation, bilingual, spelling, transliteration\", \"<b>Topic 52</b><br>Words: crosslanguage, translating, translation, dictionary, dictionarybased\", \"<b>Topic 52</b><br>Words: crosslanguage, translation, lingual, dictionarybased, dictionaries\", \"<b>Topic 52</b><br>Words: synonymy, turkish, translation, crosslanguage, dictionary\", \"<b>Topic 52</b><br>Words: translation, crosslanguage, dictionary, dictionarybased, bilingual\", \"<b>Topic 52</b><br>Words: translate, translation, crosslanguage, dictionary, dictionarybased\", \"<b>Topic 52</b><br>Words: monolingual, translation, crosslanguage, dictionary, dictionarybased\", \"<b>Topic 52</b><br>Words: translation, crosslanguage, dictionary, dictionarybased, monolingual\", \"<b>Topic 52</b><br>Words: phrasebased, translation, crosslanguage, dictionary, dictionarybased\", \"<b>Topic 52</b><br>Words: crossmedia, dictionary, hashing, translation, crosslanguage\", \"<b>Topic 52</b><br>Words: bilingual, monolingual, translation, crosslingual, crosslanguage\", \"<b>Topic 52</b><br>Words: encoderdecoder, translation, keyword, crosslanguage, dictionary\"], \"marker\": {\"color\": \"#56B4E9\"}, \"mode\": \"lines\", \"name\": \"52_translation_crosslanguage_dictionary_...\", \"type\": \"scatter\", \"x\": [1989, 1993, 1996, 1997, 1998, 1999, 2000, 2001, 2002, 2003, 2004, 2005, 2006, 2008, 2010, 2011, 2012, 2013, 2014, 2015, 2017], \"y\": [1, 1, 2, 1, 2, 1, 1, 2, 6, 3, 2, 4, 2, 1, 1, 1, 1, 1, 1, 2, 1]}, {\"hoverinfo\": \"text\", \"hovertext\": [\"<b>Topic 71</b><br>Words: speech, spoken, speechonly, transcripts, phonetic\", \"<b>Topic 71</b><br>Words: speech, spoken, conversational, speechonly, transcripts\", \"<b>Topic 71</b><br>Words: openvocabulary, speech, speechonly, transcripts, phonetic\", \"<b>Topic 71</b><br>Words: speech, archives, spoken, conversational, speechonly\", \"<b>Topic 71</b><br>Words: phonetic, spoken, speech, conversational, speechonly\", \"<b>Topic 71</b><br>Words: transcripts, spoken, speech, contentbased, speechonly\", \"<b>Topic 71</b><br>Words: spoken, speech, conversational, speechonly, transcripts\", \"<b>Topic 71</b><br>Words: spontaneous, speech, conversational, spoken, speechonly\", \"<b>Topic 71</b><br>Words: callcenter, spoken, speech, conversations, conversational\", \"<b>Topic 71</b><br>Words: spoken, speech, morphbased, speeches, czech\", \"<b>Topic 71</b><br>Words: vocabularyindependent, pronunciations, spoken, utterance, speech\", \"<b>Topic 71</b><br>Words: justintime, spoken, speechbased, multimedia, speech\", \"<b>Topic 71</b><br>Words: spoken, speech, transcribed, ldasmoothed, audiovisual\", \"<b>Topic 71</b><br>Words: partsofspeech, spoken, speech, conversational, speechonly\", \"<b>Topic 71</b><br>Words: speechonly, communication, spoken, conversational, speech\", \"<b>Topic 71</b><br>Words: voice, spoken, contextualisation, transcripts, searchbased\"], \"marker\": {\"color\": \"#009E73\"}, \"mode\": \"lines\", \"name\": \"71_spoken_speech_conversational_speechon...\", \"type\": \"scatter\", \"x\": [1992, 1997, 1998, 1999, 2000, 2001, 2002, 2004, 2006, 2007, 2009, 2010, 2013, 2014, 2015, 2016], \"y\": [1, 1, 2, 2, 1, 2, 1, 1, 2, 4, 2, 2, 4, 3, 2, 3]}, {\"hoverinfo\": \"text\", \"hovertext\": [\"<b>Topic 80</b><br>Words: tipster, evaluation, query, clicks, users\", \"<b>Topic 80</b><br>Words: commercial, user, clicks, users, online\", \"<b>Topic 80</b><br>Words: user, clicks, users, commercial, online\", \"<b>Topic 80</b><br>Words: automated, detecting, feedback, queries, user\", \"<b>Topic 80</b><br>Words: satisfaction, user, clicks, users, commercial\", \"<b>Topic 80</b><br>Words: query, user, clicks, users, commercial\", \"<b>Topic 80</b><br>Words: clickthrough, browsing, context, users, commercial\", \"<b>Topic 80</b><br>Words: query, user, clicks, users, commercial\", \"<b>Topic 80</b><br>Words: user, web, clicks, users, query\", \"<b>Topic 80</b><br>Words: tips, competitionbased, communitybased, answers, users\", \"<b>Topic 80</b><br>Words: coffee, clicks, commercial, exploration, judgments\", \"<b>Topic 80</b><br>Words: receptiveness, scores, users, satisfaction, user\", \"<b>Topic 80</b><br>Words: clicklevel, client, server, microblog, users\", \"<b>Topic 80</b><br>Words: signaware, online, evaluation, clicks, users\", \"<b>Topic 80</b><br>Words: trend, predicting, feedback, factorization, context\", \"<b>Topic 80</b><br>Words: predicting, usefulness, judgment, satisfaction, behaviors\", \"<b>Topic 80</b><br>Words: readability, multiphase, clicks, assessing, reading\", \"<b>Topic 80</b><br>Words: repeatability, interpretability, clicks, users, commercial\"], \"marker\": {\"color\": \"#F0E442\"}, \"mode\": \"lines\", \"name\": \"80_satisfaction_user_clicks_users\", \"type\": \"scatter\", \"x\": [1993, 1997, 2002, 2005, 2006, 2007, 2008, 2009, 2010, 2011, 2012, 2013, 2014, 2015, 2016, 2017, 2018, 2019], \"y\": [1, 1, 1, 2, 1, 1, 2, 1, 2, 4, 4, 2, 4, 2, 4, 3, 4, 2]}, {\"hoverinfo\": \"text\", \"hovertext\": [\"<b>Topic 58</b><br>Words: feedback, relevance, affective, emotional, emotions\", \"<b>Topic 58</b><br>Words: coupling, neighborhood, classifier, topical, analysis\", \"<b>Topic 58</b><br>Words: affective, emotions, heterogeneity, sentiment, emotional\", \"<b>Topic 58</b><br>Words: peripheral, affective, facial, emotion, sentiment\", \"<b>Topic 58</b><br>Words: sentimentrelevance, affective, personalised, sentiment, relevance\", \"<b>Topic 58</b><br>Words: syntax, semantics, context, affective, emotions\", \"<b>Topic 58</b><br>Words: diverging, topically, topical, external, context\", \"<b>Topic 58</b><br>Words: affective, sentiment, emotional, emotions, emotion\", \"<b>Topic 58</b><br>Words: parametric, useraware, contrastive, sentiment, affective\", \"<b>Topic 58</b><br>Words: crossdocument, entities, summarization, affective, emotions\", \"<b>Topic 58</b><br>Words: frustrated, triggers, spikes, emotional, sentiment\", \"<b>Topic 58</b><br>Words: sentiment, convolutionbased, sentimentaware, aspectbased, affective\", \"<b>Topic 58</b><br>Words: topical, entityneighbortext, encoding, proximityweighted, aspectlevel\"], \"marker\": {\"color\": \"#D55E00\"}, \"mode\": \"lines\", \"name\": \"58_affective_sentiment_emotional_emotion...\", \"type\": \"scatter\", \"x\": [1995, 2006, 2008, 2009, 2010, 2012, 2013, 2014, 2015, 2016, 2017, 2018, 2019], \"y\": [1, 1, 3, 2, 2, 1, 2, 1, 2, 1, 2, 2, 4]}, {\"hoverinfo\": \"text\", \"hovertext\": [\"<b>Topic 23</b><br>Words: users, filtering, collaborative, bandits, coding\", \"<b>Topic 23</b><br>Words: filtering, collaborative, bandits, coding, volunteerism\", \"<b>Topic 23</b><br>Words: algorithmic, collaborative, filtering, algorithm, bandits\", \"<b>Topic 23</b><br>Words: swami, algorithm, collaborative, filtering, coding\", \"<b>Topic 23</b><br>Words: algorithms, collaborative, filtering, bandits, coding\", \"<b>Topic 23</b><br>Words: collaborative, filtering, algorithms, bandits, coding\", \"<b>Topic 23</b><br>Words: pdafriendly, light, collaborative, filtering, semantic\", \"<b>Topic 23</b><br>Words: collaborative, filtering, sharing, federated, discrete\", \"<b>Topic 23</b><br>Words: collaborative, filtering, selforganizing, smoothing, clusterbased\", \"<b>Topic 23</b><br>Words: damping, linkbased, algorithms, collaborative, filtering\", \"<b>Topic 23</b><br>Words: village, collaborative, filtering, community, bandits\", \"<b>Topic 23</b><br>Words: collaborative, filtering, mediation, poor, distancebased\", \"<b>Topic 23</b><br>Words: collaborative, wisdom, filtering, entropybiased, sushi\", \"<b>Topic 23</b><br>Words: honeypots, spammers, filtering, collaborative, learning\", \"<b>Topic 23</b><br>Words: collaborative, filtering, heterogeneous, cyberporn, ratingbased\", \"<b>Topic 23</b><br>Words: synchronous, collaborative, filtering, bandits, coding\", \"<b>Topic 23</b><br>Words: collaborative, matrices, filtering, lda, labeling\", \"<b>Topic 23</b><br>Words: collaborative, filtering, peers, bitvectors, selfconsistent\", \"<b>Topic 23</b><br>Words: filtering, collaborative, cricket, commentaries, cricketlinking\", \"<b>Topic 23</b><br>Words: collaborative, filtering, cyberreading, bandits, communitybased\", \"<b>Topic 23</b><br>Words: collaborative, filtering, steam, memorybased, repository\", \"<b>Topic 23</b><br>Words: externalityaware, lessonware, reviewers, student, collaborative\", \"<b>Topic 23</b><br>Words: collaborative, filtering, adaptively, coarsetofine, coding\"], \"marker\": {\"color\": \"#0072B2\"}, \"mode\": \"lines\", \"name\": \"23_collaborative_filtering_bandits_codin...\", \"type\": \"scatter\", \"x\": [1997, 1998, 1999, 2000, 2001, 2002, 2003, 2004, 2005, 2006, 2007, 2008, 2009, 2010, 2011, 2012, 2013, 2014, 2015, 2016, 2017, 2018, 2019], \"y\": [1, 1, 2, 1, 1, 2, 2, 7, 3, 1, 2, 7, 7, 2, 9, 3, 3, 6, 7, 6, 6, 5, 9]}, {\"hoverinfo\": \"text\", \"hovertext\": [\"<b>Topic 1</b><br>Words: music, contentbased, crystal, audio, polyphonic\", \"<b>Topic 1</b><br>Words: music, audio, contentbased, polyphonic, similarity\", \"<b>Topic 1</b><br>Words: polyphonic, music, audio, song, contentbased\", \"<b>Topic 1</b><br>Words: music, contentbased, melody, spectral, feedback\", \"<b>Topic 1</b><br>Words: music, mood, contentbased, detecting, audio\", \"<b>Topic 1</b><br>Words: audio, music, song, contentbased, polyphonic\", \"<b>Topic 1</b><br>Words: music, musictoknowledge, prototyping, audio, song\", \"<b>Topic 1</b><br>Words: music, singer, identification, automated, databases\", \"<b>Topic 1</b><br>Words: music, querybysemanticdescription, audiobased, cal500, musical\", \"<b>Topic 1</b><br>Words: visualization, music, audio, song, contentbased\", \"<b>Topic 1</b><br>Words: compositemap, chord, polyphonic, audio, combining\", \"<b>Topic 1</b><br>Words: music, mp3, audio, tagging, identification\", \"<b>Topic 1</b><br>Words: music, ensemble, multilabel, enhancing, techniques\", \"<b>Topic 1</b><br>Words: karaoke, songs, confidencebased, music, song\", \"<b>Topic 1</b><br>Words: music, competencebased, mood, similarity, audio\", \"<b>Topic 1</b><br>Words: music, locationaware, microblogs, personalization, context\", \"<b>Topic 1</b><br>Words: music, venueaware, venuemusic, tutorial, novelty\", \"<b>Topic 1</b><br>Words: gnmid14, tuba, 110, audio, expressiveness\", \"<b>Topic 1</b><br>Words: music, spotify, userspecific, transcription, recognition\", \"<b>Topic 1</b><br>Words: music, cheap, cheers, intentaware, satisfaction\", \"<b>Topic 1</b><br>Words: lyrics, decoding, song, bias, music\"], \"marker\": {\"color\": \"#CC79A7\"}, \"mode\": \"lines\", \"name\": \"1_music_audio_song_contentbased\", \"type\": \"scatter\", \"x\": [1999, 2000, 2001, 2002, 2003, 2004, 2005, 2006, 2007, 2008, 2009, 2010, 2011, 2012, 2013, 2014, 2015, 2016, 2017, 2018, 2019], \"y\": [3, 1, 1, 3, 3, 1, 2, 2, 3, 1, 4, 2, 2, 2, 3, 2, 3, 3, 3, 3, 1]}, {\"hoverinfo\": \"text\", \"hovertext\": [\"<b>Topic 79</b><br>Words: database, distributed, searching, selection, behavior\", \"<b>Topic 79</b><br>Words: searching, behavior, effects, behavioral, latency\", \"<b>Topic 79</b><br>Words: wild, effects, latency, behavioral, foraging\", \"<b>Topic 79</b><br>Words: paradox, engine, effects, behavioral, latency\", \"<b>Topic 79</b><br>Words: behavioral, bad, detect, eyetracking, signals\", \"<b>Topic 79</b><br>Words: fails, searchers, behavioral, latency, struggling\", \"<b>Topic 79</b><br>Words: affects, behavior, effects, behavioral, latency\", \"<b>Topic 79</b><br>Words: behavior, changing, multiclick, changes, characterizing\", \"<b>Topic 79</b><br>Words: latency, behaviour, caching, users, behavior\", \"<b>Topic 79</b><br>Words: heterogeneities, rethinking, behavioral, behavior, uncovering\", \"<b>Topic 79</b><br>Words: foraging, volatility, manipulating, effects, commercial\", \"<b>Topic 79</b><br>Words: moods, struggling, controlling, risk, behavior\"], \"marker\": {\"color\": \"#E69F00\"}, \"mode\": \"lines\", \"name\": \"79_behavior_wild_behavioral_latency\", \"type\": \"scatter\", \"x\": [2000, 2006, 2007, 2009, 2010, 2012, 2013, 2014, 2015, 2016, 2018, 2019], \"y\": [1, 1, 1, 1, 2, 1, 1, 6, 2, 3, 3, 2]}, {\"hoverinfo\": \"text\", \"hovertext\": [\"<b>Topic 0</b><br>Words: xml, xirql, xmlretrieval, overlap, querying\", \"<b>Topic 0</b><br>Words: hyrex, xml, xmlretrieval, overlap, proximityaware\", \"<b>Topic 0</b><br>Words: xml, timber, querying, searching, xmlretrieval\", \"<b>Topic 0</b><br>Words: xml, contentoriented, overlap, multiple, indexing\", \"<b>Topic 0</b><br>Words: contentoriented, xml, overlap, xmlretrieval, bm25fbased\", \"<b>Topic 0</b><br>Words: xml, xmlretrieval, tijah, highprecision, hints\", \"<b>Topic 0</b><br>Words: xml, multiquery, compressed, textual, xmlretrieval\", \"<b>Topic 0</b><br>Words: xml, xmlaided, proximityaware, peertopeer, querying\", \"<b>Topic 0</b><br>Words: bm25fbased, xml, framework, xmlretrieval, overlap\", \"<b>Topic 0</b><br>Words: xml, flexbasex, xquery, xmlretrieval, contentoriented\", \"<b>Topic 0</b><br>Words: xml, elementaware, ambiguity, xmlretrieval, overlap\"], \"marker\": {\"color\": \"#56B4E9\"}, \"mode\": \"lines\", \"name\": \"0_xml_xmlretrieval_overlap_xirql\", \"type\": \"scatter\", \"x\": [2001, 2002, 2003, 2004, 2005, 2006, 2007, 2008, 2010, 2013, 2017], \"y\": [2, 1, 3, 4, 1, 8, 2, 6, 1, 2, 1]}, {\"hoverinfo\": \"text\", \"hovertext\": [\"<b>Topic 30</b><br>Words: metascoring, unsupervised, precisionrecall, clustering, zeroshot\", \"<b>Topic 30</b><br>Words: liberal, maximization, zeroshot, nonparametric, bayesian\", \"<b>Topic 30</b><br>Words: nonparametric, unsupervised, filtering, zeroshot, fewlabeled\", \"<b>Topic 30</b><br>Words: hyperlinks, pagerank, zeroshot, nonparametric, threeway\", \"<b>Topic 30</b><br>Words: hyperlinks, without, clusterbased, zeroshot, nonparametric\", \"<b>Topic 30</b><br>Words: unsupervised, authortopic, learnbased, threeway, paratucker\", \"<b>Topic 30</b><br>Words: smoothing, zeroshot, nonparametric, threeway, queryfocused\", \"<b>Topic 30</b><br>Words: alias, linear, hyperlinks, zeroshot, nonparametric\", \"<b>Topic 30</b><br>Words: unsupervised, without, zeroshot, nonparametric, authortopic\", \"<b>Topic 30</b><br>Words: fewlabeled, authorship, attribution, without, nonparametric\", \"<b>Topic 30</b><br>Words: zeroshot, tagging, semantic, nonparametric, paratucker\", \"<b>Topic 30</b><br>Words: shopping, grammars, hyperlinks, nonparametric, bayesian\", \"<b>Topic 30</b><br>Words: queryfocused, unsupervised, nonparametric, bayesian, multidocument\", \"<b>Topic 30</b><br>Words: unsupervised, wikipassageqa, without, nonfactoid, monolingual\", \"<b>Topic 30</b><br>Words: unsupervised, resourcelean, zeroshot, aspectbased, generative\"], \"marker\": {\"color\": \"#009E73\"}, \"mode\": \"lines\", \"name\": \"30_hyperlinks_nonparametric_queryfocused...\", \"type\": \"scatter\", \"x\": [2001, 2002, 2004, 2005, 2006, 2008, 2010, 2012, 2013, 2014, 2015, 2016, 2017, 2018, 2019], \"y\": [2, 2, 2, 1, 1, 3, 1, 2, 1, 1, 1, 1, 2, 3, 4]}, {\"hoverinfo\": \"text\", \"hovertext\": [\"<b>Topic 68</b><br>Words: pseudorelevance, optimization, feedback, constraints, relevance\", \"<b>Topic 68</b><br>Words: ineffectiveness, twostage, pseudorelevance, negative, adaptivity\", \"<b>Topic 68</b><br>Words: blind, feedback, pseudorelevance, relevance, inconsistency\", \"<b>Topic 68</b><br>Words: pseudorelevance, feedback, inconsistency, downside, quantative\", \"<b>Topic 68</b><br>Words: pseudorelevance, pseudo, feedback, uncertainty, incomplete\", \"<b>Topic 68</b><br>Words: pseudorelevance, intuitionsupporting, opinionfinding, feedback, visualization\", \"<b>Topic 68</b><br>Words: pseudorelevance, instability, feedback, relevance, negative\", \"<b>Topic 68</b><br>Words: pseudorelevance, temporality, feedback, boosting, relevance\", \"<b>Topic 68</b><br>Words: pseudo, feedback, pseudorelevance, relevance, lowdimensional\", \"<b>Topic 68</b><br>Words: pseudorelevance, evaluation, negative, relevance, lowdimensional\", \"<b>Topic 68</b><br>Words: pseudorelevance, negative, relevance, lowdimensional, inconsistency\", \"<b>Topic 68</b><br>Words: pseudorelevance, contradiction, bad, low, pseudo\", \"<b>Topic 68</b><br>Words: hate, pseudorelevance, feedback, blind, negative\"], \"marker\": {\"color\": \"#F0E442\"}, \"mode\": \"lines\", \"name\": \"68_pseudorelevance_feedback_negative_rel...\", \"type\": \"scatter\", \"x\": [2001, 2004, 2005, 2006, 2007, 2008, 2010, 2011, 2014, 2015, 2017, 2018, 2019], \"y\": [1, 3, 1, 4, 3, 4, 2, 2, 1, 1, 1, 3, 1]}, {\"hoverinfo\": \"text\", \"hovertext\": [\"<b>Topic 18</b><br>Words: workshop, evaluation, tutorial, bibliometricenhanced, ecommerce\", \"<b>Topic 18</b><br>Words: workshop, 2013, taia2013, eurohcir2013, humancomputer\", \"<b>Topic 18</b><br>Words: 2014, workshop, erd14, taia2014, spatiallyaware\", \"<b>Topic 18</b><br>Words: 2015, workshop, tutorial, spatiallyaware, neuroir\", \"<b>Topic 18</b><br>Words: 2016, tutorial, bibliometricenhanced, birndl, gamification\", \"<b>Topic 18</b><br>Words: 2017, tutorial, clinicians, sogout16, ecom17\", \"<b>Topic 18</b><br>Words: tutorial, ecommerce, bibliometricenhanced, clinicians, cair18\", \"<b>Topic 18</b><br>Words: workshop, tutorial, bibliometricenhanced, birndl, osirrc\"], \"marker\": {\"color\": \"#D55E00\"}, \"mode\": \"lines\", \"name\": \"18_workshop_tutorial_birndl_halfday\", \"type\": \"scatter\", \"x\": [2002, 2013, 2014, 2015, 2016, 2017, 2018, 2019], \"y\": [1, 3, 3, 7, 7, 7, 11, 7]}, {\"hoverinfo\": \"text\", \"hovertext\": [\"<b>Topic 63</b><br>Words: catalogs, advertising, sales, purchase, grocery\", \"<b>Topic 63</b><br>Words: ebusiness, advertising, revenue, sales, purchase\", \"<b>Topic 63</b><br>Words: contenttargeted, advertising, sales, purchase, inventory\", \"<b>Topic 63</b><br>Words: sales, sentimentaware, advertising, contextual, semantic\", \"<b>Topic 63</b><br>Words: grocery, stores, advertising, sales, purchase\", \"<b>Topic 63</b><br>Words: ecommerce, crowdsourcingbased, revenue, advertisement, termbased\", \"<b>Topic 63</b><br>Words: sales, purchase, clickthrough, ecommerce, advertising\", \"<b>Topic 63</b><br>Words: ecommerce, utility, advertising, sales, purchase\", \"<b>Topic 63</b><br>Words: purchase, ecommerce, advertising, sales, contenttargeted\", \"<b>Topic 63</b><br>Words: ecommerce, productseeker, entitybased, advertising, sales\", \"<b>Topic 63</b><br>Words: ecommerce, winwin, dualagent, linking, advertising\", \"<b>Topic 63</b><br>Words: bloomberg, advertising, collective, matrix, factorization\", \"<b>Topic 63</b><br>Words: marketplace, online, ecommerce, advertising, sales\", \"<b>Topic 63</b><br>Words: ecommerce, ebays, innovations, inventory, startup\", \"<b>Topic 63</b><br>Words: ecommerce, revenue, purchases, retail, marketing\", \"<b>Topic 63</b><br>Words: ecommerce, aliisa, shop, crossplatform, multiview\"], \"marker\": {\"color\": \"#0072B2\"}, \"mode\": \"lines\", \"name\": \"63_advertising_sales_purchase_grocery\", \"type\": \"scatter\", \"x\": [2002, 2003, 2005, 2007, 2008, 2009, 2010, 2011, 2012, 2013, 2014, 2015, 2016, 2017, 2018, 2019], \"y\": [1, 1, 1, 2, 2, 5, 2, 1, 1, 3, 3, 2, 1, 3, 4, 6]}, {\"hoverinfo\": \"text\", \"hovertext\": [\"<b>Topic 8</b><br>Words: queryrelated, hidden, extraction, privacy, protection\", \"<b>Topic 8</b><br>Words: privacy, risks, protection, privacyaware, privacypreserving\", \"<b>Topic 8</b><br>Words: privacy, topology, neighbors, spam, protection\", \"<b>Topic 8</b><br>Words: protection, privacy, privacyaware, privacypreserving, security\", \"<b>Topic 8</b><br>Words: privacyaware, privacy, protection, privacypreserving, personalized\", \"<b>Topic 8</b><br>Words: security, privacy, privacypreserving, protection, privacyaware\", \"<b>Topic 8</b><br>Words: privacy, privacypreserving, ircentric, anonymizing, rsusceptibility\", \"<b>Topic 8</b><br>Words: privacy, protection, surveillance, solidarity, userutilitypreserving\", \"<b>Topic 8</b><br>Words: privacy, protection, privacyaware, search18, guardians\", \"<b>Topic 8</b><br>Words: privacy, privacyaware, searchers, neural, protection\"], \"marker\": {\"color\": \"#CC79A7\"}, \"mode\": \"lines\", \"name\": \"8_privacy_protection_privacyaware_privac...\", \"type\": \"scatter\", \"x\": [2004, 2006, 2007, 2011, 2012, 2014, 2016, 2017, 2018, 2019], \"y\": [1, 1, 2, 1, 1, 1, 5, 4, 7, 2]}, {\"hoverinfo\": \"text\", \"hovertext\": [\"<b>Topic 65</b><br>Words: tuning, feedback, combining, learning, learningtorank\", \"<b>Topic 65</b><br>Words: taxonomy, hierarchical, evaluating, learning, evaluation\", \"<b>Topic 65</b><br>Words: chronological, enhancing, learning, relevance, learningtorank\", \"<b>Topic 65</b><br>Words: softrank, partiallylabeled, querytime, learning, boosting\", \"<b>Topic 65</b><br>Words: convergence, outperforms, reciprocal, learningtorank, methodologies\", \"<b>Topic 65</b><br>Words: training, rulegenerated, reformulations, learned, learning\", \"<b>Topic 65</b><br>Words: learningtorank, teacher, querylevel, learning, multiobjective\", \"<b>Topic 65</b><br>Words: reciprocal, rankers, labeling, optimizing, learning\", \"<b>Topic 65</b><br>Words: scheme, learning, learningtorank, gradient, reciprocal\", \"<b>Topic 65</b><br>Words: temporaldependent, learningtorank, queryspecific, algorithm, learning\", \"<b>Topic 65</b><br>Words: rankbased, informative, lessons, learning, functions\", \"<b>Topic 65</b><br>Words: rank, rankers, labels, risksensitive, collecting\", \"<b>Topic 65</b><br>Words: dropout, xdart, learningtorank, learning, blending\", \"<b>Topic 65</b><br>Words: gradient, propensity, listwise, selective, boosting\", \"<b>Topic 65</b><br>Words: prevalence, learningtorank, gradient, boosting, class\"], \"marker\": {\"color\": \"#E69F00\"}, \"mode\": \"lines\", \"name\": \"65_learning_learningtorank_gradient_reci...\", \"type\": \"scatter\", \"x\": [2004, 2006, 2007, 2008, 2009, 2010, 2011, 2012, 2013, 2014, 2015, 2016, 2017, 2018, 2019], \"y\": [1, 3, 2, 6, 7, 6, 8, 4, 1, 4, 5, 6, 7, 4, 3]}, {\"hoverinfo\": \"text\", \"hovertext\": [\"<b>Topic 82</b><br>Words: www, twitter, tweets, tweet, microblogging\", \"<b>Topic 82</b><br>Words: snippetindexes, communitybased, personalization, twitter, tweets\", \"<b>Topic 82</b><br>Words: clouds, blogs, twitter, media, tweets\", \"<b>Topic 82</b><br>Words: descriptiveness, promoters, spammers, microblogging, twitter\", \"<b>Topic 82</b><br>Words: demographics, twitter, hashtag, social, microblogging\", \"<b>Topic 82</b><br>Words: crowdtracker, blogcast, crowdlogging, tweets, blogosphere\", \"<b>Topic 82</b><br>Words: twitter, tweets, media, tweetspector, hashtag\", \"<b>Topic 82</b><br>Words: twitter, tweet, tweets, media, tweetmogaz\", \"<b>Topic 82</b><br>Words: twitter, microblogging, popularity, tweets, hashtag\", \"<b>Topic 82</b><br>Words: tweets, twitter, media, singledocument, twitterspecific\", \"<b>Topic 82</b><br>Words: twitter, tweets, media, tweet, facebook\", \"<b>Topic 82</b><br>Words: twitter, tweets, downloadable, viral, followership\", \"<b>Topic 82</b><br>Words: networkoblivious, accounts, twitter, instagram, social\", \"<b>Topic 82</b><br>Words: twitter, tweets, bitcoin, messaging, instagram\"], \"marker\": {\"color\": \"#56B4E9\"}, \"mode\": \"lines\", \"name\": \"82_twitter_tweets_tweet_microblogging\", \"type\": \"scatter\", \"x\": [2004, 2006, 2008, 2009, 2010, 2011, 2012, 2013, 2014, 2015, 2016, 2017, 2018, 2019], \"y\": [1, 2, 3, 4, 7, 6, 13, 10, 14, 9, 16, 14, 6, 9]}, {\"hoverinfo\": \"text\", \"hovertext\": [\"<b>Topic 12</b><br>Words: wapenabled, mobile, hierarchical, text, placesofinterest\", \"<b>Topic 12</b><br>Words: mobile, hierarchical, placesofinterest, smartphone, notifications\", \"<b>Topic 12</b><br>Words: memoria, mobile, interface, smartphone, placesofinterest\", \"<b>Topic 12</b><br>Words: terminals, mobile, clustering, smartphone, placesofinterest\", \"<b>Topic 12</b><br>Words: pc, mobile, smartphone, placesofinterest, app\", \"<b>Topic 12</b><br>Words: mobile, detecting, enhancing, placesofinterest, smartphone\", \"<b>Topic 12</b><br>Words: zeroclick, mobile, evaluation, smartphone, placesofinterest\", \"<b>Topic 12</b><br>Words: mobile, knowing, smartphone, placesofinterest, recognizing\", \"<b>Topic 12</b><br>Words: mobile, camera, smartphone, placesofinterest, app\", \"<b>Topic 12</b><br>Words: app, mobile, accuracy, knowing, placesofinterest\", \"<b>Topic 12</b><br>Words: mobile, notifications, streaming, answer, camera\", \"<b>Topic 12</b><br>Words: heightbiased, mobile, evaluating, smartphone, placesofinterest\", \"<b>Topic 12</b><br>Words: mobile, apps, delivery, update, purchase\"], \"marker\": {\"color\": \"#009E73\"}, \"mode\": \"lines\", \"name\": \"12_mobile_smartphone_placesofinterest_no...\", \"type\": \"scatter\", \"x\": [2005, 2006, 2007, 2008, 2009, 2011, 2012, 2013, 2014, 2015, 2016, 2017, 2018], \"y\": [1, 1, 1, 1, 1, 2, 1, 3, 5, 1, 4, 1, 5]}],                        {\"height\": 450, \"hoverlabel\": {\"bgcolor\": \"white\", \"font\": {\"family\": \"Rockwell\", \"size\": 16}}, \"legend\": {\"title\": {\"text\": \"<b>Global Topic Representation\"}}, \"template\": {\"data\": {\"bar\": [{\"error_x\": {\"color\": \"rgb(36,36,36)\"}, \"error_y\": {\"color\": \"rgb(36,36,36)\"}, \"marker\": {\"line\": {\"color\": \"white\", \"width\": 0.5}}, \"type\": \"bar\"}], \"barpolar\": [{\"marker\": {\"line\": {\"color\": \"white\", \"width\": 0.5}}, \"type\": \"barpolar\"}], \"carpet\": [{\"aaxis\": {\"endlinecolor\": \"rgb(36,36,36)\", \"gridcolor\": \"white\", \"linecolor\": \"white\", \"minorgridcolor\": \"white\", \"startlinecolor\": \"rgb(36,36,36)\"}, \"baxis\": {\"endlinecolor\": \"rgb(36,36,36)\", \"gridcolor\": \"white\", \"linecolor\": \"white\", \"minorgridcolor\": \"white\", \"startlinecolor\": \"rgb(36,36,36)\"}, \"type\": \"carpet\"}], \"choropleth\": [{\"colorbar\": {\"outlinewidth\": 1, \"tickcolor\": \"rgb(36,36,36)\", \"ticks\": \"outside\"}, \"type\": \"choropleth\"}], \"contour\": [{\"colorbar\": {\"outlinewidth\": 1, \"tickcolor\": \"rgb(36,36,36)\", \"ticks\": \"outside\"}, \"colorscale\": [[0.0, \"#440154\"], [0.1111111111111111, \"#482878\"], [0.2222222222222222, \"#3e4989\"], [0.3333333333333333, \"#31688e\"], [0.4444444444444444, \"#26828e\"], [0.5555555555555556, \"#1f9e89\"], [0.6666666666666666, \"#35b779\"], [0.7777777777777778, \"#6ece58\"], [0.8888888888888888, \"#b5de2b\"], [1.0, \"#fde725\"]], \"type\": \"contour\"}], \"contourcarpet\": [{\"colorbar\": {\"outlinewidth\": 1, \"tickcolor\": \"rgb(36,36,36)\", \"ticks\": \"outside\"}, \"type\": \"contourcarpet\"}], \"heatmap\": [{\"colorbar\": {\"outlinewidth\": 1, \"tickcolor\": \"rgb(36,36,36)\", \"ticks\": \"outside\"}, \"colorscale\": [[0.0, \"#440154\"], [0.1111111111111111, \"#482878\"], [0.2222222222222222, \"#3e4989\"], [0.3333333333333333, \"#31688e\"], [0.4444444444444444, \"#26828e\"], [0.5555555555555556, \"#1f9e89\"], [0.6666666666666666, \"#35b779\"], [0.7777777777777778, \"#6ece58\"], [0.8888888888888888, \"#b5de2b\"], [1.0, \"#fde725\"]], \"type\": \"heatmap\"}], \"heatmapgl\": [{\"colorbar\": {\"outlinewidth\": 1, \"tickcolor\": \"rgb(36,36,36)\", \"ticks\": \"outside\"}, \"colorscale\": [[0.0, \"#440154\"], [0.1111111111111111, \"#482878\"], [0.2222222222222222, \"#3e4989\"], [0.3333333333333333, \"#31688e\"], [0.4444444444444444, \"#26828e\"], [0.5555555555555556, \"#1f9e89\"], [0.6666666666666666, \"#35b779\"], [0.7777777777777778, \"#6ece58\"], [0.8888888888888888, \"#b5de2b\"], [1.0, \"#fde725\"]], \"type\": \"heatmapgl\"}], \"histogram\": [{\"marker\": {\"line\": {\"color\": \"white\", \"width\": 0.6}}, \"type\": \"histogram\"}], \"histogram2d\": [{\"colorbar\": {\"outlinewidth\": 1, \"tickcolor\": \"rgb(36,36,36)\", \"ticks\": \"outside\"}, \"colorscale\": [[0.0, \"#440154\"], [0.1111111111111111, \"#482878\"], [0.2222222222222222, \"#3e4989\"], [0.3333333333333333, \"#31688e\"], [0.4444444444444444, \"#26828e\"], [0.5555555555555556, \"#1f9e89\"], [0.6666666666666666, \"#35b779\"], [0.7777777777777778, \"#6ece58\"], [0.8888888888888888, \"#b5de2b\"], [1.0, \"#fde725\"]], \"type\": \"histogram2d\"}], \"histogram2dcontour\": [{\"colorbar\": {\"outlinewidth\": 1, \"tickcolor\": \"rgb(36,36,36)\", \"ticks\": \"outside\"}, \"colorscale\": [[0.0, \"#440154\"], [0.1111111111111111, \"#482878\"], [0.2222222222222222, \"#3e4989\"], [0.3333333333333333, \"#31688e\"], [0.4444444444444444, \"#26828e\"], [0.5555555555555556, \"#1f9e89\"], [0.6666666666666666, \"#35b779\"], [0.7777777777777778, \"#6ece58\"], [0.8888888888888888, \"#b5de2b\"], [1.0, \"#fde725\"]], \"type\": \"histogram2dcontour\"}], \"mesh3d\": [{\"colorbar\": {\"outlinewidth\": 1, \"tickcolor\": \"rgb(36,36,36)\", \"ticks\": \"outside\"}, \"type\": \"mesh3d\"}], \"parcoords\": [{\"line\": {\"colorbar\": {\"outlinewidth\": 1, \"tickcolor\": \"rgb(36,36,36)\", \"ticks\": \"outside\"}}, \"type\": \"parcoords\"}], \"pie\": [{\"automargin\": true, \"type\": \"pie\"}], \"scatter\": [{\"marker\": {\"colorbar\": {\"outlinewidth\": 1, \"tickcolor\": \"rgb(36,36,36)\", \"ticks\": \"outside\"}}, \"type\": \"scatter\"}], \"scatter3d\": [{\"line\": {\"colorbar\": {\"outlinewidth\": 1, \"tickcolor\": \"rgb(36,36,36)\", \"ticks\": \"outside\"}}, \"marker\": {\"colorbar\": {\"outlinewidth\": 1, \"tickcolor\": \"rgb(36,36,36)\", \"ticks\": \"outside\"}}, \"type\": \"scatter3d\"}], \"scattercarpet\": [{\"marker\": {\"colorbar\": {\"outlinewidth\": 1, \"tickcolor\": \"rgb(36,36,36)\", \"ticks\": \"outside\"}}, \"type\": \"scattercarpet\"}], \"scattergeo\": [{\"marker\": {\"colorbar\": {\"outlinewidth\": 1, \"tickcolor\": \"rgb(36,36,36)\", \"ticks\": \"outside\"}}, \"type\": \"scattergeo\"}], \"scattergl\": [{\"marker\": {\"colorbar\": {\"outlinewidth\": 1, \"tickcolor\": \"rgb(36,36,36)\", \"ticks\": \"outside\"}}, \"type\": \"scattergl\"}], \"scattermapbox\": [{\"marker\": {\"colorbar\": {\"outlinewidth\": 1, \"tickcolor\": \"rgb(36,36,36)\", \"ticks\": \"outside\"}}, \"type\": \"scattermapbox\"}], \"scatterpolar\": [{\"marker\": {\"colorbar\": {\"outlinewidth\": 1, \"tickcolor\": \"rgb(36,36,36)\", \"ticks\": \"outside\"}}, \"type\": \"scatterpolar\"}], \"scatterpolargl\": [{\"marker\": {\"colorbar\": {\"outlinewidth\": 1, \"tickcolor\": \"rgb(36,36,36)\", \"ticks\": \"outside\"}}, \"type\": \"scatterpolargl\"}], \"scatterternary\": [{\"marker\": {\"colorbar\": {\"outlinewidth\": 1, \"tickcolor\": \"rgb(36,36,36)\", \"ticks\": \"outside\"}}, \"type\": \"scatterternary\"}], \"surface\": [{\"colorbar\": {\"outlinewidth\": 1, \"tickcolor\": \"rgb(36,36,36)\", \"ticks\": \"outside\"}, \"colorscale\": [[0.0, \"#440154\"], [0.1111111111111111, \"#482878\"], [0.2222222222222222, \"#3e4989\"], [0.3333333333333333, \"#31688e\"], [0.4444444444444444, \"#26828e\"], [0.5555555555555556, \"#1f9e89\"], [0.6666666666666666, \"#35b779\"], [0.7777777777777778, \"#6ece58\"], [0.8888888888888888, \"#b5de2b\"], [1.0, \"#fde725\"]], \"type\": \"surface\"}], \"table\": [{\"cells\": {\"fill\": {\"color\": \"rgb(237,237,237)\"}, \"line\": {\"color\": \"white\"}}, \"header\": {\"fill\": {\"color\": \"rgb(217,217,217)\"}, \"line\": {\"color\": \"white\"}}, \"type\": \"table\"}]}, \"layout\": {\"annotationdefaults\": {\"arrowhead\": 0, \"arrowwidth\": 1}, \"autotypenumbers\": \"strict\", \"coloraxis\": {\"colorbar\": {\"outlinewidth\": 1, \"tickcolor\": \"rgb(36,36,36)\", \"ticks\": \"outside\"}}, \"colorscale\": {\"diverging\": [[0.0, \"rgb(103,0,31)\"], [0.1, \"rgb(178,24,43)\"], [0.2, \"rgb(214,96,77)\"], [0.3, \"rgb(244,165,130)\"], [0.4, \"rgb(253,219,199)\"], [0.5, \"rgb(247,247,247)\"], [0.6, \"rgb(209,229,240)\"], [0.7, \"rgb(146,197,222)\"], [0.8, \"rgb(67,147,195)\"], [0.9, \"rgb(33,102,172)\"], [1.0, \"rgb(5,48,97)\"]], \"sequential\": [[0.0, \"#440154\"], [0.1111111111111111, \"#482878\"], [0.2222222222222222, \"#3e4989\"], [0.3333333333333333, \"#31688e\"], [0.4444444444444444, \"#26828e\"], [0.5555555555555556, \"#1f9e89\"], [0.6666666666666666, \"#35b779\"], [0.7777777777777778, \"#6ece58\"], [0.8888888888888888, \"#b5de2b\"], [1.0, \"#fde725\"]], \"sequentialminus\": [[0.0, \"#440154\"], [0.1111111111111111, \"#482878\"], [0.2222222222222222, \"#3e4989\"], [0.3333333333333333, \"#31688e\"], [0.4444444444444444, \"#26828e\"], [0.5555555555555556, \"#1f9e89\"], [0.6666666666666666, \"#35b779\"], [0.7777777777777778, \"#6ece58\"], [0.8888888888888888, \"#b5de2b\"], [1.0, \"#fde725\"]]}, \"colorway\": [\"#1F77B4\", \"#FF7F0E\", \"#2CA02C\", \"#D62728\", \"#9467BD\", \"#8C564B\", \"#E377C2\", \"#7F7F7F\", \"#BCBD22\", \"#17BECF\"], \"font\": {\"color\": \"rgb(36,36,36)\"}, \"geo\": {\"bgcolor\": \"white\", \"lakecolor\": \"white\", \"landcolor\": \"white\", \"showlakes\": true, \"showland\": true, \"subunitcolor\": \"white\"}, \"hoverlabel\": {\"align\": \"left\"}, \"hovermode\": \"closest\", \"mapbox\": {\"style\": \"light\"}, \"paper_bgcolor\": \"white\", \"plot_bgcolor\": \"white\", \"polar\": {\"angularaxis\": {\"gridcolor\": \"rgb(232,232,232)\", \"linecolor\": \"rgb(36,36,36)\", \"showgrid\": false, \"showline\": true, \"ticks\": \"outside\"}, \"bgcolor\": \"white\", \"radialaxis\": {\"gridcolor\": \"rgb(232,232,232)\", \"linecolor\": \"rgb(36,36,36)\", \"showgrid\": false, \"showline\": true, \"ticks\": \"outside\"}}, \"scene\": {\"xaxis\": {\"backgroundcolor\": \"white\", \"gridcolor\": \"rgb(232,232,232)\", \"gridwidth\": 2, \"linecolor\": \"rgb(36,36,36)\", \"showbackground\": true, \"showgrid\": false, \"showline\": true, \"ticks\": \"outside\", \"zeroline\": false, \"zerolinecolor\": \"rgb(36,36,36)\"}, \"yaxis\": {\"backgroundcolor\": \"white\", \"gridcolor\": \"rgb(232,232,232)\", \"gridwidth\": 2, \"linecolor\": \"rgb(36,36,36)\", \"showbackground\": true, \"showgrid\": false, \"showline\": true, \"ticks\": \"outside\", \"zeroline\": false, \"zerolinecolor\": \"rgb(36,36,36)\"}, \"zaxis\": {\"backgroundcolor\": \"white\", \"gridcolor\": \"rgb(232,232,232)\", \"gridwidth\": 2, \"linecolor\": \"rgb(36,36,36)\", \"showbackground\": true, \"showgrid\": false, \"showline\": true, \"ticks\": \"outside\", \"zeroline\": false, \"zerolinecolor\": \"rgb(36,36,36)\"}}, \"shapedefaults\": {\"fillcolor\": \"black\", \"line\": {\"width\": 0}, \"opacity\": 0.3}, \"ternary\": {\"aaxis\": {\"gridcolor\": \"rgb(232,232,232)\", \"linecolor\": \"rgb(36,36,36)\", \"showgrid\": false, \"showline\": true, \"ticks\": \"outside\"}, \"baxis\": {\"gridcolor\": \"rgb(232,232,232)\", \"linecolor\": \"rgb(36,36,36)\", \"showgrid\": false, \"showline\": true, \"ticks\": \"outside\"}, \"bgcolor\": \"white\", \"caxis\": {\"gridcolor\": \"rgb(232,232,232)\", \"linecolor\": \"rgb(36,36,36)\", \"showgrid\": false, \"showline\": true, \"ticks\": \"outside\"}}, \"title\": {\"x\": 0.05}, \"xaxis\": {\"automargin\": true, \"gridcolor\": \"rgb(232,232,232)\", \"linecolor\": \"rgb(36,36,36)\", \"showgrid\": false, \"showline\": true, \"ticks\": \"outside\", \"title\": {\"standoff\": 15}, \"zeroline\": false, \"zerolinecolor\": \"rgb(36,36,36)\"}, \"yaxis\": {\"automargin\": true, \"gridcolor\": \"rgb(232,232,232)\", \"linecolor\": \"rgb(36,36,36)\", \"showgrid\": false, \"showline\": true, \"ticks\": \"outside\", \"title\": {\"standoff\": 15}, \"zeroline\": false, \"zerolinecolor\": \"rgb(36,36,36)\"}}}, \"title\": {\"font\": {\"color\": \"Black\", \"size\": 22}, \"text\": \"<b>Topics over Time\", \"x\": 0.4, \"xanchor\": \"center\", \"y\": 0.95, \"yanchor\": \"top\"}, \"width\": 1250, \"xaxis\": {\"showgrid\": true}, \"yaxis\": {\"showgrid\": true, \"title\": {\"text\": \"Frequency\"}}},                        {\"responsive\": true}                    ).then(function(){\n",
              "                            \n",
              "var gd = document.getElementById('6a476eea-919e-494d-b645-0dd6d4944d6f');\n",
              "var x = new MutationObserver(function (mutations, observer) {{\n",
              "        var display = window.getComputedStyle(gd).display;\n",
              "        if (!display || display === 'none') {{\n",
              "            console.log([gd, 'removed!']);\n",
              "            Plotly.purge(gd);\n",
              "            observer.disconnect();\n",
              "        }}\n",
              "}});\n",
              "\n",
              "// Listen for the removal of the full notebook cells\n",
              "var notebookContainer = gd.closest('#notebook-container');\n",
              "if (notebookContainer) {{\n",
              "    x.observe(notebookContainer, {childList: true});\n",
              "}}\n",
              "\n",
              "// Listen for the clearing of the current output cell\n",
              "var outputEl = gd.closest('.output');\n",
              "if (outputEl) {{\n",
              "    x.observe(outputEl, {childList: true});\n",
              "}}\n",
              "\n",
              "                        })                };                            </script>        </div>\n",
              "</body>\n",
              "</html>"
            ]
          },
          "metadata": {
            "tags": []
          }
        }
      ]
    },
    {
      "cell_type": "code",
      "metadata": {
        "colab": {
          "base_uri": "https://localhost:8080/"
        },
        "id": "79GNClCRkIdd",
        "outputId": "728a242e-6b62-4a12-bc63-4152fd231afe"
      },
      "source": [
        "new_topics, _ = model.reduce_topics(title, topics, probs, nr_topics=38)\n",
        "model.get_topics()"
      ],
      "execution_count": 104,
      "outputs": [
        {
          "output_type": "stream",
          "text": [
            "2021-03-26 22:33:21,993 - BERTopic - Reduced number of topics from 84 to 39\n"
          ],
          "name": "stderr"
        },
        {
          "output_type": "execute_result",
          "data": {
            "text/plain": [
              "{-1: [('user', 0.00961588763070202),\n",
              "  ('relevance', 0.009456874814319529),\n",
              "  ('web', 0.009144257488844664),\n",
              "  ('query', 0.009014803948129977),\n",
              "  ('queries', 0.008157596276156946),\n",
              "  ('analysis', 0.007826633498076626),\n",
              "  ('learning', 0.007730247257346665),\n",
              "  ('evaluation', 0.0075571548758342575),\n",
              "  ('semantic', 0.007328205912829961),\n",
              "  ('feedback', 0.007160928792648529)],\n",
              " 0: [('xml', 0.43883802047449105),\n",
              "  ('contentoriented', 0.05422973709465946),\n",
              "  ('xmlretrieval', 0.05422973709465946),\n",
              "  ('overlap', 0.046120969555950124),\n",
              "  ('proximityaware', 0.030181891470161346),\n",
              "  ('elementaware', 0.030181891470161346),\n",
              "  ('highprecision', 0.030181891470161346),\n",
              "  ('flexbasex', 0.030181891470161346),\n",
              "  ('hyrex', 0.030181891470161346),\n",
              "  ('bm25fbased', 0.030181891470161346)],\n",
              " 1: [('music', 0.32533468434410145),\n",
              "  ('contentbased', 0.06000104588039918),\n",
              "  ('audio', 0.058282178135512855),\n",
              "  ('song', 0.055889217799703635),\n",
              "  ('polyphonic', 0.032857695934029596),\n",
              "  ('similarity', 0.03141326728306529),\n",
              "  ('recognition', 0.02051139516730549),\n",
              "  ('enhancing', 0.01931491499940088),\n",
              "  ('lyrics', 0.01828715140015138),\n",
              "  ('spotify', 0.01828715140015138)],\n",
              " 2: [('testing', 0.09991232237621672),\n",
              "  ('translation', 0.06610849009649901),\n",
              "  ('theory', 0.06115927181430027),\n",
              "  ('tests', 0.04219975352082886),\n",
              "  ('crosslanguage', 0.03866625075947464),\n",
              "  ('evaluation', 0.038365031348910665),\n",
              "  ('statisticallinguistic', 0.027615819725734674),\n",
              "  ('answerfinding', 0.027615819725734674),\n",
              "  ('intercollection', 0.027615819725734674),\n",
              "  ('comparison', 0.026919837334331863)],\n",
              " 4: [('medical', 0.21561069473399705),\n",
              "  ('clinical', 0.05481694717429629),\n",
              "  ('medicine', 0.05481694717429629),\n",
              "  ('patient', 0.035421735790153286),\n",
              "  ('healthcare', 0.035421735790153286),\n",
              "  ('medicinal', 0.01971418344582793),\n",
              "  ('therapy', 0.01971418344582793),\n",
              "  ('prescription', 0.01971418344582793),\n",
              "  ('seeddriven', 0.01971418344582793),\n",
              "  ('medir14', 0.01971418344582793)],\n",
              " 8: [('privacy', 0.27856780390023056),\n",
              "  ('protection', 0.11953370550051294),\n",
              "  ('privacyaware', 0.07874993371910581),\n",
              "  ('privacypreserving', 0.07479100611655835),\n",
              "  ('web', 0.03829193207463517),\n",
              "  ('solidarity', 0.03128948381769021),\n",
              "  ('rsusceptibility', 0.03128948381769021),\n",
              "  ('guardians', 0.03128948381769021),\n",
              "  ('surveillance', 0.03128948381769021),\n",
              "  ('search18', 0.03128948381769021)],\n",
              " 12: [('mobile', 0.3334855142111953),\n",
              "  ('placesofinterest', 0.05260051752529201),\n",
              "  ('smartphone', 0.05260051752529201),\n",
              "  ('notifications', 0.04912013033123052),\n",
              "  ('recognizing', 0.04912013033123052),\n",
              "  ('app', 0.046650756318768874),\n",
              "  ('wapenabled', 0.029275139365907574),\n",
              "  ('apps', 0.029275139365907574),\n",
              "  ('memoria', 0.029275139365907574),\n",
              "  ('heightbiased', 0.029275139365907574)],\n",
              " 13: [('multimedia', 0.25889385937705467),\n",
              "  ('libraries', 0.07661132195173966),\n",
              "  ('library', 0.04511828390241974),\n",
              "  ('universities', 0.024102853258856766),\n",
              "  ('multidisciplines', 0.024102853258856766),\n",
              "  ('cheshire3', 0.024102853258856766),\n",
              "  ('multiwindow', 0.024102853258856766),\n",
              "  ('logicbased', 0.024102853258856766),\n",
              "  ('collage', 0.024102853258856766),\n",
              "  ('gridbased', 0.024102853258856766)],\n",
              " 15: [('neural', 0.23284761418922387),\n",
              "  ('network', 0.06985428425676717),\n",
              "  ('answer', 0.053105738220240804),\n",
              "  ('networks', 0.03611227478721255),\n",
              "  ('sparse', 0.028426806549277848),\n",
              "  ('supervision', 0.02764819784592787),\n",
              "  ('learning', 0.026199453168120983),\n",
              "  ('adversarial', 0.02438513202706243),\n",
              "  ('answering', 0.023149156288870217),\n",
              "  ('deepshap', 0.01988661070628707)],\n",
              " 18: [('workshop', 0.21786095126027055),\n",
              "  ('tutorial', 0.07133953744522792),\n",
              "  ('halfday', 0.037813844825473716),\n",
              "  ('birndl', 0.037813844825473716),\n",
              "  ('bibliometricenhanced', 0.037813844825473716),\n",
              "  ('ecommerce', 0.032864008977076205),\n",
              "  ('libraries', 0.028653309399571354),\n",
              "  ('spatiallyaware', 0.02699541978720934),\n",
              "  ('clinicians', 0.02699541978720934),\n",
              "  ('consumers', 0.02699541978720934)],\n",
              " 20: [('poster', 0.22300909897882346),\n",
              "  ('seasonal', 0.026249977906368606),\n",
              "  ('new', 0.02581444300022013),\n",
              "  ('project', 0.02072716687735055),\n",
              "  ('visualization', 0.0177828829958258),\n",
              "  ('demo', 0.015644741908845104),\n",
              "  ('shoebox', 0.015644741908845104),\n",
              "  ('taskspecific', 0.015644741908845104),\n",
              "  ('multitext', 0.015644741908845104),\n",
              "  ('attics', 0.015644741908845104)],\n",
              " 22: [('graph', 0.16143100722550247),\n",
              "  ('graphs', 0.14967721526544034),\n",
              "  ('graphbased', 0.09194366070370195),\n",
              "  ('bipartite', 0.045164651893101725),\n",
              "  ('edges', 0.031703574424312216),\n",
              "  ('multilayer', 0.031703574424312216),\n",
              "  ('webscale', 0.031703574424312216),\n",
              "  ('hierarchical', 0.023383165820143995),\n",
              "  ('network', 0.022123748384183878),\n",
              "  ('link', 0.02092290877857641)],\n",
              " 23: [('filtering', 0.13726141055916832),\n",
              "  ('collaborative', 0.12545171403290417),\n",
              "  ('spam', 0.05484076361539007),\n",
              "  ('online', 0.023212978019261997),\n",
              "  ('bandits', 0.01811604370378858),\n",
              "  ('coding', 0.017372231866074547),\n",
              "  ('sms', 0.013617689537103376),\n",
              "  ('contextaware', 0.012922228310300082),\n",
              "  ('filter', 0.012077362469192386),\n",
              "  ('email', 0.012007438824627547)],\n",
              " 24: [('ir', 0.21400587119895942),\n",
              "  ('spark', 0.03715905963369062),\n",
              "  ('quantum', 0.02652796663072086),\n",
              "  ('interactive', 0.023901856811342385),\n",
              "  ('science', 0.0211047503168881),\n",
              "  ('tool', 0.015770794986616966),\n",
              "  ('biasvariance', 0.014764301888001005),\n",
              "  ('uncertaintyaware', 0.014764301888001005),\n",
              "  ('topicaware', 0.014764301888001005),\n",
              "  ('torch', 0.014764301888001005)],\n",
              " 25: [('test', 0.21500564269557895),\n",
              "  ('laboratory', 0.047953870253533704),\n",
              "  ('design', 0.03859007421530716),\n",
              "  ('research', 0.03648893196387767),\n",
              "  ('testing', 0.03446696037280102),\n",
              "  ('lifelog', 0.034234415037410725),\n",
              "  ('technologyassisted', 0.030362084419757396),\n",
              "  ('engineering', 0.02809691621803581),\n",
              "  ('experiments', 0.027609611293075167),\n",
              "  ('tutorial', 0.022617423184450747)],\n",
              " 27: [('image', 0.2288507979103209),\n",
              "  ('visual', 0.03947495964066751),\n",
              "  ('pictures', 0.03604682524527364),\n",
              "  ('photo', 0.03366173637404915),\n",
              "  ('photos', 0.028677631312947947),\n",
              "  ('spatial', 0.0278921525328037),\n",
              "  ('images', 0.02345820075411911),\n",
              "  ('visualsum', 0.020062080800754306),\n",
              "  ('viewpointbased', 0.020062080800754306),\n",
              "  ('optical', 0.020062080800754306)],\n",
              " 28: [('video', 0.28717350693016847),\n",
              "  ('videos', 0.06427281793007553),\n",
              "  ('mpeg7', 0.03915629579358798),\n",
              "  ('contentbased', 0.03575142190637203),\n",
              "  ('flickr', 0.03213640896503776),\n",
              "  ('semantic', 0.029523935664404023),\n",
              "  ('videodisk', 0.021792675630212345),\n",
              "  ('netflix', 0.021792675630212345),\n",
              "  ('attributeaugmented', 0.021792675630212345),\n",
              "  ('contentenriched', 0.021792675630212345)],\n",
              " 30: [('hyperlinks', 0.04788698898400297),\n",
              "  ('nonparametric', 0.04208659416760176),\n",
              "  ('semantic', 0.02899892844024621),\n",
              "  ('paratucker', 0.028540198628688136),\n",
              "  ('wikipassageqa', 0.028540198628688136),\n",
              "  ('learnbased', 0.028540198628688136),\n",
              "  ('queryfocused', 0.028540198628688136),\n",
              "  ('threeway', 0.028540198628688136),\n",
              "  ('authortopic', 0.028540198628688136),\n",
              "  ('resourcelean', 0.028540198628688136)],\n",
              " 33: [('hashing', 0.22020946712459674),\n",
              "  ('compression', 0.06418414762923613),\n",
              "  ('hash', 0.05760901191531901),\n",
              "  ('deep', 0.05173553446263585),\n",
              "  ('semantic', 0.04651505971287815),\n",
              "  ('crossmodal', 0.0445289818737392),\n",
              "  ('polynomial', 0.04112725027984241),\n",
              "  ('algorithm', 0.03346912661869112),\n",
              "  ('generative', 0.031032771106847285),\n",
              "  ('regression', 0.02760441121580037)],\n",
              " 37: [('answering', 0.19502148859500834),\n",
              "  ('community', 0.1391373433775331),\n",
              "  ('questionanswering', 0.08228951936561628),\n",
              "  ('answer', 0.0766958661454425),\n",
              "  ('whyquestion', 0.06450484517575283),\n",
              "  ('answers', 0.044021580448854805),\n",
              "  ('questions', 0.04137616541431895),\n",
              "  ('lexicons', 0.035900565643455076),\n",
              "  ('discoursebased', 0.035900565643455076),\n",
              "  ('questionanswer', 0.03225242258787642)],\n",
              " 42: [('clustering', 0.15624429453161734),\n",
              "  ('multidocument', 0.035001603026080845),\n",
              "  ('multilingual', 0.030804129114423488),\n",
              "  ('factorization', 0.030477843858087633),\n",
              "  ('multiple', 0.026255773818485914),\n",
              "  ('cluster', 0.02298498056599567),\n",
              "  ('applications', 0.021767060717769692),\n",
              "  ('browsing', 0.020536086076282323),\n",
              "  ('optimization', 0.019711297352128586),\n",
              "  ('letor', 0.019657370237050328)],\n",
              " 45: [('similarity', 0.15479972871502398),\n",
              "  ('matching', 0.05357312109984234),\n",
              "  ('clustering', 0.040071522692144285),\n",
              "  ('finding', 0.03703558339436834),\n",
              "  ('findsimilar', 0.027728079155514087),\n",
              "  ('connected', 0.027728079155514087),\n",
              "  ('multidomain', 0.027728079155514087),\n",
              "  ('fixedthreshold', 0.027728079155514087),\n",
              "  ('itembased', 0.027728079155514087),\n",
              "  ('partitionbased', 0.027728079155514087)],\n",
              " 48: [('timebased', 0.08758921199369932),\n",
              "  ('timeaware', 0.07077371777939151),\n",
              "  ('timecritical', 0.03480156873600237),\n",
              "  ('longshort', 0.03480156873600237),\n",
              "  ('ctrec', 0.03480156873600237),\n",
              "  ('multirate', 0.03480156873600237),\n",
              "  ('eventinterval', 0.03480156873600237),\n",
              "  ('continuoustime', 0.03480156873600237),\n",
              "  ('recontextualization', 0.03480156873600237),\n",
              "  ('timelimits', 0.03480156873600237)],\n",
              " 49: [('query', 0.13510289084544788),\n",
              "  ('prediction', 0.09852557477388915),\n",
              "  ('systematic', 0.060531905496722924),\n",
              "  ('reformulation', 0.054333933380360785),\n",
              "  ('predicting', 0.035464547290492525),\n",
              "  ('updates', 0.02902598924364453),\n",
              "  ('queryflow', 0.02902598924364453),\n",
              "  ('selectively', 0.02902598924364453),\n",
              "  ('historybased', 0.02902598924364453),\n",
              "  ('processing', 0.026447109834486445)],\n",
              " 50: [('query', 0.10228472728311935),\n",
              "  ('simfusion', 0.05899479570709645),\n",
              "  ('mismatch', 0.05899479570709645),\n",
              "  ('chatbot', 0.03516034779513642),\n",
              "  ('deletion', 0.03516034779513642),\n",
              "  ('recursive', 0.03516034779513642),\n",
              "  ('querydrift', 0.03516034779513642),\n",
              "  ('robertsonsprck', 0.03516034779513642),\n",
              "  ('watson', 0.03158742418400268),\n",
              "  ('derivation', 0.03158742418400268)],\n",
              " 52: [('translation', 0.18802857213507265),\n",
              "  ('crosslanguage', 0.15435254848630686),\n",
              "  ('dictionary', 0.05747473855244399),\n",
              "  ('dictionarybased', 0.049407391919423393),\n",
              "  ('bilingual', 0.04737881418020331),\n",
              "  ('translate', 0.03468178899144458),\n",
              "  ('dictionaries', 0.03048089698805097),\n",
              "  ('crosslingual', 0.024927619825177303),\n",
              "  ('multilingual', 0.0215940056620302),\n",
              "  ('mappings', 0.02067002264320141)],\n",
              " 54: [('document', 0.10603716150241053),\n",
              "  ('documents', 0.0491671636135455),\n",
              "  ('representation', 0.02252268421238489),\n",
              "  ('strategy', 0.013891599405986218),\n",
              "  ('documentlevel', 0.011968672444719764),\n",
              "  ('impression', 0.011968672444719764),\n",
              "  ('databases', 0.01135742722584968),\n",
              "  ('annotated', 0.011176748405446007),\n",
              "  ('retrieving', 0.01106421396835852),\n",
              "  ('layout', 0.010179042109028055)],\n",
              " 56: [('clusterbased', 0.15202621541529507),\n",
              "  ('cluster', 0.14335567127517235),\n",
              "  ('hypothesis', 0.09066437048863227),\n",
              "  ('clustering', 0.08858949379488759),\n",
              "  ('clusters', 0.0578197673131777),\n",
              "  ('fusion', 0.0353159965430222),\n",
              "  ('array', 0.022291200889727008),\n",
              "  ('iteration', 0.022291200889727008),\n",
              "  ('agglomerative', 0.022291200889727008),\n",
              "  ('coefficientbased', 0.022291200889727008)],\n",
              " 59: [('probabilistic', 0.021784739408325954),\n",
              "  ('evaluation', 0.015706347088145195),\n",
              "  ('logic', 0.01497852722407432),\n",
              "  ('framework', 0.014622763548954849),\n",
              "  ('proximity', 0.013863149644114498),\n",
              "  ('fairness', 0.009007977532270565),\n",
              "  ('proximitybased', 0.009007977532270565),\n",
              "  ('based', 0.008814148058250076),\n",
              "  ('relevance', 0.008755058063129921),\n",
              "  ('theory', 0.008346044275211142)],\n",
              " 60: [('text', 0.1315312913662413),\n",
              "  ('categorization', 0.057984111471851146),\n",
              "  ('classifiers', 0.02576622911705129),\n",
              "  ('compression', 0.01825954748783997),\n",
              "  ('fulltext', 0.01724821329541951),\n",
              "  ('corpus', 0.015022215730043921),\n",
              "  ('reading', 0.013798570636335609),\n",
              "  ('clustering', 0.013723779251366837),\n",
              "  ('learning', 0.0132768907462952),\n",
              "  ('compressed', 0.01131662513264112)],\n",
              " 63: [('advertising', 0.06702845612610404),\n",
              "  ('sales', 0.04058251848805642),\n",
              "  ('purchase', 0.03789731909661163),\n",
              "  ('merchandise', 0.022586448583630677),\n",
              "  ('purchases', 0.022586448583630677),\n",
              "  ('grocery', 0.022586448583630677),\n",
              "  ('crowdsourcingbased', 0.022586448583630677),\n",
              "  ('inventory', 0.022586448583630677),\n",
              "  ('ebays', 0.022586448583630677),\n",
              "  ('commodity', 0.022586448583630677)],\n",
              " 65: [('learning', 0.12020348363651015),\n",
              "  ('learningtorank', 0.0470912734365956),\n",
              "  ('gradient', 0.02738874900674804),\n",
              "  ('boosting', 0.023911000644915328),\n",
              "  ('selection', 0.01895616502702677),\n",
              "  ('exploration', 0.014935933064420408),\n",
              "  ('evaluation', 0.014788019262142533),\n",
              "  ('functions', 0.014721856608091012),\n",
              "  ('optimizing', 0.014519357652022563),\n",
              "  ('optimization', 0.01280865202469779)],\n",
              " 68: [('pseudorelevance', 0.1904193181089933),\n",
              "  ('feedback', 0.1790232198162132),\n",
              "  ('pseudo', 0.08780862834401165),\n",
              "  ('relevance', 0.06602772955943814),\n",
              "  ('ineffectiveness', 0.031579201260446596),\n",
              "  ('adaptivity', 0.031579201260446596),\n",
              "  ('quantative', 0.031579201260446596),\n",
              "  ('intuitionsupporting', 0.031579201260446596),\n",
              "  ('contradiction', 0.031579201260446596),\n",
              "  ('opinionfinding', 0.031579201260446596)],\n",
              " 69: [('relevance', 0.12417155111177922),\n",
              "  ('feedback', 0.048095790398385636),\n",
              "  ('situ', 0.04270518793722653),\n",
              "  ('independent', 0.04055830679952667),\n",
              "  ('judgments', 0.02688232572677809),\n",
              "  ('strategic', 0.025451893553195763),\n",
              "  ('subjective', 0.025451893553195763),\n",
              "  ('viewpoint', 0.025451893553195763),\n",
              "  ('precedental', 0.025451893553195763),\n",
              "  ('ethics', 0.025451893553195763)],\n",
              " 71: [('spoken', 0.17534144803189122),\n",
              "  ('speech', 0.15985992938134924),\n",
              "  ('conversational', 0.05974357346630295),\n",
              "  ('speechonly', 0.04377114494068942),\n",
              "  ('transcripts', 0.04087496559705968),\n",
              "  ('phonetic', 0.03882009365097552),\n",
              "  ('archives', 0.029871786733151474),\n",
              "  ('phonemes', 0.02436109811520166),\n",
              "  ('vocabularyindependent', 0.02436109811520166),\n",
              "  ('pronunciations', 0.02436109811520166)],\n",
              " 75: [('diversification', 0.05989121541531887),\n",
              "  ('personalized', 0.05262905460460079),\n",
              "  ('personalize', 0.030469983270007196),\n",
              "  ('diversifying', 0.02605834779911182),\n",
              "  ('personalizing', 0.023119414474601228),\n",
              "  ('personalization', 0.02211606099729047),\n",
              "  ('context', 0.01843691538342859),\n",
              "  ('metadata', 0.016587045747967852),\n",
              "  ('crowdsourcing', 0.015682688034904524),\n",
              "  ('exploratory', 0.014740258928851125)],\n",
              " 78: [('web', 0.07864683182738894),\n",
              "  ('page', 0.04172755535414331),\n",
              "  ('clickthrough', 0.029634032799789534),\n",
              "  ('query', 0.02001175715316231),\n",
              "  ('click', 0.019120125516922843),\n",
              "  ('cache', 0.016597673757396066),\n",
              "  ('search', 0.015736826939927624),\n",
              "  ('urls', 0.013010531404875837),\n",
              "  ('webpage', 0.012149671302735362),\n",
              "  ('snippets', 0.011538881339992726)],\n",
              " 80: [('satisfaction', 0.10292040247141658),\n",
              "  ('user', 0.06207027934445864),\n",
              "  ('users', 0.03320087654305597),\n",
              "  ('clicks', 0.032063794165997486),\n",
              "  ('prediction', 0.03035530655111629),\n",
              "  ('commercial', 0.02797443026888867),\n",
              "  ('online', 0.02738994456550088),\n",
              "  ('feedback', 0.02534842050495054),\n",
              "  ('readability', 0.020121260980107566),\n",
              "  ('clicklevel', 0.020121260980107566)],\n",
              " 82: [('twitter', 0.08746870726990393),\n",
              "  ('tweets', 0.05512358606977767),\n",
              "  ('tweet', 0.028066024740896214),\n",
              "  ('users', 0.024282841743464886),\n",
              "  ('microblogging', 0.02248832604022595),\n",
              "  ('popularity', 0.021036450154050274),\n",
              "  ('hashtag', 0.018519401888635455),\n",
              "  ('online', 0.015024581242240775),\n",
              "  ('streaming', 0.014964022313657753),\n",
              "  ('comments', 0.014033012370448107)]}"
            ]
          },
          "metadata": {
            "tags": []
          },
          "execution_count": 104
        }
      ]
    },
    {
      "cell_type": "code",
      "metadata": {
        "id": "16S0uO90BXF3"
      },
      "source": [
        "#topic Modeling\n",
        "import pandas as pd\n",
        "topicm = pd.read_csv(\"/Article_information.csv\",encoding=\"ISO-8859-1\")\n",
        "header = [\"Title\"]\n",
        "topicm.to_csv('output.csv', columns = header)"
      ],
      "execution_count": 105,
      "outputs": []
    },
    {
      "cell_type": "code",
      "metadata": {
        "colab": {
          "base_uri": "https://localhost:8080/"
        },
        "id": "ZpfIFW30EfQu",
        "outputId": "0de85ec3-80c2-4ecc-b091-f41712d01240"
      },
      "source": [
        "pip install pyLDAvis==2.1.2"
      ],
      "execution_count": 106,
      "outputs": [
        {
          "output_type": "stream",
          "text": [
            "Requirement already satisfied: pyLDAvis==2.1.2 in /usr/local/lib/python3.7/dist-packages (2.1.2)\n",
            "Requirement already satisfied: jinja2>=2.7.2 in /usr/local/lib/python3.7/dist-packages (from pyLDAvis==2.1.2) (2.11.3)\n",
            "Requirement already satisfied: pytest in /usr/local/lib/python3.7/dist-packages (from pyLDAvis==2.1.2) (3.6.4)\n",
            "Requirement already satisfied: funcy in /usr/local/lib/python3.7/dist-packages (from pyLDAvis==2.1.2) (1.15)\n",
            "Requirement already satisfied: pandas>=0.17.0 in /usr/local/lib/python3.7/dist-packages (from pyLDAvis==2.1.2) (1.1.5)\n",
            "Requirement already satisfied: numexpr in /usr/local/lib/python3.7/dist-packages (from pyLDAvis==2.1.2) (2.7.3)\n",
            "Requirement already satisfied: future in /usr/local/lib/python3.7/dist-packages (from pyLDAvis==2.1.2) (0.16.0)\n",
            "Requirement already satisfied: joblib>=0.8.4 in /usr/local/lib/python3.7/dist-packages (from pyLDAvis==2.1.2) (1.0.1)\n",
            "Requirement already satisfied: numpy>=1.9.2 in /usr/local/lib/python3.7/dist-packages (from pyLDAvis==2.1.2) (1.19.5)\n",
            "Requirement already satisfied: wheel>=0.23.0 in /usr/local/lib/python3.7/dist-packages (from pyLDAvis==2.1.2) (0.36.2)\n",
            "Requirement already satisfied: scipy>=0.18.0 in /usr/local/lib/python3.7/dist-packages (from pyLDAvis==2.1.2) (1.4.1)\n",
            "Requirement already satisfied: MarkupSafe>=0.23 in /usr/local/lib/python3.7/dist-packages (from jinja2>=2.7.2->pyLDAvis==2.1.2) (1.1.1)\n",
            "Requirement already satisfied: six>=1.10.0 in /usr/local/lib/python3.7/dist-packages (from pytest->pyLDAvis==2.1.2) (1.15.0)\n",
            "Requirement already satisfied: pluggy<0.8,>=0.5 in /usr/local/lib/python3.7/dist-packages (from pytest->pyLDAvis==2.1.2) (0.7.1)\n",
            "Requirement already satisfied: atomicwrites>=1.0 in /usr/local/lib/python3.7/dist-packages (from pytest->pyLDAvis==2.1.2) (1.4.0)\n",
            "Requirement already satisfied: attrs>=17.4.0 in /usr/local/lib/python3.7/dist-packages (from pytest->pyLDAvis==2.1.2) (20.3.0)\n",
            "Requirement already satisfied: py>=1.5.0 in /usr/local/lib/python3.7/dist-packages (from pytest->pyLDAvis==2.1.2) (1.10.0)\n",
            "Requirement already satisfied: more-itertools>=4.0.0 in /usr/local/lib/python3.7/dist-packages (from pytest->pyLDAvis==2.1.2) (8.7.0)\n",
            "Requirement already satisfied: setuptools in /usr/local/lib/python3.7/dist-packages (from pytest->pyLDAvis==2.1.2) (54.1.2)\n",
            "Requirement already satisfied: pytz>=2017.2 in /usr/local/lib/python3.7/dist-packages (from pandas>=0.17.0->pyLDAvis==2.1.2) (2018.9)\n",
            "Requirement already satisfied: python-dateutil>=2.7.3 in /usr/local/lib/python3.7/dist-packages (from pandas>=0.17.0->pyLDAvis==2.1.2) (2.8.1)\n"
          ],
          "name": "stdout"
        }
      ]
    },
    {
      "cell_type": "code",
      "metadata": {
        "colab": {
          "base_uri": "https://localhost:8080/"
        },
        "id": "HBumxNkHFEEV",
        "outputId": "7d94042f-f87f-44e8-f3e0-9b31eaa1e8b7"
      },
      "source": [
        "pip install \"gensim==3.8.1\""
      ],
      "execution_count": 107,
      "outputs": [
        {
          "output_type": "stream",
          "text": [
            "Requirement already satisfied: gensim==3.8.1 in /usr/local/lib/python3.7/dist-packages (3.8.1)\n",
            "Requirement already satisfied: numpy>=1.11.3 in /usr/local/lib/python3.7/dist-packages (from gensim==3.8.1) (1.19.5)\n",
            "Requirement already satisfied: scipy>=0.18.1 in /usr/local/lib/python3.7/dist-packages (from gensim==3.8.1) (1.4.1)\n",
            "Requirement already satisfied: smart-open>=1.8.1 in /usr/local/lib/python3.7/dist-packages (from gensim==3.8.1) (4.2.0)\n",
            "Requirement already satisfied: six>=1.5.0 in /usr/local/lib/python3.7/dist-packages (from gensim==3.8.1) (1.15.0)\n"
          ],
          "name": "stdout"
        }
      ]
    },
    {
      "cell_type": "code",
      "metadata": {
        "colab": {
          "base_uri": "https://localhost:8080/"
        },
        "id": "hraJ0LcsFztM",
        "outputId": "0ff4633a-6845-4a98-e4a0-d30e2eee03c9"
      },
      "source": [
        "import spacy.cli\n",
        "spacy.cli.download(\"en_core_web_sm\")"
      ],
      "execution_count": 108,
      "outputs": [
        {
          "output_type": "stream",
          "text": [
            "\u001b[38;5;2m✔ Download and installation successful\u001b[0m\n",
            "You can now load the model via spacy.load('en_core_web_sm')\n"
          ],
          "name": "stdout"
        }
      ]
    },
    {
      "cell_type": "code",
      "metadata": {
        "colab": {
          "base_uri": "https://localhost:8080/"
        },
        "id": "Hxa-xuRzFmqn",
        "outputId": "7a2ed1be-d285-4067-cfd2-9de17e383641"
      },
      "source": [
        "import nltk;\n",
        "nltk.download('stopwords')"
      ],
      "execution_count": 109,
      "outputs": [
        {
          "output_type": "stream",
          "text": [
            "[nltk_data] Downloading package stopwords to /root/nltk_data...\n",
            "[nltk_data]   Package stopwords is already up-to-date!\n"
          ],
          "name": "stdout"
        },
        {
          "output_type": "execute_result",
          "data": {
            "text/plain": [
              "True"
            ]
          },
          "metadata": {
            "tags": []
          },
          "execution_count": 109
        }
      ]
    },
    {
      "cell_type": "code",
      "metadata": {
        "id": "9xGuCnx6EVFD"
      },
      "source": [
        "import re\n",
        "import numpy as np\n",
        "import pandas as pd\n",
        "from pprint import pprint\n",
        "\n",
        "# Gensim\n",
        "import gensim\n",
        "import gensim.corpora as corpora\n",
        "from gensim.utils import simple_preprocess\n",
        "from gensim.models import CoherenceModel\n",
        "\n",
        "# spacy for lemmatization\n",
        "import spacy\n",
        "\n",
        "# Plotting tools\n",
        "import pyLDAvis\n",
        "import pyLDAvis.gensim  # don't skip this\n",
        "import matplotlib.pyplot as plt\n",
        "%matplotlib inline\n",
        "\n",
        "# Enable logging for gensim - optional\n",
        "import logging\n",
        "logging.basicConfig(format='%(asctime)s : %(levelname)s : %(message)s', level=logging.ERROR)\n",
        "\n",
        "import warnings\n",
        "warnings.filterwarnings(\"ignore\",category=DeprecationWarning)"
      ],
      "execution_count": 110,
      "outputs": []
    },
    {
      "cell_type": "code",
      "metadata": {
        "id": "GWTUkgWTJRB7"
      },
      "source": [
        "from nltk.corpus import stopwords\n",
        "stop_words = stopwords.words('english')\n",
        "stop_words.extend(['from', 'subject', 're', 'edu', 'use'])"
      ],
      "execution_count": 111,
      "outputs": []
    },
    {
      "cell_type": "code",
      "metadata": {
        "colab": {
          "base_uri": "https://localhost:8080/"
        },
        "id": "iTdewGpLJZKH",
        "outputId": "3e635257-97a0-4347-fba5-e54c87e47ba6"
      },
      "source": [
        "data = topicm.Title.values.tolist()\n",
        "\n",
        "# Remove Emails\n",
        "data = [re.sub('\\S*@\\S*\\s?', '', sent) for sent in data]\n",
        "\n",
        "# Remove new line characters\n",
        "data = [re.sub('\\s+', ' ', sent) for sent in data]\n",
        "\n",
        "# Remove distracting single quotes\n",
        "data = [re.sub(\"\\'\", \"\", sent) for sent in data]\n",
        "\n",
        "print(data[:1])"
      ],
      "execution_count": 112,
      "outputs": [
        {
          "output_type": "stream",
          "text": [
            "['Introduction and perspectives for the 1971 ACM Information Storage and Retrieval Symposium']\n"
          ],
          "name": "stdout"
        }
      ]
    },
    {
      "cell_type": "code",
      "metadata": {
        "colab": {
          "base_uri": "https://localhost:8080/"
        },
        "id": "Rsct4k8uJj8C",
        "outputId": "ebe9ad11-d721-4205-822c-dc1de3335d93"
      },
      "source": [
        "def sent_to_words(sentences):\n",
        "    for sentence in sentences:\n",
        "        yield(gensim.utils.simple_preprocess(str(sentence), deacc=True))  # deacc=True removes punctuations\n",
        "\n",
        "data_words = list(sent_to_words(data))\n",
        "\n",
        "print(data_words[:1])"
      ],
      "execution_count": 113,
      "outputs": [
        {
          "output_type": "stream",
          "text": [
            "[['introduction', 'and', 'perspectives', 'for', 'the', 'acm', 'information', 'storage', 'and', 'retrieval', 'symposium']]\n"
          ],
          "name": "stdout"
        }
      ]
    },
    {
      "cell_type": "code",
      "metadata": {
        "colab": {
          "base_uri": "https://localhost:8080/"
        },
        "id": "rRgKVD8-JoL6",
        "outputId": "8e1e902b-001f-4c3a-da35-a6a50849b63e"
      },
      "source": [
        "# Build the bigram and trigram models\n",
        "bigram = gensim.models.Phrases(data_words, min_count=5, threshold=100) # higher threshold fewer phrases.\n",
        "trigram = gensim.models.Phrases(bigram[data_words], threshold=100)  \n",
        "\n",
        "# Faster way to get a sentence clubbed as a trigram/bigram\n",
        "bigram_mod = gensim.models.phrases.Phraser(bigram)\n",
        "trigram_mod = gensim.models.phrases.Phraser(trigram)\n",
        "\n",
        "# See trigram example\n",
        "print(trigram_mod[bigram_mod[data_words[0]]])"
      ],
      "execution_count": 114,
      "outputs": [
        {
          "output_type": "stream",
          "text": [
            "['introduction', 'and', 'perspectives', 'for', 'the', 'acm', 'information', 'storage', 'and', 'retrieval', 'symposium']\n"
          ],
          "name": "stdout"
        }
      ]
    },
    {
      "cell_type": "code",
      "metadata": {
        "id": "vepRqrNVJqWW"
      },
      "source": [
        "# Define functions for stopwords, bigrams, trigrams and lemmatization\n",
        "def remove_stopwords(texts):\n",
        "    return [[word for word in simple_preprocess(str(doc)) if word not in stop_words] for doc in texts]\n",
        "\n",
        "def make_bigrams(texts):\n",
        "    return [bigram_mod[doc] for doc in texts]\n",
        "\n",
        "def make_trigrams(texts):\n",
        "    return [trigram_mod[bigram_mod[doc]] for doc in texts]\n",
        "\n",
        "def lemmatization(texts, allowed_postags=['NOUN', 'ADJ', 'VERB', 'ADV']):\n",
        "    \"\"\"https://spacy.io/api/annotation\"\"\"\n",
        "    texts_out = []\n",
        "    for sent in texts:\n",
        "        doc = nlp(\" \".join(sent)) \n",
        "        texts_out.append([token.lemma_ for token in doc if token.pos_ in allowed_postags])\n",
        "    return texts_out"
      ],
      "execution_count": 115,
      "outputs": []
    },
    {
      "cell_type": "code",
      "metadata": {
        "colab": {
          "base_uri": "https://localhost:8080/"
        },
        "id": "LidHRFcsJ1rg",
        "outputId": "bb2b555d-f85b-46de-f03a-2d67a369a889"
      },
      "source": [
        "# Remove Stop Words\n",
        "data_words_nostops = remove_stopwords(data_words)\n",
        "\n",
        "# Form Bigrams\n",
        "data_words_bigrams = make_bigrams(data_words_nostops)\n",
        "\n",
        "# Initialize spacy 'en' model, keeping only tagger component (for efficiency)\n",
        "# python3 -m spacy download en\n",
        "nlp = spacy.load('en', disable=['parser', 'ner'])\n",
        "\n",
        "# Do lemmatization keeping only noun, adj, vb, adv\n",
        "data_lemmatized = lemmatization(data_words_bigrams, allowed_postags=['NOUN', 'ADJ', 'VERB', 'ADV'])\n",
        "\n",
        "print(data_lemmatized[:1])"
      ],
      "execution_count": 116,
      "outputs": [
        {
          "output_type": "stream",
          "text": [
            "[['introduction', 'perspective', 'acm', 'information', 'storage']]\n"
          ],
          "name": "stdout"
        }
      ]
    },
    {
      "cell_type": "code",
      "metadata": {
        "colab": {
          "base_uri": "https://localhost:8080/"
        },
        "id": "e7-iQQl0KDlF",
        "outputId": "81ce7794-2f42-49c0-fd24-fc3236230c3e"
      },
      "source": [
        "# Create Dictionary\n",
        "id2word = corpora.Dictionary(data_lemmatized)\n",
        "\n",
        "# Create Corpus\n",
        "texts = data_lemmatized\n",
        "\n",
        "# Term Document Frequency\n",
        "corpus = [id2word.doc2bow(text) for text in texts]\n",
        "\n",
        "# View\n",
        "print(corpus[:1])"
      ],
      "execution_count": 117,
      "outputs": [
        {
          "output_type": "stream",
          "text": [
            "[[(0, 1), (1, 1), (2, 1), (3, 1), (4, 1)]]\n"
          ],
          "name": "stdout"
        }
      ]
    },
    {
      "cell_type": "code",
      "metadata": {
        "colab": {
          "base_uri": "https://localhost:8080/"
        },
        "id": "Dj3yQ4CdKIjo",
        "outputId": "660f56bf-0969-4500-b62d-28623cb9343a"
      },
      "source": [
        "# Human readable format of corpus (term-frequency)\n",
        "[[(id2word[id], freq) for id, freq in cp] for cp in corpus[:1]]"
      ],
      "execution_count": 118,
      "outputs": [
        {
          "output_type": "execute_result",
          "data": {
            "text/plain": [
              "[[('acm', 1),\n",
              "  ('information', 1),\n",
              "  ('introduction', 1),\n",
              "  ('perspective', 1),\n",
              "  ('storage', 1)]]"
            ]
          },
          "metadata": {
            "tags": []
          },
          "execution_count": 118
        }
      ]
    },
    {
      "cell_type": "code",
      "metadata": {
        "id": "lcbjo5ECKMEe"
      },
      "source": [
        "# Build LDA model\n",
        "lda_model = gensim.models.ldamodel.LdaModel(corpus=corpus,\n",
        "                                           id2word=id2word,\n",
        "                                           num_topics=20, \n",
        "                                           random_state=100,\n",
        "                                           update_every=1,\n",
        "                                           chunksize=100,\n",
        "                                           passes=10,\n",
        "                                           alpha='auto',\n",
        "                                           per_word_topics=True)"
      ],
      "execution_count": 130,
      "outputs": []
    },
    {
      "cell_type": "code",
      "metadata": {
        "colab": {
          "base_uri": "https://localhost:8080/"
        },
        "id": "KJhNOl6tKYv5",
        "outputId": "acbbdf55-f668-4399-fc1e-60a90d07bfd2"
      },
      "source": [
        "pprint(lda_model.print_topics())\n",
        "doc_lda = lda_model[corpus]"
      ],
      "execution_count": 131,
      "outputs": [
        {
          "output_type": "stream",
          "text": [
            "[(0,\n",
            "  '0.384*\"network\" + 0.253*\"query\" + 0.077*\"processing\" + 0.030*\"tool\" + '\n",
            "  '0.028*\"intelligent\" + 0.010*\"entropy\" + 0.009*\"intelligence\" + '\n",
            "  '0.003*\"maximum\" + 0.003*\"extend\" + 0.001*\"boolean\"'),\n",
            " (1,\n",
            "  '0.694*\"search\" + 0.089*\"relevance\" + 0.050*\"term\" + 0.019*\"weight\" + '\n",
            "  '0.016*\"comparison\" + 0.012*\"frequency\" + 0.003*\"element\" + 0.000*\"web\" + '\n",
            "  '0.000*\"recommendation\" + 0.000*\"engine\"'),\n",
            " (2,\n",
            "  '0.409*\"evaluation\" + 0.167*\"analysis\" + 0.044*\"value\" + 0.021*\"automate\" + '\n",
            "  '0.000*\"metric\" + 0.000*\"web\" + 0.000*\"sentiment\" + 0.000*\"effective\" + '\n",
            "  '0.000*\"entity\" + 0.000*\"diversity\"'),\n",
            " (3,\n",
            "  '0.428*\"document\" + 0.107*\"structure\" + 0.049*\"exploit\" + 0.042*\"collection\" '\n",
            "  '+ 0.008*\"invert\" + 0.000*\"metric\" + 0.000*\"interactive\" + '\n",
            "  '0.000*\"exploration\" + 0.000*\"distance\" + 0.000*\"recommendation\"'),\n",
            " (4,\n",
            "  '0.597*\"use\" + 0.032*\"incorporate\" + 0.022*\"strategy\" + '\n",
            "  '0.021*\"investigation\" + 0.005*\"database\" + 0.003*\"structural\" + '\n",
            "  '0.000*\"recommendation\" + 0.000*\"space\" + 0.000*\"bridge\" + '\n",
            "  '0.000*\"heterogeneous\"'),\n",
            " (5,\n",
            "  '0.197*\"improve\" + 0.157*\"performance\" + 0.120*\"feedback\" + '\n",
            "  '0.025*\"environment\" + 0.022*\"architecture\" + 0.016*\"management\" + '\n",
            "  '0.006*\"common\" + 0.000*\"recommendation\" + 0.000*\"accuracy\" + '\n",
            "  '0.000*\"estimation\"'),\n",
            " (6,\n",
            "  '0.346*\"datum\" + 0.125*\"process\" + 0.037*\"technique\" + 0.025*\"compression\" + '\n",
            "  '0.016*\"large\" + 0.003*\"file\" + 0.000*\"heterogeneous\" + 0.000*\"integration\" '\n",
            "  '+ 0.000*\"bridge\" + 0.000*\"biomedical\"'),\n",
            " (7,\n",
            "  '0.473*\"base\" + 0.320*\"user\" + 0.014*\"design\" + 0.010*\"concept\" + '\n",
            "  '0.005*\"server\" + 0.000*\"recommendation\" + 0.000*\"web\" + 0.000*\"social\" + '\n",
            "  '0.000*\"predict\" + 0.000*\"task\"'),\n",
            " (8,\n",
            "  '0.514*\"model\" + 0.117*\"knowledge\" + 0.094*\"representation\" + '\n",
            "  '0.039*\"application\" + 0.018*\"statistical\" + 0.003*\"spatial\" + '\n",
            "  '0.000*\"recommendation\" + 0.000*\"neural\" + 0.000*\"web\" + 0.000*\"topic\"'),\n",
            " (9,\n",
            "  '0.447*\"rank\" + 0.162*\"semantic\" + 0.079*\"language\" + 0.028*\"function\" + '\n",
            "  '0.007*\"optimal\" + 0.004*\"formulation\" + 0.003*\"record\" + 0.000*\"neural\" + '\n",
            "  '0.000*\"deep\" + 0.000*\"adversarial\"'),\n",
            " (10,\n",
            "  '0.126*\"automatic\" + 0.125*\"estimate\" + 0.111*\"extraction\" + '\n",
            "  '0.078*\"probabilistic\" + 0.017*\"indexing\" + 0.010*\"ambiguity\" + '\n",
            "  '0.000*\"quantify\" + 0.000*\"learning\" + 0.000*\"supervise\" + '\n",
            "  '0.000*\"prevalence\"'),\n",
            " (11,\n",
            "  '0.404*\"learn\" + 0.107*\"context\" + 0.068*\"word\" + 0.054*\"ir\" + '\n",
            "  '0.034*\"visual\" + 0.033*\"framework\" + 0.031*\"role\" + 0.025*\"orient\" + '\n",
            "  '0.023*\"index\" + 0.010*\"display\"'),\n",
            " (12,\n",
            "  '0.184*\"domain\" + 0.119*\"method\" + 0.114*\"feature\" + 0.071*\"distribute\" + '\n",
            "  '0.049*\"natural_language\" + 0.046*\"interface\" + 0.021*\"simple\" + '\n",
            "  '0.015*\"syntactic\" + 0.015*\"different\" + 0.000*\"deep\"'),\n",
            " (13,\n",
            "  '0.060*\"perspective\" + 0.029*\"data\" + 0.008*\"current\" + 0.002*\"empirical\" + '\n",
            "  '0.001*\"lattice\" + 0.000*\"score\" + 0.000*\"standardization\" + '\n",
            "  '0.000*\"influential\" + 0.000*\"provider\" + 0.000*\"protect\"'),\n",
            " (14,\n",
            "  '0.232*\"prediction\" + 0.128*\"efficient\" + 0.081*\"time\" + '\n",
            "  '0.063*\"hierarchical\" + 0.053*\"access\" + 0.047*\"vector\" + 0.037*\"experiment\" '\n",
            "  '+ 0.032*\"share\" + 0.027*\"first\" + 0.014*\"report\"'),\n",
            " (15,\n",
            "  '0.348*\"retrieval\" + 0.205*\"online\" + 0.074*\"new\" + 0.037*\"personal\" + '\n",
            "  '0.033*\"non\" + 0.010*\"paper\" + 0.008*\"theoretical\" + 0.005*\"binary\" + '\n",
            "  '0.001*\"implementation\" + 0.000*\"evaluate\"'),\n",
            " (16,\n",
            "  '0.554*\"system\" + 0.085*\"cluster\" + 0.005*\"overview\" + 0.000*\"result\" + '\n",
            "  '0.000*\"presentation\" + 0.000*\"deep\" + 0.000*\"inform\" + '\n",
            "  '0.000*\"recommendation\" + 0.000*\"topic\" + 0.000*\"effect\"'),\n",
            " (17,\n",
            "  '0.346*\"text\" + 0.134*\"study\" + 0.067*\"class\" + 0.066*\"ranking\" + '\n",
            "  '0.048*\"tree\" + 0.026*\"decision\" + 0.020*\"factor\" + 0.018*\"full\" + '\n",
            "  '0.012*\"experimental\" + 0.004*\"important\"'),\n",
            " (18,\n",
            "  '0.490*\"information\" + 0.124*\"dynamic\" + 0.051*\"adaptive\" + 0.045*\"self\" + '\n",
            "  '0.001*\"tune\" + 0.000*\"recommendation\" + 0.000*\"need\" + 0.000*\"seek\" + '\n",
            "  '0.000*\"relate\" + 0.000*\"embedding\"'),\n",
            " (19,\n",
            "  '0.370*\"classification\" + 0.028*\"problem\" + 0.026*\"difficult\" + '\n",
            "  '0.020*\"scheme\" + 0.000*\"tweet\" + 0.000*\"link\" + 0.000*\"entity\" + '\n",
            "  '0.000*\"implicit\" + 0.000*\"recognition\" + 0.000*\"sentiment\"')]\n"
          ],
          "name": "stdout"
        }
      ]
    },
    {
      "cell_type": "code",
      "metadata": {
        "colab": {
          "base_uri": "https://localhost:8080/"
        },
        "id": "Os48GE3QKcoK",
        "outputId": "16bf7fa8-e105-4810-ede9-3c267d415707"
      },
      "source": [
        "# Compute Perplexity\n",
        "print('\\nPerplexity: ', lda_model.log_perplexity(corpus))  # a measure of how good the model is. lower the better.\n",
        "\n",
        "# Compute Coherence Score\n",
        "coherence_model_lda = CoherenceModel(model=lda_model, texts=data_lemmatized, dictionary=id2word, coherence='c_v')\n",
        "coherence_lda = coherence_model_lda.get_coherence()\n",
        "print('\\nCoherence Score: ', coherence_lda)"
      ],
      "execution_count": 132,
      "outputs": [
        {
          "output_type": "stream",
          "text": [
            "\n",
            "Perplexity:  -19.201139174503425\n",
            "\n",
            "Coherence Score:  0.5027575991118981\n"
          ],
          "name": "stdout"
        }
      ]
    },
    {
      "cell_type": "code",
      "metadata": {
        "colab": {
          "base_uri": "https://localhost:8080/",
          "height": 881
        },
        "id": "GWWSsJqoKlAl",
        "outputId": "f8181335-b9bd-4ee5-a892-76c2841507c3"
      },
      "source": [
        "# Visualize the topics\n",
        "pyLDAvis.enable_notebook()\n",
        "vis = pyLDAvis.gensim.prepare(lda_model, corpus, id2word)\n",
        "vis"
      ],
      "execution_count": 133,
      "outputs": [
        {
          "output_type": "execute_result",
          "data": {
            "text/html": [
              "\n",
              "<link rel=\"stylesheet\" type=\"text/css\" href=\"https://cdn.rawgit.com/bmabey/pyLDAvis/files/ldavis.v1.0.0.css\">\n",
              "\n",
              "\n",
              "<div id=\"ldavis_el4591405890572299047763842924\"></div>\n",
              "<script type=\"text/javascript\">\n",
              "\n",
              "var ldavis_el4591405890572299047763842924_data = {\"mdsDat\": {\"x\": [-0.3953971086094398, -0.10878375258680917, -0.08398387729965469, -0.04097619491889251, -0.05497711626516417, 0.03727100039992983, 0.007024371369770254, 0.0124094155169222, 0.05139466783989324, 0.01946199694873917, 0.02241399132811584, 0.01453488344685119, 0.0480549740393498, 0.05315703232657835, 0.049744453054531436, 0.06797050361888954, 0.07445619676591826, 0.06668832026647646, 0.07551369958849521, 0.08402254316950006], \"y\": [0.1782627329619192, -0.3145598974968366, -0.146380809561706, -0.03333664313963579, -0.0561310456457564, 0.024454122441594887, 0.010997037766149562, 0.013613553903448804, 0.028755663772174193, 0.017373803471555642, 0.01844230599665492, 0.015402146513854914, 0.027709526368316324, 0.029467552191119288, 0.028273505054783925, 0.03190237352644263, 0.03216218943281836, 0.031707513087442254, 0.032036830550029184, 0.02984753880563106], \"topics\": [1, 2, 3, 4, 5, 6, 7, 8, 9, 10, 11, 12, 13, 14, 15, 16, 17, 18, 19, 20], \"cluster\": [1, 1, 1, 1, 1, 1, 1, 1, 1, 1, 1, 1, 1, 1, 1, 1, 1, 1, 1, 1], \"Freq\": [13.910936986957001, 9.476957485346157, 7.407995898592946, 6.712738393544759, 6.272380288746874, 5.721683003930271, 5.248508813808307, 5.162653621517753, 5.067591938532683, 5.043146154792519, 4.928044220439887, 4.2511408874604415, 3.9656087560732702, 3.654350217829945, 3.3300291552382406, 3.0422335868492683, 2.609758566554545, 2.27335390841002, 1.4724884215051985, 0.44839969386991196]}, \"tinfo\": {\"Term\": [\"search\", \"base\", \"use\", \"model\", \"learn\", \"information\", \"system\", \"user\", \"rank\", \"network\", \"document\", \"text\", \"retrieval\", \"evaluation\", \"query\", \"prediction\", \"online\", \"datum\", \"semantic\", \"classification\", \"relevance\", \"domain\", \"improve\", \"knowledge\", \"study\", \"context\", \"analysis\", \"dynamic\", \"efficient\", \"performance\", \"search\", \"relevance\", \"term\", \"weight\", \"comparison\", \"frequency\", \"element\", \"web\", \"recommendation\", \"engine\", \"measure\", \"result\", \"explainable\", \"task\", \"behavior\", \"aware\", \"deep\", \"challenge\", \"exploratory\", \"job\", \"effectiveness\", \"mobile\", \"personalize\", \"tutorial\", \"modeling\", \"opportunity\", \"ear\", \"effect\", \"example\", \"frontier\", \"image\", \"evaluate\", \"learning\", \"social\", \"entity\", \"neural\", \"base\", \"user\", \"design\", \"concept\", \"server\", \"recommendation\", \"predict\", \"social\", \"task\", \"behavior\", \"web\", \"mining\", \"approach\", \"interaction\", \"interest\", \"extract\", \"similarity\", \"attention\", \"memory\", \"image\", \"session\", \"personalized\", \"news\", \"preference\", \"review\", \"example\", \"content\", \"satisfaction\", \"embed\", \"aware\", \"neural\", \"multi\", \"topic\", \"metric\", \"deep\", \"learning\", \"embedding\", \"learn\", \"context\", \"word\", \"ir\", \"visual\", \"framework\", \"role\", \"orient\", \"index\", \"display\", \"mechanism\", \"modern\", \"browsing\", \"implication\", \"line\", \"embedding\", \"recommendation\", \"aware\", \"challenge\", \"learning\", \"practice\", \"osirrc\", \"replicability\", \"source\", \"task\", \"gradient\", \"open\", \"modeling\", \"theory\", \"variation\", \"neural\", \"attention\", \"image\", \"entity\", \"deep\", \"metric\", \"web\", \"multi\", \"model\", \"knowledge\", \"representation\", \"application\", \"statistical\", \"spatial\", \"graph\", \"topic\", \"neural\", \"recommendation\", \"detection\", \"economic\", \"build\", \"measure\", \"web\", \"tutorial\", \"embed\", \"relation\", \"attentive\", \"short\", \"approach\", \"click\", \"multi\", \"discriminative\", \"construct\", \"personalize\", \"sequential\", \"long\", \"product\", \"generalize\", \"aware\", \"task\", \"deep\", \"memory\", \"entity\", \"behavior\", \"social\", \"network\", \"query\", \"processing\", \"tool\", \"intelligent\", \"entropy\", \"intelligence\", \"maximum\", \"extend\", \"boolean\", \"neural\", \"social\", \"enhance\", \"recommendation\", \"deep\", \"birndl\", \"digital_librarie\", \"aware\", \"extract\", \"attention\", \"memory\", \"mining\", \"predict\", \"interest\", \"theory\", \"gradient\", \"practice\", \"boost\", \"recurrent\", \"convolutional\", \"heterogeneous\", \"learning\", \"web\", \"task\", \"use\", \"incorporate\", \"strategy\", \"investigation\", \"database\", \"structural\", \"space\", \"biomedical\", \"bridge\", \"integration\", \"heterogeneous\", \"contextual\", \"support\", \"note\", \"question\", \"identify\", \"summarization\", \"bert\", \"graph\", \"rule\", \"expressive\", \"archive\", \"scope\", \"trail\", \"vary\", \"expert\", \"customer\", \"detection\", \"approach\", \"product\", \"guide\", \"content\", \"neural\", \"similarity\", \"task\", \"entity\", \"learning\", \"recommendation\", \"metric\", \"web\", \"enhance\", \"topic\", \"behavior\", \"deep\", \"text\", \"study\", \"class\", \"ranking\", \"tree\", \"decision\", \"factor\", \"full\", \"experimental\", \"important\", \"learning\", \"annotation\", \"event\", \"sound\", \"ensemble\", \"quantify\", \"evaluate\", \"active\", \"risk\", \"sensitive\", \"supervise\", \"matching\", \"prevalence\", \"entity\", \"retrieve\", \"preliminary\", \"analytic\", \"generation\", \"effective\", \"collaborative_filtering\", \"neural\", \"deep\", \"recommendation\", \"web\", \"rank\", \"semantic\", \"language\", \"function\", \"optimal\", \"formulation\", \"record\", \"neural\", \"adversarial\", \"robustness\", \"setting\", \"deep\", \"pairwise\", \"understanding\", \"apply\", \"hashing\", \"triple\", \"learning\", \"entity\", \"hash\", \"commerce\", \"image\", \"approach\", \"generative\", \"quality\", \"suggestion\", \"fact\", \"human\", \"examine\", \"axiomatic\", \"answer\", \"social\", \"aware\", \"personalized\", \"recommendation\", \"web\", \"document\", \"structure\", \"exploit\", \"collection\", \"invert\", \"exploration\", \"distance\", \"interactive\", \"metric\", \"generation\", \"inherent\", \"outline\", \"understand\", \"summarization\", \"level\", \"content\", \"dataset\", \"answer\", \"assist\", \"evidence\", \"technology\", \"passage\", \"score\", \"graph\", \"reproducible\", \"repeatability\", \"searching\", \"tie\", \"hyperlink\", \"food\", \"review\", \"question\", \"embedding\", \"image\", \"topic\", \"deep\", \"recommendation\", \"web\", \"aware\", \"neural\", \"retrieval\", \"online\", \"new\", \"personal\", \"non\", \"paper\", \"theoretical\", \"binary\", \"implementation\", \"evaluate\", \"exposure\", \"misinformation\", \"reduce\", \"risk\", \"setting\", \"robustness\", \"sensitive\", \"adversarial\", \"frontier\", \"example\", \"effective\", \"utilize\", \"exploratory\", \"table\", \"product\", \"end\", \"web\", \"mind\", \"revisit\", \"relief\", \"image\", \"metric\", \"embedding\", \"interactive\", \"entity\", \"information\", \"dynamic\", \"adaptive\", \"self\", \"tune\", \"need\", \"relate\", \"seek\", \"space\", \"event\", \"conversation\", \"predict\", \"pipeline\", \"detection\", \"question\", \"answer\", \"embedding\", \"measure\", \"duplicate\", \"cross\", \"check\", \"behavior\", \"combine\", \"note\", \"attentive\", \"topical\", \"heterogeneous\", \"adaption\", \"estimator\", \"ask\", \"task\", \"collaborative\", \"multi\", \"recommendation\", \"social\", \"entity\", \"topic\", \"attention\", \"aware\", \"neural\", \"deep\", \"prediction\", \"efficient\", \"time\", \"hierarchical\", \"access\", \"vector\", \"experiment\", \"share\", \"first\", \"report\", \"project\", \"phase\", \"learning\", \"aware\", \"active\", \"space\", \"effective\", \"annotation\", \"much\", \"would\", \"easy\", \"session\", \"decade\", \"say\", \"demand\", \"link\", \"personalized\", \"service\", \"sequential\", \"click\", \"social\", \"recommendation\", \"embedding\", \"neural\", \"approach\", \"web\", \"system\", \"cluster\", \"overview\", \"presentation\", \"inform\", \"result\", \"component\", \"deep\", \"corpora\", \"difficulty\", \"entertainment\", \"effect\", \"guide\", \"novel\", \"variance\", \"scalable\", \"topic\", \"practice\", \"recommender\", \"error\", \"synchronous\", \"care\", \"hypothesis\", \"inner\", \"exact\", \"lie\", \"accelerate\", \"cognitive\", \"cpu\", \"accuracy\", \"response\", \"interactive\", \"recommendation\", \"review\", \"matching\", \"live\", \"music\", \"collaborative\", \"effectiveness\", \"detection\", \"exploratory\", \"approach\", \"neural\", \"domain\", \"method\", \"feature\", \"distribute\", \"natural_language\", \"interface\", \"simple\", \"syntactic\", \"different\", \"legal\", \"adaptation\", \"open\", \"factoid\", \"lexical\", \"cross\", \"deep\", \"question_answering\", \"set\", \"expansion\", \"instant\", \"mixed\", \"interaction\", \"selection\", \"develop\", \"fast\", \"question_answere\", \"factorization\", \"reader\", \"claim\", \"premise\", \"conversational\", \"generation\", \"multi\", \"metric\", \"recommendation\", \"learning\", \"web\", \"evaluation\", \"analysis\", \"value\", \"automate\", \"metric\", \"sentiment\", \"diversity\", \"effective\", \"offline\", \"web\", \"axiomatic\", \"test_collection\", \"measure\", \"end\", \"policy\", \"introduce\", \"biased\", \"comparative\", \"utility\", \"student\", \"recognition\", \"bitcoin\", \"fact\", \"price\", \"mode\", \"entity\", \"combination\", \"probability\", \"multi\", \"association\", \"effectiveness\", \"aware\", \"image\", \"generation\", \"topic\", \"effect\", \"attention\", \"improve\", \"performance\", \"feedback\", \"environment\", \"architecture\", \"management\", \"common\", \"accuracy\", \"shard\", \"estimation\", \"implicit\", \"systematic\", \"absolute\", \"provide\", \"relative\", \"negative\", \"axiomatic\", \"student\", \"review\", \"sampling\", \"creation\", \"verbose\", \"heuristic\", \"discrimination\", \"ctr\", \"warm\", \"cold\", \"start\", \"note\", \"combine\", \"collaborative\", \"item\", \"recommendation\", \"mining\", \"personalized\", \"focus\", \"web\", \"engine\", \"metric\", \"automatic\", \"estimate\", \"extraction\", \"probabilistic\", \"indexing\", \"ambiguity\", \"prevalence\", \"supervise\", \"quantify\", \"learning\", \"educational\", \"entity\", \"video\", \"flow\", \"completion\", \"article\", \"rule\", \"annotate\", \"expressive\", \"api\", \"table\", \"attribute\", \"expert\", \"relation\", \"collective\", \"content\", \"guide\", \"continuation\", \"worthiness\", \"world\", \"topic\", \"task\", \"open\", \"web\", \"datum\", \"process\", \"technique\", \"compression\", \"large\", \"file\", \"biomedical\", \"bridge\", \"integration\", \"heterogeneous\", \"exploration\", \"distance\", \"interactive\", \"metric\", \"archive\", \"markov\", \"sparsity\", \"top\", \"issue\", \"address\", \"absolute\", \"relative\", \"distribution\", \"precision\", \"medicine\", \"factoring\", \"logic\", \"useing\", \"medical\", \"reformulation\", \"recommendation\", \"combine\", \"web\", \"social\", \"enhance\", \"multi\", \"deep\", \"effective\", \"graph\", \"classification\", \"problem\", \"difficult\", \"scheme\", \"tweet\", \"implicit\", \"recognition\", \"link\", \"entity\", \"sentiment\", \"matching\", \"crime\", \"wise\", \"clothing\", \"fine_grained\", \"level\", \"interpretable\", \"conversational\", \"hyperlink\", \"guide\", \"agent\", \"syntax\", \"convolution\", \"encode\", \"literature\", \"proximity\", \"dependency\", \"resource\", \"alleviating\", \"scientific\", \"aspect\", \"open\", \"graph\", \"aware\", \"embedding\", \"perspective\", \"data\", \"current\", \"empirical\", \"lattice\", \"standardization\", \"score\", \"influential\", \"resale\", \"pull\", \"protect\", \"provider\", \"node\", \"pattern\", \"top\", \"reconstruction\", \"visualizing\", \"fertile\", \"root\", \"trick\", \"old\", \"working\", \"handle\", \"optimally\", \"collaborative_filtere\", \"bound\", \"naive\", \"partition\", \"tractable\", \"observation\", \"look\", \"research\", \"property\", \"sparsity\", \"professional\", \"fusion\", \"news\", \"selection\", \"result\", \"approach\", \"aware\"], \"Freq\": [2231.0, 1036.0, 789.0, 798.0, 693.0, 559.0, 509.0, 702.0, 534.0, 557.0, 503.0, 420.0, 406.0, 316.0, 368.0, 229.0, 240.0, 183.0, 195.0, 127.0, 288.0, 157.0, 140.0, 183.0, 164.0, 184.0, 130.0, 142.0, 128.0, 112.0, 2229.614668266964, 286.37750837810637, 161.48104719042684, 62.58220670091056, 52.713656198404244, 39.32587794166423, 8.239676367077507, 0.12443428668011167, 0.12429019823952184, 0.12404872306774456, 0.12396355494286898, 0.12395760917746483, 0.12393696837693607, 0.1239584619100277, 0.1239261865665863, 0.12395944313653841, 0.12396544730828248, 0.12390177271649852, 0.12388734635053757, 0.12387059541224768, 0.12388126040991759, 0.12386623829928943, 0.123865046809955, 0.12385379774888584, 0.12385988368950582, 0.12383909103249326, 0.12383110104519181, 0.12384470972239384, 0.1238361006278892, 0.12383120617660366, 0.12386358665145693, 0.12385517613850802, 0.12388353825717459, 0.1238751978318336, 0.12387594543298461, 0.12389581526982639, 1034.4501184947205, 700.8621656123088, 30.311822020357116, 21.15746538706442, 11.23188044810518, 0.1304462485244512, 0.13015552780460898, 0.13017691088175273, 0.13014785631731215, 0.1300988670270639, 0.13019402848463188, 0.13005716724134253, 0.13009281100856507, 0.13006111439663218, 0.13005492309256897, 0.13005026767756, 0.13005840072737054, 0.1300710141167538, 0.13005098389525369, 0.13007633004363586, 0.1300446015998055, 0.1300406703604646, 0.13004195955231324, 0.13002140410450438, 0.1300383148000498, 0.13002229539763432, 0.13004030429364338, 0.1300121728542302, 0.1300275078708495, 0.13008663562045059, 0.1300962647694435, 0.13004325670213623, 0.13004356706313683, 0.13004524619572982, 0.13005675342667505, 0.1300504905008425, 0.1300434556514956, 691.1052787084543, 182.44376319340623, 117.03209003427976, 92.34318579960394, 58.64057067377143, 56.54816509079302, 53.17634422065985, 43.24446283815543, 39.202156441104066, 17.001648931600265, 16.08097187490984, 11.6361125170533, 11.087712169392013, 6.270719425810556, 3.2368385840978555, 0.10427700366167518, 0.10435391552510333, 0.10425771971015244, 0.10419657714256629, 0.10422953403778161, 0.10417087972200484, 0.10415222405406396, 0.10415222405406396, 0.10415693307061323, 0.10420923612364653, 0.10415018990820979, 0.10416329677461574, 0.10416154877771965, 0.10414182316150074, 0.10414000673767988, 0.10421731672139753, 0.10416297330188051, 0.10416758900898693, 0.10418401147092889, 0.10418643129581351, 0.1041696231548411, 0.10417620458087694, 0.10416468397499948, 796.1552482202864, 181.40272596703616, 146.1933657016606, 60.652443901260135, 27.406533054364946, 4.766945371004794, 0.11125649690479424, 0.11127056638028769, 0.11131210966329524, 0.11137984156134391, 0.11123079305533501, 0.11118221503458073, 0.11118541674214495, 0.11119370285151009, 0.11128123122308964, 0.11117170802243337, 0.11117271137445174, 0.11116307243090454, 0.1111655413532868, 0.11115704104517617, 0.11119239511180076, 0.11115725524392166, 0.11118871991227283, 0.1111389807088456, 0.11113539569826314, 0.11115742434819441, 0.11115218211573892, 0.11114041245835496, 0.11114824762299275, 0.11113347918317187, 0.11120835855514911, 0.11119271077310991, 0.11119904654652925, 0.11114896913455652, 0.11116736767943258, 0.11115786401930358, 0.11116109954772235, 555.6493475465163, 366.73319911055887, 111.93382662966317, 42.85626426943128, 40.88487524469342, 14.451837397288648, 12.9208403687539, 3.872691293380154, 3.6258213580351693, 1.5439658947999622, 0.09838998659040878, 0.09826807585976055, 0.09820742071528009, 0.09832547597825206, 0.09823554666800027, 0.09814675503673492, 0.09814696571802871, 0.09818806963844601, 0.098131059280348, 0.09814963083639508, 0.09811976676300117, 0.09811566901183708, 0.09812400145700624, 0.09810975940154643, 0.0981008054465606, 0.09810058423120212, 0.09810112146850127, 0.09810103719598376, 0.09808847005680953, 0.09808705849214118, 0.09811338311979952, 0.09813176506268219, 0.09811970355861303, 0.09810423955164928, 787.9007191005509, 42.649961317448344, 29.080710593363722, 27.765251525078035, 6.14151596203266, 3.61338862886669, 0.1415108968984162, 0.14149655996672983, 0.14149747284106642, 0.14149376368849878, 0.14149664644956172, 0.14144266194405636, 0.14143733844529346, 0.1414240681352004, 0.14144840824777516, 0.14142681636741372, 0.1414308426236983, 0.14140201501306887, 0.14144864847786373, 0.1414026203928921, 0.1414020438406795, 0.1414036677960783, 0.1413951828693497, 0.14139528857058867, 0.1413955384098808, 0.14140557041837984, 0.1413996127121831, 0.14143739610051473, 0.14145340503361759, 0.1414107305606825, 0.1414058298668755, 0.14142716229874128, 0.14149294690619763, 0.14141637116316233, 0.1414539623674231, 0.14145377979255577, 0.14145655685237973, 0.14152999038585642, 0.14144100916104693, 0.14148955485734688, 0.14141900408493316, 0.14143521481131044, 0.14142913218546763, 0.1414322263490085, 418.6535363138059, 162.2815962618823, 81.08143356058407, 80.42736723454549, 58.523754303101576, 31.842956514334503, 23.702511954123995, 22.350110861220266, 14.406589556605285, 4.524508030067287, 0.10502935732962737, 0.1049703351864237, 0.10498070989707942, 0.10494100040557215, 0.10493696334739007, 0.10493831197162994, 0.10495074928406428, 0.1049258834737331, 0.10492459655125584, 0.10492543393231982, 0.10492139687413772, 0.10492893330371346, 0.10491094283264436, 0.10496116806740759, 0.10490631520044873, 0.10489505022150394, 0.1048956584245925, 0.10491348141944881, 0.10493148951959295, 0.10489430098581512, 0.10495141037437794, 0.10493308495088326, 0.10494189948839874, 0.10492056830761126, 532.5585867001417, 193.60526896681438, 93.81428558135042, 33.04485425472961, 8.365140114399235, 4.5741954403765135, 3.108145659890459, 0.10795269671572391, 0.10784493294591656, 0.10780706086075133, 0.10779050049384072, 0.10785550210155218, 0.10775484801806247, 0.10775490004015748, 0.10774629905378295, 0.10774489445721776, 0.10774325576122504, 0.10781166481615946, 0.10780443374495347, 0.10775067758011272, 0.10774756492476147, 0.10777820593872069, 0.10778217695863956, 0.10773581660163901, 0.10775306192613389, 0.1077497411824026, 0.1077443482252202, 0.10773842637673854, 0.1077323918137177, 0.1077352790399906, 0.10775196079178957, 0.10777963654633338, 0.10778466534885074, 0.1077432384205267, 0.10778828088445375, 0.10775369486162314, 501.1622529378358, 125.13000760224885, 57.88408334511416, 49.33126921751135, 9.49613402468087, 0.142511979891393, 0.14251176712391542, 0.1425210522966371, 0.1425380311413482, 0.14249594573428237, 0.14246611573392529, 0.14246612424462438, 0.1424697498024424, 0.14246569019897012, 0.14247385195941017, 0.14247553707783264, 0.14244763900617202, 0.14246139229592295, 0.14242608140534335, 0.1424290941928259, 0.14242655800449314, 0.14243700063229287, 0.14244020916585481, 0.14246453274389206, 0.14241690687170996, 0.14241690687170996, 0.1424169749573028, 0.14241737496016066, 0.14241705155359474, 0.1424159877162068, 0.14245228584788241, 0.14244563899188273, 0.1424687114971518, 0.14244539218160873, 0.14244437940841545, 0.14246030292643772, 0.14250464366876595, 0.14248075413638298, 0.14244849007608235, 0.14244054108311985, 404.96384974910694, 238.60574506013313, 86.34699948548048, 42.842849178972685, 38.39320125200959, 11.685946941581971, 8.936919503056917, 5.4633957388199414, 0.9053261378301297, 0.10907098234166826, 0.10901930057422014, 0.1090194360885235, 0.1090208843976408, 0.10900835779422292, 0.10899827044826575, 0.1089991004733739, 0.10900447022764498, 0.10900103155219694, 0.10897173505373692, 0.10897253966991319, 0.10899949854664005, 0.10895700634288928, 0.1089730732574827, 0.1089556681391435, 0.10895101830460907, 0.10894392074297002, 0.1090577019399379, 0.10893326593086747, 0.1089356289615325, 0.10892788770695243, 0.10896706827991458, 0.1089754871060115, 0.10895835301627903, 0.10894741870592578, 0.1089498918419623, 557.5145230947953, 141.00143491550605, 58.113824679291504, 50.934402437725716, 0.9673935543899719, 0.10988748297026035, 0.10985416243522131, 0.10986227324603558, 0.10984361838116274, 0.10984470258138385, 0.10982277028683504, 0.10983616967735373, 0.10980608519030281, 0.10983626899340451, 0.10982887822395844, 0.10982771953669926, 0.1098540217374827, 0.109836773849996, 0.10980210427193376, 0.10981600851904395, 0.10980297328737816, 0.10983757665473987, 0.10980119387480156, 0.10979957998897627, 0.10980854326255979, 0.10979895926365885, 0.10982826577497859, 0.10978815864313575, 0.10978815864313575, 0.10979103053227102, 0.10985088500554534, 0.10980941227800418, 0.10982790989246327, 0.10990561642586656, 0.1098319652978704, 0.10982966447602717, 0.10981735756206715, 0.10981163861280932, 0.10981137377000723, 0.10981249107557858, 0.1098100578323343, 227.3574525920598, 126.05896066634126, 79.51262605776805, 61.58261531815597, 51.76706334619131, 46.12435850981103, 36.5497143222226, 31.288410256755277, 26.41861423981381, 13.32653509075926, 9.87603479850462, 9.241233794303284, 0.08780961588493967, 0.08780748116805008, 0.08774875146526154, 0.0877534778284084, 0.08777094109767909, 0.08774554582016647, 0.08772396304706535, 0.08772467699920233, 0.08772399160515083, 0.08773189505530728, 0.08771152600083904, 0.08771161167509547, 0.08770905572644506, 0.08772341330391988, 0.0877226493751333, 0.08770707093950424, 0.0877173875478837, 0.08771462455311356, 0.08774349677753332, 0.08779410170500294, 0.08772694736699796, 0.08772954615277659, 0.08772030761212397, 0.08772626911246782, 507.4864246115943, 77.64023629543097, 4.477728989977005, 0.1087681912239375, 0.10876154455564077, 0.10878015256287629, 0.10868580716899709, 0.10876212397462054, 0.10867924042055964, 0.10868081217779213, 0.10867135499444408, 0.1086884711643064, 0.10867656976526206, 0.10866931703803247, 0.1086721475330486, 0.10867184117358804, 0.1087089306482819, 0.10867062239573402, 0.10865884753646687, 0.10865451188410098, 0.10865016957174681, 0.10865016957174681, 0.10865075565071484, 0.10865016291175852, 0.10865016957174681, 0.10865023617162953, 0.10865030943150054, 0.10865037603138328, 0.10865020287168817, 0.10865884753646687, 0.10865686285996144, 0.10867756210351477, 0.10873403880407215, 0.1086639757274373, 0.10866027277395736, 0.10865230742798253, 0.1086540323649453, 0.1086569227998559, 0.10865831473740502, 0.1086576487385777, 0.10865532440267031, 0.10865563076213089, 0.10865627012100512, 155.06264674006135, 100.69776507275044, 96.26711805993789, 59.49624268811852, 41.54785099637914, 38.89191501748423, 18.007915743531566, 12.942421449833809, 12.363394268037938, 0.1030734450839968, 0.10306276627019947, 0.10308141123359961, 0.10304537330565833, 0.1030327305720822, 0.10304413358129795, 0.10310346850761544, 0.10303678115662601, 0.1030330128855504, 0.10304084401566845, 0.10302226042476138, 0.10302218677776968, 0.10303868370391174, 0.10304473503173021, 0.1030221990522683, 0.10302402795256232, 0.10301492027458807, 0.10301978097604063, 0.10300561620463593, 0.1030060212630903, 0.1030060212630903, 0.10300918808373365, 0.10302310736516601, 0.10303518547180572, 0.1030295146534444, 0.10306907536248892, 0.10302998108439186, 0.1030223340717531, 314.10113510801716, 128.45660290236486, 33.60971167529489, 15.90426158082655, 0.09240045199173175, 0.09237322175543292, 0.0923270718458133, 0.09234953721020278, 0.09230329781942055, 0.09239782907515254, 0.09229294037484766, 0.09228722476558551, 0.09231732399166073, 0.09228893050024789, 0.09228591051100958, 0.09227983697709696, 0.0922803682715, 0.09228022286461075, 0.09228097226934767, 0.09227844442650374, 0.09228990920046402, 0.09227479247655444, 0.09228669906375514, 0.09227480925427244, 0.09227424440443341, 0.09233004150189765, 0.09227424440443341, 0.09227495466116169, 0.09231438789101237, 0.0922743394781687, 0.09229237552500864, 0.09231890109715186, 0.09229889646473434, 0.09228625725051472, 0.09229473559067267, 0.0922810281950743, 0.09227872405513692, 138.5664291037701, 110.23626304297566, 84.52923124666744, 17.352414536010116, 15.746968596461409, 11.472553375049138, 3.866396848674684, 0.10708022288320337, 0.10704634863348565, 0.1070556065732275, 0.10704473411419292, 0.10703764249147675, 0.10702099659319916, 0.10702039370308353, 0.1070211192149176, 0.10702860935821869, 0.10702570731088239, 0.1070204141400366, 0.10704699239750744, 0.10702081266062151, 0.10701544796043996, 0.10701584648102488, 0.10701309771083663, 0.10701309771083663, 0.10701338382817964, 0.10701338382817964, 0.10701339404665618, 0.10701341448360925, 0.1070204447954662, 0.10702190603761089, 0.10702871154298405, 0.10702110899644106, 0.1070879787068944, 0.10702054698023157, 0.1070222739027662, 0.10701675592543661, 0.10704757485067, 0.10702258045706228, 0.10702106812253492, 76.12075772155897, 75.44696612981302, 67.03280243422535, 46.79659167083831, 10.238016569829457, 5.840142187099659, 0.10724827227655144, 0.10724828104239927, 0.10724874563233412, 0.10724847389105147, 0.10716568045832187, 0.10722752351474403, 0.10717346453119259, 0.10715730907364672, 0.10716012291079931, 0.10716129753440819, 0.10715769477095113, 0.1071568532495597, 0.1071568532495597, 0.10715730907364672, 0.1071659171362132, 0.10715808923410336, 0.10715758081492938, 0.10716397111799553, 0.10715204079910247, 0.10717788251849758, 0.10715687954710318, 0.10714540505229714, 0.10714444957488396, 0.10714556283755804, 0.10718119600897633, 0.10718670972725976, 0.10716269130421273, 0.10716680248684378, 181.64796061186345, 65.48814064620852, 19.39901631810917, 13.011181351045218, 8.428446518810057, 1.7600449832066631, 0.07866455166840955, 0.07866455166840955, 0.07866455166840955, 0.07866460511976046, 0.07852849507262079, 0.07852849507262079, 0.0785285485239717, 0.07852850270852806, 0.07847660144679408, 0.07846878227774662, 0.0784670641986102, 0.07847178318930487, 0.07846730854764294, 0.0784670641986102, 0.07846274227509374, 0.07846274227509374, 0.07846946950940117, 0.07846274227509374, 0.07846274227509374, 0.07845913812686092, 0.07845913812686092, 0.0784596802762773, 0.07846289499323919, 0.07846274227509374, 0.07852969391006263, 0.0784631775218083, 0.07850753450715664, 0.07848171750466693, 0.07846749944532476, 0.07846747653760294, 0.07846710237814657, 0.07846504068318289, 0.07846291790096102, 125.71433465650564, 9.581344555278916, 8.858014735188355, 6.899575024244806, 0.06309290000477885, 0.06309224714574942, 0.06309224714574942, 0.06309261314247804, 0.06309243509001547, 0.06304706633337136, 0.06304031023159704, 0.06302272755091788, 0.06301436403107866, 0.06301436403107866, 0.06301650066062954, 0.06302848952644283, 0.06301436403107866, 0.06301112446544016, 0.06300933404901095, 0.06301436403107866, 0.06301112446544016, 0.06300725182437919, 0.06300725182437919, 0.06300570870303689, 0.06300725182437919, 0.06300725182437919, 0.06300570870303689, 0.06300805306046077, 0.06300221689640974, 0.06300725182437919, 0.0630077859817669, 0.06301118876216276, 0.06300933404901095, 0.06301235104907123, 0.06300933404901095, 6.163372789379874, 3.0515360878166633, 0.7849363317498986, 0.1887300384228825, 0.11967443497479763, 0.031114354718168636, 0.031114773418879912, 0.031109505019282602, 0.031107384405608215, 0.031107384405608215, 0.031107384405608215, 0.031107384405608215, 0.03110617951147504, 0.031107384405608215, 0.03110617951147504, 0.031098070573958768, 0.031097992255840114, 0.03109726028265421, 0.03109726028265421, 0.03109726028265421, 0.03109726028265421, 0.031095778262870404, 0.031095841519812394, 0.031095624638868422, 0.031095799348517732, 0.031095224011569143, 0.03109523304827514, 0.031095224011569143, 0.0310950372529785, 0.0310950372529785, 0.03109726028265421, 0.03109726028265421, 0.03109585658098906, 0.031095799348517732, 0.031095778262870404, 0.03109636866099566, 0.031098139855371427, 0.031098070573958768, 0.031098139855371427, 0.031098423005492724, 0.031097992255840114], \"Total\": [2231.0, 1036.0, 789.0, 798.0, 693.0, 559.0, 509.0, 702.0, 534.0, 557.0, 503.0, 420.0, 406.0, 316.0, 368.0, 229.0, 240.0, 183.0, 195.0, 127.0, 288.0, 157.0, 140.0, 183.0, 164.0, 184.0, 130.0, 142.0, 128.0, 112.0, 2231.550851390642, 288.3136915017841, 163.41723031410444, 64.51838982458821, 54.64983932208189, 41.262061065341875, 10.175859499521007, 2.062303740968742, 2.0630900760319824, 2.0607204942874033, 2.0606741082585813, 2.060677954770684, 2.060424163493724, 2.0611912945776627, 2.060772266807045, 2.061404149588387, 2.0615119704130893, 2.0605058333044397, 2.060473054909323, 2.0602452718366573, 2.0604740472787615, 2.0603979977984825, 2.0604105334859906, 2.0603533648804597, 2.06050933841231, 2.0601887674015584, 2.0600604302183307, 2.0604025807047432, 2.0602674847685822, 2.0601920664482543, 2.0607766685922067, 2.060642120516775, 2.061338557664578, 2.061161307826757, 2.0612150934854427, 2.0617908256823134, 1036.3800856031842, 702.7921327207721, 32.24178912882022, 23.08743249552753, 13.161847556568285, 2.0630900760319824, 2.0605771354835074, 2.061161307826757, 2.0611912945776627, 2.060772266807045, 2.062303740968742, 2.0602982355945634, 2.06086807984638, 2.0603812448201175, 2.0602844275068244, 2.0602680596965337, 2.0604023392757043, 2.060659005019919, 2.0603506691555293, 2.0607766685922067, 2.060280742547071, 2.0603959569289456, 2.060442404403393, 2.060172041810519, 2.060516938228245, 2.0602674847685822, 2.060575470533479, 2.0601738143269843, 2.060435050136233, 2.061404149588387, 2.0617908256823134, 2.060888266895376, 2.0609401030515806, 2.061018390232592, 2.0615119704130893, 2.061338557664578, 2.0609898788863323, 693.061120731036, 184.3996052159877, 118.98793205686127, 94.29902782218545, 60.59641269635292, 58.50400711337451, 55.13218624324134, 45.20030486073692, 41.15799846368556, 18.957490954181775, 18.036813968564577, 13.591954652651742, 13.043554191973518, 8.226561448392063, 5.192680606679361, 2.0609898788863323, 2.0630900760319824, 2.061404149588387, 2.0605058333044397, 2.061338557664578, 2.0602609878308726, 2.0600467415936587, 2.0600467415936587, 2.060150768156428, 2.0611912945776627, 2.060231520881515, 2.0605422417158246, 2.06050933841231, 2.0601721697645967, 2.060148278959646, 2.0617908256823134, 2.060659005019919, 2.0607766685922067, 2.0612150934854427, 2.0615119704130893, 2.061018390232592, 2.062303740968742, 2.060888266895376, 798.1040614544924, 183.35153920124188, 148.14217893586633, 62.60125713546589, 29.355346288570722, 6.715758605210566, 2.060676249986329, 2.0609401030515806, 2.0617908256823134, 2.0630900760319824, 2.0606297868567585, 2.060100322121973, 2.060223376923188, 2.0606741082585813, 2.062303740968742, 2.0603533648804597, 2.060435050136233, 2.0602676097983843, 2.060314154725099, 2.0601908556790542, 2.06086807984638, 2.0602528169308454, 2.060888266895376, 2.060020932629953, 2.059990964467897, 2.0604105334859906, 2.0603138477703444, 2.060102922033455, 2.0602486391253834, 2.0600056277934895, 2.061404149588387, 2.0611912945776627, 2.0615119704130893, 2.0603506691555293, 2.0612150934854427, 2.060772266807045, 2.061161307826757, 557.6112270240013, 368.6950785880438, 113.89570610714804, 44.81814374691616, 42.8467547221783, 16.413716874773538, 14.882719869953663, 5.834570785223462, 5.587700835520056, 3.505845372284848, 2.0617908256823134, 2.061161307826757, 2.0604612527430315, 2.0630900760319824, 2.0615119704130893, 2.060100038764951, 2.0601082142129217, 2.061404149588387, 2.0602680596965337, 2.060659005019919, 2.0603506691555293, 2.0602982355945634, 2.0605771354835074, 2.0602844275068244, 2.0601721697645967, 2.060231520881515, 2.0602609878308726, 2.0602743379333006, 2.060091317145534, 2.0601018913474634, 2.0607036606133065, 2.061338557664578, 2.062303740968742, 2.0611912945776627, 789.8192681220381, 44.568510338935404, 30.99925961485079, 29.683800546565102, 8.060064983519728, 5.531937650353758, 2.0603895346623053, 2.0603628697288325, 2.0604529556283397, 2.0604739553404774, 2.0607036606133065, 2.0602565291172845, 2.06028885287777, 2.060136779039599, 2.0605009611366087, 2.060255826092923, 2.0603348287556003, 2.0599861782108495, 2.060676249986329, 2.060017937952091, 2.0600102441598005, 2.0600768010534782, 2.05997473905162, 2.0599802225304304, 2.059990186360365, 2.0601422746864952, 2.0600775729475216, 2.0606297868567585, 2.06086807984638, 2.0602486391253834, 2.0601864734553152, 2.060575470533479, 2.0617908256823134, 2.0604023392757043, 2.0611912945776627, 2.0612150934854427, 2.061338557664578, 2.0630900760319824, 2.061018390232592, 2.062303740968742, 2.0604612527430315, 2.0609401030515806, 2.060772266807045, 2.0615119704130893, 420.6086144120856, 164.236674360162, 83.03651165886379, 82.3824453328252, 60.47883240138129, 33.79803461261422, 25.65759005240372, 24.30518895949999, 16.36166765488501, 6.479586128347011, 2.061338557664578, 2.0603427856064984, 2.0605958409850413, 2.0600416364131195, 2.0602391056545954, 2.0603910511906083, 2.060642120516775, 2.060210741810843, 2.0602243354462946, 2.060350750882157, 2.060290375430295, 2.0604488771951233, 2.0602232490263006, 2.0612150934854427, 2.0601646570216743, 2.0600110992931664, 2.060063816163582, 2.0604391814714105, 2.0608048816411424, 2.0600903600403258, 2.0617908256823134, 2.0615119704130893, 2.0630900760319824, 2.062303740968742, 534.5107953590124, 195.55747762568478, 95.76649424022085, 34.99706291360004, 10.317348773269673, 6.5264040992469505, 5.060354318760896, 2.0617908256823134, 2.0604658112850127, 2.0602116580054965, 2.060162899474558, 2.0615119704130893, 2.060122265275799, 2.060151351153266, 2.060045950112314, 2.060036278126338, 2.060027009105673, 2.061338557664578, 2.0612150934854427, 2.060209044249162, 2.0601505517229186, 2.0607766685922067, 2.06086807984638, 2.060011102956757, 2.0603409087692466, 2.060322255134444, 2.060221032745084, 2.060135163048068, 2.0600368870267114, 2.0600984257227073, 2.0604875761971853, 2.061161307826757, 2.061404149588387, 2.0603959569289456, 2.0630900760319824, 2.062303740968742, 503.0797911239292, 127.04754578834232, 59.80162153120763, 51.248807403604815, 11.413672210774346, 2.060329261365617, 2.060368860448113, 2.060689697592178, 2.061018390232592, 2.0604391814714105, 2.060015359925105, 2.0600156298693895, 2.0603144713178128, 2.0603348287556003, 2.06048730745363, 2.060575470533479, 2.060192627026235, 2.0604875761971853, 2.060005367397679, 2.0600639742010185, 2.0600359254324436, 2.060204859809207, 2.0602820511010176, 2.060676249986329, 2.05998783828233, 2.0599918573371427, 2.059996687400284, 2.060003255674384, 2.060000568735103, 2.0599894870250623, 2.060516938228245, 2.0605009611366087, 2.0609898788863323, 2.0607766685922067, 2.0609401030515806, 2.0615119704130893, 2.0630900760319824, 2.062303740968742, 2.061404149588387, 2.0617908256823134, 406.91487006306295, 240.55676537408914, 88.2980197994365, 44.793869492928714, 40.34422156596562, 13.636967255538002, 10.887939997450335, 7.414416052775972, 2.8563464517861608, 2.060642120516775, 2.060104538528223, 2.0601105589662305, 2.0602564644040746, 2.0602243354462946, 2.060162899474558, 2.0602116580054965, 2.060350750882157, 2.0604658112850127, 2.0601920664482543, 2.0602674847685822, 2.0608048816411424, 2.060068749641653, 2.060473054909323, 2.06022283317326, 2.0602486391253834, 2.060137406521875, 2.062303740968742, 2.059992436079456, 2.0600791743509155, 2.0599745509147196, 2.0607766685922067, 2.061018390232592, 2.0609898788863323, 2.060689697592178, 2.0612150934854427, 559.4646728488844, 142.95158466959504, 60.0639744333805, 52.88455219181471, 2.917543308478973, 2.0602785071041003, 2.060066505204921, 2.060247092257927, 2.0603895346623053, 2.0605958409850413, 2.0602420912247332, 2.0605771354835074, 2.0600470646123226, 2.0606297868567585, 2.0605009611366087, 2.0604875761971853, 2.0609898788863323, 2.0606741082585813, 2.060023994319669, 2.060295250287572, 2.0601175764658746, 2.060772266807045, 2.0601665060665577, 2.060136779039599, 2.060314154725099, 2.060147177943335, 2.0607036606133065, 2.0599514366775344, 2.0599514366775344, 2.0600338822621134, 2.0611912945776627, 2.060389054764304, 2.060888266895376, 2.0630900760319824, 2.061161307826757, 2.0612150934854427, 2.0609401030515806, 2.060659005019919, 2.061404149588387, 2.0617908256823134, 2.0615119704130893, 229.32969086035158, 128.0311989346331, 81.48486432605986, 63.554853586447784, 53.73930161448312, 48.09659680766965, 38.52195259051441, 33.26064852504709, 28.390852508105624, 15.29877335905107, 11.84827311158305, 11.213472062595097, 2.061338557664578, 2.061404149588387, 2.060210741810843, 2.0603895346623053, 2.0608048816411424, 2.0603427856064984, 2.060005681551297, 2.0600621179383274, 2.0600637705860745, 2.060280742547071, 2.059983158558538, 2.0600373082446333, 2.0600185539117613, 2.060364476654503, 2.0603959569289456, 2.060066407998895, 2.0603138477703444, 2.0602528169308454, 2.061161307826757, 2.0630900760319824, 2.0609898788863323, 2.0617908256823134, 2.06086807984638, 2.062303740968742, 509.4377214944536, 79.59153317829032, 6.429025872836357, 2.060163641645407, 2.06011580097788, 2.060677954770684, 2.0600490140086323, 2.0615119704130893, 2.060007303065942, 2.060039079331699, 2.0600728688781507, 2.0604025807047432, 2.0601864734553152, 2.0600717004997486, 2.0601835451325785, 2.0602166484756577, 2.0609401030515806, 2.0602609878308726, 2.060055143457529, 2.060038576890947, 2.0599768876610765, 2.059983370571042, 2.0599985584524867, 2.05999105681287, 2.059992787536402, 2.0599959157565455, 2.060001589502149, 2.060011290558096, 2.0600154088543414, 2.060192808205088, 2.060158303064876, 2.060689697592178, 2.0630900760319824, 2.060516938228245, 2.0604488771951233, 2.0600915179524852, 2.0601931520923062, 2.060389054764304, 2.0604740472787615, 2.0606297868567585, 2.060473054909323, 2.06086807984638, 2.0617908256823134, 157.01957828880586, 102.65469662149499, 98.22404960868244, 61.453174236863056, 43.50478261232021, 40.848846566228765, 19.964847292276108, 14.899353011800587, 14.320325816782477, 2.0602478851999844, 2.0600827621597833, 2.0605422417158246, 2.0600546980906542, 2.060013039641542, 2.060295250287572, 2.0615119704130893, 2.060183553063558, 2.0601507635009972, 2.060346300050344, 2.060036070853619, 2.0600384748815452, 2.0603812448201175, 2.060517195699335, 2.0600978623719906, 2.0601443208784582, 2.0599799433722583, 2.060166742369693, 2.0599518351698602, 2.05996248863899, 2.05996248863899, 2.060038589448471, 2.0604391814714105, 2.060888266895376, 2.061018390232592, 2.0630900760319824, 2.061338557664578, 2.062303740968742, 316.06879674178435, 130.42426453613206, 35.57737330906209, 17.871923214593764, 2.061018390232592, 2.0605692202098127, 2.0601390657017395, 2.0608048816411424, 2.060059311577937, 2.062303740968742, 2.0600984257227073, 2.0599930017418164, 2.0606741082585813, 2.060137406521875, 2.060071000831182, 2.0599594669493095, 2.0599840624739256, 2.0599855295971277, 2.060058108321872, 2.0600048231645527, 2.060271392760227, 2.0599502725162417, 2.060221032745084, 2.0599567108067727, 2.0599682664526036, 2.0612150934854427, 2.059975414155635, 2.0599982161162993, 2.060888266895376, 2.0600127230000975, 2.0604740472787615, 2.061404149588387, 2.0607766685922067, 2.0604391814714105, 2.0609401030515806, 2.0604025807047432, 2.060659005019919, 140.51934919332788, 112.18918313253346, 86.48215133622523, 19.305334625567912, 17.699888686019204, 13.425473464606931, 5.819317004323382, 2.060192808205088, 2.060028174309298, 2.0602107841651107, 2.0602705333048257, 2.0601893869141508, 2.059978817330701, 2.059972022676701, 2.059986036733033, 2.0601485315389176, 2.0600984257227073, 2.0600048231645527, 2.060516938228245, 2.060034150408743, 2.0599725200698384, 2.059989783373733, 2.059968126404251, 2.0599733485277425, 2.0599824833023606, 2.0599824833023606, 2.0599866156150686, 2.059998198877601, 2.060136779039599, 2.0601665060665577, 2.060389054764304, 2.0602075782259885, 2.0630900760319824, 2.0602982355945634, 2.0603959569289456, 2.0601638374925852, 2.062303740968742, 2.0607204942874033, 2.061018390232592, 78.0735564522134, 77.39976486046744, 68.98560116487977, 48.74939040149275, 12.190815300483893, 7.792940952797899, 2.0602232490263006, 2.060290375430295, 2.0603910511906083, 2.061338557664578, 2.060004493957787, 2.0612150934854427, 2.06028559171334, 2.059989008403213, 2.0600604495675796, 2.060085827776118, 2.060017937952091, 2.060003696185571, 2.0600102441598005, 2.0600233698082313, 2.06022283317326, 2.060151982756514, 2.0601422746864952, 2.0602676097983843, 2.060059654096996, 2.060575470533479, 2.0601864734553152, 2.0599712939539954, 2.0599874180748055, 2.0600439907557133, 2.0609401030515806, 2.0611912945776627, 2.0605422417158246, 2.062303740968742, 183.62943372653936, 67.46961376088441, 21.380489432785073, 14.99265446572112, 10.40991963348596, 3.7415180978825653, 2.0603628697288325, 2.0604529556283397, 2.0604739553404774, 2.0607036606133065, 2.060329261365617, 2.060368860448113, 2.060689697592178, 2.061018390232592, 2.0600768010534782, 2.060016852629594, 2.05998009027133, 2.060135081548326, 2.0600629891348934, 2.0600684927448496, 2.059978817330701, 2.059986036733033, 2.060175985482537, 2.0600559356704715, 2.0600679125363865, 2.059974786758335, 2.0599775092640153, 2.0599963385458078, 2.0600808047698878, 2.0600985484930323, 2.0630900760319824, 2.0601665060665577, 2.062303740968742, 2.061161307826757, 2.0604612527430315, 2.060888266895376, 2.0615119704130893, 2.0608048816411424, 2.060676249986329, 127.71126133151337, 11.578271230286653, 10.854941442990505, 8.896501699252543, 2.0602648966504282, 2.0602705333048257, 2.060271392760227, 2.060364476654503, 2.0612150934854427, 2.0605692202098127, 2.0604488771951233, 2.0600080248561166, 2.059961993097699, 2.0599749395025873, 2.0600483308033093, 2.06048730745363, 2.0600327989008944, 2.060038589448471, 2.060000568735103, 2.0601864734553152, 2.060094271035632, 2.059981819356089, 2.0600276070999937, 2.059985820984341, 2.060058144256381, 2.06006365314592, 2.0600600406463423, 2.0601492216071624, 2.059964156408461, 2.060133703275327, 2.060181657842273, 2.0605422417158246, 2.060676249986329, 2.061404149588387, 2.0609898788863323, 8.192188040900774, 5.080351339337563, 2.813751583270798, 2.217545289943782, 2.1484896864956973, 2.059974787934359, 2.0602820511010176, 2.0599388084382713, 2.059956029735656, 2.059956029735656, 2.059956708173376, 2.0599599038616456, 2.0599286368351626, 2.0600704564113754, 2.060135081548326, 2.059920145775125, 2.059945276748757, 2.0599175499943683, 2.059918109767185, 2.0599257164145923, 2.059925795853012, 2.05991474783399, 2.0599198863125165, 2.05991211146875, 2.0599350882087846, 2.059911798581375, 2.059915328724204, 2.0599219987768542, 2.0599106711860413, 2.0599121655245427, 2.0600770238067536, 2.060096079105773, 2.0599790270890277, 2.05998009027133, 2.059981668601908, 2.0600940024941616, 2.060442404403393, 2.060517195699335, 2.060677954770684, 2.06086807984638, 2.061404149588387], \"Category\": [\"Default\", \"Default\", \"Default\", \"Default\", \"Default\", \"Default\", \"Default\", \"Default\", \"Default\", \"Default\", \"Default\", \"Default\", \"Default\", \"Default\", \"Default\", \"Default\", \"Default\", \"Default\", \"Default\", \"Default\", \"Default\", \"Default\", \"Default\", \"Default\", \"Default\", \"Default\", \"Default\", \"Default\", \"Default\", \"Default\", \"Topic1\", \"Topic1\", \"Topic1\", \"Topic1\", \"Topic1\", \"Topic1\", \"Topic1\", \"Topic1\", \"Topic1\", \"Topic1\", \"Topic1\", \"Topic1\", \"Topic1\", \"Topic1\", \"Topic1\", \"Topic1\", \"Topic1\", \"Topic1\", \"Topic1\", \"Topic1\", \"Topic1\", \"Topic1\", \"Topic1\", \"Topic1\", \"Topic1\", \"Topic1\", \"Topic1\", \"Topic1\", \"Topic1\", \"Topic1\", \"Topic1\", \"Topic1\", \"Topic1\", \"Topic1\", \"Topic1\", \"Topic1\", \"Topic2\", \"Topic2\", \"Topic2\", \"Topic2\", \"Topic2\", \"Topic2\", \"Topic2\", \"Topic2\", \"Topic2\", \"Topic2\", \"Topic2\", \"Topic2\", \"Topic2\", \"Topic2\", \"Topic2\", \"Topic2\", \"Topic2\", \"Topic2\", \"Topic2\", \"Topic2\", \"Topic2\", \"Topic2\", \"Topic2\", \"Topic2\", \"Topic2\", \"Topic2\", \"Topic2\", \"Topic2\", \"Topic2\", \"Topic2\", \"Topic2\", \"Topic2\", \"Topic2\", \"Topic2\", \"Topic2\", \"Topic2\", \"Topic2\", \"Topic3\", \"Topic3\", \"Topic3\", \"Topic3\", \"Topic3\", \"Topic3\", \"Topic3\", \"Topic3\", \"Topic3\", \"Topic3\", \"Topic3\", \"Topic3\", \"Topic3\", \"Topic3\", \"Topic3\", \"Topic3\", \"Topic3\", \"Topic3\", \"Topic3\", \"Topic3\", \"Topic3\", \"Topic3\", \"Topic3\", \"Topic3\", \"Topic3\", \"Topic3\", \"Topic3\", \"Topic3\", \"Topic3\", \"Topic3\", \"Topic3\", \"Topic3\", \"Topic3\", \"Topic3\", \"Topic3\", \"Topic3\", \"Topic3\", \"Topic3\", \"Topic4\", \"Topic4\", \"Topic4\", \"Topic4\", \"Topic4\", \"Topic4\", \"Topic4\", \"Topic4\", \"Topic4\", \"Topic4\", \"Topic4\", \"Topic4\", \"Topic4\", \"Topic4\", \"Topic4\", \"Topic4\", \"Topic4\", \"Topic4\", \"Topic4\", \"Topic4\", \"Topic4\", \"Topic4\", \"Topic4\", \"Topic4\", \"Topic4\", \"Topic4\", \"Topic4\", \"Topic4\", \"Topic4\", \"Topic4\", \"Topic4\", \"Topic4\", \"Topic4\", \"Topic4\", \"Topic4\", \"Topic4\", \"Topic4\", \"Topic5\", \"Topic5\", \"Topic5\", \"Topic5\", \"Topic5\", \"Topic5\", \"Topic5\", \"Topic5\", \"Topic5\", \"Topic5\", \"Topic5\", \"Topic5\", \"Topic5\", \"Topic5\", \"Topic5\", \"Topic5\", \"Topic5\", \"Topic5\", \"Topic5\", \"Topic5\", \"Topic5\", \"Topic5\", \"Topic5\", \"Topic5\", \"Topic5\", \"Topic5\", \"Topic5\", \"Topic5\", \"Topic5\", \"Topic5\", \"Topic5\", \"Topic5\", \"Topic5\", \"Topic5\", \"Topic6\", \"Topic6\", \"Topic6\", \"Topic6\", \"Topic6\", \"Topic6\", \"Topic6\", \"Topic6\", \"Topic6\", \"Topic6\", \"Topic6\", \"Topic6\", \"Topic6\", \"Topic6\", \"Topic6\", \"Topic6\", \"Topic6\", \"Topic6\", \"Topic6\", \"Topic6\", \"Topic6\", \"Topic6\", \"Topic6\", \"Topic6\", \"Topic6\", \"Topic6\", \"Topic6\", \"Topic6\", \"Topic6\", \"Topic6\", \"Topic6\", \"Topic6\", \"Topic6\", \"Topic6\", \"Topic6\", \"Topic6\", \"Topic6\", \"Topic6\", \"Topic6\", \"Topic6\", \"Topic6\", \"Topic6\", \"Topic6\", \"Topic6\", \"Topic7\", \"Topic7\", \"Topic7\", \"Topic7\", \"Topic7\", \"Topic7\", \"Topic7\", \"Topic7\", \"Topic7\", \"Topic7\", \"Topic7\", \"Topic7\", \"Topic7\", \"Topic7\", \"Topic7\", \"Topic7\", \"Topic7\", \"Topic7\", \"Topic7\", \"Topic7\", \"Topic7\", \"Topic7\", \"Topic7\", \"Topic7\", \"Topic7\", \"Topic7\", \"Topic7\", \"Topic7\", \"Topic7\", \"Topic7\", \"Topic7\", \"Topic7\", \"Topic7\", \"Topic7\", \"Topic8\", \"Topic8\", \"Topic8\", \"Topic8\", \"Topic8\", \"Topic8\", \"Topic8\", \"Topic8\", \"Topic8\", \"Topic8\", \"Topic8\", \"Topic8\", \"Topic8\", \"Topic8\", \"Topic8\", \"Topic8\", \"Topic8\", \"Topic8\", \"Topic8\", \"Topic8\", \"Topic8\", \"Topic8\", \"Topic8\", \"Topic8\", \"Topic8\", \"Topic8\", \"Topic8\", \"Topic8\", \"Topic8\", \"Topic8\", \"Topic8\", \"Topic8\", \"Topic8\", \"Topic8\", \"Topic8\", \"Topic8\", \"Topic9\", \"Topic9\", \"Topic9\", \"Topic9\", \"Topic9\", \"Topic9\", \"Topic9\", \"Topic9\", \"Topic9\", \"Topic9\", \"Topic9\", \"Topic9\", \"Topic9\", \"Topic9\", \"Topic9\", \"Topic9\", \"Topic9\", \"Topic9\", \"Topic9\", \"Topic9\", \"Topic9\", \"Topic9\", \"Topic9\", \"Topic9\", \"Topic9\", \"Topic9\", \"Topic9\", \"Topic9\", \"Topic9\", \"Topic9\", \"Topic9\", \"Topic9\", \"Topic9\", \"Topic9\", \"Topic9\", \"Topic9\", \"Topic9\", \"Topic9\", \"Topic9\", \"Topic9\", \"Topic10\", \"Topic10\", \"Topic10\", \"Topic10\", \"Topic10\", \"Topic10\", \"Topic10\", \"Topic10\", \"Topic10\", \"Topic10\", \"Topic10\", \"Topic10\", \"Topic10\", \"Topic10\", \"Topic10\", \"Topic10\", \"Topic10\", \"Topic10\", \"Topic10\", \"Topic10\", \"Topic10\", \"Topic10\", \"Topic10\", \"Topic10\", \"Topic10\", \"Topic10\", \"Topic10\", \"Topic10\", \"Topic10\", \"Topic10\", \"Topic10\", \"Topic10\", \"Topic10\", \"Topic10\", \"Topic10\", \"Topic11\", \"Topic11\", \"Topic11\", \"Topic11\", \"Topic11\", \"Topic11\", \"Topic11\", \"Topic11\", \"Topic11\", \"Topic11\", \"Topic11\", \"Topic11\", \"Topic11\", \"Topic11\", \"Topic11\", \"Topic11\", \"Topic11\", \"Topic11\", \"Topic11\", \"Topic11\", \"Topic11\", \"Topic11\", \"Topic11\", \"Topic11\", \"Topic11\", \"Topic11\", \"Topic11\", \"Topic11\", \"Topic11\", \"Topic11\", \"Topic11\", \"Topic11\", \"Topic11\", \"Topic11\", \"Topic11\", \"Topic11\", \"Topic11\", \"Topic11\", \"Topic11\", \"Topic11\", \"Topic11\", \"Topic12\", \"Topic12\", \"Topic12\", \"Topic12\", \"Topic12\", \"Topic12\", \"Topic12\", \"Topic12\", \"Topic12\", \"Topic12\", \"Topic12\", \"Topic12\", \"Topic12\", \"Topic12\", \"Topic12\", \"Topic12\", \"Topic12\", \"Topic12\", \"Topic12\", \"Topic12\", \"Topic12\", \"Topic12\", \"Topic12\", \"Topic12\", \"Topic12\", \"Topic12\", \"Topic12\", \"Topic12\", \"Topic12\", \"Topic12\", \"Topic12\", \"Topic12\", \"Topic12\", \"Topic12\", \"Topic12\", \"Topic12\", \"Topic13\", \"Topic13\", \"Topic13\", \"Topic13\", \"Topic13\", \"Topic13\", \"Topic13\", \"Topic13\", \"Topic13\", \"Topic13\", \"Topic13\", \"Topic13\", \"Topic13\", \"Topic13\", \"Topic13\", \"Topic13\", \"Topic13\", \"Topic13\", \"Topic13\", \"Topic13\", \"Topic13\", \"Topic13\", \"Topic13\", \"Topic13\", \"Topic13\", \"Topic13\", \"Topic13\", \"Topic13\", \"Topic13\", \"Topic13\", \"Topic13\", \"Topic13\", \"Topic13\", \"Topic13\", \"Topic13\", \"Topic13\", \"Topic13\", \"Topic13\", \"Topic13\", \"Topic13\", \"Topic13\", \"Topic13\", \"Topic13\", \"Topic14\", \"Topic14\", \"Topic14\", \"Topic14\", \"Topic14\", \"Topic14\", \"Topic14\", \"Topic14\", \"Topic14\", \"Topic14\", \"Topic14\", \"Topic14\", \"Topic14\", \"Topic14\", \"Topic14\", \"Topic14\", \"Topic14\", \"Topic14\", \"Topic14\", \"Topic14\", \"Topic14\", \"Topic14\", \"Topic14\", \"Topic14\", \"Topic14\", \"Topic14\", \"Topic14\", \"Topic14\", \"Topic14\", \"Topic14\", \"Topic14\", \"Topic14\", \"Topic14\", \"Topic14\", \"Topic14\", \"Topic14\", \"Topic14\", \"Topic15\", \"Topic15\", \"Topic15\", \"Topic15\", \"Topic15\", \"Topic15\", \"Topic15\", \"Topic15\", \"Topic15\", \"Topic15\", \"Topic15\", \"Topic15\", \"Topic15\", \"Topic15\", \"Topic15\", \"Topic15\", \"Topic15\", \"Topic15\", \"Topic15\", \"Topic15\", \"Topic15\", \"Topic15\", \"Topic15\", \"Topic15\", \"Topic15\", \"Topic15\", \"Topic15\", \"Topic15\", \"Topic15\", \"Topic15\", \"Topic15\", \"Topic15\", \"Topic15\", \"Topic15\", \"Topic15\", \"Topic15\", \"Topic15\", \"Topic16\", \"Topic16\", \"Topic16\", \"Topic16\", \"Topic16\", \"Topic16\", \"Topic16\", \"Topic16\", \"Topic16\", \"Topic16\", \"Topic16\", \"Topic16\", \"Topic16\", \"Topic16\", \"Topic16\", \"Topic16\", \"Topic16\", \"Topic16\", \"Topic16\", \"Topic16\", \"Topic16\", \"Topic16\", \"Topic16\", \"Topic16\", \"Topic16\", \"Topic16\", \"Topic16\", \"Topic16\", \"Topic16\", \"Topic16\", \"Topic16\", \"Topic16\", \"Topic16\", \"Topic16\", \"Topic16\", \"Topic16\", \"Topic16\", \"Topic16\", \"Topic16\", \"Topic17\", \"Topic17\", \"Topic17\", \"Topic17\", \"Topic17\", \"Topic17\", \"Topic17\", \"Topic17\", \"Topic17\", \"Topic17\", \"Topic17\", \"Topic17\", \"Topic17\", \"Topic17\", \"Topic17\", \"Topic17\", \"Topic17\", \"Topic17\", \"Topic17\", \"Topic17\", \"Topic17\", \"Topic17\", \"Topic17\", \"Topic17\", \"Topic17\", \"Topic17\", \"Topic17\", \"Topic17\", \"Topic17\", \"Topic17\", \"Topic17\", \"Topic17\", \"Topic17\", \"Topic17\", \"Topic18\", \"Topic18\", \"Topic18\", \"Topic18\", \"Topic18\", \"Topic18\", \"Topic18\", \"Topic18\", \"Topic18\", \"Topic18\", \"Topic18\", \"Topic18\", \"Topic18\", \"Topic18\", \"Topic18\", \"Topic18\", \"Topic18\", \"Topic18\", \"Topic18\", \"Topic18\", \"Topic18\", \"Topic18\", \"Topic18\", \"Topic18\", \"Topic18\", \"Topic18\", \"Topic18\", \"Topic18\", \"Topic18\", \"Topic18\", \"Topic18\", \"Topic18\", \"Topic18\", \"Topic18\", \"Topic18\", \"Topic18\", \"Topic18\", \"Topic18\", \"Topic18\", \"Topic19\", \"Topic19\", \"Topic19\", \"Topic19\", \"Topic19\", \"Topic19\", \"Topic19\", \"Topic19\", \"Topic19\", \"Topic19\", \"Topic19\", \"Topic19\", \"Topic19\", \"Topic19\", \"Topic19\", \"Topic19\", \"Topic19\", \"Topic19\", \"Topic19\", \"Topic19\", \"Topic19\", \"Topic19\", \"Topic19\", \"Topic19\", \"Topic19\", \"Topic19\", \"Topic19\", \"Topic19\", \"Topic19\", \"Topic19\", \"Topic19\", \"Topic19\", \"Topic19\", \"Topic19\", \"Topic19\", \"Topic20\", \"Topic20\", \"Topic20\", \"Topic20\", \"Topic20\", \"Topic20\", \"Topic20\", \"Topic20\", \"Topic20\", \"Topic20\", \"Topic20\", \"Topic20\", \"Topic20\", \"Topic20\", \"Topic20\", \"Topic20\", \"Topic20\", \"Topic20\", \"Topic20\", \"Topic20\", \"Topic20\", \"Topic20\", \"Topic20\", \"Topic20\", \"Topic20\", \"Topic20\", \"Topic20\", \"Topic20\", \"Topic20\", \"Topic20\", \"Topic20\", \"Topic20\", \"Topic20\", \"Topic20\", \"Topic20\", \"Topic20\", \"Topic20\", \"Topic20\", \"Topic20\", \"Topic20\", \"Topic20\"], \"logprob\": [30.0, 29.0, 28.0, 27.0, 26.0, 25.0, 24.0, 23.0, 22.0, 21.0, 20.0, 19.0, 18.0, 17.0, 16.0, 15.0, 14.0, 13.0, 12.0, 11.0, 10.0, 9.0, 8.0, 7.0, 6.0, 5.0, 4.0, 3.0, 2.0, 1.0, -0.36469998955726624, -2.4170000553131104, -2.9899001121520996, -3.9377999305725098, -4.109399795532227, -4.402400016784668, -5.965400218963623, -10.158300399780273, -10.15939998626709, -10.161399841308594, -10.162099838256836, -10.162099838256836, -10.162300109863281, -10.162099838256836, -10.162400245666504, -10.162099838256836, -10.162099838256836, -10.162599563598633, -10.162699699401855, -10.162799835205078, -10.162699699401855, -10.1628999710083, -10.1628999710083, -10.163000106811523, -10.1628999710083, -10.163100242614746, -10.163200378417969, -10.163000106811523, -10.163100242614746, -10.163200378417969, -10.1628999710083, -10.163000106811523, -10.162699699401855, -10.162799835205078, -10.162799835205078, -10.162599563598633, -0.7488999962806702, -1.138200044631958, -4.2789998054504395, -4.638500213623047, -5.271699905395508, -9.727299690246582, -9.729499816894531, -9.729399681091309, -9.729599952697754, -9.729999542236328, -9.72920036315918, -9.730299949645996, -9.729999542236328, -9.730299949645996, -9.730299949645996, -9.730299949645996, -9.730299949645996, -9.730199813842773, -9.730299949645996, -9.73009967803955, -9.730400085449219, -9.730400085449219, -9.730400085449219, -9.730600357055664, -9.730400085449219, -9.730600357055664, -9.730400085449219, -9.730600357055664, -9.730500221252441, -9.73009967803955, -9.729999542236328, -9.730400085449219, -9.730400085449219, -9.730400085449219, -9.730299949645996, -9.730299949645996, -9.730400085449219, -0.9059000015258789, -2.237799882888794, -2.68179988861084, -2.9186999797821045, -3.37280011177063, -3.40910005569458, -3.470599889755249, -3.677299976348877, -3.7755000591278076, -4.610899925231934, -4.666600227355957, -4.990099906921387, -5.038400173187256, -5.60830020904541, -6.269599914550781, -9.704899787902832, -9.70419979095459, -9.705100059509277, -9.705699920654297, -9.705400466918945, -9.705900192260742, -9.706100463867188, -9.706100463867188, -9.706100463867188, -9.705599784851074, -9.706100463867188, -9.706000328063965, -9.706000328063965, -9.706199645996094, -9.706199645996094, -9.705499649047852, -9.706000328063965, -9.706000328063965, -9.70580005645752, -9.70580005645752, -9.705900192260742, -9.705900192260742, -9.706000328063965, -0.6658999919891357, -2.14490008354187, -2.3606998920440674, -3.240499973297119, -4.034900188446045, -5.783899784088135, -9.541600227355957, -9.541399955749512, -9.541099548339844, -9.540499687194824, -9.541799545288086, -9.542200088500977, -9.542200088500977, -9.542099952697754, -9.541299819946289, -9.5423002243042, -9.5423002243042, -9.542400360107422, -9.542400360107422, -9.542499542236328, -9.542099952697754, -9.542499542236328, -9.542200088500977, -9.54259967803955, -9.542699813842773, -9.542499542236328, -9.542499542236328, -9.54259967803955, -9.542499542236328, -9.542699813842773, -9.541999816894531, -9.542099952697754, -9.542099952697754, -9.542499542236328, -9.542400360107422, -9.542400360107422, -9.542400360107422, -0.9577000141143799, -1.3732000589370728, -2.5599000453948975, -3.51990008354187, -3.566999912261963, -4.60699987411499, -4.718999862670898, -5.923799991607666, -5.989699840545654, -6.843400001525879, -9.596599578857422, -9.597800254821777, -9.59850025177002, -9.597299575805664, -9.598199844360352, -9.599100112915039, -9.599100112915039, -9.598699569702148, -9.599200248718262, -9.599100112915039, -9.59939956665039, -9.59939956665039, -9.599300384521484, -9.599499702453613, -9.599599838256836, -9.599599838256836, -9.599599838256836, -9.599599838256836, -9.599699974060059, -9.599699974060059, -9.59939956665039, -9.599200248718262, -9.59939956665039, -9.599499702453613, -0.5164999961853027, -3.4328999519348145, -3.8157999515533447, -3.8620998859405518, -5.370800018310547, -5.901299953460693, -9.141300201416016, -9.141400337219238, -9.141400337219238, -9.141400337219238, -9.141400337219238, -9.141799926757812, -9.141799926757812, -9.141900062561035, -9.14169979095459, -9.141900062561035, -9.141799926757812, -9.142000198364258, -9.14169979095459, -9.142000198364258, -9.142000198364258, -9.142000198364258, -9.14210033416748, -9.14210033416748, -9.14210033416748, -9.142000198364258, -9.14210033416748, -9.141799926757812, -9.14169979095459, -9.142000198364258, -9.142000198364258, -9.141900062561035, -9.141400337219238, -9.141900062561035, -9.14169979095459, -9.14169979095459, -9.14169979095459, -9.14109992980957, -9.141799926757812, -9.141400337219238, -9.141900062561035, -9.141799926757812, -9.141900062561035, -9.141799926757812, -1.0625, -2.010200023651123, -2.7040998935699463, -2.7121999263763428, -3.030100107192993, -3.6387999057769775, -3.934000015258789, -3.992799997329712, -4.4319000244140625, -5.590099811553955, -9.353099822998047, -9.353699684143066, -9.353599548339844, -9.353899955749512, -9.354000091552734, -9.354000091552734, -9.353799819946289, -9.354100227355957, -9.354100227355957, -9.354100227355957, -9.354100227355957, -9.354100227355957, -9.35420036315918, -9.353699684143066, -9.354299545288086, -9.354399681091309, -9.354399681091309, -9.35420036315918, -9.354000091552734, -9.354399681091309, -9.353799819946289, -9.354000091552734, -9.353899955749512, -9.354100227355957, -0.805400013923645, -1.8172999620437622, -2.541800022125244, -3.585200071334839, -4.959000110626221, -5.562699794769287, -5.949100017547607, -9.309200286865234, -9.310199737548828, -9.310500144958496, -9.310700416564941, -9.310099601745605, -9.310999870300293, -9.310999870300293, -9.311100006103516, -9.311100006103516, -9.311100006103516, -9.310500144958496, -9.310500144958496, -9.310999870300293, -9.311100006103516, -9.310799598693848, -9.310700416564941, -9.311200141906738, -9.310999870300293, -9.310999870300293, -9.311100006103516, -9.311100006103516, -9.311200141906738, -9.311200141906738, -9.310999870300293, -9.310799598693848, -9.310700416564941, -9.311100006103516, -9.310700416564941, -9.310999870300293, -0.847599983215332, -2.2351999282836914, -3.0060999393463135, -3.1658999919891357, -4.813600063323975, -9.012800216674805, -9.012800216674805, -9.012800216674805, -9.012700080871582, -9.012900352478027, -9.013199806213379, -9.013199806213379, -9.013099670410156, -9.013199806213379, -9.013099670410156, -9.013099670410156, -9.013299942016602, -9.013199806213379, -9.013400077819824, -9.013400077819824, -9.013400077819824, -9.013400077819824, -9.013299942016602, -9.013199806213379, -9.013500213623047, -9.013500213623047, -9.013500213623047, -9.013500213623047, -9.013500213623047, -9.013500213623047, -9.013299942016602, -9.013299942016602, -9.013099670410156, -9.013299942016602, -9.013299942016602, -9.013199806213379, -9.012900352478027, -9.013099670410156, -9.013299942016602, -9.013299942016602, -1.055899977684021, -1.5849000215530396, -2.601300001144409, -3.3020999431610107, -3.411799907684326, -4.60129976272583, -4.869500160217285, -5.361599922180176, -7.15910005569458, -9.275400161743164, -9.275899887084961, -9.275899887084961, -9.275899887084961, -9.276000022888184, -9.276100158691406, -9.276100158691406, -9.276000022888184, -9.276100158691406, -9.276300430297852, -9.276300430297852, -9.276100158691406, -9.27649974822998, -9.276300430297852, -9.27649974822998, -9.27649974822998, -9.276599884033203, -9.275500297546387, -9.276700019836426, -9.276700019836426, -9.276700019836426, -9.276399612426758, -9.276300430297852, -9.27649974822998, -9.276599884033203, -9.27649974822998, -0.713100016117096, -2.0878000259399414, -2.9742000102996826, -3.1059999465942383, -7.069699764251709, -9.24489974975586, -9.245200157165527, -9.245100021362305, -9.24530029296875, -9.24530029296875, -9.245499610900879, -9.24530029296875, -9.245599746704102, -9.24530029296875, -9.245400428771973, -9.245400428771973, -9.245200157165527, -9.24530029296875, -9.245699882507324, -9.245499610900879, -9.245599746704102, -9.24530029296875, -9.245699882507324, -9.245699882507324, -9.245599746704102, -9.245699882507324, -9.245400428771973, -9.245800018310547, -9.245800018310547, -9.245800018310547, -9.245200157165527, -9.245599746704102, -9.245400428771973, -9.24470043182373, -9.245400428771973, -9.245400428771973, -9.245499610900879, -9.245599746704102, -9.245599746704102, -9.245599746704102, -9.245599746704102, -1.4622999429702759, -2.0520999431610107, -2.5129001140594482, -2.768399953842163, -2.9421000480651855, -3.057499885559082, -3.2901999950408936, -3.4456000328063965, -3.614799976348877, -4.299099922180176, -4.598700046539307, -4.665200233459473, -9.321399688720703, -9.321399688720703, -9.322099685668945, -9.321999549865723, -9.321900367736816, -9.322099685668945, -9.322400093078613, -9.322400093078613, -9.322400093078613, -9.32229995727539, -9.322500228881836, -9.322500228881836, -9.322600364685059, -9.322400093078613, -9.322400093078613, -9.322600364685059, -9.322500228881836, -9.322500228881836, -9.322199821472168, -9.321599960327148, -9.322400093078613, -9.32229995727539, -9.322400093078613, -9.322400093078613, -0.5898000001907349, -2.4672000408172607, -5.320199966430664, -9.037799835205078, -9.0378999710083, -9.037699699401855, -9.038599967956543, -9.0378999710083, -9.038700103759766, -9.038599967956543, -9.038700103759766, -9.038599967956543, -9.038700103759766, -9.038700103759766, -9.038700103759766, -9.038700103759766, -9.038399696350098, -9.038700103759766, -9.038800239562988, -9.038900375366211, -9.038900375366211, -9.038900375366211, -9.038900375366211, -9.038900375366211, -9.038900375366211, -9.038900375366211, -9.038900375366211, -9.038900375366211, -9.038900375366211, -9.038800239562988, -9.038900375366211, -9.038700103759766, -9.038100242614746, -9.038800239562988, -9.038800239562988, -9.038900375366211, -9.038900375366211, -9.038900375366211, -9.038800239562988, -9.038900375366211, -9.038900375366211, -9.038900375366211, -9.038900375366211, -1.6936999559402466, -2.1254000663757324, -2.1703999042510986, -2.651599884033203, -3.010699987411499, -3.0768001079559326, -3.8466999530792236, -4.177000045776367, -4.222799777984619, -9.009900093078613, -9.010000228881836, -9.00979995727539, -9.010100364685059, -9.010299682617188, -9.010199546813965, -9.009599685668945, -9.010199546813965, -9.010299682617188, -9.010199546813965, -9.01039981842041, -9.01039981842041, -9.010199546813965, -9.010100364685059, -9.01039981842041, -9.010299682617188, -9.01039981842041, -9.01039981842041, -9.010499954223633, -9.010499954223633, -9.010499954223633, -9.010499954223633, -9.01039981842041, -9.010199546813965, -9.010299682617188, -9.009900093078613, -9.010299682617188, -9.01039981842041, -0.8949000239372253, -1.7890000343322754, -3.1298000812530518, -3.878000020980835, -9.026200294494629, -9.02649974822998, -9.027000427246094, -9.026800155639648, -9.027299880981445, -9.026300430297852, -9.027400016784668, -9.02750015258789, -9.027099609375, -9.02750015258789, -9.02750015258789, -9.02750015258789, -9.02750015258789, -9.02750015258789, -9.02750015258789, -9.027600288391113, -9.027400016784668, -9.027600288391113, -9.02750015258789, -9.027600288391113, -9.027600288391113, -9.027000427246094, -9.027600288391113, -9.027600288391113, -9.027199745178223, -9.027600288391113, -9.027400016784668, -9.027099609375, -9.027299880981445, -9.02750015258789, -9.027400016784668, -9.02750015258789, -9.027600288391113, -1.6229000091552734, -1.8516000509262085, -2.1171000003814697, -3.700500011444092, -3.797600030899048, -4.114299774169922, -5.201900005340576, -8.788399696350098, -8.788700103759766, -8.788599967956543, -8.788700103759766, -8.788800239562988, -8.788999557495117, -8.788999557495117, -8.788999557495117, -8.788900375366211, -8.788900375366211, -8.788999557495117, -8.788700103759766, -8.788999557495117, -8.788999557495117, -8.788999557495117, -8.788999557495117, -8.788999557495117, -8.788999557495117, -8.788999557495117, -8.788999557495117, -8.788999557495117, -8.788999557495117, -8.788999557495117, -8.788900375366211, -8.788999557495117, -8.788299560546875, -8.788999557495117, -8.788900375366211, -8.788999557495117, -8.788700103759766, -8.788900375366211, -8.788999557495117, -2.0685999393463135, -2.077500104904175, -2.19569993019104, -2.5550999641418457, -4.07480001449585, -4.636099815368652, -8.633500099182129, -8.633500099182129, -8.633500099182129, -8.633500099182129, -8.634300231933594, -8.633700370788574, -8.634200096130371, -8.634400367736816, -8.634300231933594, -8.634300231933594, -8.634400367736816, -8.634400367736816, -8.634400367736816, -8.634400367736816, -8.634300231933594, -8.634300231933594, -8.634400367736816, -8.634300231933594, -8.634400367736816, -8.634200096130371, -8.634400367736816, -8.634499549865723, -8.634499549865723, -8.634499549865723, -8.634099960327148, -8.634099960327148, -8.634300231933594, -8.634300231933594, -1.0607999563217163, -2.0810000896453857, -3.2976999282836914, -3.6970999240875244, -4.13129997253418, -5.6975998878479, -8.805500030517578, -8.805500030517578, -8.805500030517578, -8.805500030517578, -8.80720043182373, -8.80720043182373, -8.80720043182373, -8.80720043182373, -8.80780029296875, -8.807900428771973, -8.807999610900879, -8.807900428771973, -8.807999610900879, -8.807999610900879, -8.807999610900879, -8.807999610900879, -8.807900428771973, -8.807999610900879, -8.807999610900879, -8.808099746704102, -8.808099746704102, -8.808099746704102, -8.807999610900879, -8.807999610900879, -8.80720043182373, -8.807999610900879, -8.807499885559082, -8.80780029296875, -8.807999610900879, -8.807999610900879, -8.807999610900879, -8.807999610900879, -8.807999610900879, -0.9945999979972839, -3.5687999725341797, -3.6473000049591064, -3.8970999717712402, -8.591699600219727, -8.591699600219727, -8.591699600219727, -8.591699600219727, -8.591699600219727, -8.592499732971191, -8.592599868774414, -8.592900276184082, -8.593000411987305, -8.593000411987305, -8.593000411987305, -8.59280014038086, -8.593000411987305, -8.593000411987305, -8.593099594116211, -8.593000411987305, -8.593000411987305, -8.593099594116211, -8.593099594116211, -8.593099594116211, -8.593099594116211, -8.593099594116211, -8.593099594116211, -8.593099594116211, -8.593199729919434, -8.593099594116211, -8.593099594116211, -8.593000411987305, -8.593099594116211, -8.593000411987305, -8.593099594116211, -2.8208999633789062, -3.523900032043457, -4.881700038909912, -6.307000160217285, -6.762499809265137, -8.109700202941895, -8.109600067138672, -8.109800338745117, -8.10990047454834, -8.10990047454834, -8.10990047454834, -8.10990047454834, -8.10990047454834, -8.10990047454834, -8.10990047454834, -8.110199928283691, -8.110199928283691, -8.110199928283691, -8.110199928283691, -8.110199928283691, -8.110199928283691, -8.110300064086914, -8.110199928283691, -8.110300064086914, -8.110300064086914, -8.110300064086914, -8.110300064086914, -8.110300064086914, -8.110300064086914, -8.110300064086914, -8.110199928283691, -8.110199928283691, -8.110199928283691, -8.110300064086914, -8.110300064086914, -8.110199928283691, -8.110199928283691, -8.110199928283691, -8.110199928283691, -8.110199928283691, -8.110199928283691], \"loglift\": [30.0, 29.0, 28.0, 27.0, 26.0, 25.0, 24.0, 23.0, 22.0, 21.0, 20.0, 19.0, 18.0, 17.0, 16.0, 15.0, 14.0, 13.0, 12.0, 11.0, 10.0, 9.0, 8.0, 7.0, 6.0, 5.0, 4.0, 3.0, 2.0, 1.0, 1.9716, 1.9658, 1.9606, 1.942, 1.9364, 1.9244, 1.7614, -0.8353, -0.8368, -0.8376, -0.8383, -0.8384, -0.8384, -0.8386, -0.8387, -0.8387, -0.8387, -0.8387, -0.8388, -0.8388, -0.8389, -0.839, -0.839, -0.839, -0.8391, -0.8391, -0.8391, -0.8391, -0.8391, -0.8391, -0.8392, -0.8392, -0.8393, -0.8393, -0.8393, -0.8394, 2.3544, 2.3536, 2.2946, 2.269, 2.1977, -0.4047, -0.4057, -0.4058, -0.4061, -0.4062, -0.4062, -0.4063, -0.4063, -0.4063, -0.4063, -0.4064, -0.4064, -0.4064, -0.4064, -0.4064, -0.4064, -0.4065, -0.4065, -0.4065, -0.4066, -0.4066, -0.4066, -0.4066, -0.4066, -0.4066, -0.4067, -0.4067, -0.4067, -0.4068, -0.4069, -0.4069, -0.4068, 2.5998, 2.5919, 2.586, 2.5817, 2.5698, 2.5686, 2.5665, 2.5584, 2.5539, 2.4937, 2.4878, 2.4472, 2.4402, 2.3311, 2.13, -0.3813, -0.3816, -0.3817, -0.3818, -0.3819, -0.3819, -0.382, -0.382, -0.382, -0.382, -0.3821, -0.3822, -0.3822, -0.3822, -0.3822, -0.3822, -0.3822, -0.3822, -0.3823, -0.3824, -0.3823, -0.3829, -0.3823, 2.6987, 2.6905, 2.6879, 2.6695, 2.6325, 2.3584, -0.2178, -0.2178, -0.2178, -0.2179, -0.218, -0.2182, -0.2182, -0.2184, -0.2184, -0.2184, -0.2184, -0.2184, -0.2184, -0.2184, -0.2185, -0.2185, -0.2185, -0.2185, -0.2185, -0.2185, -0.2186, -0.2186, -0.2186, -0.2186, -0.2186, -0.2186, -0.2187, -0.2186, -0.2189, -0.2187, -0.2189, 2.7655, 2.7637, 2.7516, 2.7243, 2.7221, 2.6417, 2.6277, 2.3592, 2.3365, 1.9489, -0.2734, -0.2743, -0.2746, -0.2747, -0.2748, -0.275, -0.275, -0.2752, -0.2753, -0.2753, -0.2754, -0.2754, -0.2755, -0.2755, -0.2755, -0.2756, -0.2756, -0.2756, -0.2756, -0.2756, -0.2757, -0.2758, -0.2764, -0.276, 2.8585, 2.8169, 2.797, 2.7941, 2.5891, 2.435, 0.1826, 0.1825, 0.1825, 0.1825, 0.1824, 0.1822, 0.1822, 0.1821, 0.1821, 0.1821, 0.1821, 0.1821, 0.1821, 0.182, 0.182, 0.182, 0.182, 0.182, 0.182, 0.182, 0.182, 0.182, 0.182, 0.182, 0.182, 0.182, 0.1818, 0.182, 0.1818, 0.1818, 0.1818, 0.1815, 0.1818, 0.1816, 0.1819, 0.1818, 0.1819, 0.1815, 2.9426, 2.9353, 2.9234, 2.9232, 2.9144, 2.8876, 2.868, 2.8634, 2.82, 2.5881, -0.0296, -0.0297, -0.0297, -0.0299, -0.03, -0.0301, -0.0301, -0.0301, -0.0301, -0.0302, -0.0302, -0.0302, -0.0302, -0.0302, -0.0302, -0.0303, -0.0303, -0.0303, -0.0303, -0.0303, -0.0306, -0.0306, -0.0313, -0.0311, 2.9601, 2.9537, 2.9431, 2.9063, 2.754, 2.6083, 2.4763, 0.0141, 0.0137, 0.0135, 0.0134, 0.0133, 0.0131, 0.013, 0.013, 0.013, 0.013, 0.013, 0.013, 0.013, 0.013, 0.013, 0.0129, 0.0129, 0.0129, 0.0129, 0.0129, 0.0129, 0.0129, 0.0129, 0.0129, 0.0128, 0.0127, 0.0128, 0.0119, 0.012, 2.9785, 2.9671, 2.9497, 2.9442, 2.7984, 0.3111, 0.3111, 0.311, 0.311, 0.3109, 0.3109, 0.3109, 0.3108, 0.3108, 0.3108, 0.3107, 0.3107, 0.3107, 0.3107, 0.3107, 0.3107, 0.3106, 0.3106, 0.3106, 0.3106, 0.3106, 0.3106, 0.3106, 0.3106, 0.3106, 0.3106, 0.3106, 0.3105, 0.3104, 0.3103, 0.3102, 0.3097, 0.3099, 0.3101, 0.3099, 2.9823, 2.979, 2.9648, 2.9426, 2.9376, 2.8327, 2.7897, 2.6818, 1.8381, 0.0484, 0.0482, 0.0482, 0.0481, 0.048, 0.0479, 0.0479, 0.0479, 0.0478, 0.0477, 0.0476, 0.0476, 0.0476, 0.0476, 0.0475, 0.0475, 0.0474, 0.0474, 0.0474, 0.0474, 0.0474, 0.0473, 0.0473, 0.0472, 0.0472, 0.047, 3.0067, 2.9965, 2.9772, 2.9727, 1.9063, 0.0791, 0.0789, 0.0789, 0.0786, 0.0785, 0.0785, 0.0785, 0.0785, 0.0785, 0.0784, 0.0784, 0.0784, 0.0784, 0.0784, 0.0784, 0.0784, 0.0784, 0.0784, 0.0784, 0.0784, 0.0783, 0.0783, 0.0783, 0.0783, 0.0783, 0.0783, 0.0783, 0.0783, 0.0779, 0.0782, 0.0781, 0.0781, 0.0782, 0.0778, 0.0777, 0.0778, 3.1493, 3.1425, 3.1335, 3.1265, 3.1206, 3.1161, 3.1054, 3.0969, 3.086, 3.02, 2.9759, 2.9645, 0.002, 0.002, 0.0019, 0.0019, 0.0019, 0.0018, 0.0017, 0.0017, 0.0017, 0.0017, 0.0016, 0.0016, 0.0015, 0.0015, 0.0015, 0.0015, 0.0015, 0.0015, 0.0014, 0.001, 0.0013, 0.0009, 0.0013, 0.0006, 3.2237, 3.2027, 2.8658, 0.2862, 0.2862, 0.286, 0.2855, 0.2855, 0.2854, 0.2854, 0.2853, 0.2853, 0.2853, 0.2853, 0.2853, 0.2853, 0.2853, 0.2852, 0.2852, 0.2852, 0.2852, 0.2852, 0.2852, 0.2852, 0.2852, 0.2852, 0.2852, 0.2852, 0.2852, 0.2852, 0.2852, 0.2851, 0.2845, 0.2851, 0.2851, 0.2852, 0.2851, 0.2851, 0.285, 0.2849, 0.285, 0.2848, 0.2844, 3.2967, 3.29, 3.2891, 3.2769, 3.2632, 3.2602, 3.2061, 3.1684, 3.1623, 0.3141, 0.3141, 0.314, 0.3139, 0.3138, 0.3138, 0.3138, 0.3138, 0.3138, 0.3137, 0.3137, 0.3137, 0.3137, 0.3137, 0.3137, 0.3137, 0.3137, 0.3136, 0.3136, 0.3136, 0.3136, 0.3136, 0.3135, 0.3134, 0.3133, 0.3127, 0.3132, 0.3126, 3.3959, 3.387, 3.3453, 3.2855, 0.2974, 0.2973, 0.297, 0.2969, 0.2968, 0.2967, 0.2966, 0.2966, 0.2966, 0.2966, 0.2966, 0.2966, 0.2966, 0.2966, 0.2965, 0.2965, 0.2965, 0.2965, 0.2965, 0.2965, 0.2965, 0.2965, 0.2965, 0.2965, 0.2965, 0.2965, 0.2965, 0.2963, 0.2964, 0.2964, 0.2963, 0.2964, 0.2962, 3.4786, 3.475, 3.4697, 3.3859, 3.3757, 3.3354, 3.0837, 0.5356, 0.5354, 0.5354, 0.5352, 0.5352, 0.5352, 0.5351, 0.5351, 0.5351, 0.5351, 0.5351, 0.5351, 0.5351, 0.5351, 0.5351, 0.5351, 0.5351, 0.5351, 0.5351, 0.5351, 0.5351, 0.5351, 0.5351, 0.535, 0.535, 0.5343, 0.535, 0.535, 0.535, 0.5343, 0.5348, 0.5346, 3.6206, 3.6204, 3.6172, 3.605, 3.4713, 3.3574, 0.6905, 0.6905, 0.6904, 0.6899, 0.6898, 0.6898, 0.6898, 0.6898, 0.6897, 0.6897, 0.6897, 0.6897, 0.6897, 0.6897, 0.6897, 0.6897, 0.6897, 0.6897, 0.6897, 0.6897, 0.6897, 0.6897, 0.6896, 0.6896, 0.6895, 0.6894, 0.6895, 0.6887, 3.7731, 3.7541, 3.6867, 3.6422, 3.5728, 3.0298, 0.5185, 0.5184, 0.5184, 0.5183, 0.5168, 0.5167, 0.5166, 0.5164, 0.5162, 0.5161, 0.5161, 0.5161, 0.5161, 0.5161, 0.5161, 0.5161, 0.5161, 0.516, 0.516, 0.516, 0.516, 0.516, 0.516, 0.516, 0.5154, 0.516, 0.5155, 0.5158, 0.5159, 0.5157, 0.5154, 0.5157, 0.5158, 4.2025, 4.0289, 4.0149, 3.964, 0.7322, 0.7322, 0.7322, 0.7322, 0.7318, 0.7314, 0.7313, 0.7312, 0.7311, 0.7311, 0.7311, 0.7311, 0.7311, 0.731, 0.731, 0.731, 0.731, 0.731, 0.731, 0.731, 0.731, 0.731, 0.731, 0.7309, 0.7309, 0.7309, 0.7309, 0.7308, 0.7307, 0.7304, 0.7306, 5.1227, 4.8975, 4.1306, 2.9434, 2.5195, 1.2145, 1.2143, 1.2143, 1.2142, 1.2142, 1.2142, 1.2142, 1.2142, 1.2142, 1.2141, 1.214, 1.2139, 1.2139, 1.2139, 1.2139, 1.2139, 1.2139, 1.2139, 1.2139, 1.2139, 1.2139, 1.2139, 1.2139, 1.2139, 1.2139, 1.2139, 1.2139, 1.2139, 1.2139, 1.2139, 1.2138, 1.2137, 1.2137, 1.2136, 1.2135, 1.2132]}, \"token.table\": {\"Topic\": [12, 11, 17, 15, 4, 16, 15, 17, 2, 10, 5, 3, 7, 19, 13, 9, 16, 1, 18, 2, 3, 20, 20, 6, 18, 7, 2, 14, 19, 3, 14, 9, 14, 11, 12, 1, 5, 16, 17, 15, 12, 7, 9, 5, 17, 7, 14, 16, 18, 12, 8, 3, 1, 7, 8, 12, 10, 3, 7, 16, 6, 3, 17, 11, 5, 5, 14, 9, 6, 3, 4, 8, 18, 3, 3, 16, 5, 3, 14, 4, 3, 14, 5, 10, 10, 10, 8, 3, 13, 10, 16, 10, 20, 12, 12, 17, 19, 18, 5, 12, 5, 8, 7, 8, 1, 12, 4, 10, 3, 19, 1, 11, 8, 2, 12, 14, 4, 4, 6, 6, 9, 7, 14, 13, 18, 1, 7, 10, 12, 5, 7, 11, 6, 2, 15, 12, 3, 1, 3], \"Freq\": [0.9676344581669375, 0.9656370652649744, 0.7699275583303143, 0.9814124730183128, 0.9744213262043467, 0.9039604872000176, 0.895258994115127, 0.9734409889027847, 0.9977034626231757, 0.6743619409013324, 0.5704758161357668, 0.8433284239942025, 0.9754745037071123, 0.9866005447470191, 0.9800037376497676, 0.9561198100495382, 0.687365887960435, 0.9698107196187995, 0.8670912832496018, 0.9095857672380026, 0.9869869286695216, 0.3553974010874005, 0.5905103406472624, 0.7444108716577463, 0.9911265111835725, 0.9468006162718364, 0.9304694562741763, 0.8379697608511667, 0.8291154813931936, 0.8967431418581276, 0.9600805936011113, 0.9958658821908096, 0.9871380479376193, 0.9863479325947611, 0.984135125254352, 0.7861743767567322, 0.8529451377047199, 0.8805856168628781, 0.9689951918485331, 0.9934545998747403, 0.9604912916358976, 0.8556584998119124, 0.9698733665563325, 0.7158579383084874, 0.9712171651569136, 0.9353957230972115, 0.9773573822547239, 0.9828617661179251, 0.5345423829786788, 0.9157879282623502, 0.7661186656488104, 0.9742922376161361, 0.9451781853126601, 0.9051565094457339, 0.9429362710085031, 0.975535250280565, 0.350097586857739, 0.72934482257745, 0.771654223118651, 0.9891876157835207, 0.9648067586956088, 0.9475679444035745, 0.820289681495139, 0.9973820101250968, 0.8734962502549929, 0.9568986091443145, 0.9547393201609449, 0.7885279893971484, 0.9432754392779416, 0.975619814166901, 0.9871746961520683, 0.9815541515408325, 0.7684977676740284, 0.9970260621042168, 0.5777362844425845, 0.8193379569814715, 0.6855688528332425, 0.8870746257008342, 0.9838809457730304, 0.9973636752948508, 0.8828752233703813, 0.9654110991490377, 0.9971104831719395, 0.9739742770601616, 0.9418944900911608, 0.9935284905761507, 0.7753929983181831, 0.9513210172472043, 0.6221782396149046, 0.879961048166833, 0.9804866826604193, 0.9599527901198199, 0.7324050632192604, 0.8026060037213095, 0.989841302922393, 0.9641146199555517, 0.8636867975455453, 0.9633966518670635, 0.9833557719431086, 0.8440048525066366, 0.9954024919601984, 0.9971734988850924, 0.9710806674504487, 0.5928438625093342, 0.9919750897373885, 0.8497413285954022, 0.9855397095462345, 0.9952941752589032, 0.9613259261326186, 0.7868261297121001, 0.9993050342591675, 0.9643647887008789, 0.9920357040569631, 0.8357489290711746, 0.932032337753586, 0.9015846570969638, 0.744517528685537, 0.9197643159982835, 0.9355062140292859, 0.723073948554754, 0.9838836258060941, 0.9863813952098355, 0.8725211081114556, 0.9952148783028817, 0.8886606669941426, 0.9852082285970807, 0.9961755076882244, 0.8266026449546525, 0.9817774216311116, 0.9594328636816588, 0.9755479340016572, 0.3427541236813168, 0.9976966020006529, 0.99744998181207, 0.9556635815871121, 0.9564086245841137, 0.9736549966356506, 0.9764657824115514, 0.9832929943188584], \"Term\": [\"access\", \"adaptive\", \"ambiguity\", \"analysis\", \"application\", \"architecture\", \"automate\", \"automatic\", \"base\", \"binary\", \"boolean\", \"browsing\", \"class\", \"classification\", \"cluster\", \"collection\", \"common\", \"comparison\", \"compression\", \"concept\", \"context\", \"current\", \"data\", \"database\", \"datum\", \"decision\", \"design\", \"different\", \"difficult\", \"display\", \"distribute\", \"document\", \"domain\", \"dynamic\", \"efficient\", \"element\", \"entropy\", \"environment\", \"estimate\", \"evaluation\", \"experiment\", \"experimental\", \"exploit\", \"extend\", \"extraction\", \"factor\", \"feature\", \"feedback\", \"file\", \"first\", \"formulation\", \"framework\", \"frequency\", \"full\", \"function\", \"hierarchical\", \"implementation\", \"implication\", \"important\", \"improve\", \"incorporate\", \"index\", \"indexing\", \"information\", \"intelligence\", \"intelligent\", \"interface\", \"invert\", \"investigation\", \"ir\", \"knowledge\", \"language\", \"large\", \"learn\", \"line\", \"management\", \"maximum\", \"mechanism\", \"method\", \"model\", \"modern\", \"natural_language\", \"network\", \"new\", \"non\", \"online\", \"optimal\", \"orient\", \"overview\", \"paper\", \"performance\", \"personal\", \"perspective\", \"phase\", \"prediction\", \"probabilistic\", \"problem\", \"process\", \"processing\", \"project\", \"query\", \"rank\", \"ranking\", \"record\", \"relevance\", \"report\", \"representation\", \"retrieval\", \"role\", \"scheme\", \"search\", \"self\", \"semantic\", \"server\", \"share\", \"simple\", \"spatial\", \"statistical\", \"strategy\", \"structural\", \"structure\", \"study\", \"syntactic\", \"system\", \"technique\", \"term\", \"text\", \"theoretical\", \"time\", \"tool\", \"tree\", \"tune\", \"use\", \"user\", \"value\", \"vector\", \"visual\", \"weight\", \"word\"]}, \"R\": 30, \"lambda.step\": 0.01, \"plot.opts\": {\"xlab\": \"PC1\", \"ylab\": \"PC2\"}, \"topic.order\": [2, 8, 12, 9, 1, 5, 18, 10, 4, 16, 19, 15, 17, 13, 3, 6, 11, 7, 20, 14]};\n",
              "\n",
              "function LDAvis_load_lib(url, callback){\n",
              "  var s = document.createElement('script');\n",
              "  s.src = url;\n",
              "  s.async = true;\n",
              "  s.onreadystatechange = s.onload = callback;\n",
              "  s.onerror = function(){console.warn(\"failed to load library \" + url);};\n",
              "  document.getElementsByTagName(\"head\")[0].appendChild(s);\n",
              "}\n",
              "\n",
              "if(typeof(LDAvis) !== \"undefined\"){\n",
              "   // already loaded: just create the visualization\n",
              "   !function(LDAvis){\n",
              "       new LDAvis(\"#\" + \"ldavis_el4591405890572299047763842924\", ldavis_el4591405890572299047763842924_data);\n",
              "   }(LDAvis);\n",
              "}else if(typeof define === \"function\" && define.amd){\n",
              "   // require.js is available: use it to load d3/LDAvis\n",
              "   require.config({paths: {d3: \"https://cdnjs.cloudflare.com/ajax/libs/d3/3.5.5/d3.min\"}});\n",
              "   require([\"d3\"], function(d3){\n",
              "      window.d3 = d3;\n",
              "      LDAvis_load_lib(\"https://cdn.rawgit.com/bmabey/pyLDAvis/files/ldavis.v1.0.0.js\", function(){\n",
              "        new LDAvis(\"#\" + \"ldavis_el4591405890572299047763842924\", ldavis_el4591405890572299047763842924_data);\n",
              "      });\n",
              "    });\n",
              "}else{\n",
              "    // require.js not available: dynamically load d3 & LDAvis\n",
              "    LDAvis_load_lib(\"https://cdnjs.cloudflare.com/ajax/libs/d3/3.5.5/d3.min.js\", function(){\n",
              "         LDAvis_load_lib(\"https://cdn.rawgit.com/bmabey/pyLDAvis/files/ldavis.v1.0.0.js\", function(){\n",
              "                 new LDAvis(\"#\" + \"ldavis_el4591405890572299047763842924\", ldavis_el4591405890572299047763842924_data);\n",
              "            })\n",
              "         });\n",
              "}\n",
              "</script>"
            ],
            "text/plain": [
              "PreparedData(topic_coordinates=              x         y  topics  cluster       Freq\n",
              "topic                                                \n",
              "1     -0.395397  0.178263       1        1  13.910937\n",
              "7     -0.108784 -0.314560       2        1   9.476957\n",
              "11    -0.083984 -0.146381       3        1   7.407996\n",
              "8     -0.040976 -0.033337       4        1   6.712738\n",
              "0     -0.054977 -0.056131       5        1   6.272380\n",
              "4      0.037271  0.024454       6        1   5.721683\n",
              "17     0.007024  0.010997       7        1   5.248509\n",
              "9      0.012409  0.013614       8        1   5.162654\n",
              "3      0.051395  0.028756       9        1   5.067592\n",
              "15     0.019462  0.017374      10        1   5.043146\n",
              "18     0.022414  0.018442      11        1   4.928044\n",
              "14     0.014535  0.015402      12        1   4.251141\n",
              "16     0.048055  0.027710      13        1   3.965609\n",
              "12     0.053157  0.029468      14        1   3.654350\n",
              "2      0.049744  0.028274      15        1   3.330029\n",
              "5      0.067971  0.031902      16        1   3.042234\n",
              "10     0.074456  0.032162      17        1   2.609759\n",
              "6      0.066688  0.031708      18        1   2.273354\n",
              "19     0.075514  0.032037      19        1   1.472488\n",
              "13     0.084023  0.029848      20        1   0.448400, topic_info=           Term         Freq        Total Category  logprob  loglift\n",
              "118      search  2231.000000  2231.000000  Default  30.0000  30.0000\n",
              "77         base  1036.000000  1036.000000  Default  29.0000  29.0000\n",
              "91          use   789.000000   789.000000  Default  28.0000  28.0000\n",
              "181       model   798.000000   798.000000  Default  27.0000  27.0000\n",
              "177       learn   693.000000   693.000000  Default  26.0000  26.0000\n",
              "...         ...          ...          ...      ...      ...      ...\n",
              "432        news     0.031098     2.060442  Topic20  -8.1102   1.2137\n",
              "362   selection     0.031098     2.060517  Topic20  -8.1102   1.2137\n",
              "338      result     0.031098     2.060678  Topic20  -8.1102   1.2136\n",
              "254    approach     0.031098     2.060868  Topic20  -8.1102   1.2135\n",
              "1141      aware     0.031098     2.061404  Topic20  -8.1102   1.2132\n",
              "\n",
              "[783 rows x 6 columns], token_table=      Topic      Freq         Term\n",
              "term                              \n",
              "55       12  0.967634       access\n",
              "238      11  0.965637     adaptive\n",
              "10       17  0.769928    ambiguity\n",
              "75       15  0.981412     analysis\n",
              "230       4  0.974421  application\n",
              "...     ...       ...          ...\n",
              "83       15  0.955664        value\n",
              "155      12  0.956409       vector\n",
              "145       3  0.973655       visual\n",
              "214       1  0.976466       weight\n",
              "74        3  0.983293         word\n",
              "\n",
              "[139 rows x 3 columns], R=30, lambda_step=0.01, plot_opts={'xlab': 'PC1', 'ylab': 'PC2'}, topic_order=[2, 8, 12, 9, 1, 5, 18, 10, 4, 16, 19, 15, 17, 13, 3, 6, 11, 7, 20, 14])"
            ]
          },
          "metadata": {
            "tags": []
          },
          "execution_count": 133
        }
      ]
    },
    {
      "cell_type": "code",
      "metadata": {
        "colab": {
          "base_uri": "https://localhost:8080/"
        },
        "id": "nUhsCi-bMMA2",
        "outputId": "e46734f8-a656-411c-93b8-507e2aa8f045"
      },
      "source": [
        "from google.colab import drive\n",
        "drive.mount('/content/drive')"
      ],
      "execution_count": 134,
      "outputs": [
        {
          "output_type": "stream",
          "text": [
            "Drive already mounted at /content/drive; to attempt to forcibly remount, call drive.mount(\"/content/drive\", force_remount=True).\n"
          ],
          "name": "stdout"
        }
      ]
    },
    {
      "cell_type": "code",
      "metadata": {
        "colab": {
          "base_uri": "https://localhost:8080/"
        },
        "id": "oLdl8VRhQPKA",
        "outputId": "8fbeeb9d-c990-4178-f695-9f598c0e6b18"
      },
      "source": [
        "pip install \"gensim==3.8.1\""
      ],
      "execution_count": 135,
      "outputs": [
        {
          "output_type": "stream",
          "text": [
            "Requirement already satisfied: gensim==3.8.1 in /usr/local/lib/python3.7/dist-packages (3.8.1)\n",
            "Requirement already satisfied: smart-open>=1.8.1 in /usr/local/lib/python3.7/dist-packages (from gensim==3.8.1) (4.2.0)\n",
            "Requirement already satisfied: numpy>=1.11.3 in /usr/local/lib/python3.7/dist-packages (from gensim==3.8.1) (1.19.5)\n",
            "Requirement already satisfied: scipy>=0.18.1 in /usr/local/lib/python3.7/dist-packages (from gensim==3.8.1) (1.4.1)\n",
            "Requirement already satisfied: six>=1.5.0 in /usr/local/lib/python3.7/dist-packages (from gensim==3.8.1) (1.15.0)\n"
          ],
          "name": "stdout"
        }
      ]
    },
    {
      "cell_type": "code",
      "metadata": {
        "colab": {
          "base_uri": "https://localhost:8080/"
        },
        "id": "91SlR3fuOyyH",
        "outputId": "ecf6da76-ef3c-403d-8193-7cd32e3f521d"
      },
      "source": [
        "import os       #importing os to set environment variable\n",
        "def install_java():\n",
        "  !apt-get install -y openjdk-8-jdk-headless -qq > /dev/null      #install openjdk\n",
        "  os.environ[\"JAVA_HOME\"] = \"/usr/lib/jvm/java-8-openjdk-amd64\"     #set environment variable\n",
        "  !java -version       #check java version\n",
        "install_java()"
      ],
      "execution_count": 136,
      "outputs": [
        {
          "output_type": "stream",
          "text": [
            "openjdk version \"11.0.10\" 2021-01-19\n",
            "OpenJDK Runtime Environment (build 11.0.10+9-Ubuntu-0ubuntu1.18.04)\n",
            "OpenJDK 64-Bit Server VM (build 11.0.10+9-Ubuntu-0ubuntu1.18.04, mixed mode, sharing)\n"
          ],
          "name": "stdout"
        }
      ]
    },
    {
      "cell_type": "code",
      "metadata": {
        "id": "ZYZqElWzTxRW"
      },
      "source": [
        "!wget http://mallet.cs.umass.edu/dist/mallet-2.0.8.zip\n",
        "!unzip mallet-2.0.8.zip"
      ],
      "execution_count": 137,
      "outputs": []
    },
    {
      "cell_type": "code",
      "metadata": {
        "id": "2g553SNPT0bU"
      },
      "source": [
        "os.environ['MALLET_HOME'] = '/content/mallet-2.0.8'\n",
        "mallet_path = '/content/mallet-2.0.8/bin/mallet'\n",
        "ldamallet = gensim.models.wrappers.LdaMallet(mallet_path, corpus=corpus, num_topics=38, id2word=id2word)"
      ],
      "execution_count": 140,
      "outputs": []
    },
    {
      "cell_type": "code",
      "metadata": {
        "colab": {
          "base_uri": "https://localhost:8080/"
        },
        "id": "tQ9XpE57Udks",
        "outputId": "d27cc615-b024-4308-ceac-685c7873723d"
      },
      "source": [
        "# Show Topics\n",
        "pprint(ldamallet.show_topics(formatted=False))\n",
        "\n",
        "# Compute Coherence Score\n",
        "coherence_model_ldamallet = CoherenceModel(model=ldamallet, texts=data_lemmatized, dictionary=id2word, coherence='c_v')\n",
        "coherence_ldamallet = coherence_model_ldamallet.get_coherence()\n",
        "print('\\nCoherence Score: ', coherence_ldamallet)"
      ],
      "execution_count": 141,
      "outputs": [
        {
          "output_type": "stream",
          "text": [
            "[(11,\n",
            "  [('learn', 0.315359477124183),\n",
            "   ('rank', 0.3022875816993464),\n",
            "   ('function', 0.032679738562091505),\n",
            "   ('relevant', 0.029411764705882353),\n",
            "   ('training', 0.029411764705882353),\n",
            "   ('regression', 0.0196078431372549),\n",
            "   ('top', 0.016339869281045753),\n",
            "   ('click', 0.011437908496732025),\n",
            "   ('relative', 0.011437908496732025),\n",
            "   ('book', 0.008169934640522876)]),\n",
            " (21,\n",
            "  [('prediction', 0.12457912457912458),\n",
            "   ('performance', 0.10437710437710437),\n",
            "   ('level', 0.06397306397306397),\n",
            "   ('review', 0.05555555555555555),\n",
            "   ('precision', 0.05218855218855219),\n",
            "   ('estimate', 0.04208754208754209),\n",
            "   ('product', 0.037037037037037035),\n",
            "   ('high', 0.03367003367003367),\n",
            "   ('space', 0.026936026936026935),\n",
            "   ('rating', 0.025252525252525252)]),\n",
            " (24,\n",
            "  [('word', 0.12142857142857143),\n",
            "   ('entity', 0.10357142857142858),\n",
            "   ('embedding', 0.05357142857142857),\n",
            "   ('interface', 0.05),\n",
            "   ('tool', 0.0375),\n",
            "   ('case', 0.03571428571428571),\n",
            "   ('detect', 0.03214285714285714),\n",
            "   ('scale', 0.02857142857142857),\n",
            "   ('recognition', 0.026785714285714284),\n",
            "   ('error', 0.025)]),\n",
            " (10,\n",
            "  [('improve', 0.13005272407732865),\n",
            "   ('hierarchical', 0.07381370826010544),\n",
            "   ('temporal', 0.07205623901581722),\n",
            "   ('exploit', 0.061511423550087874),\n",
            "   ('interest', 0.04745166959578207),\n",
            "   ('twitter', 0.029876977152899824),\n",
            "   ('process', 0.026362038664323375),\n",
            "   ('assess', 0.022847100175746926),\n",
            "   ('investigation', 0.0210896309314587),\n",
            "   ('point', 0.019332161687170474)]),\n",
            " (1,\n",
            "  [('evaluation', 0.32075471698113206),\n",
            "   ('ir', 0.06518010291595197),\n",
            "   ('metric', 0.06174957118353345),\n",
            "   ('online', 0.05317324185248713),\n",
            "   ('algorithm', 0.048027444253859346),\n",
            "   ('compare', 0.032590051457975985),\n",
            "   ('test', 0.0274442538593482),\n",
            "   ('inference', 0.018867924528301886),\n",
            "   ('analyze', 0.017152658662092625),\n",
            "   ('test_collection', 0.017152658662092625)]),\n",
            " (26,\n",
            "  [('search', 0.45364238410596025),\n",
            "   ('engine', 0.15894039735099338),\n",
            "   ('people', 0.019867549668874173),\n",
            "   ('effect', 0.016556291390728478),\n",
            "   ('parallel', 0.014900662251655629),\n",
            "   ('multiple', 0.014900662251655629),\n",
            "   ('management', 0.014900662251655629),\n",
            "   ('dimensional', 0.014900662251655629),\n",
            "   ('cache', 0.013245033112582781),\n",
            "   ('click', 0.013245033112582781)]),\n",
            " (20,\n",
            "  [('semantic', 0.175787728026534),\n",
            "   ('analysis', 0.15422885572139303),\n",
            "   ('link', 0.07296849087893864),\n",
            "   ('latent', 0.06135986733001658),\n",
            "   ('sentiment', 0.05306799336650083),\n",
            "   ('indexing', 0.04311774461028192),\n",
            "   ('phrase', 0.03482587064676617),\n",
            "   ('structure', 0.03316749585406302),\n",
            "   ('aspect', 0.02321724709784411),\n",
            "   ('factor', 0.01990049751243781)]),\n",
            " (32,\n",
            "  [('efficient', 0.12998266897746968),\n",
            "   ('effective', 0.08145580589254767),\n",
            "   ('technique', 0.06759098786828423),\n",
            "   ('processing', 0.04852686308492201),\n",
            "   ('tree', 0.04852686308492201),\n",
            "   ('collaborative_filtering', 0.029462738301559793),\n",
            "   ('boost', 0.029462738301559793),\n",
            "   ('ensemble', 0.02772963604852686),\n",
            "   ('model', 0.025996533795493933),\n",
            "   ('simple', 0.024263431542461005)]),\n",
            " (3,\n",
            "  [('system', 0.2670250896057348),\n",
            "   ('expert', 0.06272401433691756),\n",
            "   ('retrieval', 0.035842293906810034),\n",
            "   ('design', 0.035842293906810034),\n",
            "   ('theory', 0.034050179211469536),\n",
            "   ('expertise', 0.03225806451612903),\n",
            "   ('poster_session', 0.02867383512544803),\n",
            "   ('interface', 0.026881720430107527),\n",
            "   ('line', 0.021505376344086023),\n",
            "   ('method', 0.021505376344086023)]),\n",
            " (9,\n",
            "  [('study', 0.14638447971781304),\n",
            "   ('measure', 0.12522045855379188),\n",
            "   ('similarity', 0.07231040564373897),\n",
            "   ('music', 0.07054673721340388),\n",
            "   ('effectiveness', 0.06349206349206349),\n",
            "   ('translation', 0.0582010582010582),\n",
            "   ('effect', 0.04938271604938271),\n",
            "   ('base', 0.029982363315696647),\n",
            "   ('retrieve', 0.021164021164021163),\n",
            "   ('comparison', 0.019400352733686066)])]\n",
            "\n",
            "Coherence Score:  0.6160147625681945\n"
          ],
          "name": "stdout"
        }
      ]
    },
    {
      "cell_type": "code",
      "metadata": {
        "id": "tMevkh1CUmnn"
      },
      "source": [
        "def compute_coherence_values(dictionary, corpus, texts, limit, start=2, step=3):\n",
        "    \"\"\"\n",
        "    Compute c_v coherence for various number of topics\n",
        "\n",
        "    Parameters:\n",
        "    ----------\n",
        "    dictionary : Gensim dictionary\n",
        "    corpus : Gensim corpus\n",
        "    texts : List of input texts\n",
        "    limit : Max num of topics\n",
        "\n",
        "    Returns:\n",
        "    -------\n",
        "    model_list : List of LDA topic models\n",
        "    coherence_values : Coherence values corresponding to the LDA model with respective number of topics\n",
        "    \"\"\"\n",
        "    coherence_values = []\n",
        "    model_list = []\n",
        "    for num_topics in range(start, limit, step):\n",
        "        model = gensim.models.wrappers.LdaMallet(mallet_path, corpus=corpus, num_topics=num_topics, id2word=id2word)\n",
        "        model_list.append(model)\n",
        "        coherencemodel = CoherenceModel(model=model, texts=texts, dictionary=dictionary, coherence='c_v')\n",
        "        coherence_values.append(coherencemodel.get_coherence())\n",
        "\n",
        "    return model_list, coherence_values"
      ],
      "execution_count": 143,
      "outputs": []
    },
    {
      "cell_type": "code",
      "metadata": {
        "id": "btCFhY6eUs5v"
      },
      "source": [
        "model_list, coherence_values = compute_coherence_values(dictionary=id2word, corpus=corpus, texts=data_lemmatized, start=2, limit=40, step=6)"
      ],
      "execution_count": 144,
      "outputs": []
    },
    {
      "cell_type": "code",
      "metadata": {
        "colab": {
          "base_uri": "https://localhost:8080/",
          "height": 279
        },
        "id": "Q8cmCz-OVtAh",
        "outputId": "b423ca24-deb8-41ef-8fec-324371ad3493"
      },
      "source": [
        "# Show graph\n",
        "limit=40; start=2; step=6;\n",
        "x = range(start, limit, step)\n",
        "plt.plot(x, coherence_values)\n",
        "plt.xlabel(\"Num Topics\")\n",
        "plt.ylabel(\"Coherence score\")\n",
        "plt.legend((\"coherence_values\"), loc='best')\n",
        "plt.show()"
      ],
      "execution_count": 145,
      "outputs": [
        {
          "output_type": "display_data",
          "data": {
            "image/png": "[encoded data removed]",
            "text/plain": [
              "<Figure size 432x288 with 1 Axes>"
            ]
          },
          "metadata": {
            "tags": [],
            "needs_background": "light"
          }
        }
      ]
    },
    {
      "cell_type": "code",
      "metadata": {
        "colab": {
          "base_uri": "https://localhost:8080/"
        },
        "id": "2ZZwxY8EVxYm",
        "outputId": "e10ff576-68da-4a7d-c721-17b4ef3d8c64"
      },
      "source": [
        "for m, cv in zip(x, coherence_values):\n",
        "    print(\"Num Topics =\", m, \" has Coherence Value of\", round(cv, 4))"
      ],
      "execution_count": 146,
      "outputs": [
        {
          "output_type": "stream",
          "text": [
            "Num Topics = 2  has Coherence Value of 0.2054\n",
            "Num Topics = 8  has Coherence Value of 0.43\n",
            "Num Topics = 14  has Coherence Value of 0.5323\n",
            "Num Topics = 20  has Coherence Value of 0.5547\n",
            "Num Topics = 26  has Coherence Value of 0.5694\n",
            "Num Topics = 32  has Coherence Value of 0.5832\n",
            "Num Topics = 38  has Coherence Value of 0.6087\n"
          ],
          "name": "stdout"
        }
      ]
    },
    {
      "cell_type": "code",
      "metadata": {
        "colab": {
          "base_uri": "https://localhost:8080/"
        },
        "id": "7kZGxW4YWNTh",
        "outputId": "5497f525-1c96-4966-a673-91e46460e89e"
      },
      "source": [
        "optimal_model = model_list[6]\n",
        "model_topics = optimal_model.show_topics(formatted=False)\n",
        "pprint(optimal_model.print_topics(num_words=10))"
      ],
      "execution_count": 147,
      "outputs": [
        {
          "output_type": "stream",
          "text": [
            "[(17,\n",
            "  '0.158*\"system\" + 0.095*\"index\" + 0.082*\"dynamic\" + 0.054*\"fast\" + '\n",
            "  '0.049*\"large\" + 0.037*\"file\" + 0.033*\"compression\" + 0.032*\"invert\" + '\n",
            "  '0.023*\"personalized\" + 0.021*\"infer\"'),\n",
            " (18,\n",
            "  '0.131*\"document\" + 0.121*\"selection\" + 0.113*\"feature\" + 0.060*\"video\" + '\n",
            "  '0.050*\"visual\" + 0.022*\"summarization\" + 0.022*\"vertical\" + 0.020*\"concept\" '\n",
            "  '+ 0.018*\"keyword\" + 0.018*\"understand\"'),\n",
            " (11,\n",
            "  '0.108*\"knowledge\" + 0.072*\"domain\" + 0.070*\"graph\" + 0.037*\"open\" + '\n",
            "  '0.028*\"specific\" + 0.028*\"archive\" + 0.026*\"discovery\" + '\n",
            "  '0.026*\"summarization\" + 0.023*\"history\" + 0.021*\"adaptation\"'),\n",
            " (14,\n",
            "  '0.219*\"search\" + 0.087*\"interactive\" + 0.046*\"modeling\" + 0.043*\"design\" + '\n",
            "  '0.039*\"email\" + 0.027*\"people\" + 0.027*\"platform\" + 0.025*\"user\" + '\n",
            "  '0.025*\"location\" + 0.023*\"enterprise\"'),\n",
            " (20,\n",
            "  '0.141*\"feedback\" + 0.116*\"datum\" + 0.070*\"temporal\" + 0.048*\"intent\" + '\n",
            "  '0.046*\"framework\" + 0.039*\"implicit\" + 0.036*\"summary\" + 0.032*\"training\" + '\n",
            "  '0.032*\"optimize\" + 0.027*\"generate\"'),\n",
            " (10,\n",
            "  '0.075*\"answer\" + 0.073*\"find\" + 0.068*\"question\" + 0.059*\"review\" + '\n",
            "  '0.048*\"community\" + 0.039*\"product\" + 0.036*\"human\" + '\n",
            "  '0.030*\"question_answering\" + 0.029*\"aspect\" + 0.023*\"automatically\"'),\n",
            " (36,\n",
            "  '0.160*\"topic\" + 0.113*\"detection\" + 0.049*\"level\" + 0.044*\"optimization\" + '\n",
            "  '0.044*\"incorporate\" + 0.035*\"segmentation\" + 0.030*\"identify\" + '\n",
            "  '0.029*\"twitter\" + 0.025*\"tag\" + 0.025*\"error\"'),\n",
            " (37,\n",
            "  '0.348*\"rank\" + 0.289*\"learn\" + 0.035*\"function\" + 0.030*\"hash\" + '\n",
            "  '0.021*\"regression\" + 0.018*\"list\" + 0.014*\"visualize\" + 0.013*\"correlation\" '\n",
            "  '+ 0.011*\"stream\" + 0.011*\"person\"'),\n",
            " (23,\n",
            "  '0.097*\"learning\" + 0.057*\"high\" + 0.057*\"precision\" + 0.048*\"estimate\" + '\n",
            "  '0.041*\"estimation\" + 0.039*\"effective\" + 0.034*\"active\" + '\n",
            "  '0.034*\"collaborative_filtering\" + 0.028*\"model\" + 0.028*\"recall\"'),\n",
            " (7,\n",
            "  '0.149*\"automatic\" + 0.074*\"application\" + 0.071*\"extraction\" + '\n",
            "  '0.057*\"structure\" + 0.043*\"preference\" + 0.039*\"relation\" + '\n",
            "  '0.039*\"research\" + 0.037*\"generation\" + 0.034*\"role\" + 0.032*\"article\"'),\n",
            " (4,\n",
            "  '0.332*\"search\" + 0.157*\"engine\" + 0.095*\"web\" + 0.036*\"impact\" + '\n",
            "  '0.028*\"exploratory\" + 0.023*\"matching\" + 0.020*\"health\" + 0.016*\"browsing\" '\n",
            "  '+ 0.011*\"cache\" + 0.011*\"consumer\"'),\n",
            " (21,\n",
            "  '0.305*\"evaluation\" + 0.082*\"measure\" + 0.068*\"online\" + 0.057*\"metric\" + '\n",
            "  '0.057*\"ir\" + 0.041*\"personal\" + 0.022*\"test_collection\" + 0.021*\"live\" + '\n",
            "  '0.021*\"test\" + 0.017*\"sample\"'),\n",
            " (28,\n",
            "  '0.371*\"base\" + 0.121*\"approach\" + 0.030*\"algorithm\" + 0.019*\"logic\" + '\n",
            "  '0.019*\"extract\" + 0.019*\"mining\" + 0.019*\"category\" + 0.017*\"discover\" + '\n",
            "  '0.017*\"parallel\" + 0.014*\"scientific\"'),\n",
            " (25,\n",
            "  '0.102*\"entity\" + 0.095*\"word\" + 0.093*\"event\" + 0.091*\"news\" + '\n",
            "  '0.053*\"embedding\" + 0.049*\"tree\" + 0.044*\"tweet\" + 0.039*\"detect\" + '\n",
            "  '0.037*\"stream\" + 0.026*\"tracking\"'),\n",
            " (19,\n",
            "  '0.218*\"system\" + 0.075*\"filter\" + 0.059*\"adaptive\" + 0.049*\"tool\" + '\n",
            "  '0.046*\"retrieval\" + 0.031*\"management\" + 0.027*\"build\" + 0.026*\"attribute\" '\n",
            "  '+ 0.022*\"theory\" + 0.018*\"fact\"'),\n",
            " (24,\n",
            "  '0.417*\"model\" + 0.150*\"language\" + 0.057*\"translation\" + 0.033*\"cross\" + '\n",
            "  '0.028*\"relationship\" + 0.020*\"integrate\" + 0.015*\"chinese\" + 0.015*\"cost\" + '\n",
            "  '0.015*\"exploration\" + 0.013*\"statistical\"'),\n",
            " (5,\n",
            "  '0.079*\"support\" + 0.071*\"machine\" + 0.069*\"interface\" + 0.053*\"time\" + '\n",
            "  '0.050*\"personalize\" + 0.041*\"user\" + 0.038*\"case\" + 0.034*\"intelligent\" + '\n",
            "  '0.029*\"recognition\" + 0.028*\"probabilistic\"'),\n",
            " (31,\n",
            "  '0.226*\"relevance\" + 0.072*\"quality\" + 0.045*\"diversity\" + 0.039*\"judgment\" '\n",
            "  '+ 0.038*\"assessment\" + 0.029*\"scale\" + 0.029*\"crowdsource\" + '\n",
            "  '0.025*\"utilize\" + 0.025*\"negative\" + 0.022*\"assess\"'),\n",
            " (29,\n",
            "  '0.144*\"method\" + 0.071*\"base\" + 0.066*\"similarity\" + 0.046*\"evaluate\" + '\n",
            "  '0.043*\"comparison\" + 0.041*\"statistical\" + 0.037*\"interest\" + '\n",
            "  '0.037*\"passage\" + 0.027*\"learn\" + 0.027*\"modeling\"'),\n",
            " (32,\n",
            "  '0.197*\"network\" + 0.127*\"recommendation\" + 0.124*\"social\" + 0.082*\"neural\" '\n",
            "  '+ 0.061*\"deep\" + 0.026*\"sequential\" + 0.024*\"personalized\" + '\n",
            "  '0.019*\"attention\" + 0.018*\"attentive\" + 0.016*\"explainable\"')]\n"
          ],
          "name": "stdout"
        }
      ]
    },
    {
      "cell_type": "code",
      "metadata": {
        "colab": {
          "base_uri": "https://localhost:8080/",
          "height": 529
        },
        "id": "km9ekizYWSbB",
        "outputId": "3e74b2cc-7457-4c7f-9b67-b410531aab9e"
      },
      "source": [
        "def format_topics_sentences(ldamodel=lda_model, corpus=corpus, texts=data):\n",
        "    # Init output\n",
        "    sent_topics_df = pd.DataFrame()\n",
        "\n",
        "    # Get main topic in each document\n",
        "    for i, row in enumerate(ldamodel[corpus]):\n",
        "        row = sorted(row, key=lambda x: (x[1]), reverse=True)\n",
        "        # Get the Dominant topic, Perc Contribution and Keywords for each document\n",
        "        for j, (topic_num, prop_topic) in enumerate(row):\n",
        "            if j == 0:  # => dominant topic\n",
        "                wp = ldamodel.show_topic(topic_num)\n",
        "                topic_keywords = \", \".join([word for word, prop in wp])\n",
        "                sent_topics_df = sent_topics_df.append(pd.Series([int(topic_num), round(prop_topic,4), topic_keywords]), ignore_index=True)\n",
        "            else:\n",
        "                break\n",
        "    sent_topics_df.columns = ['Dominant_Topic', 'Perc_Contribution', 'Topic_Keywords']\n",
        "\n",
        "    # Add original text to the end of the output\n",
        "    contents = pd.Series(texts)\n",
        "    sent_topics_df = pd.concat([sent_topics_df, contents], axis=1)\n",
        "    return(sent_topics_df)\n",
        "\n",
        "\n",
        "df_topic_sents_keywords = format_topics_sentences(ldamodel=optimal_model, corpus=corpus, texts=data)\n",
        "\n",
        "# Format\n",
        "df_dominant_topic = df_topic_sents_keywords.reset_index()\n",
        "df_dominant_topic.columns = ['Document_No', 'Dominant_Topic', 'Topic_Perc_Contrib', 'Keywords', 'Text']\n",
        "\n",
        "# Show\n",
        "df_dominant_topic.head(10)"
      ],
      "execution_count": 148,
      "outputs": [
        {
          "output_type": "execute_result",
          "data": {
            "text/html": [
              "<div>\n",
              "<style scoped>\n",
              "    .dataframe tbody tr th:only-of-type {\n",
              "        vertical-align: middle;\n",
              "    }\n",
              "\n",
              "    .dataframe tbody tr th {\n",
              "        vertical-align: top;\n",
              "    }\n",
              "\n",
              "    .dataframe thead th {\n",
              "        text-align: right;\n",
              "    }\n",
              "</style>\n",
              "<table border=\"1\" class=\"dataframe\">\n",
              "  <thead>\n",
              "    <tr style=\"text-align: right;\">\n",
              "      <th></th>\n",
              "      <th>Document_No</th>\n",
              "      <th>Dominant_Topic</th>\n",
              "      <th>Topic_Perc_Contrib</th>\n",
              "      <th>Keywords</th>\n",
              "      <th>Text</th>\n",
              "    </tr>\n",
              "  </thead>\n",
              "  <tbody>\n",
              "    <tr>\n",
              "      <th>0</th>\n",
              "      <td>0</td>\n",
              "      <td>1.0</td>\n",
              "      <td>0.0340</td>\n",
              "      <td>base, content, approach, cluster, link, user, ...</td>\n",
              "      <td>Introduction and perspectives for the 1971 ACM...</td>\n",
              "    </tr>\n",
              "    <tr>\n",
              "      <th>1</th>\n",
              "      <td>1</td>\n",
              "      <td>24.0</td>\n",
              "      <td>0.0421</td>\n",
              "      <td>model, language, translation, cross, relations...</td>\n",
              "      <td>The function of semantics in automated languag...</td>\n",
              "    </tr>\n",
              "    <tr>\n",
              "      <th>2</th>\n",
              "      <td>2</td>\n",
              "      <td>0.0</td>\n",
              "      <td>0.0491</td>\n",
              "      <td>query, expansion, log, short, suggestion, long...</td>\n",
              "      <td>How features resolve syntactic ambiguity</td>\n",
              "    </tr>\n",
              "    <tr>\n",
              "      <th>3</th>\n",
              "      <td>3</td>\n",
              "      <td>19.0</td>\n",
              "      <td>0.0691</td>\n",
              "      <td>system, filter, adaptive, tool, retrieval, man...</td>\n",
              "      <td>The converse natural language data management ...</td>\n",
              "    </tr>\n",
              "    <tr>\n",
              "      <th>4</th>\n",
              "      <td>4</td>\n",
              "      <td>22.0</td>\n",
              "      <td>0.0421</td>\n",
              "      <td>system, representation, distribute, collection...</td>\n",
              "      <td>CUE: a preprocessor system for restricted, nat...</td>\n",
              "    </tr>\n",
              "    <tr>\n",
              "      <th>5</th>\n",
              "      <td>5</td>\n",
              "      <td>9.0</td>\n",
              "      <td>0.0744</td>\n",
              "      <td>text, classification, categorization, full, cl...</td>\n",
              "      <td>Full text document retrieval: Hebrew legal tex...</td>\n",
              "    </tr>\n",
              "    <tr>\n",
              "      <th>6</th>\n",
              "      <td>6</td>\n",
              "      <td>18.0</td>\n",
              "      <td>0.0445</td>\n",
              "      <td>document, selection, feature, video, visual, s...</td>\n",
              "      <td>Quantification in Query Systems</td>\n",
              "    </tr>\n",
              "    <tr>\n",
              "      <th>7</th>\n",
              "      <td>7</td>\n",
              "      <td>5.0</td>\n",
              "      <td>0.0572</td>\n",
              "      <td>support, machine, interface, time, personalize...</td>\n",
              "      <td>The relational data file and the decision prob...</td>\n",
              "    </tr>\n",
              "    <tr>\n",
              "      <th>8</th>\n",
              "      <td>8</td>\n",
              "      <td>8.0</td>\n",
              "      <td>0.0441</td>\n",
              "      <td>model, term, weight, score, mining, distributi...</td>\n",
              "      <td>Managing semantic data in an associative net</td>\n",
              "    </tr>\n",
              "    <tr>\n",
              "      <th>9</th>\n",
              "      <td>9</td>\n",
              "      <td>19.0</td>\n",
              "      <td>0.0437</td>\n",
              "      <td>system, filter, adaptive, tool, retrieval, man...</td>\n",
              "      <td>A heathkit method for building data management...</td>\n",
              "    </tr>\n",
              "  </tbody>\n",
              "</table>\n",
              "</div>"
            ],
            "text/plain": [
              "   Document_No  ...                                               Text\n",
              "0            0  ...  Introduction and perspectives for the 1971 ACM...\n",
              "1            1  ...  The function of semantics in automated languag...\n",
              "2            2  ...           How features resolve syntactic ambiguity\n",
              "3            3  ...  The converse natural language data management ...\n",
              "4            4  ...  CUE: a preprocessor system for restricted, nat...\n",
              "5            5  ...  Full text document retrieval: Hebrew legal tex...\n",
              "6            6  ...                    Quantification in Query Systems\n",
              "7            7  ...  The relational data file and the decision prob...\n",
              "8            8  ...       Managing semantic data in an associative net\n",
              "9            9  ...  A heathkit method for building data management...\n",
              "\n",
              "[10 rows x 5 columns]"
            ]
          },
          "metadata": {
            "tags": []
          },
          "execution_count": 148
        }
      ]
    },
    {
      "cell_type": "code",
      "metadata": {
        "colab": {
          "base_uri": "https://localhost:8080/",
          "height": 204
        },
        "id": "waBMD9JGWcad",
        "outputId": "c3e2f070-50a6-40fd-9ed9-a64cbca05a60"
      },
      "source": [
        "sent_topics_sorteddf_mallet = pd.DataFrame()\n",
        "\n",
        "sent_topics_outdf_grpd = df_topic_sents_keywords.groupby('Dominant_Topic')\n",
        "\n",
        "for i, grp in sent_topics_outdf_grpd:\n",
        "    sent_topics_sorteddf_mallet = pd.concat([sent_topics_sorteddf_mallet, \n",
        "                                             grp.sort_values(['Perc_Contribution'], ascending=[0]).head(1)], \n",
        "                                            axis=0)\n",
        "\n",
        "# Reset Index    \n",
        "sent_topics_sorteddf_mallet.reset_index(drop=True, inplace=True)\n",
        "\n",
        "# Format\n",
        "sent_topics_sorteddf_mallet.columns = ['Topic_Num', \"Topic_Perc_Contrib\", \"Keywords\", \"Text\"]\n",
        "\n",
        "# Show\n",
        "sent_topics_sorteddf_mallet.head()"
      ],
      "execution_count": 149,
      "outputs": [
        {
          "output_type": "execute_result",
          "data": {
            "text/html": [
              "<div>\n",
              "<style scoped>\n",
              "    .dataframe tbody tr th:only-of-type {\n",
              "        vertical-align: middle;\n",
              "    }\n",
              "\n",
              "    .dataframe tbody tr th {\n",
              "        vertical-align: top;\n",
              "    }\n",
              "\n",
              "    .dataframe thead th {\n",
              "        text-align: right;\n",
              "    }\n",
              "</style>\n",
              "<table border=\"1\" class=\"dataframe\">\n",
              "  <thead>\n",
              "    <tr style=\"text-align: right;\">\n",
              "      <th></th>\n",
              "      <th>Topic_Num</th>\n",
              "      <th>Topic_Perc_Contrib</th>\n",
              "      <th>Keywords</th>\n",
              "      <th>Text</th>\n",
              "    </tr>\n",
              "  </thead>\n",
              "  <tbody>\n",
              "    <tr>\n",
              "      <th>0</th>\n",
              "      <td>0.0</td>\n",
              "      <td>0.0946</td>\n",
              "      <td>query, expansion, log, short, suggestion, long...</td>\n",
              "      <td>History repeats itself: repeat queries in Yaho...</td>\n",
              "    </tr>\n",
              "    <tr>\n",
              "      <th>1</th>\n",
              "      <td>1.0</td>\n",
              "      <td>0.0704</td>\n",
              "      <td>base, content, approach, cluster, link, user, ...</td>\n",
              "      <td>DOM based content extraction via text density</td>\n",
              "    </tr>\n",
              "    <tr>\n",
              "      <th>2</th>\n",
              "      <td>2.0</td>\n",
              "      <td>0.0949</td>\n",
              "      <td>prediction, performance, multiple, combine, it...</td>\n",
              "      <td>Combining multiple evidence from different typ...</td>\n",
              "    </tr>\n",
              "    <tr>\n",
              "      <th>3</th>\n",
              "      <td>3.0</td>\n",
              "      <td>0.1014</td>\n",
              "      <td>study, effect, evaluate, mobile, effectiveness...</td>\n",
              "      <td>Is This Your Final Answer?: Evaluating the Eff...</td>\n",
              "    </tr>\n",
              "    <tr>\n",
              "      <th>4</th>\n",
              "      <td>4.0</td>\n",
              "      <td>0.0845</td>\n",
              "      <td>search, engine, web, impact, exploratory, matc...</td>\n",
              "      <td>Health Cards for Consumer Health Search</td>\n",
              "    </tr>\n",
              "  </tbody>\n",
              "</table>\n",
              "</div>"
            ],
            "text/plain": [
              "   Topic_Num  ...                                               Text\n",
              "0        0.0  ...  History repeats itself: repeat queries in Yaho...\n",
              "1        1.0  ...      DOM based content extraction via text density\n",
              "2        2.0  ...  Combining multiple evidence from different typ...\n",
              "3        3.0  ...  Is This Your Final Answer?: Evaluating the Eff...\n",
              "4        4.0  ...            Health Cards for Consumer Health Search\n",
              "\n",
              "[5 rows x 4 columns]"
            ]
          },
          "metadata": {
            "tags": []
          },
          "execution_count": 149
        }
      ]
    },
    {
      "cell_type": "code",
      "metadata": {
        "colab": {
          "base_uri": "https://localhost:8080/",
          "height": 359
        },
        "id": "OEl2ph4uWlZV",
        "outputId": "e55ee4cb-fd39-44e1-a62e-d54a876b388d"
      },
      "source": [
        "# Number of Documents for Each Topic\n",
        "topic_counts = df_topic_sents_keywords['Dominant_Topic'].value_counts()\n",
        "\n",
        "# Percentage of Documents for Each Topic\n",
        "topic_contribution = round(topic_counts/topic_counts.sum(), 4)\n",
        "\n",
        "# Topic Number and Keywords\n",
        "topic_num_keywords = df_topic_sents_keywords[['Dominant_Topic', 'Topic_Keywords']]\n",
        "\n",
        "# Concatenate Column wise\n",
        "df_dominant_topics = pd.concat([topic_num_keywords, topic_counts, topic_contribution], axis=1)\n",
        "\n",
        "# Change Column names\n",
        "df_dominant_topics.columns = ['Dominant_Topic', 'Topic_Keywords', 'Num_Documents', 'Perc_Documents']\n",
        "\n",
        "# Show\n",
        "df_dominant_topics.head(10)"
      ],
      "execution_count": 150,
      "outputs": [
        {
          "output_type": "execute_result",
          "data": {
            "text/html": [
              "<div>\n",
              "<style scoped>\n",
              "    .dataframe tbody tr th:only-of-type {\n",
              "        vertical-align: middle;\n",
              "    }\n",
              "\n",
              "    .dataframe tbody tr th {\n",
              "        vertical-align: top;\n",
              "    }\n",
              "\n",
              "    .dataframe thead th {\n",
              "        text-align: right;\n",
              "    }\n",
              "</style>\n",
              "<table border=\"1\" class=\"dataframe\">\n",
              "  <thead>\n",
              "    <tr style=\"text-align: right;\">\n",
              "      <th></th>\n",
              "      <th>Dominant_Topic</th>\n",
              "      <th>Topic_Keywords</th>\n",
              "      <th>Num_Documents</th>\n",
              "      <th>Perc_Documents</th>\n",
              "    </tr>\n",
              "  </thead>\n",
              "  <tbody>\n",
              "    <tr>\n",
              "      <th>0.0</th>\n",
              "      <td>1.0</td>\n",
              "      <td>base, content, approach, cluster, link, user, ...</td>\n",
              "      <td>246.0</td>\n",
              "      <td>0.0555</td>\n",
              "    </tr>\n",
              "    <tr>\n",
              "      <th>1.0</th>\n",
              "      <td>24.0</td>\n",
              "      <td>model, language, translation, cross, relations...</td>\n",
              "      <td>103.0</td>\n",
              "      <td>0.0232</td>\n",
              "    </tr>\n",
              "    <tr>\n",
              "      <th>2.0</th>\n",
              "      <td>0.0</td>\n",
              "      <td>query, expansion, log, short, suggestion, long...</td>\n",
              "      <td>151.0</td>\n",
              "      <td>0.0341</td>\n",
              "    </tr>\n",
              "    <tr>\n",
              "      <th>3.0</th>\n",
              "      <td>19.0</td>\n",
              "      <td>system, filter, adaptive, tool, retrieval, man...</td>\n",
              "      <td>119.0</td>\n",
              "      <td>0.0268</td>\n",
              "    </tr>\n",
              "    <tr>\n",
              "      <th>4.0</th>\n",
              "      <td>22.0</td>\n",
              "      <td>system, representation, distribute, collection...</td>\n",
              "      <td>113.0</td>\n",
              "      <td>0.0255</td>\n",
              "    </tr>\n",
              "    <tr>\n",
              "      <th>5.0</th>\n",
              "      <td>9.0</td>\n",
              "      <td>text, classification, categorization, full, cl...</td>\n",
              "      <td>136.0</td>\n",
              "      <td>0.0307</td>\n",
              "    </tr>\n",
              "    <tr>\n",
              "      <th>6.0</th>\n",
              "      <td>18.0</td>\n",
              "      <td>document, selection, feature, video, visual, s...</td>\n",
              "      <td>141.0</td>\n",
              "      <td>0.0318</td>\n",
              "    </tr>\n",
              "    <tr>\n",
              "      <th>7.0</th>\n",
              "      <td>5.0</td>\n",
              "      <td>support, machine, interface, time, personalize...</td>\n",
              "      <td>121.0</td>\n",
              "      <td>0.0273</td>\n",
              "    </tr>\n",
              "    <tr>\n",
              "      <th>8.0</th>\n",
              "      <td>8.0</td>\n",
              "      <td>model, term, weight, score, mining, distributi...</td>\n",
              "      <td>136.0</td>\n",
              "      <td>0.0307</td>\n",
              "    </tr>\n",
              "    <tr>\n",
              "      <th>9.0</th>\n",
              "      <td>19.0</td>\n",
              "      <td>system, filter, adaptive, tool, retrieval, man...</td>\n",
              "      <td>165.0</td>\n",
              "      <td>0.0372</td>\n",
              "    </tr>\n",
              "  </tbody>\n",
              "</table>\n",
              "</div>"
            ],
            "text/plain": [
              "     Dominant_Topic  ... Perc_Documents\n",
              "0.0             1.0  ...         0.0555\n",
              "1.0            24.0  ...         0.0232\n",
              "2.0             0.0  ...         0.0341\n",
              "3.0            19.0  ...         0.0268\n",
              "4.0            22.0  ...         0.0255\n",
              "5.0             9.0  ...         0.0307\n",
              "6.0            18.0  ...         0.0318\n",
              "7.0             5.0  ...         0.0273\n",
              "8.0             8.0  ...         0.0307\n",
              "9.0            19.0  ...         0.0372\n",
              "\n",
              "[10 rows x 4 columns]"
            ]
          },
          "metadata": {
            "tags": []
          },
          "execution_count": 150
        }
      ]
    }
  ]
}